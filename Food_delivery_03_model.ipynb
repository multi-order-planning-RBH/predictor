{
 "cells": [
  {
   "attachments": {},
   "cell_type": "markdown",
   "metadata": {},
   "source": [
    "# 1. Import libraries"
   ]
  },
  {
   "cell_type": "code",
   "execution_count": 7,
   "metadata": {},
   "outputs": [],
   "source": [
    "import numpy as np\n",
    "import pandas as pd\n",
    "import pickle as pkl\n",
    "from time import time\n",
    "\n",
    "from sklearn.linear_model import LinearRegression\n",
    "from sklearn.ensemble import RandomForestRegressor, GradientBoostingRegressor\n",
    "from sklearn.model_selection import GridSearchCV\n",
    "from sklearn.model_selection import cross_validate\n",
    "\n",
    "from sklearn.model_selection import train_test_split\n",
    "from sklearn import metrics\n",
    "\n",
    "np.random.seed(42)"
   ]
  },
  {
   "attachments": {},
   "cell_type": "markdown",
   "metadata": {},
   "source": [
    "# 2. load dataset"
   ]
  },
  {
   "cell_type": "code",
   "execution_count": 8,
   "metadata": {},
   "outputs": [],
   "source": [
    "df = pd.read_csv('Sample 14days_food_delivery_Cleaned.csv')"
   ]
  },
  {
   "cell_type": "code",
   "execution_count": 9,
   "metadata": {},
   "outputs": [
    {
     "name": "stdout",
     "output_type": "stream",
     "text": [
      "<class 'pandas.core.frame.DataFrame'>\n",
      "RangeIndex: 20000 entries, 0 to 19999\n",
      "Data columns (total 10 columns):\n",
      " #   Column           Non-Null Count  Dtype  \n",
      "---  ------           --------------  -----  \n",
      " 0   u_lat            20000 non-null  float64\n",
      " 1   u_lon            20000 non-null  float64\n",
      " 2   v_lat            20000 non-null  float64\n",
      " 3   v_lon            20000 non-null  float64\n",
      " 4   euc_dist         20000 non-null  float64\n",
      " 5   shortest_dist    20000 non-null  float64\n",
      " 6   day_of_week_sin  20000 non-null  float64\n",
      " 7   day_of_week_cos  20000 non-null  float64\n",
      " 8   duration (s)     20000 non-null  float64\n",
      " 9   duration (m)     20000 non-null  float64\n",
      "dtypes: float64(10)\n",
      "memory usage: 1.5 MB\n"
     ]
    }
   ],
   "source": [
    "df.info()"
   ]
  },
  {
   "attachments": {},
   "cell_type": "markdown",
   "metadata": {},
   "source": [
    "# 3. select features and split data (test/train)"
   ]
  },
  {
   "cell_type": "code",
   "execution_count": 10,
   "metadata": {},
   "outputs": [],
   "source": [
    "# X = df.drop(['duration (s)', 'duration (m)'], axis=1)\n",
    "X = df.copy()\n",
    "X.loc[X['shortest_dist'] <= X['euc_dist'], 'shortest_dist'] = X.loc[X['shortest_dist'] <= X['euc_dist'], 'euc_dist']\n",
    "y_s = df['duration (s)']\n",
    "y_m = df['duration (m)']"
   ]
  },
  {
   "cell_type": "code",
   "execution_count": 11,
   "metadata": {},
   "outputs": [
    {
     "name": "stdout",
     "output_type": "stream",
     "text": [
      "<class 'pandas.core.frame.DataFrame'>\n",
      "RangeIndex: 20000 entries, 0 to 19999\n",
      "Data columns (total 10 columns):\n",
      " #   Column           Non-Null Count  Dtype  \n",
      "---  ------           --------------  -----  \n",
      " 0   u_lat            20000 non-null  float64\n",
      " 1   u_lon            20000 non-null  float64\n",
      " 2   v_lat            20000 non-null  float64\n",
      " 3   v_lon            20000 non-null  float64\n",
      " 4   euc_dist         20000 non-null  float64\n",
      " 5   shortest_dist    20000 non-null  float64\n",
      " 6   day_of_week_sin  20000 non-null  float64\n",
      " 7   day_of_week_cos  20000 non-null  float64\n",
      " 8   duration (s)     20000 non-null  float64\n",
      " 9   duration (m)     20000 non-null  float64\n",
      "dtypes: float64(10)\n",
      "memory usage: 1.5 MB\n"
     ]
    }
   ],
   "source": [
    "X.info()"
   ]
  },
  {
   "cell_type": "code",
   "execution_count": 12,
   "metadata": {},
   "outputs": [],
   "source": [
    "Xs_train, Xs_test, ys_train, ys_test = train_test_split(X, y_s, test_size=0.20)\n",
    "Xm_train, Xm_test, ym_train, ym_test = train_test_split(X, y_m, test_size=0.20)"
   ]
  },
  {
   "attachments": {},
   "cell_type": "markdown",
   "metadata": {},
   "source": [
    "# 4. train models"
   ]
  },
  {
   "attachments": {},
   "cell_type": "markdown",
   "metadata": {},
   "source": [
    "## 4.1 lr"
   ]
  },
  {
   "cell_type": "code",
   "execution_count": 11,
   "metadata": {},
   "outputs": [],
   "source": [
    "lr_s = LinearRegression()\n",
    "lr_s.fit(Xs_train, ys_train)\n",
    "lr_predictions_s = lr_s.predict(Xs_test)\n",
    "\n",
    "lr_m = LinearRegression()\n",
    "lr_m.fit(Xm_train, ym_train)\n",
    "lr_predictions_m = lr_m.predict(Xm_test)"
   ]
  },
  {
   "attachments": {},
   "cell_type": "markdown",
   "metadata": {},
   "source": [
    "## 4.2 rf"
   ]
  },
  {
   "cell_type": "code",
   "execution_count": 8,
   "metadata": {},
   "outputs": [],
   "source": [
    "rf_s = RandomForestRegressor()\n",
    "rf_s.fit(Xs_train, ys_train)\n",
    "rf_predictions_s = rf_s.predict(Xs_test)\n",
    "\n",
    "rf_m = RandomForestRegressor()\n",
    "rf_m.fit(Xm_train, ym_train)\n",
    "rf_predictions_m = rf_m.predict(Xm_test)"
   ]
  },
  {
   "attachments": {},
   "cell_type": "markdown",
   "metadata": {},
   "source": [
    "## 4.3 gbdt"
   ]
  },
  {
   "cell_type": "code",
   "execution_count": 9,
   "metadata": {},
   "outputs": [],
   "source": [
    "gbdt_s = GradientBoostingRegressor()\n",
    "gbdt_s.fit(Xs_train, ys_train)\n",
    "gbdt_predictions_s = gbdt_s.predict(Xs_test)\n",
    "\n",
    "gbdt_m = GradientBoostingRegressor()\n",
    "gbdt_m.fit(Xm_train, ym_train)\n",
    "gbdt_predictions_m = gbdt_m.predict(Xm_test)"
   ]
  },
  {
   "attachments": {},
   "cell_type": "markdown",
   "metadata": {},
   "source": [
    "# 5. Evaluate"
   ]
  },
  {
   "attachments": {},
   "cell_type": "markdown",
   "metadata": {},
   "source": [
    "## 5.1 create evaluate function"
   ]
  },
  {
   "cell_type": "code",
   "execution_count": 10,
   "metadata": {},
   "outputs": [],
   "source": [
    "def evaluate(y_test, y_pred):\n",
    "    MAE  = metrics.mean_absolute_error(y_test, y_pred)\n",
    "    MSE  = metrics.mean_squared_error(y_test, y_pred)\n",
    "    R2   = metrics.r2_score(y_test, y_pred)\n",
    "    RMSE = np.sqrt(metrics.mean_squared_error(y_test, y_pred))\n",
    "\n",
    "    return MAE, MSE, R2, RMSE"
   ]
  },
  {
   "attachments": {},
   "cell_type": "markdown",
   "metadata": {},
   "source": [
    "## 5.2 evaluate all model"
   ]
  },
  {
   "cell_type": "code",
   "execution_count": 11,
   "metadata": {},
   "outputs": [],
   "source": [
    "lr_metrics_s = evaluate(ys_test, lr_predictions_s)\n",
    "rf_metrics_s = evaluate(ys_test, rf_predictions_s)\n",
    "gbdt_metrics_s = evaluate(ys_test, gbdt_predictions_s)\n",
    "\n",
    "lr_metrics_m = evaluate(ym_test, lr_predictions_m)\n",
    "rf_metrics_m = evaluate(ym_test, rf_predictions_m)\n",
    "gbdt_metrics_m = evaluate(ym_test, gbdt_predictions_m)"
   ]
  },
  {
   "attachments": {},
   "cell_type": "markdown",
   "metadata": {},
   "source": [
    "## 5.3 benchmark on dataframe"
   ]
  },
  {
   "cell_type": "code",
   "execution_count": 12,
   "metadata": {},
   "outputs": [],
   "source": [
    "data_dict_s = {\n",
    "    'Model': ['Linear Regression', 'Random Forest', 'Gradient Boosting'],\n",
    "    'MAE': [lr_metrics_s[0], rf_metrics_s[0], gbdt_metrics_s[0]],\n",
    "    'MSE': [lr_metrics_s[1], rf_metrics_s[1], gbdt_metrics_s[1]],\n",
    "    'R2': [lr_metrics_s[2], rf_metrics_s[2], gbdt_metrics_s[2]],\n",
    "    'RMSE': [lr_metrics_s[3], rf_metrics_s[3], gbdt_metrics_s[3]]\n",
    "}\n",
    "\n",
    "data_dict_m = {\n",
    "    'Model': ['Linear Regression', 'Random Forest', 'Gradient Boosting'],\n",
    "    'MAE': [lr_metrics_m[0], rf_metrics_m[0], gbdt_metrics_m[0]],\n",
    "    'MSE': [lr_metrics_m[1], rf_metrics_m[1], gbdt_metrics_m[1]],\n",
    "    'R2': [lr_metrics_m[2], rf_metrics_m[2], gbdt_metrics_m[2]],\n",
    "    'RMSE': [lr_metrics_m[3], rf_metrics_m[3], gbdt_metrics_m[3]]\n",
    "}"
   ]
  },
  {
   "cell_type": "code",
   "execution_count": 13,
   "metadata": {},
   "outputs": [
    {
     "data": {
      "text/html": [
       "<div>\n",
       "<style scoped>\n",
       "    .dataframe tbody tr th:only-of-type {\n",
       "        vertical-align: middle;\n",
       "    }\n",
       "\n",
       "    .dataframe tbody tr th {\n",
       "        vertical-align: top;\n",
       "    }\n",
       "\n",
       "    .dataframe thead th {\n",
       "        text-align: right;\n",
       "    }\n",
       "</style>\n",
       "<table border=\"1\" class=\"dataframe\">\n",
       "  <thead>\n",
       "    <tr style=\"text-align: right;\">\n",
       "      <th></th>\n",
       "      <th>Model</th>\n",
       "      <th>MAE</th>\n",
       "      <th>MSE</th>\n",
       "      <th>R2</th>\n",
       "      <th>RMSE</th>\n",
       "    </tr>\n",
       "  </thead>\n",
       "  <tbody>\n",
       "    <tr>\n",
       "      <th>0</th>\n",
       "      <td>Linear Regression</td>\n",
       "      <td>212.612121</td>\n",
       "      <td>75281.645784</td>\n",
       "      <td>0.891858</td>\n",
       "      <td>274.375009</td>\n",
       "    </tr>\n",
       "    <tr>\n",
       "      <th>1</th>\n",
       "      <td>Random Forest</td>\n",
       "      <td>216.584621</td>\n",
       "      <td>80773.371460</td>\n",
       "      <td>0.883969</td>\n",
       "      <td>284.206565</td>\n",
       "    </tr>\n",
       "    <tr>\n",
       "      <th>2</th>\n",
       "      <td>Gradient Boosting</td>\n",
       "      <td>206.970008</td>\n",
       "      <td>71898.833882</td>\n",
       "      <td>0.896718</td>\n",
       "      <td>268.139579</td>\n",
       "    </tr>\n",
       "  </tbody>\n",
       "</table>\n",
       "</div>"
      ],
      "text/plain": [
       "               Model         MAE           MSE        R2        RMSE\n",
       "0  Linear Regression  212.612121  75281.645784  0.891858  274.375009\n",
       "1      Random Forest  216.584621  80773.371460  0.883969  284.206565\n",
       "2  Gradient Boosting  206.970008  71898.833882  0.896718  268.139579"
      ]
     },
     "execution_count": 13,
     "metadata": {},
     "output_type": "execute_result"
    }
   ],
   "source": [
    "benchmark_s = pd.DataFrame(data_dict_s)\n",
    "benchmark_s"
   ]
  },
  {
   "cell_type": "code",
   "execution_count": 14,
   "metadata": {},
   "outputs": [
    {
     "data": {
      "text/html": [
       "<div>\n",
       "<style scoped>\n",
       "    .dataframe tbody tr th:only-of-type {\n",
       "        vertical-align: middle;\n",
       "    }\n",
       "\n",
       "    .dataframe tbody tr th {\n",
       "        vertical-align: top;\n",
       "    }\n",
       "\n",
       "    .dataframe thead th {\n",
       "        text-align: right;\n",
       "    }\n",
       "</style>\n",
       "<table border=\"1\" class=\"dataframe\">\n",
       "  <thead>\n",
       "    <tr style=\"text-align: right;\">\n",
       "      <th></th>\n",
       "      <th>Model</th>\n",
       "      <th>MAE</th>\n",
       "      <th>MSE</th>\n",
       "      <th>R2</th>\n",
       "      <th>RMSE</th>\n",
       "    </tr>\n",
       "  </thead>\n",
       "  <tbody>\n",
       "    <tr>\n",
       "      <th>0</th>\n",
       "      <td>Linear Regression</td>\n",
       "      <td>3.544697</td>\n",
       "      <td>21.015235</td>\n",
       "      <td>0.891485</td>\n",
       "      <td>4.584238</td>\n",
       "    </tr>\n",
       "    <tr>\n",
       "      <th>1</th>\n",
       "      <td>Random Forest</td>\n",
       "      <td>3.589620</td>\n",
       "      <td>22.272649</td>\n",
       "      <td>0.884992</td>\n",
       "      <td>4.719391</td>\n",
       "    </tr>\n",
       "    <tr>\n",
       "      <th>2</th>\n",
       "      <td>Gradient Boosting</td>\n",
       "      <td>3.446087</td>\n",
       "      <td>19.961956</td>\n",
       "      <td>0.896923</td>\n",
       "      <td>4.467881</td>\n",
       "    </tr>\n",
       "  </tbody>\n",
       "</table>\n",
       "</div>"
      ],
      "text/plain": [
       "               Model       MAE        MSE        R2      RMSE\n",
       "0  Linear Regression  3.544697  21.015235  0.891485  4.584238\n",
       "1      Random Forest  3.589620  22.272649  0.884992  4.719391\n",
       "2  Gradient Boosting  3.446087  19.961956  0.896923  4.467881"
      ]
     },
     "execution_count": 14,
     "metadata": {},
     "output_type": "execute_result"
    }
   ],
   "source": [
    "benchmark_m = pd.DataFrame(data_dict_m)\n",
    "benchmark_m"
   ]
  },
  {
   "attachments": {},
   "cell_type": "markdown",
   "metadata": {},
   "source": [
    "## 5.4 save all data"
   ]
  },
  {
   "cell_type": "code",
   "execution_count": 15,
   "metadata": {},
   "outputs": [],
   "source": [
    "result_s = pd.DataFrame({\n",
    "    'ys_test': ys_test,\n",
    "    'lr_predictions_s': lr_predictions_s,\n",
    "    'rf_predictions_s': rf_predictions_s,\n",
    "    'gbdt_predictions_s': gbdt_predictions_s\n",
    "})\n",
    "result_m = pd.DataFrame({\n",
    "    'ym_test': ym_test,\n",
    "    'lr_predictions_m': lr_predictions_m,\n",
    "    'rf_predictions_m': rf_predictions_m,\n",
    "    'gbdt_predictions_m': gbdt_predictions_m\n",
    "})"
   ]
  },
  {
   "cell_type": "code",
   "execution_count": 16,
   "metadata": {},
   "outputs": [],
   "source": [
    "benchmark_s.to_csv('Food_delivery_model_metrics_s.csv', index=False)\n",
    "benchmark_m.to_csv('Food_delivery_model_metrics_m.csv', index=False)\n",
    "result_s.to_csv('Food_delivery_model_prediction_result_s.csv', index=False)\n",
    "result_m.to_csv('Food_delivery_model_prediction_result_m.csv', index=False)"
   ]
  },
  {
   "attachments": {},
   "cell_type": "markdown",
   "metadata": {},
   "source": [
    "# 6. Hyperparameter tuning"
   ]
  },
  {
   "attachments": {},
   "cell_type": "markdown",
   "metadata": {},
   "source": [
    "## 6.1 get best model params and feats importance"
   ]
  },
  {
   "cell_type": "code",
   "execution_count": 17,
   "metadata": {},
   "outputs": [],
   "source": [
    "def get_feature_importance(model, X):\n",
    "    return pd.DataFrame([[round(float(x),6) for x in model.feature_importances_]], columns=X.columns.to_list())"
   ]
  },
  {
   "cell_type": "code",
   "execution_count": 18,
   "metadata": {},
   "outputs": [
    {
     "name": "stdout",
     "output_type": "stream",
     "text": [
      "model params\n"
     ]
    },
    {
     "data": {
      "text/html": [
       "<div>\n",
       "<style scoped>\n",
       "    .dataframe tbody tr th:only-of-type {\n",
       "        vertical-align: middle;\n",
       "    }\n",
       "\n",
       "    .dataframe tbody tr th {\n",
       "        vertical-align: top;\n",
       "    }\n",
       "\n",
       "    .dataframe thead th {\n",
       "        text-align: right;\n",
       "    }\n",
       "</style>\n",
       "<table border=\"1\" class=\"dataframe\">\n",
       "  <thead>\n",
       "    <tr style=\"text-align: right;\">\n",
       "      <th></th>\n",
       "      <th>alpha</th>\n",
       "      <th>ccp_alpha</th>\n",
       "      <th>criterion</th>\n",
       "      <th>init</th>\n",
       "      <th>learning_rate</th>\n",
       "      <th>loss</th>\n",
       "      <th>max_depth</th>\n",
       "      <th>max_features</th>\n",
       "      <th>max_leaf_nodes</th>\n",
       "      <th>min_impurity_decrease</th>\n",
       "      <th>...</th>\n",
       "      <th>min_samples_split</th>\n",
       "      <th>min_weight_fraction_leaf</th>\n",
       "      <th>n_estimators</th>\n",
       "      <th>n_iter_no_change</th>\n",
       "      <th>random_state</th>\n",
       "      <th>subsample</th>\n",
       "      <th>tol</th>\n",
       "      <th>validation_fraction</th>\n",
       "      <th>verbose</th>\n",
       "      <th>warm_start</th>\n",
       "    </tr>\n",
       "  </thead>\n",
       "  <tbody>\n",
       "    <tr>\n",
       "      <th>gbdt_s</th>\n",
       "      <td>0.9</td>\n",
       "      <td>0.0</td>\n",
       "      <td>friedman_mse</td>\n",
       "      <td>None</td>\n",
       "      <td>0.1</td>\n",
       "      <td>squared_error</td>\n",
       "      <td>3</td>\n",
       "      <td>None</td>\n",
       "      <td>None</td>\n",
       "      <td>0.0</td>\n",
       "      <td>...</td>\n",
       "      <td>2</td>\n",
       "      <td>0.0</td>\n",
       "      <td>100</td>\n",
       "      <td>None</td>\n",
       "      <td>None</td>\n",
       "      <td>1.0</td>\n",
       "      <td>0.0001</td>\n",
       "      <td>0.1</td>\n",
       "      <td>0</td>\n",
       "      <td>False</td>\n",
       "    </tr>\n",
       "    <tr>\n",
       "      <th>gbdt_m</th>\n",
       "      <td>0.9</td>\n",
       "      <td>0.0</td>\n",
       "      <td>friedman_mse</td>\n",
       "      <td>None</td>\n",
       "      <td>0.1</td>\n",
       "      <td>squared_error</td>\n",
       "      <td>3</td>\n",
       "      <td>None</td>\n",
       "      <td>None</td>\n",
       "      <td>0.0</td>\n",
       "      <td>...</td>\n",
       "      <td>2</td>\n",
       "      <td>0.0</td>\n",
       "      <td>100</td>\n",
       "      <td>None</td>\n",
       "      <td>None</td>\n",
       "      <td>1.0</td>\n",
       "      <td>0.0001</td>\n",
       "      <td>0.1</td>\n",
       "      <td>0</td>\n",
       "      <td>False</td>\n",
       "    </tr>\n",
       "  </tbody>\n",
       "</table>\n",
       "<p>2 rows × 21 columns</p>\n",
       "</div>"
      ],
      "text/plain": [
       "        alpha  ccp_alpha     criterion  init  learning_rate           loss  \\\n",
       "gbdt_s    0.9        0.0  friedman_mse  None            0.1  squared_error   \n",
       "gbdt_m    0.9        0.0  friedman_mse  None            0.1  squared_error   \n",
       "\n",
       "        max_depth max_features max_leaf_nodes  min_impurity_decrease  ...  \\\n",
       "gbdt_s          3         None           None                    0.0  ...   \n",
       "gbdt_m          3         None           None                    0.0  ...   \n",
       "\n",
       "        min_samples_split  min_weight_fraction_leaf  n_estimators  \\\n",
       "gbdt_s                  2                       0.0           100   \n",
       "gbdt_m                  2                       0.0           100   \n",
       "\n",
       "        n_iter_no_change random_state subsample     tol  validation_fraction  \\\n",
       "gbdt_s              None         None       1.0  0.0001                  0.1   \n",
       "gbdt_m              None         None       1.0  0.0001                  0.1   \n",
       "\n",
       "        verbose  warm_start  \n",
       "gbdt_s        0       False  \n",
       "gbdt_m        0       False  \n",
       "\n",
       "[2 rows x 21 columns]"
      ]
     },
     "metadata": {},
     "output_type": "display_data"
    },
    {
     "name": "stdout",
     "output_type": "stream",
     "text": [
      "model feature importances\n"
     ]
    },
    {
     "data": {
      "text/html": [
       "<div>\n",
       "<style scoped>\n",
       "    .dataframe tbody tr th:only-of-type {\n",
       "        vertical-align: middle;\n",
       "    }\n",
       "\n",
       "    .dataframe tbody tr th {\n",
       "        vertical-align: top;\n",
       "    }\n",
       "\n",
       "    .dataframe thead th {\n",
       "        text-align: right;\n",
       "    }\n",
       "</style>\n",
       "<table border=\"1\" class=\"dataframe\">\n",
       "  <thead>\n",
       "    <tr style=\"text-align: right;\">\n",
       "      <th></th>\n",
       "      <th>u_lat</th>\n",
       "      <th>u_lon</th>\n",
       "      <th>v_lat</th>\n",
       "      <th>v_lon</th>\n",
       "      <th>euc_dist</th>\n",
       "      <th>shortest_dist</th>\n",
       "      <th>day_of_week_sin</th>\n",
       "      <th>day_of_week_cos</th>\n",
       "    </tr>\n",
       "  </thead>\n",
       "  <tbody>\n",
       "    <tr>\n",
       "      <th>gbdt_s</th>\n",
       "      <td>0.000374</td>\n",
       "      <td>0.000419</td>\n",
       "      <td>0.001142</td>\n",
       "      <td>0.000792</td>\n",
       "      <td>0.99540</td>\n",
       "      <td>0.001514</td>\n",
       "      <td>0.000294</td>\n",
       "      <td>0.000065</td>\n",
       "    </tr>\n",
       "    <tr>\n",
       "      <th>gbdt_m</th>\n",
       "      <td>0.000482</td>\n",
       "      <td>0.000430</td>\n",
       "      <td>0.001040</td>\n",
       "      <td>0.000816</td>\n",
       "      <td>0.99546</td>\n",
       "      <td>0.001234</td>\n",
       "      <td>0.000383</td>\n",
       "      <td>0.000155</td>\n",
       "    </tr>\n",
       "  </tbody>\n",
       "</table>\n",
       "</div>"
      ],
      "text/plain": [
       "           u_lat     u_lon     v_lat     v_lon  euc_dist  shortest_dist  \\\n",
       "gbdt_s  0.000374  0.000419  0.001142  0.000792   0.99540       0.001514   \n",
       "gbdt_m  0.000482  0.000430  0.001040  0.000816   0.99546       0.001234   \n",
       "\n",
       "        day_of_week_sin  day_of_week_cos  \n",
       "gbdt_s         0.000294         0.000065  \n",
       "gbdt_m         0.000383         0.000155  "
      ]
     },
     "metadata": {},
     "output_type": "display_data"
    }
   ],
   "source": [
    "params = pd.DataFrame(gbdt_s.get_params(), index=[0])\n",
    "params.loc[len(params)] = gbdt_m.get_params()\n",
    "params.index = ['gbdt_s', 'gbdt_m']\n",
    "print('model params')\n",
    "display(params)\n",
    "\n",
    "feature_importances = get_feature_importance(gbdt_s, Xs_train)\n",
    "feature_importances.loc[len(feature_importances)] = get_feature_importance(gbdt_m, Xm_train).loc[0].values\n",
    "feature_importances.index = ['gbdt_s', 'gbdt_m']\n",
    "print('model feature importances')\n",
    "display(feature_importances)"
   ]
  },
  {
   "attachments": {},
   "cell_type": "markdown",
   "metadata": {},
   "source": [
    "## 6.2 tune params using gridsearchCV"
   ]
  },
  {
   "cell_type": "code",
   "execution_count": 19,
   "metadata": {},
   "outputs": [
    {
     "data": {
      "text/html": [
       "<style>#sk-container-id-1 {color: black;background-color: white;}#sk-container-id-1 pre{padding: 0;}#sk-container-id-1 div.sk-toggleable {background-color: white;}#sk-container-id-1 label.sk-toggleable__label {cursor: pointer;display: block;width: 100%;margin-bottom: 0;padding: 0.3em;box-sizing: border-box;text-align: center;}#sk-container-id-1 label.sk-toggleable__label-arrow:before {content: \"▸\";float: left;margin-right: 0.25em;color: #696969;}#sk-container-id-1 label.sk-toggleable__label-arrow:hover:before {color: black;}#sk-container-id-1 div.sk-estimator:hover label.sk-toggleable__label-arrow:before {color: black;}#sk-container-id-1 div.sk-toggleable__content {max-height: 0;max-width: 0;overflow: hidden;text-align: left;background-color: #f0f8ff;}#sk-container-id-1 div.sk-toggleable__content pre {margin: 0.2em;color: black;border-radius: 0.25em;background-color: #f0f8ff;}#sk-container-id-1 input.sk-toggleable__control:checked~div.sk-toggleable__content {max-height: 200px;max-width: 100%;overflow: auto;}#sk-container-id-1 input.sk-toggleable__control:checked~label.sk-toggleable__label-arrow:before {content: \"▾\";}#sk-container-id-1 div.sk-estimator input.sk-toggleable__control:checked~label.sk-toggleable__label {background-color: #d4ebff;}#sk-container-id-1 div.sk-label input.sk-toggleable__control:checked~label.sk-toggleable__label {background-color: #d4ebff;}#sk-container-id-1 input.sk-hidden--visually {border: 0;clip: rect(1px 1px 1px 1px);clip: rect(1px, 1px, 1px, 1px);height: 1px;margin: -1px;overflow: hidden;padding: 0;position: absolute;width: 1px;}#sk-container-id-1 div.sk-estimator {font-family: monospace;background-color: #f0f8ff;border: 1px dotted black;border-radius: 0.25em;box-sizing: border-box;margin-bottom: 0.5em;}#sk-container-id-1 div.sk-estimator:hover {background-color: #d4ebff;}#sk-container-id-1 div.sk-parallel-item::after {content: \"\";width: 100%;border-bottom: 1px solid gray;flex-grow: 1;}#sk-container-id-1 div.sk-label:hover label.sk-toggleable__label {background-color: #d4ebff;}#sk-container-id-1 div.sk-serial::before {content: \"\";position: absolute;border-left: 1px solid gray;box-sizing: border-box;top: 0;bottom: 0;left: 50%;z-index: 0;}#sk-container-id-1 div.sk-serial {display: flex;flex-direction: column;align-items: center;background-color: white;padding-right: 0.2em;padding-left: 0.2em;position: relative;}#sk-container-id-1 div.sk-item {position: relative;z-index: 1;}#sk-container-id-1 div.sk-parallel {display: flex;align-items: stretch;justify-content: center;background-color: white;position: relative;}#sk-container-id-1 div.sk-item::before, #sk-container-id-1 div.sk-parallel-item::before {content: \"\";position: absolute;border-left: 1px solid gray;box-sizing: border-box;top: 0;bottom: 0;left: 50%;z-index: -1;}#sk-container-id-1 div.sk-parallel-item {display: flex;flex-direction: column;z-index: 1;position: relative;background-color: white;}#sk-container-id-1 div.sk-parallel-item:first-child::after {align-self: flex-end;width: 50%;}#sk-container-id-1 div.sk-parallel-item:last-child::after {align-self: flex-start;width: 50%;}#sk-container-id-1 div.sk-parallel-item:only-child::after {width: 0;}#sk-container-id-1 div.sk-dashed-wrapped {border: 1px dashed gray;margin: 0 0.4em 0.5em 0.4em;box-sizing: border-box;padding-bottom: 0.4em;background-color: white;}#sk-container-id-1 div.sk-label label {font-family: monospace;font-weight: bold;display: inline-block;line-height: 1.2em;}#sk-container-id-1 div.sk-label-container {text-align: center;}#sk-container-id-1 div.sk-container {/* jupyter's `normalize.less` sets `[hidden] { display: none; }` but bootstrap.min.css set `[hidden] { display: none !important; }` so we also need the `!important` here to be able to override the default hidden behavior on the sphinx rendered scikit-learn.org. See: https://github.com/scikit-learn/scikit-learn/issues/21755 */display: inline-block !important;position: relative;}#sk-container-id-1 div.sk-text-repr-fallback {display: none;}</style><div id=\"sk-container-id-1\" class=\"sk-top-container\"><div class=\"sk-text-repr-fallback\"><pre>GridSearchCV(estimator=GradientBoostingRegressor(),\n",
       "             param_grid={&#x27;max_depth&#x27;: [2, 3, 4, 5],\n",
       "                         &#x27;max_features&#x27;: [1.0, &#x27;sqrt&#x27;, &#x27;log2&#x27;],\n",
       "                         &#x27;n_estimators&#x27;: [30, 35, 40, 45, 50, 55, 60, 65, 70]},\n",
       "             refit=&#x27;neg_mean_squared_error&#x27;,\n",
       "             scoring=[&#x27;neg_mean_absolute_error&#x27;, &#x27;neg_mean_squared_error&#x27;, &#x27;r2&#x27;,\n",
       "                      &#x27;neg_root_mean_squared_error&#x27;])</pre><b>In a Jupyter environment, please rerun this cell to show the HTML representation or trust the notebook. <br />On GitHub, the HTML representation is unable to render, please try loading this page with nbviewer.org.</b></div><div class=\"sk-container\" hidden><div class=\"sk-item sk-dashed-wrapped\"><div class=\"sk-label-container\"><div class=\"sk-label sk-toggleable\"><input class=\"sk-toggleable__control sk-hidden--visually\" id=\"sk-estimator-id-1\" type=\"checkbox\" ><label for=\"sk-estimator-id-1\" class=\"sk-toggleable__label sk-toggleable__label-arrow\">GridSearchCV</label><div class=\"sk-toggleable__content\"><pre>GridSearchCV(estimator=GradientBoostingRegressor(),\n",
       "             param_grid={&#x27;max_depth&#x27;: [2, 3, 4, 5],\n",
       "                         &#x27;max_features&#x27;: [1.0, &#x27;sqrt&#x27;, &#x27;log2&#x27;],\n",
       "                         &#x27;n_estimators&#x27;: [30, 35, 40, 45, 50, 55, 60, 65, 70]},\n",
       "             refit=&#x27;neg_mean_squared_error&#x27;,\n",
       "             scoring=[&#x27;neg_mean_absolute_error&#x27;, &#x27;neg_mean_squared_error&#x27;, &#x27;r2&#x27;,\n",
       "                      &#x27;neg_root_mean_squared_error&#x27;])</pre></div></div></div><div class=\"sk-parallel\"><div class=\"sk-parallel-item\"><div class=\"sk-item\"><div class=\"sk-label-container\"><div class=\"sk-label sk-toggleable\"><input class=\"sk-toggleable__control sk-hidden--visually\" id=\"sk-estimator-id-2\" type=\"checkbox\" ><label for=\"sk-estimator-id-2\" class=\"sk-toggleable__label sk-toggleable__label-arrow\">estimator: GradientBoostingRegressor</label><div class=\"sk-toggleable__content\"><pre>GradientBoostingRegressor()</pre></div></div></div><div class=\"sk-serial\"><div class=\"sk-item\"><div class=\"sk-estimator sk-toggleable\"><input class=\"sk-toggleable__control sk-hidden--visually\" id=\"sk-estimator-id-3\" type=\"checkbox\" ><label for=\"sk-estimator-id-3\" class=\"sk-toggleable__label sk-toggleable__label-arrow\">GradientBoostingRegressor</label><div class=\"sk-toggleable__content\"><pre>GradientBoostingRegressor()</pre></div></div></div></div></div></div></div></div></div></div>"
      ],
      "text/plain": [
       "GridSearchCV(estimator=GradientBoostingRegressor(),\n",
       "             param_grid={'max_depth': [2, 3, 4, 5],\n",
       "                         'max_features': [1.0, 'sqrt', 'log2'],\n",
       "                         'n_estimators': [30, 35, 40, 45, 50, 55, 60, 65, 70]},\n",
       "             refit='neg_mean_squared_error',\n",
       "             scoring=['neg_mean_absolute_error', 'neg_mean_squared_error', 'r2',\n",
       "                      'neg_root_mean_squared_error'])"
      ]
     },
     "execution_count": 19,
     "metadata": {},
     "output_type": "execute_result"
    }
   ],
   "source": [
    "gbdt = GradientBoostingRegressor()\n",
    "\n",
    "param_grid = { \n",
    " \"n_estimators\": [30, 35, 40, 45, 50, 55, 60, 65, 70],\n",
    " \"max_features\": [1.0, \"sqrt\", \"log2\"], # \"auto\" is deprecated, use 1.0 instead\n",
    " \"max_depth\": [2, 3, 4, 5],\n",
    "}\n",
    "scoring = ['neg_mean_absolute_error', 'neg_mean_squared_error', 'r2', 'neg_root_mean_squared_error']\n",
    "refit = \"neg_mean_squared_error\"\n",
    "\n",
    "CV_gbdt_s = GridSearchCV(estimator=gbdt, param_grid=param_grid, scoring=scoring, refit=refit)\n",
    "CV_gbdt_s.fit(Xs_train, ys_train)"
   ]
  },
  {
   "cell_type": "code",
   "execution_count": 20,
   "metadata": {},
   "outputs": [
    {
     "data": {
      "text/html": [
       "<style>#sk-container-id-2 {color: black;background-color: white;}#sk-container-id-2 pre{padding: 0;}#sk-container-id-2 div.sk-toggleable {background-color: white;}#sk-container-id-2 label.sk-toggleable__label {cursor: pointer;display: block;width: 100%;margin-bottom: 0;padding: 0.3em;box-sizing: border-box;text-align: center;}#sk-container-id-2 label.sk-toggleable__label-arrow:before {content: \"▸\";float: left;margin-right: 0.25em;color: #696969;}#sk-container-id-2 label.sk-toggleable__label-arrow:hover:before {color: black;}#sk-container-id-2 div.sk-estimator:hover label.sk-toggleable__label-arrow:before {color: black;}#sk-container-id-2 div.sk-toggleable__content {max-height: 0;max-width: 0;overflow: hidden;text-align: left;background-color: #f0f8ff;}#sk-container-id-2 div.sk-toggleable__content pre {margin: 0.2em;color: black;border-radius: 0.25em;background-color: #f0f8ff;}#sk-container-id-2 input.sk-toggleable__control:checked~div.sk-toggleable__content {max-height: 200px;max-width: 100%;overflow: auto;}#sk-container-id-2 input.sk-toggleable__control:checked~label.sk-toggleable__label-arrow:before {content: \"▾\";}#sk-container-id-2 div.sk-estimator input.sk-toggleable__control:checked~label.sk-toggleable__label {background-color: #d4ebff;}#sk-container-id-2 div.sk-label input.sk-toggleable__control:checked~label.sk-toggleable__label {background-color: #d4ebff;}#sk-container-id-2 input.sk-hidden--visually {border: 0;clip: rect(1px 1px 1px 1px);clip: rect(1px, 1px, 1px, 1px);height: 1px;margin: -1px;overflow: hidden;padding: 0;position: absolute;width: 1px;}#sk-container-id-2 div.sk-estimator {font-family: monospace;background-color: #f0f8ff;border: 1px dotted black;border-radius: 0.25em;box-sizing: border-box;margin-bottom: 0.5em;}#sk-container-id-2 div.sk-estimator:hover {background-color: #d4ebff;}#sk-container-id-2 div.sk-parallel-item::after {content: \"\";width: 100%;border-bottom: 1px solid gray;flex-grow: 1;}#sk-container-id-2 div.sk-label:hover label.sk-toggleable__label {background-color: #d4ebff;}#sk-container-id-2 div.sk-serial::before {content: \"\";position: absolute;border-left: 1px solid gray;box-sizing: border-box;top: 0;bottom: 0;left: 50%;z-index: 0;}#sk-container-id-2 div.sk-serial {display: flex;flex-direction: column;align-items: center;background-color: white;padding-right: 0.2em;padding-left: 0.2em;position: relative;}#sk-container-id-2 div.sk-item {position: relative;z-index: 1;}#sk-container-id-2 div.sk-parallel {display: flex;align-items: stretch;justify-content: center;background-color: white;position: relative;}#sk-container-id-2 div.sk-item::before, #sk-container-id-2 div.sk-parallel-item::before {content: \"\";position: absolute;border-left: 1px solid gray;box-sizing: border-box;top: 0;bottom: 0;left: 50%;z-index: -1;}#sk-container-id-2 div.sk-parallel-item {display: flex;flex-direction: column;z-index: 1;position: relative;background-color: white;}#sk-container-id-2 div.sk-parallel-item:first-child::after {align-self: flex-end;width: 50%;}#sk-container-id-2 div.sk-parallel-item:last-child::after {align-self: flex-start;width: 50%;}#sk-container-id-2 div.sk-parallel-item:only-child::after {width: 0;}#sk-container-id-2 div.sk-dashed-wrapped {border: 1px dashed gray;margin: 0 0.4em 0.5em 0.4em;box-sizing: border-box;padding-bottom: 0.4em;background-color: white;}#sk-container-id-2 div.sk-label label {font-family: monospace;font-weight: bold;display: inline-block;line-height: 1.2em;}#sk-container-id-2 div.sk-label-container {text-align: center;}#sk-container-id-2 div.sk-container {/* jupyter's `normalize.less` sets `[hidden] { display: none; }` but bootstrap.min.css set `[hidden] { display: none !important; }` so we also need the `!important` here to be able to override the default hidden behavior on the sphinx rendered scikit-learn.org. See: https://github.com/scikit-learn/scikit-learn/issues/21755 */display: inline-block !important;position: relative;}#sk-container-id-2 div.sk-text-repr-fallback {display: none;}</style><div id=\"sk-container-id-2\" class=\"sk-top-container\"><div class=\"sk-text-repr-fallback\"><pre>GridSearchCV(estimator=GradientBoostingRegressor(),\n",
       "             param_grid={&#x27;max_depth&#x27;: [2, 3, 4, 5],\n",
       "                         &#x27;max_features&#x27;: [1.0, &#x27;sqrt&#x27;, &#x27;log2&#x27;],\n",
       "                         &#x27;n_estimators&#x27;: [30, 35, 40, 45, 50, 55, 60, 65, 70]},\n",
       "             refit=&#x27;neg_mean_squared_error&#x27;,\n",
       "             scoring=[&#x27;neg_mean_absolute_error&#x27;, &#x27;neg_mean_squared_error&#x27;, &#x27;r2&#x27;,\n",
       "                      &#x27;neg_root_mean_squared_error&#x27;])</pre><b>In a Jupyter environment, please rerun this cell to show the HTML representation or trust the notebook. <br />On GitHub, the HTML representation is unable to render, please try loading this page with nbviewer.org.</b></div><div class=\"sk-container\" hidden><div class=\"sk-item sk-dashed-wrapped\"><div class=\"sk-label-container\"><div class=\"sk-label sk-toggleable\"><input class=\"sk-toggleable__control sk-hidden--visually\" id=\"sk-estimator-id-4\" type=\"checkbox\" ><label for=\"sk-estimator-id-4\" class=\"sk-toggleable__label sk-toggleable__label-arrow\">GridSearchCV</label><div class=\"sk-toggleable__content\"><pre>GridSearchCV(estimator=GradientBoostingRegressor(),\n",
       "             param_grid={&#x27;max_depth&#x27;: [2, 3, 4, 5],\n",
       "                         &#x27;max_features&#x27;: [1.0, &#x27;sqrt&#x27;, &#x27;log2&#x27;],\n",
       "                         &#x27;n_estimators&#x27;: [30, 35, 40, 45, 50, 55, 60, 65, 70]},\n",
       "             refit=&#x27;neg_mean_squared_error&#x27;,\n",
       "             scoring=[&#x27;neg_mean_absolute_error&#x27;, &#x27;neg_mean_squared_error&#x27;, &#x27;r2&#x27;,\n",
       "                      &#x27;neg_root_mean_squared_error&#x27;])</pre></div></div></div><div class=\"sk-parallel\"><div class=\"sk-parallel-item\"><div class=\"sk-item\"><div class=\"sk-label-container\"><div class=\"sk-label sk-toggleable\"><input class=\"sk-toggleable__control sk-hidden--visually\" id=\"sk-estimator-id-5\" type=\"checkbox\" ><label for=\"sk-estimator-id-5\" class=\"sk-toggleable__label sk-toggleable__label-arrow\">estimator: GradientBoostingRegressor</label><div class=\"sk-toggleable__content\"><pre>GradientBoostingRegressor()</pre></div></div></div><div class=\"sk-serial\"><div class=\"sk-item\"><div class=\"sk-estimator sk-toggleable\"><input class=\"sk-toggleable__control sk-hidden--visually\" id=\"sk-estimator-id-6\" type=\"checkbox\" ><label for=\"sk-estimator-id-6\" class=\"sk-toggleable__label sk-toggleable__label-arrow\">GradientBoostingRegressor</label><div class=\"sk-toggleable__content\"><pre>GradientBoostingRegressor()</pre></div></div></div></div></div></div></div></div></div></div>"
      ],
      "text/plain": [
       "GridSearchCV(estimator=GradientBoostingRegressor(),\n",
       "             param_grid={'max_depth': [2, 3, 4, 5],\n",
       "                         'max_features': [1.0, 'sqrt', 'log2'],\n",
       "                         'n_estimators': [30, 35, 40, 45, 50, 55, 60, 65, 70]},\n",
       "             refit='neg_mean_squared_error',\n",
       "             scoring=['neg_mean_absolute_error', 'neg_mean_squared_error', 'r2',\n",
       "                      'neg_root_mean_squared_error'])"
      ]
     },
     "execution_count": 20,
     "metadata": {},
     "output_type": "execute_result"
    }
   ],
   "source": [
    "gbdt = GradientBoostingRegressor()\n",
    "\n",
    "param_grid = { \n",
    " \"n_estimators\": [30, 35, 40, 45, 50, 55, 60, 65, 70],\n",
    " \"max_features\": [1.0, \"sqrt\", \"log2\"], # \"auto\" is deprecated, use 1.0 instead\n",
    " \"max_depth\": [2, 3, 4, 5],\n",
    "}\n",
    "scoring = ['neg_mean_absolute_error', 'neg_mean_squared_error', 'r2', 'neg_root_mean_squared_error']\n",
    "refit = \"neg_mean_squared_error\"\n",
    "\n",
    "CV_gbdt_m = GridSearchCV(estimator=gbdt, param_grid=param_grid, scoring=scoring, refit=refit)\n",
    "CV_gbdt_m.fit(Xm_train, ym_train)"
   ]
  },
  {
   "attachments": {},
   "cell_type": "markdown",
   "metadata": {},
   "source": [
    "## 6.3 get result dataframe"
   ]
  },
  {
   "cell_type": "code",
   "execution_count": 21,
   "metadata": {},
   "outputs": [
    {
     "name": "stdout",
     "output_type": "stream",
     "text": [
      "<class 'pandas.core.frame.DataFrame'>\n",
      "RangeIndex: 108 entries, 0 to 107\n",
      "Data columns (total 40 columns):\n",
      " #   Column                                   Non-Null Count  Dtype  \n",
      "---  ------                                   --------------  -----  \n",
      " 0   mean_fit_time                            108 non-null    float64\n",
      " 1   std_fit_time                             108 non-null    float64\n",
      " 2   mean_score_time                          108 non-null    float64\n",
      " 3   std_score_time                           108 non-null    float64\n",
      " 4   param_max_depth                          108 non-null    object \n",
      " 5   param_max_features                       108 non-null    object \n",
      " 6   param_n_estimators                       108 non-null    object \n",
      " 7   params                                   108 non-null    object \n",
      " 8   split0_test_neg_mean_absolute_error      108 non-null    float64\n",
      " 9   split1_test_neg_mean_absolute_error      108 non-null    float64\n",
      " 10  split2_test_neg_mean_absolute_error      108 non-null    float64\n",
      " 11  split3_test_neg_mean_absolute_error      108 non-null    float64\n",
      " 12  split4_test_neg_mean_absolute_error      108 non-null    float64\n",
      " 13  mean_test_neg_mean_absolute_error        108 non-null    float64\n",
      " 14  std_test_neg_mean_absolute_error         108 non-null    float64\n",
      " 15  rank_test_neg_mean_absolute_error        108 non-null    int32  \n",
      " 16  split0_test_neg_mean_squared_error       108 non-null    float64\n",
      " 17  split1_test_neg_mean_squared_error       108 non-null    float64\n",
      " 18  split2_test_neg_mean_squared_error       108 non-null    float64\n",
      " 19  split3_test_neg_mean_squared_error       108 non-null    float64\n",
      " 20  split4_test_neg_mean_squared_error       108 non-null    float64\n",
      " 21  mean_test_neg_mean_squared_error         108 non-null    float64\n",
      " 22  std_test_neg_mean_squared_error          108 non-null    float64\n",
      " 23  rank_test_neg_mean_squared_error         108 non-null    int32  \n",
      " 24  split0_test_r2                           108 non-null    float64\n",
      " 25  split1_test_r2                           108 non-null    float64\n",
      " 26  split2_test_r2                           108 non-null    float64\n",
      " 27  split3_test_r2                           108 non-null    float64\n",
      " 28  split4_test_r2                           108 non-null    float64\n",
      " 29  mean_test_r2                             108 non-null    float64\n",
      " 30  std_test_r2                              108 non-null    float64\n",
      " 31  rank_test_r2                             108 non-null    int32  \n",
      " 32  split0_test_neg_root_mean_squared_error  108 non-null    float64\n",
      " 33  split1_test_neg_root_mean_squared_error  108 non-null    float64\n",
      " 34  split2_test_neg_root_mean_squared_error  108 non-null    float64\n",
      " 35  split3_test_neg_root_mean_squared_error  108 non-null    float64\n",
      " 36  split4_test_neg_root_mean_squared_error  108 non-null    float64\n",
      " 37  mean_test_neg_root_mean_squared_error    108 non-null    float64\n",
      " 38  std_test_neg_root_mean_squared_error     108 non-null    float64\n",
      " 39  rank_test_neg_root_mean_squared_error    108 non-null    int32  \n",
      "dtypes: float64(32), int32(4), object(4)\n",
      "memory usage: 32.2+ KB\n"
     ]
    }
   ],
   "source": [
    "CV_gbdt_s_results = pd.DataFrame(CV_gbdt_s.cv_results_)\n",
    "CV_gbdt_s_results.info()"
   ]
  },
  {
   "cell_type": "code",
   "execution_count": 22,
   "metadata": {},
   "outputs": [
    {
     "data": {
      "text/html": [
       "<div>\n",
       "<style scoped>\n",
       "    .dataframe tbody tr th:only-of-type {\n",
       "        vertical-align: middle;\n",
       "    }\n",
       "\n",
       "    .dataframe tbody tr th {\n",
       "        vertical-align: top;\n",
       "    }\n",
       "\n",
       "    .dataframe thead th {\n",
       "        text-align: right;\n",
       "    }\n",
       "</style>\n",
       "<table border=\"1\" class=\"dataframe\">\n",
       "  <thead>\n",
       "    <tr style=\"text-align: right;\">\n",
       "      <th></th>\n",
       "      <th>param_max_depth</th>\n",
       "      <th>param_max_features</th>\n",
       "      <th>param_n_estimators</th>\n",
       "      <th>mean_test_neg_mean_absolute_error</th>\n",
       "      <th>mean_test_neg_mean_squared_error</th>\n",
       "      <th>mean_test_r2</th>\n",
       "      <th>mean_test_neg_root_mean_squared_error</th>\n",
       "      <th>rank_test_neg_mean_absolute_error</th>\n",
       "      <th>rank_test_neg_mean_squared_error</th>\n",
       "      <th>rank_test_r2</th>\n",
       "      <th>rank_test_neg_root_mean_squared_error</th>\n",
       "    </tr>\n",
       "  </thead>\n",
       "  <tbody>\n",
       "    <tr>\n",
       "      <th>5</th>\n",
       "      <td>2</td>\n",
       "      <td>1.0</td>\n",
       "      <td>55</td>\n",
       "      <td>-207.933227</td>\n",
       "      <td>-71051.779248</td>\n",
       "      <td>0.898539</td>\n",
       "      <td>-266.539635</td>\n",
       "      <td>2</td>\n",
       "      <td>1</td>\n",
       "      <td>1</td>\n",
       "      <td>1</td>\n",
       "    </tr>\n",
       "    <tr>\n",
       "      <th>6</th>\n",
       "      <td>2</td>\n",
       "      <td>1.0</td>\n",
       "      <td>60</td>\n",
       "      <td>-207.927307</td>\n",
       "      <td>-71062.637705</td>\n",
       "      <td>0.898524</td>\n",
       "      <td>-266.560051</td>\n",
       "      <td>1</td>\n",
       "      <td>2</td>\n",
       "      <td>2</td>\n",
       "      <td>2</td>\n",
       "    </tr>\n",
       "    <tr>\n",
       "      <th>4</th>\n",
       "      <td>2</td>\n",
       "      <td>1.0</td>\n",
       "      <td>50</td>\n",
       "      <td>-207.950603</td>\n",
       "      <td>-71065.634892</td>\n",
       "      <td>0.898520</td>\n",
       "      <td>-266.565406</td>\n",
       "      <td>4</td>\n",
       "      <td>3</td>\n",
       "      <td>3</td>\n",
       "      <td>3</td>\n",
       "    </tr>\n",
       "    <tr>\n",
       "      <th>8</th>\n",
       "      <td>2</td>\n",
       "      <td>1.0</td>\n",
       "      <td>70</td>\n",
       "      <td>-207.942609</td>\n",
       "      <td>-71098.196348</td>\n",
       "      <td>0.898473</td>\n",
       "      <td>-266.626957</td>\n",
       "      <td>3</td>\n",
       "      <td>4</td>\n",
       "      <td>4</td>\n",
       "      <td>4</td>\n",
       "    </tr>\n",
       "    <tr>\n",
       "      <th>7</th>\n",
       "      <td>2</td>\n",
       "      <td>1.0</td>\n",
       "      <td>65</td>\n",
       "      <td>-207.973809</td>\n",
       "      <td>-71113.489316</td>\n",
       "      <td>0.898451</td>\n",
       "      <td>-266.655072</td>\n",
       "      <td>5</td>\n",
       "      <td>5</td>\n",
       "      <td>5</td>\n",
       "      <td>5</td>\n",
       "    </tr>\n",
       "    <tr>\n",
       "      <th>...</th>\n",
       "      <td>...</td>\n",
       "      <td>...</td>\n",
       "      <td>...</td>\n",
       "      <td>...</td>\n",
       "      <td>...</td>\n",
       "      <td>...</td>\n",
       "      <td>...</td>\n",
       "      <td>...</td>\n",
       "      <td>...</td>\n",
       "      <td>...</td>\n",
       "      <td>...</td>\n",
       "    </tr>\n",
       "    <tr>\n",
       "      <th>12</th>\n",
       "      <td>2</td>\n",
       "      <td>sqrt</td>\n",
       "      <td>45</td>\n",
       "      <td>-224.087546</td>\n",
       "      <td>-85344.200399</td>\n",
       "      <td>0.878145</td>\n",
       "      <td>-292.104701</td>\n",
       "      <td>104</td>\n",
       "      <td>104</td>\n",
       "      <td>104</td>\n",
       "      <td>104</td>\n",
       "    </tr>\n",
       "    <tr>\n",
       "      <th>18</th>\n",
       "      <td>2</td>\n",
       "      <td>log2</td>\n",
       "      <td>30</td>\n",
       "      <td>-225.485490</td>\n",
       "      <td>-86203.095937</td>\n",
       "      <td>0.876954</td>\n",
       "      <td>-293.504597</td>\n",
       "      <td>105</td>\n",
       "      <td>105</td>\n",
       "      <td>105</td>\n",
       "      <td>105</td>\n",
       "    </tr>\n",
       "    <tr>\n",
       "      <th>11</th>\n",
       "      <td>2</td>\n",
       "      <td>sqrt</td>\n",
       "      <td>40</td>\n",
       "      <td>-228.072570</td>\n",
       "      <td>-89043.056379</td>\n",
       "      <td>0.872872</td>\n",
       "      <td>-298.355078</td>\n",
       "      <td>106</td>\n",
       "      <td>106</td>\n",
       "      <td>106</td>\n",
       "      <td>106</td>\n",
       "    </tr>\n",
       "    <tr>\n",
       "      <th>10</th>\n",
       "      <td>2</td>\n",
       "      <td>sqrt</td>\n",
       "      <td>35</td>\n",
       "      <td>-232.489962</td>\n",
       "      <td>-91450.158498</td>\n",
       "      <td>0.869396</td>\n",
       "      <td>-302.348216</td>\n",
       "      <td>107</td>\n",
       "      <td>107</td>\n",
       "      <td>107</td>\n",
       "      <td>107</td>\n",
       "    </tr>\n",
       "    <tr>\n",
       "      <th>9</th>\n",
       "      <td>2</td>\n",
       "      <td>sqrt</td>\n",
       "      <td>30</td>\n",
       "      <td>-234.316856</td>\n",
       "      <td>-92401.350224</td>\n",
       "      <td>0.868113</td>\n",
       "      <td>-303.853085</td>\n",
       "      <td>108</td>\n",
       "      <td>108</td>\n",
       "      <td>108</td>\n",
       "      <td>108</td>\n",
       "    </tr>\n",
       "  </tbody>\n",
       "</table>\n",
       "<p>108 rows × 11 columns</p>\n",
       "</div>"
      ],
      "text/plain": [
       "   param_max_depth param_max_features param_n_estimators  \\\n",
       "5                2                1.0                 55   \n",
       "6                2                1.0                 60   \n",
       "4                2                1.0                 50   \n",
       "8                2                1.0                 70   \n",
       "7                2                1.0                 65   \n",
       "..             ...                ...                ...   \n",
       "12               2               sqrt                 45   \n",
       "18               2               log2                 30   \n",
       "11               2               sqrt                 40   \n",
       "10               2               sqrt                 35   \n",
       "9                2               sqrt                 30   \n",
       "\n",
       "    mean_test_neg_mean_absolute_error  mean_test_neg_mean_squared_error  \\\n",
       "5                         -207.933227                     -71051.779248   \n",
       "6                         -207.927307                     -71062.637705   \n",
       "4                         -207.950603                     -71065.634892   \n",
       "8                         -207.942609                     -71098.196348   \n",
       "7                         -207.973809                     -71113.489316   \n",
       "..                                ...                               ...   \n",
       "12                        -224.087546                     -85344.200399   \n",
       "18                        -225.485490                     -86203.095937   \n",
       "11                        -228.072570                     -89043.056379   \n",
       "10                        -232.489962                     -91450.158498   \n",
       "9                         -234.316856                     -92401.350224   \n",
       "\n",
       "    mean_test_r2  mean_test_neg_root_mean_squared_error  \\\n",
       "5       0.898539                            -266.539635   \n",
       "6       0.898524                            -266.560051   \n",
       "4       0.898520                            -266.565406   \n",
       "8       0.898473                            -266.626957   \n",
       "7       0.898451                            -266.655072   \n",
       "..           ...                                    ...   \n",
       "12      0.878145                            -292.104701   \n",
       "18      0.876954                            -293.504597   \n",
       "11      0.872872                            -298.355078   \n",
       "10      0.869396                            -302.348216   \n",
       "9       0.868113                            -303.853085   \n",
       "\n",
       "    rank_test_neg_mean_absolute_error  rank_test_neg_mean_squared_error  \\\n",
       "5                                   2                                 1   \n",
       "6                                   1                                 2   \n",
       "4                                   4                                 3   \n",
       "8                                   3                                 4   \n",
       "7                                   5                                 5   \n",
       "..                                ...                               ...   \n",
       "12                                104                               104   \n",
       "18                                105                               105   \n",
       "11                                106                               106   \n",
       "10                                107                               107   \n",
       "9                                 108                               108   \n",
       "\n",
       "    rank_test_r2  rank_test_neg_root_mean_squared_error  \n",
       "5              1                                      1  \n",
       "6              2                                      2  \n",
       "4              3                                      3  \n",
       "8              4                                      4  \n",
       "7              5                                      5  \n",
       "..           ...                                    ...  \n",
       "12           104                                    104  \n",
       "18           105                                    105  \n",
       "11           106                                    106  \n",
       "10           107                                    107  \n",
       "9            108                                    108  \n",
       "\n",
       "[108 rows x 11 columns]"
      ]
     },
     "execution_count": 22,
     "metadata": {},
     "output_type": "execute_result"
    }
   ],
   "source": [
    "CV_gbdt_s_results[\n",
    "    ['param_max_depth', 'param_max_features', 'param_n_estimators', \n",
    "     'mean_test_neg_mean_absolute_error', 'mean_test_neg_mean_squared_error', 'mean_test_r2', 'mean_test_neg_root_mean_squared_error',\n",
    "     'rank_test_neg_mean_absolute_error', 'rank_test_neg_mean_squared_error', 'rank_test_r2', 'rank_test_neg_root_mean_squared_error'\n",
    "     ]].sort_values(by='rank_test_neg_mean_squared_error', ascending=True)"
   ]
  },
  {
   "cell_type": "code",
   "execution_count": 23,
   "metadata": {},
   "outputs": [
    {
     "name": "stdout",
     "output_type": "stream",
     "text": [
      "<class 'pandas.core.frame.DataFrame'>\n",
      "RangeIndex: 108 entries, 0 to 107\n",
      "Data columns (total 40 columns):\n",
      " #   Column                                   Non-Null Count  Dtype  \n",
      "---  ------                                   --------------  -----  \n",
      " 0   mean_fit_time                            108 non-null    float64\n",
      " 1   std_fit_time                             108 non-null    float64\n",
      " 2   mean_score_time                          108 non-null    float64\n",
      " 3   std_score_time                           108 non-null    float64\n",
      " 4   param_max_depth                          108 non-null    object \n",
      " 5   param_max_features                       108 non-null    object \n",
      " 6   param_n_estimators                       108 non-null    object \n",
      " 7   params                                   108 non-null    object \n",
      " 8   split0_test_neg_mean_absolute_error      108 non-null    float64\n",
      " 9   split1_test_neg_mean_absolute_error      108 non-null    float64\n",
      " 10  split2_test_neg_mean_absolute_error      108 non-null    float64\n",
      " 11  split3_test_neg_mean_absolute_error      108 non-null    float64\n",
      " 12  split4_test_neg_mean_absolute_error      108 non-null    float64\n",
      " 13  mean_test_neg_mean_absolute_error        108 non-null    float64\n",
      " 14  std_test_neg_mean_absolute_error         108 non-null    float64\n",
      " 15  rank_test_neg_mean_absolute_error        108 non-null    int32  \n",
      " 16  split0_test_neg_mean_squared_error       108 non-null    float64\n",
      " 17  split1_test_neg_mean_squared_error       108 non-null    float64\n",
      " 18  split2_test_neg_mean_squared_error       108 non-null    float64\n",
      " 19  split3_test_neg_mean_squared_error       108 non-null    float64\n",
      " 20  split4_test_neg_mean_squared_error       108 non-null    float64\n",
      " 21  mean_test_neg_mean_squared_error         108 non-null    float64\n",
      " 22  std_test_neg_mean_squared_error          108 non-null    float64\n",
      " 23  rank_test_neg_mean_squared_error         108 non-null    int32  \n",
      " 24  split0_test_r2                           108 non-null    float64\n",
      " 25  split1_test_r2                           108 non-null    float64\n",
      " 26  split2_test_r2                           108 non-null    float64\n",
      " 27  split3_test_r2                           108 non-null    float64\n",
      " 28  split4_test_r2                           108 non-null    float64\n",
      " 29  mean_test_r2                             108 non-null    float64\n",
      " 30  std_test_r2                              108 non-null    float64\n",
      " 31  rank_test_r2                             108 non-null    int32  \n",
      " 32  split0_test_neg_root_mean_squared_error  108 non-null    float64\n",
      " 33  split1_test_neg_root_mean_squared_error  108 non-null    float64\n",
      " 34  split2_test_neg_root_mean_squared_error  108 non-null    float64\n",
      " 35  split3_test_neg_root_mean_squared_error  108 non-null    float64\n",
      " 36  split4_test_neg_root_mean_squared_error  108 non-null    float64\n",
      " 37  mean_test_neg_root_mean_squared_error    108 non-null    float64\n",
      " 38  std_test_neg_root_mean_squared_error     108 non-null    float64\n",
      " 39  rank_test_neg_root_mean_squared_error    108 non-null    int32  \n",
      "dtypes: float64(32), int32(4), object(4)\n",
      "memory usage: 32.2+ KB\n"
     ]
    }
   ],
   "source": [
    "CV_gbdt_m_results = pd.DataFrame(CV_gbdt_m.cv_results_)\n",
    "CV_gbdt_m_results.info()"
   ]
  },
  {
   "cell_type": "code",
   "execution_count": 24,
   "metadata": {},
   "outputs": [
    {
     "data": {
      "text/html": [
       "<div>\n",
       "<style scoped>\n",
       "    .dataframe tbody tr th:only-of-type {\n",
       "        vertical-align: middle;\n",
       "    }\n",
       "\n",
       "    .dataframe tbody tr th {\n",
       "        vertical-align: top;\n",
       "    }\n",
       "\n",
       "    .dataframe thead th {\n",
       "        text-align: right;\n",
       "    }\n",
       "</style>\n",
       "<table border=\"1\" class=\"dataframe\">\n",
       "  <thead>\n",
       "    <tr style=\"text-align: right;\">\n",
       "      <th></th>\n",
       "      <th>param_max_depth</th>\n",
       "      <th>param_max_features</th>\n",
       "      <th>param_n_estimators</th>\n",
       "      <th>mean_test_neg_mean_absolute_error</th>\n",
       "      <th>mean_test_neg_mean_squared_error</th>\n",
       "      <th>mean_test_r2</th>\n",
       "      <th>mean_test_neg_root_mean_squared_error</th>\n",
       "      <th>rank_test_neg_mean_absolute_error</th>\n",
       "      <th>rank_test_neg_mean_squared_error</th>\n",
       "      <th>rank_test_r2</th>\n",
       "      <th>rank_test_neg_root_mean_squared_error</th>\n",
       "    </tr>\n",
       "  </thead>\n",
       "  <tbody>\n",
       "    <tr>\n",
       "      <th>4</th>\n",
       "      <td>2</td>\n",
       "      <td>1.0</td>\n",
       "      <td>50</td>\n",
       "      <td>-3.468744</td>\n",
       "      <td>-19.725073</td>\n",
       "      <td>0.898505</td>\n",
       "      <td>-4.440756</td>\n",
       "      <td>1</td>\n",
       "      <td>1</td>\n",
       "      <td>1</td>\n",
       "      <td>1</td>\n",
       "    </tr>\n",
       "    <tr>\n",
       "      <th>5</th>\n",
       "      <td>2</td>\n",
       "      <td>1.0</td>\n",
       "      <td>55</td>\n",
       "      <td>-3.469274</td>\n",
       "      <td>-19.736580</td>\n",
       "      <td>0.898447</td>\n",
       "      <td>-4.442028</td>\n",
       "      <td>2</td>\n",
       "      <td>2</td>\n",
       "      <td>2</td>\n",
       "      <td>2</td>\n",
       "    </tr>\n",
       "    <tr>\n",
       "      <th>6</th>\n",
       "      <td>2</td>\n",
       "      <td>1.0</td>\n",
       "      <td>60</td>\n",
       "      <td>-3.469551</td>\n",
       "      <td>-19.745459</td>\n",
       "      <td>0.898402</td>\n",
       "      <td>-4.443019</td>\n",
       "      <td>4</td>\n",
       "      <td>3</td>\n",
       "      <td>3</td>\n",
       "      <td>3</td>\n",
       "    </tr>\n",
       "    <tr>\n",
       "      <th>3</th>\n",
       "      <td>2</td>\n",
       "      <td>1.0</td>\n",
       "      <td>45</td>\n",
       "      <td>-3.470251</td>\n",
       "      <td>-19.746586</td>\n",
       "      <td>0.898395</td>\n",
       "      <td>-4.443171</td>\n",
       "      <td>8</td>\n",
       "      <td>4</td>\n",
       "      <td>4</td>\n",
       "      <td>4</td>\n",
       "    </tr>\n",
       "    <tr>\n",
       "      <th>31</th>\n",
       "      <td>3</td>\n",
       "      <td>1.0</td>\n",
       "      <td>50</td>\n",
       "      <td>-3.469533</td>\n",
       "      <td>-19.754680</td>\n",
       "      <td>0.898355</td>\n",
       "      <td>-4.444071</td>\n",
       "      <td>3</td>\n",
       "      <td>5</td>\n",
       "      <td>5</td>\n",
       "      <td>5</td>\n",
       "    </tr>\n",
       "    <tr>\n",
       "      <th>...</th>\n",
       "      <td>...</td>\n",
       "      <td>...</td>\n",
       "      <td>...</td>\n",
       "      <td>...</td>\n",
       "      <td>...</td>\n",
       "      <td>...</td>\n",
       "      <td>...</td>\n",
       "      <td>...</td>\n",
       "      <td>...</td>\n",
       "      <td>...</td>\n",
       "      <td>...</td>\n",
       "    </tr>\n",
       "    <tr>\n",
       "      <th>12</th>\n",
       "      <td>2</td>\n",
       "      <td>sqrt</td>\n",
       "      <td>45</td>\n",
       "      <td>-3.718931</td>\n",
       "      <td>-23.457695</td>\n",
       "      <td>0.879273</td>\n",
       "      <td>-4.842721</td>\n",
       "      <td>104</td>\n",
       "      <td>104</td>\n",
       "      <td>104</td>\n",
       "      <td>104</td>\n",
       "    </tr>\n",
       "    <tr>\n",
       "      <th>18</th>\n",
       "      <td>2</td>\n",
       "      <td>log2</td>\n",
       "      <td>30</td>\n",
       "      <td>-3.731314</td>\n",
       "      <td>-23.520644</td>\n",
       "      <td>0.878902</td>\n",
       "      <td>-4.848658</td>\n",
       "      <td>105</td>\n",
       "      <td>105</td>\n",
       "      <td>105</td>\n",
       "      <td>105</td>\n",
       "    </tr>\n",
       "    <tr>\n",
       "      <th>11</th>\n",
       "      <td>2</td>\n",
       "      <td>sqrt</td>\n",
       "      <td>40</td>\n",
       "      <td>-3.762249</td>\n",
       "      <td>-23.933032</td>\n",
       "      <td>0.876855</td>\n",
       "      <td>-4.891137</td>\n",
       "      <td>106</td>\n",
       "      <td>106</td>\n",
       "      <td>106</td>\n",
       "      <td>106</td>\n",
       "    </tr>\n",
       "    <tr>\n",
       "      <th>10</th>\n",
       "      <td>2</td>\n",
       "      <td>sqrt</td>\n",
       "      <td>35</td>\n",
       "      <td>-3.804460</td>\n",
       "      <td>-24.431149</td>\n",
       "      <td>0.874317</td>\n",
       "      <td>-4.940192</td>\n",
       "      <td>107</td>\n",
       "      <td>107</td>\n",
       "      <td>107</td>\n",
       "      <td>107</td>\n",
       "    </tr>\n",
       "    <tr>\n",
       "      <th>9</th>\n",
       "      <td>2</td>\n",
       "      <td>sqrt</td>\n",
       "      <td>30</td>\n",
       "      <td>-3.929202</td>\n",
       "      <td>-26.044616</td>\n",
       "      <td>0.865956</td>\n",
       "      <td>-5.102831</td>\n",
       "      <td>108</td>\n",
       "      <td>108</td>\n",
       "      <td>108</td>\n",
       "      <td>108</td>\n",
       "    </tr>\n",
       "  </tbody>\n",
       "</table>\n",
       "<p>108 rows × 11 columns</p>\n",
       "</div>"
      ],
      "text/plain": [
       "   param_max_depth param_max_features param_n_estimators  \\\n",
       "4                2                1.0                 50   \n",
       "5                2                1.0                 55   \n",
       "6                2                1.0                 60   \n",
       "3                2                1.0                 45   \n",
       "31               3                1.0                 50   \n",
       "..             ...                ...                ...   \n",
       "12               2               sqrt                 45   \n",
       "18               2               log2                 30   \n",
       "11               2               sqrt                 40   \n",
       "10               2               sqrt                 35   \n",
       "9                2               sqrt                 30   \n",
       "\n",
       "    mean_test_neg_mean_absolute_error  mean_test_neg_mean_squared_error  \\\n",
       "4                           -3.468744                        -19.725073   \n",
       "5                           -3.469274                        -19.736580   \n",
       "6                           -3.469551                        -19.745459   \n",
       "3                           -3.470251                        -19.746586   \n",
       "31                          -3.469533                        -19.754680   \n",
       "..                                ...                               ...   \n",
       "12                          -3.718931                        -23.457695   \n",
       "18                          -3.731314                        -23.520644   \n",
       "11                          -3.762249                        -23.933032   \n",
       "10                          -3.804460                        -24.431149   \n",
       "9                           -3.929202                        -26.044616   \n",
       "\n",
       "    mean_test_r2  mean_test_neg_root_mean_squared_error  \\\n",
       "4       0.898505                              -4.440756   \n",
       "5       0.898447                              -4.442028   \n",
       "6       0.898402                              -4.443019   \n",
       "3       0.898395                              -4.443171   \n",
       "31      0.898355                              -4.444071   \n",
       "..           ...                                    ...   \n",
       "12      0.879273                              -4.842721   \n",
       "18      0.878902                              -4.848658   \n",
       "11      0.876855                              -4.891137   \n",
       "10      0.874317                              -4.940192   \n",
       "9       0.865956                              -5.102831   \n",
       "\n",
       "    rank_test_neg_mean_absolute_error  rank_test_neg_mean_squared_error  \\\n",
       "4                                   1                                 1   \n",
       "5                                   2                                 2   \n",
       "6                                   4                                 3   \n",
       "3                                   8                                 4   \n",
       "31                                  3                                 5   \n",
       "..                                ...                               ...   \n",
       "12                                104                               104   \n",
       "18                                105                               105   \n",
       "11                                106                               106   \n",
       "10                                107                               107   \n",
       "9                                 108                               108   \n",
       "\n",
       "    rank_test_r2  rank_test_neg_root_mean_squared_error  \n",
       "4              1                                      1  \n",
       "5              2                                      2  \n",
       "6              3                                      3  \n",
       "3              4                                      4  \n",
       "31             5                                      5  \n",
       "..           ...                                    ...  \n",
       "12           104                                    104  \n",
       "18           105                                    105  \n",
       "11           106                                    106  \n",
       "10           107                                    107  \n",
       "9            108                                    108  \n",
       "\n",
       "[108 rows x 11 columns]"
      ]
     },
     "execution_count": 24,
     "metadata": {},
     "output_type": "execute_result"
    }
   ],
   "source": [
    "CV_gbdt_m_results[\n",
    "    ['param_max_depth', 'param_max_features', 'param_n_estimators', \n",
    "     'mean_test_neg_mean_absolute_error', 'mean_test_neg_mean_squared_error', 'mean_test_r2', 'mean_test_neg_root_mean_squared_error',\n",
    "     'rank_test_neg_mean_absolute_error', 'rank_test_neg_mean_squared_error', 'rank_test_r2', 'rank_test_neg_root_mean_squared_error'\n",
    "     ]].sort_values(by='rank_test_neg_mean_squared_error', ascending=True)"
   ]
  },
  {
   "attachments": {},
   "cell_type": "markdown",
   "metadata": {},
   "source": [
    "## 6.4 train model with best hyperparams, get their predictions and metrics"
   ]
  },
  {
   "cell_type": "code",
   "execution_count": 25,
   "metadata": {},
   "outputs": [
    {
     "name": "stdout",
     "output_type": "stream",
     "text": [
      "{'max_depth': 2, 'max_features': 1.0, 'n_estimators': 55}\n",
      "(206.90890479540232, 71485.19012468595, 0.8973117263210284, 267.3671448115605)\n"
     ]
    }
   ],
   "source": [
    "print(CV_gbdt_s.best_params_)\n",
    "gbdt_best_s = GradientBoostingRegressor()\n",
    "gbdt_best_s.set_params(**CV_gbdt_s.best_params_)\n",
    "gbdt_best_s.fit(Xs_train, ys_train)\n",
    "\n",
    "gbdt_best_predictions_s = gbdt_best_s.predict(Xs_test)\n",
    "gbdt_best_metrics_s = evaluate(ys_test, gbdt_best_predictions_s)\n",
    "print(gbdt_best_metrics_s)"
   ]
  },
  {
   "cell_type": "code",
   "execution_count": 26,
   "metadata": {},
   "outputs": [
    {
     "name": "stdout",
     "output_type": "stream",
     "text": [
      "{'max_depth': 2, 'max_features': 1.0, 'n_estimators': 50}\n",
      "(3.437741311098818, 19.828949207197546, 0.8976102854346911, 4.452970829367462)\n"
     ]
    }
   ],
   "source": [
    "print(CV_gbdt_m.best_params_)\n",
    "gbdt_best_m = GradientBoostingRegressor()\n",
    "gbdt_best_m.set_params(**CV_gbdt_m.best_params_)\n",
    "gbdt_best_m.fit(Xm_train, ym_train)\n",
    "\n",
    "gbdt_best_predictions_m = gbdt_best_m.predict(Xm_test)\n",
    "gbdt_best_metrics_m = evaluate(ym_test, gbdt_best_predictions_m)\n",
    "print(gbdt_best_metrics_m)"
   ]
  },
  {
   "attachments": {},
   "cell_type": "markdown",
   "metadata": {},
   "source": [
    "## 6.5 Save all data"
   ]
  },
  {
   "cell_type": "code",
   "execution_count": 27,
   "metadata": {},
   "outputs": [],
   "source": [
    "result_best_s = pd.DataFrame({\n",
    "    'ys_test': ys_test,\n",
    "    'gbdt_s': gbdt_predictions_s,\n",
    "    'gbdt_s (tuned)': gbdt_best_predictions_s\n",
    "})\n",
    "result_best_m = pd.DataFrame({\n",
    "    'ym_test': ym_test,\n",
    "    'gbdt_m': gbdt_predictions_m,\n",
    "    'gbdt_m (tuned)': gbdt_best_predictions_m\n",
    "})\n",
    "benchmark_best_s = pd.DataFrame({\n",
    "    'Model': ['gbdt_s', 'gbdt_s (tuned)'],\n",
    "    'MAE': [gbdt_metrics_s[0], gbdt_best_metrics_s[0]],\n",
    "    'MSE': [gbdt_metrics_s[1], gbdt_best_metrics_s[1]],\n",
    "    'R2': [gbdt_metrics_s[2], gbdt_best_metrics_s[2]],\n",
    "    'RMSE': [gbdt_metrics_s[3], gbdt_best_metrics_s[3]]\n",
    "})\n",
    "\n",
    "benchmark_best_m = pd.DataFrame({\n",
    "    'Model': ['gbdt_m', 'gbdt_m (tuned)'],\n",
    "    'MAE': [gbdt_metrics_m[0], gbdt_best_metrics_m[0]],\n",
    "    'MSE': [gbdt_metrics_m[1], gbdt_best_metrics_m[1]],\n",
    "    'R2': [gbdt_metrics_m[2], gbdt_best_metrics_m[2]],\n",
    "    'RMSE': [gbdt_metrics_m[3], gbdt_best_metrics_m[3]]\n",
    "})\n"
   ]
  },
  {
   "cell_type": "code",
   "execution_count": 28,
   "metadata": {},
   "outputs": [],
   "source": [
    "pkl.dump(CV_gbdt_s, open(\"food_delivery_CV_gbdt_s.pkl\", \"wb\"))\n",
    "pkl.dump(CV_gbdt_s.best_estimator_, open(\"food_delivery_best_gbdt_s.pkl\", \"wb\"))\n",
    "CV_gbdt_s_results[\n",
    "    ['param_max_depth',\n",
    "     'param_max_features',\n",
    "     'param_n_estimators', \n",
    "     \n",
    "     'mean_test_neg_mean_absolute_error',\n",
    "     'mean_test_neg_mean_squared_error',\n",
    "     'mean_test_r2',\n",
    "     'mean_test_neg_root_mean_squared_error',\n",
    "     \n",
    "     'rank_test_neg_mean_absolute_error',\n",
    "     'rank_test_neg_mean_squared_error',\n",
    "     'rank_test_r2',\n",
    "     'rank_test_neg_root_mean_squared_error'\n",
    "     \n",
    "     ]].sort_values(by='rank_test_neg_mean_squared_error', ascending=True).to_csv('Food_delivery_CV_metrics_s.csv', index=False)\n",
    "result_best_s.to_csv('Food_delivery_best_model_prediction_result_s.csv', index=False)\n",
    "benchmark_best_s.to_csv('Food_delivery_best_model_metrics_s.csv', index=False)"
   ]
  },
  {
   "cell_type": "code",
   "execution_count": 29,
   "metadata": {},
   "outputs": [],
   "source": [
    "pkl.dump(CV_gbdt_m, open(\"food_delivery_CV_gbdt_m.pkl\", \"wb\"))\n",
    "pkl.dump(CV_gbdt_m.best_estimator_, open(\"food_delivery_best_gbdt_m.pkl\", \"wb\"))\n",
    "CV_gbdt_m_results[\n",
    "    ['param_max_depth',\n",
    "     'param_max_features',\n",
    "     'param_n_estimators', \n",
    "     \n",
    "     'mean_test_neg_mean_absolute_error',\n",
    "     'mean_test_neg_mean_squared_error',\n",
    "     'mean_test_r2',\n",
    "     'mean_test_neg_root_mean_squared_error',\n",
    "     \n",
    "     'rank_test_neg_mean_absolute_error',\n",
    "     'rank_test_neg_mean_squared_error',\n",
    "     'rank_test_r2',\n",
    "     'rank_test_neg_root_mean_squared_error'\n",
    "     \n",
    "     ]].sort_values(by='rank_test_neg_mean_squared_error', ascending=True).to_csv('Food_delivery_CV_metrics_m.csv', index=False)\n",
    "result_best_m.to_csv('Food_delivery_best_model_prediction_result_m.csv', index=False)\n",
    "benchmark_best_m.to_csv('Food_delivery_best_model_metrics_m.csv', index=False)"
   ]
  },
  {
   "cell_type": "code",
   "execution_count": 30,
   "metadata": {},
   "outputs": [],
   "source": [
    "CV_gbdt_m = pkl.load(open(\"food_delivery_CV_gbdt_m.pkl\", \"rb\"))\n",
    "gbdt_best_m = GradientBoostingRegressor()\n",
    "gbdt_best_m.set_params(**CV_gbdt_m.best_params_)\n",
    "gbdt_best_m.fit(Xm_train, ym_train)\n",
    "pkl.dump(gbdt_best_m, open(\"food_delivery_best_gbdt_m.pkl\", \"wb\"))\n",
    "\n",
    "CV_gbdt_s = pkl.load(open(\"food_delivery_CV_gbdt_s.pkl\", \"rb\"))\n",
    "gbdt_best_s= GradientBoostingRegressor()\n",
    "gbdt_best_s.set_params(**CV_gbdt_s.best_params_)\n",
    "gbdt_best_s.fit(Xs_train, ys_train)\n",
    "pkl.dump(gbdt_best_m, open(\"food_delivery_best_gbdt_s.pkl\", \"wb\"))"
   ]
  },
  {
   "cell_type": "code",
   "execution_count": 31,
   "metadata": {},
   "outputs": [
    {
     "data": {
      "text/plain": [
       "(20000, 8)"
      ]
     },
     "execution_count": 31,
     "metadata": {},
     "output_type": "execute_result"
    }
   ],
   "source": [
    "X.shape"
   ]
  },
  {
   "cell_type": "code",
   "execution_count": 32,
   "metadata": {},
   "outputs": [
    {
     "data": {
      "text/html": [
       "<style>#sk-container-id-3 {color: black;background-color: white;}#sk-container-id-3 pre{padding: 0;}#sk-container-id-3 div.sk-toggleable {background-color: white;}#sk-container-id-3 label.sk-toggleable__label {cursor: pointer;display: block;width: 100%;margin-bottom: 0;padding: 0.3em;box-sizing: border-box;text-align: center;}#sk-container-id-3 label.sk-toggleable__label-arrow:before {content: \"▸\";float: left;margin-right: 0.25em;color: #696969;}#sk-container-id-3 label.sk-toggleable__label-arrow:hover:before {color: black;}#sk-container-id-3 div.sk-estimator:hover label.sk-toggleable__label-arrow:before {color: black;}#sk-container-id-3 div.sk-toggleable__content {max-height: 0;max-width: 0;overflow: hidden;text-align: left;background-color: #f0f8ff;}#sk-container-id-3 div.sk-toggleable__content pre {margin: 0.2em;color: black;border-radius: 0.25em;background-color: #f0f8ff;}#sk-container-id-3 input.sk-toggleable__control:checked~div.sk-toggleable__content {max-height: 200px;max-width: 100%;overflow: auto;}#sk-container-id-3 input.sk-toggleable__control:checked~label.sk-toggleable__label-arrow:before {content: \"▾\";}#sk-container-id-3 div.sk-estimator input.sk-toggleable__control:checked~label.sk-toggleable__label {background-color: #d4ebff;}#sk-container-id-3 div.sk-label input.sk-toggleable__control:checked~label.sk-toggleable__label {background-color: #d4ebff;}#sk-container-id-3 input.sk-hidden--visually {border: 0;clip: rect(1px 1px 1px 1px);clip: rect(1px, 1px, 1px, 1px);height: 1px;margin: -1px;overflow: hidden;padding: 0;position: absolute;width: 1px;}#sk-container-id-3 div.sk-estimator {font-family: monospace;background-color: #f0f8ff;border: 1px dotted black;border-radius: 0.25em;box-sizing: border-box;margin-bottom: 0.5em;}#sk-container-id-3 div.sk-estimator:hover {background-color: #d4ebff;}#sk-container-id-3 div.sk-parallel-item::after {content: \"\";width: 100%;border-bottom: 1px solid gray;flex-grow: 1;}#sk-container-id-3 div.sk-label:hover label.sk-toggleable__label {background-color: #d4ebff;}#sk-container-id-3 div.sk-serial::before {content: \"\";position: absolute;border-left: 1px solid gray;box-sizing: border-box;top: 0;bottom: 0;left: 50%;z-index: 0;}#sk-container-id-3 div.sk-serial {display: flex;flex-direction: column;align-items: center;background-color: white;padding-right: 0.2em;padding-left: 0.2em;position: relative;}#sk-container-id-3 div.sk-item {position: relative;z-index: 1;}#sk-container-id-3 div.sk-parallel {display: flex;align-items: stretch;justify-content: center;background-color: white;position: relative;}#sk-container-id-3 div.sk-item::before, #sk-container-id-3 div.sk-parallel-item::before {content: \"\";position: absolute;border-left: 1px solid gray;box-sizing: border-box;top: 0;bottom: 0;left: 50%;z-index: -1;}#sk-container-id-3 div.sk-parallel-item {display: flex;flex-direction: column;z-index: 1;position: relative;background-color: white;}#sk-container-id-3 div.sk-parallel-item:first-child::after {align-self: flex-end;width: 50%;}#sk-container-id-3 div.sk-parallel-item:last-child::after {align-self: flex-start;width: 50%;}#sk-container-id-3 div.sk-parallel-item:only-child::after {width: 0;}#sk-container-id-3 div.sk-dashed-wrapped {border: 1px dashed gray;margin: 0 0.4em 0.5em 0.4em;box-sizing: border-box;padding-bottom: 0.4em;background-color: white;}#sk-container-id-3 div.sk-label label {font-family: monospace;font-weight: bold;display: inline-block;line-height: 1.2em;}#sk-container-id-3 div.sk-label-container {text-align: center;}#sk-container-id-3 div.sk-container {/* jupyter's `normalize.less` sets `[hidden] { display: none; }` but bootstrap.min.css set `[hidden] { display: none !important; }` so we also need the `!important` here to be able to override the default hidden behavior on the sphinx rendered scikit-learn.org. See: https://github.com/scikit-learn/scikit-learn/issues/21755 */display: inline-block !important;position: relative;}#sk-container-id-3 div.sk-text-repr-fallback {display: none;}</style><div id=\"sk-container-id-3\" class=\"sk-top-container\"><div class=\"sk-text-repr-fallback\"><pre>GradientBoostingRegressor(max_depth=2, max_features=1.0, n_estimators=50)</pre><b>In a Jupyter environment, please rerun this cell to show the HTML representation or trust the notebook. <br />On GitHub, the HTML representation is unable to render, please try loading this page with nbviewer.org.</b></div><div class=\"sk-container\" hidden><div class=\"sk-item\"><div class=\"sk-estimator sk-toggleable\"><input class=\"sk-toggleable__control sk-hidden--visually\" id=\"sk-estimator-id-7\" type=\"checkbox\" checked><label for=\"sk-estimator-id-7\" class=\"sk-toggleable__label sk-toggleable__label-arrow\">GradientBoostingRegressor</label><div class=\"sk-toggleable__content\"><pre>GradientBoostingRegressor(max_depth=2, max_features=1.0, n_estimators=50)</pre></div></div></div></div></div>"
      ],
      "text/plain": [
       "GradientBoostingRegressor(max_depth=2, max_features=1.0, n_estimators=50)"
      ]
     },
     "execution_count": 32,
     "metadata": {},
     "output_type": "execute_result"
    }
   ],
   "source": [
    "df = pd.read_csv('Sample 14days_food_delivery_Cleaned.csv')\n",
    "X = df.drop(['duration (s)', 'duration (m)'], axis=1)\n",
    "X.loc[X['shortest_dist'] <= X['euc_dist'], 'shortest_dist'] = X.loc[X['shortest_dist'] <= X['euc_dist'], 'euc_dist']\n",
    "y_s = df['duration (s)']\n",
    "y_m = df['duration (m)']\n",
    "Xs_train, Xs_test, ys_train, ys_test = train_test_split(X, y_s, test_size=0.20)\n",
    "Xm_train, Xm_test, ym_train, ym_test = train_test_split(X, y_m, test_size=0.20)\n",
    "gbdt_best_s = GradientBoostingRegressor()\n",
    "gbdt_best_s.set_params(max_depth=2, max_features=1.0, n_estimators=55)\n",
    "gbdt_best_s.fit(Xs_train, ys_train)\n",
    "gbdt_best_m = GradientBoostingRegressor()\n",
    "gbdt_best_m.set_params(max_depth=2, max_features=1.0, n_estimators=50)\n",
    "gbdt_best_m.fit(Xm_train, ym_train)"
   ]
  },
  {
   "attachments": {},
   "cell_type": "markdown",
   "metadata": {},
   "source": [
    "## 6.6 Test model preformance (prediction time)"
   ]
  },
  {
   "cell_type": "code",
   "execution_count": 34,
   "metadata": {},
   "outputs": [],
   "source": [
    "from module.distance_calculator import DistanceCalculator\n",
    "from module.delivery_model import DeliveryModel\n",
    "from sklearn.ensemble import GradientBoostingRegressor"
   ]
  },
  {
   "cell_type": "code",
   "execution_count": 38,
   "metadata": {},
   "outputs": [],
   "source": [
    "df = pd.read_csv('Sample 14days_food_delivery_Cleaned.csv')\n",
    "model = DeliveryModel()"
   ]
  },
  {
   "cell_type": "code",
   "execution_count": 93,
   "metadata": {},
   "outputs": [],
   "source": [
    "def get_prediction_times(model, df, data_sizes=[1], size=5):\n",
    "    periods = {}\n",
    "    for data_size in data_sizes:\n",
    "        period_data = []\n",
    "        if data_size < df.shape[0]:\n",
    "            loc = df[['u_lat', 'u_lon', 'v_lat', 'v_lon']].sample(data_size).values\n",
    "            loc = [ ((l[0], l[1]), (l[2], l[3])) for l in loc]\n",
    "        else:\n",
    "            loc = df[['u_lat', 'u_lon', 'v_lat', 'v_lon']].values\n",
    "            while len(loc) < data_size:\n",
    "                loc = np.concatenate((loc, df[['u_lat', 'u_lon', 'v_lat', 'v_lon']].values))\n",
    "            loc = loc[:data_size]\n",
    "            loc = [ ((l[0], l[1]), (l[2], l[3])) for l in loc]\n",
    "        for _ in range(size):    \n",
    "            st = time()\n",
    "            model.batch_predict(locations=loc, approx=True)\n",
    "            en = time()\n",
    "            period = en - st\n",
    "            period_data.append(period)\n",
    "        periods[str(data_size) + ' data'] = period_data\n",
    "    return pd.DataFrame(periods)"
   ]
  },
  {
   "cell_type": "code",
   "execution_count": 94,
   "metadata": {},
   "outputs": [],
   "source": [
    "result_time = get_prediction_times(model, df, [1, 10, 100, 1000, 10000, 100000, 1000000], 30)"
   ]
  },
  {
   "cell_type": "code",
   "execution_count": 97,
   "metadata": {},
   "outputs": [],
   "source": [
    "result_time.to_csv('Food_delivery_best_model_prediction_time.csv', index=False)"
   ]
  },
  {
   "cell_type": "code",
   "execution_count": null,
   "metadata": {},
   "outputs": [],
   "source": []
  }
 ],
 "metadata": {
  "kernelspec": {
   "display_name": "EAT",
   "language": "python",
   "name": "python3"
  },
  "language_info": {
   "codemirror_mode": {
    "name": "ipython",
    "version": 3
   },
   "file_extension": ".py",
   "mimetype": "text/x-python",
   "name": "python",
   "nbconvert_exporter": "python",
   "pygments_lexer": "ipython3",
   "version": "3.9.12"
  },
  "orig_nbformat": 4,
  "vscode": {
   "interpreter": {
    "hash": "e873fd8460d25e2b7d13238b75f01f142c4b8abc313241c193ed6eac1548f508"
   }
  }
 },
 "nbformat": 4,
 "nbformat_minor": 2
}
