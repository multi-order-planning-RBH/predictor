{
 "cells": [
  {
   "attachments": {},
   "cell_type": "markdown",
   "metadata": {},
   "source": [
    "# 1. Import libraries"
   ]
  },
  {
   "cell_type": "code",
   "execution_count": 99,
   "metadata": {},
   "outputs": [],
   "source": [
    "import numpy as np\n",
    "import pandas as pd\n",
    "\n",
    "from math import sqrt, cos\n",
    "\n",
    "import networkx as nx\n",
    "\n",
    "import matplotlib.pyplot as plt\n",
    "plt.rcParams['font.family'] = 'Tahoma' # change font family for Thai characters\n",
    "\n",
    "import datetime\n",
    "from datetime import time, date, datetime"
   ]
  },
  {
   "attachments": {},
   "cell_type": "markdown",
   "metadata": {},
   "source": [
    "# 2. Read raw data, drop unused column"
   ]
  },
  {
   "cell_type": "code",
   "execution_count": 100,
   "metadata": {},
   "outputs": [],
   "source": [
    "raw_df = pd.read_excel('Capstone SampleData 14days.xlsx', sheet_name='Sheet1')"
   ]
  },
  {
   "cell_type": "code",
   "execution_count": 101,
   "metadata": {},
   "outputs": [
    {
     "data": {
      "text/html": [
       "<div>\n",
       "<style scoped>\n",
       "    .dataframe tbody tr th:only-of-type {\n",
       "        vertical-align: middle;\n",
       "    }\n",
       "\n",
       "    .dataframe tbody tr th {\n",
       "        vertical-align: top;\n",
       "    }\n",
       "\n",
       "    .dataframe thead th {\n",
       "        text-align: right;\n",
       "    }\n",
       "</style>\n",
       "<table border=\"1\" class=\"dataframe\">\n",
       "  <thead>\n",
       "    <tr style=\"text-align: right;\">\n",
       "      <th></th>\n",
       "      <th>JobAcceptedDate</th>\n",
       "      <th>jobAcceptedTime</th>\n",
       "      <th>calledMerchantTime</th>\n",
       "      <th>arrivedAtMerchantTime</th>\n",
       "      <th>mealPickedUpTime</th>\n",
       "      <th>arrivedAtCustLocationTime</th>\n",
       "      <th>foodDeliveredTime</th>\n",
       "      <th>riderInitial.lat</th>\n",
       "      <th>riderInitial.long</th>\n",
       "      <th>Merchant.Lat</th>\n",
       "      <th>Merchant.Lng</th>\n",
       "      <th>Customer.lat</th>\n",
       "      <th>Customer.lng</th>\n",
       "      <th>MerchantName</th>\n",
       "      <th>NationFoodCategory</th>\n",
       "      <th>FoodCategories</th>\n",
       "    </tr>\n",
       "  </thead>\n",
       "  <tbody>\n",
       "    <tr>\n",
       "      <th>0</th>\n",
       "      <td>2020-10-03</td>\n",
       "      <td>20:39:15.840000</td>\n",
       "      <td>20:40:51.840000</td>\n",
       "      <td>20:48:19.840000</td>\n",
       "      <td>20:49:18.840000</td>\n",
       "      <td>21:14:09.840000</td>\n",
       "      <td>21:15:12.840000</td>\n",
       "      <td>13.825853</td>\n",
       "      <td>100.551958</td>\n",
       "      <td>13.825703</td>\n",
       "      <td>100.559309</td>\n",
       "      <td>13.756065</td>\n",
       "      <td>100.562375</td>\n",
       "      <td>3K SEA ZABB</td>\n",
       "      <td>Thai</td>\n",
       "      <td>อาหารทะเล</td>\n",
       "    </tr>\n",
       "    <tr>\n",
       "      <th>1</th>\n",
       "      <td>2020-10-01</td>\n",
       "      <td>12:54:34.560000</td>\n",
       "      <td>12:55:38.560000</td>\n",
       "      <td>13:10:26.560000</td>\n",
       "      <td>13:24:56.560000</td>\n",
       "      <td>14:01:00.560000</td>\n",
       "      <td>14:01:39.560000</td>\n",
       "      <td>13.819283</td>\n",
       "      <td>100.561874</td>\n",
       "      <td>13.831056</td>\n",
       "      <td>100.570731</td>\n",
       "      <td>13.774685</td>\n",
       "      <td>100.573913</td>\n",
       "      <td>ร้านอาหารอีสานแม่อลิส</td>\n",
       "      <td>Thai</td>\n",
       "      <td>อาหารอีสาน</td>\n",
       "    </tr>\n",
       "    <tr>\n",
       "      <th>2</th>\n",
       "      <td>2020-10-01</td>\n",
       "      <td>12:32:06.720000</td>\n",
       "      <td>12:32:21.720000</td>\n",
       "      <td>12:41:08.720000</td>\n",
       "      <td>12:46:41.720000</td>\n",
       "      <td>13:22:01.720000</td>\n",
       "      <td>13:22:53.720000</td>\n",
       "      <td>13.827041</td>\n",
       "      <td>100.554284</td>\n",
       "      <td>13.827205</td>\n",
       "      <td>100.536048</td>\n",
       "      <td>13.743898</td>\n",
       "      <td>100.571659</td>\n",
       "      <td>ไก่ย่างห้าดาว กรุงเทพ-นนท์44</td>\n",
       "      <td>Thai</td>\n",
       "      <td>Fast Food</td>\n",
       "    </tr>\n",
       "  </tbody>\n",
       "</table>\n",
       "</div>"
      ],
      "text/plain": [
       "  JobAcceptedDate  jobAcceptedTime calledMerchantTime arrivedAtMerchantTime  \\\n",
       "0      2020-10-03  20:39:15.840000    20:40:51.840000       20:48:19.840000   \n",
       "1      2020-10-01  12:54:34.560000    12:55:38.560000       13:10:26.560000   \n",
       "2      2020-10-01  12:32:06.720000    12:32:21.720000       12:41:08.720000   \n",
       "\n",
       "  mealPickedUpTime arrivedAtCustLocationTime foodDeliveredTime  \\\n",
       "0  20:49:18.840000           21:14:09.840000   21:15:12.840000   \n",
       "1  13:24:56.560000           14:01:00.560000   14:01:39.560000   \n",
       "2  12:46:41.720000           13:22:01.720000   13:22:53.720000   \n",
       "\n",
       "   riderInitial.lat  riderInitial.long  Merchant.Lat  Merchant.Lng  \\\n",
       "0         13.825853         100.551958     13.825703    100.559309   \n",
       "1         13.819283         100.561874     13.831056    100.570731   \n",
       "2         13.827041         100.554284     13.827205    100.536048   \n",
       "\n",
       "   Customer.lat  Customer.lng                  MerchantName  \\\n",
       "0     13.756065    100.562375                   3K SEA ZABB   \n",
       "1     13.774685    100.573913         ร้านอาหารอีสานแม่อลิส   \n",
       "2     13.743898    100.571659  ไก่ย่างห้าดาว กรุงเทพ-นนท์44   \n",
       "\n",
       "  NationFoodCategory FoodCategories  \n",
       "0               Thai      อาหารทะเล  \n",
       "1               Thai     อาหารอีสาน  \n",
       "2               Thai      Fast Food  "
      ]
     },
     "execution_count": 101,
     "metadata": {},
     "output_type": "execute_result"
    }
   ],
   "source": [
    "raw_df.head(3)"
   ]
  },
  {
   "cell_type": "code",
   "execution_count": 102,
   "metadata": {},
   "outputs": [
    {
     "data": {
      "text/plain": [
       "(10000, 16)"
      ]
     },
     "execution_count": 102,
     "metadata": {},
     "output_type": "execute_result"
    }
   ],
   "source": [
    "raw_df.shape"
   ]
  },
  {
   "cell_type": "code",
   "execution_count": 103,
   "metadata": {},
   "outputs": [
    {
     "name": "stdout",
     "output_type": "stream",
     "text": [
      "<class 'pandas.core.frame.DataFrame'>\n",
      "RangeIndex: 10000 entries, 0 to 9999\n",
      "Data columns (total 16 columns):\n",
      " #   Column                     Non-Null Count  Dtype         \n",
      "---  ------                     --------------  -----         \n",
      " 0   JobAcceptedDate            10000 non-null  datetime64[ns]\n",
      " 1   jobAcceptedTime            10000 non-null  object        \n",
      " 2   calledMerchantTime         10000 non-null  object        \n",
      " 3   arrivedAtMerchantTime      10000 non-null  object        \n",
      " 4   mealPickedUpTime           10000 non-null  object        \n",
      " 5   arrivedAtCustLocationTime  10000 non-null  object        \n",
      " 6   foodDeliveredTime          10000 non-null  object        \n",
      " 7   riderInitial.lat           10000 non-null  float64       \n",
      " 8   riderInitial.long          10000 non-null  float64       \n",
      " 9   Merchant.Lat               10000 non-null  float64       \n",
      " 10  Merchant.Lng               10000 non-null  float64       \n",
      " 11  Customer.lat               10000 non-null  float64       \n",
      " 12  Customer.lng               10000 non-null  float64       \n",
      " 13  MerchantName               10000 non-null  object        \n",
      " 14  NationFoodCategory         10000 non-null  object        \n",
      " 15  FoodCategories             10000 non-null  object        \n",
      "dtypes: datetime64[ns](1), float64(6), object(9)\n",
      "memory usage: 1.2+ MB\n"
     ]
    }
   ],
   "source": [
    "raw_df.info()"
   ]
  },
  {
   "cell_type": "code",
   "execution_count": 104,
   "metadata": {},
   "outputs": [
    {
     "data": {
      "text/html": [
       "<div>\n",
       "<style scoped>\n",
       "    .dataframe tbody tr th:only-of-type {\n",
       "        vertical-align: middle;\n",
       "    }\n",
       "\n",
       "    .dataframe tbody tr th {\n",
       "        vertical-align: top;\n",
       "    }\n",
       "\n",
       "    .dataframe thead th {\n",
       "        text-align: right;\n",
       "    }\n",
       "</style>\n",
       "<table border=\"1\" class=\"dataframe\">\n",
       "  <thead>\n",
       "    <tr style=\"text-align: right;\">\n",
       "      <th></th>\n",
       "      <th>JobAcceptedDate</th>\n",
       "      <th>calledMerchantTime</th>\n",
       "      <th>mealPickedUpTime</th>\n",
       "      <th>Merchant.Lat</th>\n",
       "      <th>Merchant.Lng</th>\n",
       "      <th>NationFoodCategory</th>\n",
       "      <th>FoodCategories</th>\n",
       "    </tr>\n",
       "  </thead>\n",
       "  <tbody>\n",
       "    <tr>\n",
       "      <th>0</th>\n",
       "      <td>2020-10-03</td>\n",
       "      <td>20:40:51.840000</td>\n",
       "      <td>20:49:18.840000</td>\n",
       "      <td>13.825703</td>\n",
       "      <td>100.559309</td>\n",
       "      <td>Thai</td>\n",
       "      <td>อาหารทะเล</td>\n",
       "    </tr>\n",
       "    <tr>\n",
       "      <th>1</th>\n",
       "      <td>2020-10-01</td>\n",
       "      <td>12:55:38.560000</td>\n",
       "      <td>13:24:56.560000</td>\n",
       "      <td>13.831056</td>\n",
       "      <td>100.570731</td>\n",
       "      <td>Thai</td>\n",
       "      <td>อาหารอีสาน</td>\n",
       "    </tr>\n",
       "    <tr>\n",
       "      <th>2</th>\n",
       "      <td>2020-10-01</td>\n",
       "      <td>12:32:21.720000</td>\n",
       "      <td>12:46:41.720000</td>\n",
       "      <td>13.827205</td>\n",
       "      <td>100.536048</td>\n",
       "      <td>Thai</td>\n",
       "      <td>Fast Food</td>\n",
       "    </tr>\n",
       "  </tbody>\n",
       "</table>\n",
       "</div>"
      ],
      "text/plain": [
       "  JobAcceptedDate calledMerchantTime mealPickedUpTime  Merchant.Lat  \\\n",
       "0      2020-10-03    20:40:51.840000  20:49:18.840000     13.825703   \n",
       "1      2020-10-01    12:55:38.560000  13:24:56.560000     13.831056   \n",
       "2      2020-10-01    12:32:21.720000  12:46:41.720000     13.827205   \n",
       "\n",
       "   Merchant.Lng NationFoodCategory FoodCategories  \n",
       "0    100.559309               Thai      อาหารทะเล  \n",
       "1    100.570731               Thai     อาหารอีสาน  \n",
       "2    100.536048               Thai      Fast Food  "
      ]
     },
     "execution_count": 104,
     "metadata": {},
     "output_type": "execute_result"
    }
   ],
   "source": [
    "# We define delivery time \n",
    "# Remove the columns that are not needed\n",
    "drop_list = ['jobAcceptedTime',\n",
    "             'arrivedAtMerchantTime',\n",
    "             'arrivedAtCustLocationTime',\n",
    "             'riderInitial.lat',\n",
    "             'riderInitial.long',\n",
    "             'MerchantName',\n",
    "             'Customer.lat',\n",
    "             'Customer.lng',\n",
    "             'foodDeliveredTime']\n",
    "raw_df.drop(drop_list, axis=1, inplace=True)\n",
    "\n",
    "raw_df.head(3)"
   ]
  },
  {
   "attachments": {},
   "cell_type": "markdown",
   "metadata": {},
   "source": [
    "# 3. Extract features"
   ]
  },
  {
   "attachments": {},
   "cell_type": "markdown",
   "metadata": {},
   "source": [
    "## 3.1 NationFoodCategory and FoodCategories"
   ]
  },
  {
   "cell_type": "code",
   "execution_count": 105,
   "metadata": {},
   "outputs": [],
   "source": [
    "nominal_columns = [\"NationFoodCategory\", \"FoodCategories\"]\n",
    "dummy_df = pd.get_dummies(raw_df[nominal_columns], drop_first=False)\n",
    "raw_df = pd.concat([raw_df, dummy_df], axis=1)"
   ]
  },
  {
   "cell_type": "code",
   "execution_count": 106,
   "metadata": {},
   "outputs": [],
   "source": [
    "NationFoodCategory_map = { feat:idx for idx,feat in enumerate(raw_df[\"NationFoodCategory\"].unique())}\n",
    "NationFoodCategory_mapinv = { idx:feat for idx,feat in enumerate(raw_df[\"NationFoodCategory\"].unique())}\n",
    "\n",
    "raw_df[\"NationFoodCategory_id\"] = raw_df[\"NationFoodCategory\"].map(NationFoodCategory_map)\n",
    "\n",
    "FoodCategories_map = { feat:idx for idx,feat in enumerate(raw_df[\"FoodCategories\"].unique())}\n",
    "FoodCategories_mapinv = { idx:feat for idx,feat in enumerate(raw_df[\"FoodCategories\"].unique())}\n",
    "\n",
    "raw_df[\"FoodCategories_id\"] = raw_df[\"FoodCategories\"].map(FoodCategories_map)"
   ]
  },
  {
   "cell_type": "code",
   "execution_count": 107,
   "metadata": {},
   "outputs": [],
   "source": [
    "\n",
    "# TODO: Angular distance encode\n",
    "raw_df[\"NationFoodCategory_sin\"] = np.sin(raw_df[\"NationFoodCategory_id\"]*(2.*np.pi/len(raw_df[\"NationFoodCategory_id\"].unique())))\n",
    "raw_df[\"NationFoodCategory_cos\"] = np.cos(raw_df[\"NationFoodCategory_id\"]*(2.*np.pi/len(raw_df[\"NationFoodCategory_id\"].unique())))\n",
    "\n",
    "raw_df[\"FoodCategories_sin\"] = np.sin(raw_df[\"FoodCategories_id\"]*(2.*np.pi/len(raw_df[\"FoodCategories_id\"].unique())))\n",
    "raw_df[\"FoodCategories_cos\"] = np.cos(raw_df[\"FoodCategories_id\"]*(2.*np.pi/len(raw_df[\"FoodCategories_id\"].unique())))"
   ]
  },
  {
   "attachments": {},
   "cell_type": "markdown",
   "metadata": {},
   "source": [
    "## 3.2 Euclidian and Shortest distance"
   ]
  },
  {
   "cell_type": "code",
   "execution_count": 108,
   "metadata": {},
   "outputs": [],
   "source": [
    "# We can retrieve euc distance from food delivery data\n",
    "tmp_df = pd.read_csv('Sample 14days_food_delivery_All.csv')\n",
    "drop_list = ['foodDeliveredTime',\n",
    "             'Customer.lat',\n",
    "             'Customer.lng',\n",
    "             'Merchant_to_Customer_EucDistance',\n",
    "             'Merchant_to_Customer_ShortestDistance',\n",
    "             'mealPickedUpTime_to_arrivedAtCustLocationTime',\n",
    "             'mealPickedUpTime_to_arrivedAtCustLocationTime (s)',\n",
    "             'mealPickedUpTime_to_arrivedAtCustLocationTime (m)']\n",
    "tmp_df.drop(drop_list, axis=1, inplace=True)"
   ]
  },
  {
   "cell_type": "code",
   "execution_count": 109,
   "metadata": {},
   "outputs": [],
   "source": [
    "raw_df['riderInitial_to_Merchant_EucDistance'] = tmp_df['riderInitial_to_Merchant_EucDistance']\n",
    "raw_df['riderInitial_to_Merchant_ShortestDistance'] = tmp_df['riderInitial_to_Merchant_ShortestDistance']"
   ]
  },
  {
   "attachments": {},
   "cell_type": "markdown",
   "metadata": {},
   "source": [
    "## 3.3 day_of_week"
   ]
  },
  {
   "cell_type": "code",
   "execution_count": 110,
   "metadata": {},
   "outputs": [],
   "source": [
    "raw_df['day_of_week'] = tmp_df['day_of_week']\n",
    "raw_df['day_of_week_name'] = tmp_df['day_of_week_name']\n",
    "raw_df['day_of_week_sin'] = tmp_df['day_of_week_sin']\n",
    "raw_df['day_of_week_cos'] = tmp_df['day_of_week_cos']"
   ]
  },
  {
   "attachments": {},
   "cell_type": "markdown",
   "metadata": {},
   "source": [
    "## 3.4 isHoliday"
   ]
  },
  {
   "cell_type": "code",
   "execution_count": 111,
   "metadata": {},
   "outputs": [],
   "source": [
    "raw_df['isHoliday'] = tmp_df['isHoliday']"
   ]
  },
  {
   "attachments": {},
   "cell_type": "markdown",
   "metadata": {},
   "source": [
    "## 3.5 calledMerchantTime_to_arrivedAtMerchantTime duration prediction data"
   ]
  },
  {
   "cell_type": "code",
   "execution_count": 112,
   "metadata": {},
   "outputs": [
    {
     "name": "stderr",
     "output_type": "stream",
     "text": [
      "c:\\Users\\PoraRee\\.conda\\envs\\EAT\\lib\\site-packages\\sklearn\\base.py:493: FutureWarning: The feature names should match those that were passed during fit. Starting version 1.2, an error will be raised.\n",
      "Feature names unseen at fit time:\n",
      "- FoodCategories_cos\n",
      "- FoodCategories_sin\n",
      "- Merchant_lat\n",
      "- Merchant_lon\n",
      "- NationFoodCategory_cos\n",
      "- ...\n",
      "Feature names seen at fit time, yet now missing:\n",
      "- euc_dist\n",
      "- shortest_dist\n",
      "- u_lat\n",
      "- u_lon\n",
      "- v_lat\n",
      "- ...\n",
      "\n",
      "  warnings.warn(message, FutureWarning)\n"
     ]
    },
    {
     "ename": "ValueError",
     "evalue": "X has 12 features, but GradientBoostingRegressor is expecting 8 features as input.",
     "output_type": "error",
     "traceback": [
      "\u001b[1;31m---------------------------------------------------------------------------\u001b[0m",
      "\u001b[1;31mValueError\u001b[0m                                Traceback (most recent call last)",
      "\u001b[1;32m~\\AppData\\Local\\Temp/ipykernel_37044/291178556.py\u001b[0m in \u001b[0;36m<module>\u001b[1;34m\u001b[0m\n\u001b[0;32m      6\u001b[0m \u001b[0mfood_del_df\u001b[0m \u001b[1;33m=\u001b[0m \u001b[0mpd\u001b[0m\u001b[1;33m.\u001b[0m\u001b[0mread_csv\u001b[0m\u001b[1;33m(\u001b[0m\u001b[1;34m'Sample 14days_food_delivery_Cleaned.csv'\u001b[0m\u001b[1;33m)\u001b[0m\u001b[1;33m\u001b[0m\u001b[1;33m\u001b[0m\u001b[0m\n\u001b[0;32m      7\u001b[0m \u001b[0mX\u001b[0m \u001b[1;33m=\u001b[0m \u001b[0mfood_del_df\u001b[0m\u001b[1;33m.\u001b[0m\u001b[0miloc\u001b[0m\u001b[1;33m[\u001b[0m\u001b[1;33m:\u001b[0m\u001b[1;36m10000\u001b[0m\u001b[1;33m,\u001b[0m \u001b[1;33m:\u001b[0m\u001b[1;33m-\u001b[0m\u001b[1;36m2\u001b[0m\u001b[1;33m]\u001b[0m\u001b[1;33m\u001b[0m\u001b[1;33m\u001b[0m\u001b[0m\n\u001b[1;32m----> 8\u001b[1;33m \u001b[0mpred_s\u001b[0m \u001b[1;33m=\u001b[0m \u001b[0mmodel_s\u001b[0m\u001b[1;33m.\u001b[0m\u001b[0mbest_estimator_\u001b[0m\u001b[1;33m.\u001b[0m\u001b[0mpredict\u001b[0m\u001b[1;33m(\u001b[0m\u001b[0mX\u001b[0m\u001b[1;33m)\u001b[0m\u001b[1;33m\u001b[0m\u001b[1;33m\u001b[0m\u001b[0m\n\u001b[0m\u001b[0;32m      9\u001b[0m \u001b[0mpred_m\u001b[0m \u001b[1;33m=\u001b[0m \u001b[0mmodel_m\u001b[0m\u001b[1;33m.\u001b[0m\u001b[0mbest_estimator_\u001b[0m\u001b[1;33m.\u001b[0m\u001b[0mpredict\u001b[0m\u001b[1;33m(\u001b[0m\u001b[0mX\u001b[0m\u001b[1;33m)\u001b[0m\u001b[1;33m\u001b[0m\u001b[1;33m\u001b[0m\u001b[0m\n",
      "\u001b[1;32mc:\\Users\\PoraRee\\.conda\\envs\\EAT\\lib\\site-packages\\sklearn\\ensemble\\_gb.py\u001b[0m in \u001b[0;36mpredict\u001b[1;34m(self, X)\u001b[0m\n\u001b[0;32m   1955\u001b[0m             \u001b[0mThe\u001b[0m \u001b[0mpredicted\u001b[0m \u001b[0mvalues\u001b[0m\u001b[1;33m.\u001b[0m\u001b[1;33m\u001b[0m\u001b[1;33m\u001b[0m\u001b[0m\n\u001b[0;32m   1956\u001b[0m         \"\"\"\n\u001b[1;32m-> 1957\u001b[1;33m         X = self._validate_data(\n\u001b[0m\u001b[0;32m   1958\u001b[0m             \u001b[0mX\u001b[0m\u001b[1;33m,\u001b[0m \u001b[0mdtype\u001b[0m\u001b[1;33m=\u001b[0m\u001b[0mDTYPE\u001b[0m\u001b[1;33m,\u001b[0m \u001b[0morder\u001b[0m\u001b[1;33m=\u001b[0m\u001b[1;34m\"C\"\u001b[0m\u001b[1;33m,\u001b[0m \u001b[0maccept_sparse\u001b[0m\u001b[1;33m=\u001b[0m\u001b[1;34m\"csr\"\u001b[0m\u001b[1;33m,\u001b[0m \u001b[0mreset\u001b[0m\u001b[1;33m=\u001b[0m\u001b[1;32mFalse\u001b[0m\u001b[1;33m\u001b[0m\u001b[1;33m\u001b[0m\u001b[0m\n\u001b[0;32m   1959\u001b[0m         )\n",
      "\u001b[1;32mc:\\Users\\PoraRee\\.conda\\envs\\EAT\\lib\\site-packages\\sklearn\\base.py\u001b[0m in \u001b[0;36m_validate_data\u001b[1;34m(self, X, y, reset, validate_separately, **check_params)\u001b[0m\n\u001b[0;32m    598\u001b[0m \u001b[1;33m\u001b[0m\u001b[0m\n\u001b[0;32m    599\u001b[0m         \u001b[1;32mif\u001b[0m \u001b[1;32mnot\u001b[0m \u001b[0mno_val_X\u001b[0m \u001b[1;32mand\u001b[0m \u001b[0mcheck_params\u001b[0m\u001b[1;33m.\u001b[0m\u001b[0mget\u001b[0m\u001b[1;33m(\u001b[0m\u001b[1;34m\"ensure_2d\"\u001b[0m\u001b[1;33m,\u001b[0m \u001b[1;32mTrue\u001b[0m\u001b[1;33m)\u001b[0m\u001b[1;33m:\u001b[0m\u001b[1;33m\u001b[0m\u001b[1;33m\u001b[0m\u001b[0m\n\u001b[1;32m--> 600\u001b[1;33m             \u001b[0mself\u001b[0m\u001b[1;33m.\u001b[0m\u001b[0m_check_n_features\u001b[0m\u001b[1;33m(\u001b[0m\u001b[0mX\u001b[0m\u001b[1;33m,\u001b[0m \u001b[0mreset\u001b[0m\u001b[1;33m=\u001b[0m\u001b[0mreset\u001b[0m\u001b[1;33m)\u001b[0m\u001b[1;33m\u001b[0m\u001b[1;33m\u001b[0m\u001b[0m\n\u001b[0m\u001b[0;32m    601\u001b[0m \u001b[1;33m\u001b[0m\u001b[0m\n\u001b[0;32m    602\u001b[0m         \u001b[1;32mreturn\u001b[0m \u001b[0mout\u001b[0m\u001b[1;33m\u001b[0m\u001b[1;33m\u001b[0m\u001b[0m\n",
      "\u001b[1;32mc:\\Users\\PoraRee\\.conda\\envs\\EAT\\lib\\site-packages\\sklearn\\base.py\u001b[0m in \u001b[0;36m_check_n_features\u001b[1;34m(self, X, reset)\u001b[0m\n\u001b[0;32m    398\u001b[0m \u001b[1;33m\u001b[0m\u001b[0m\n\u001b[0;32m    399\u001b[0m         \u001b[1;32mif\u001b[0m \u001b[0mn_features\u001b[0m \u001b[1;33m!=\u001b[0m \u001b[0mself\u001b[0m\u001b[1;33m.\u001b[0m\u001b[0mn_features_in_\u001b[0m\u001b[1;33m:\u001b[0m\u001b[1;33m\u001b[0m\u001b[1;33m\u001b[0m\u001b[0m\n\u001b[1;32m--> 400\u001b[1;33m             raise ValueError(\n\u001b[0m\u001b[0;32m    401\u001b[0m                 \u001b[1;34mf\"X has {n_features} features, but {self.__class__.__name__} \"\u001b[0m\u001b[1;33m\u001b[0m\u001b[1;33m\u001b[0m\u001b[0m\n\u001b[0;32m    402\u001b[0m                 \u001b[1;34mf\"is expecting {self.n_features_in_} features as input.\"\u001b[0m\u001b[1;33m\u001b[0m\u001b[1;33m\u001b[0m\u001b[0m\n",
      "\u001b[1;31mValueError\u001b[0m: X has 12 features, but GradientBoostingRegressor is expecting 8 features as input."
     ]
    }
   ],
   "source": [
    "from sklearn.ensemble import GradientBoostingRegressor\n",
    "from sklearn.model_selection import GridSearchCV\n",
    "import pickle as pkl\n",
    "model_s = pkl.load(open('food_delivery_CV_gbdt_s.pkl', 'rb')) \n",
    "model_m = pkl.load(open('food_delivery_CV_gbdt_m.pkl', 'rb')) \n",
    "food_del_df = pd.read_csv('Sample 14days_food_delivery_Cleaned.csv')\n",
    "X = food_del_df.iloc[:10000, :-2]\n",
    "pred_s = model_s.best_estimator_.predict(X)\n",
    "pred_m = model_m.best_estimator_.predict(X)"
   ]
  },
  {
   "cell_type": "code",
   "execution_count": null,
   "metadata": {},
   "outputs": [],
   "source": [
    "raw_df['calledMerchantTime_to_arrivedAtMerchantTime_prediction (s)'] = pred_s\n",
    "raw_df['calledMerchantTime_to_arrivedAtMerchantTime_prediction (m)'] = pred_m"
   ]
  },
  {
   "cell_type": "code",
   "execution_count": null,
   "metadata": {},
   "outputs": [
    {
     "data": {
      "text/plain": [
       "count    10000.000000\n",
       "mean       593.294095\n",
       "std        201.997433\n",
       "min        401.262823\n",
       "25%        401.262823\n",
       "50%        633.470806\n",
       "75%        636.446666\n",
       "max       1318.063090\n",
       "Name: calledMerchantTime_to_arrivedAtMerchantTime_prediction (s), dtype: float64"
      ]
     },
     "execution_count": 82,
     "metadata": {},
     "output_type": "execute_result"
    }
   ],
   "source": [
    "raw_df['calledMerchantTime_to_arrivedAtMerchantTime_prediction (s)'].describe()"
   ]
  },
  {
   "cell_type": "code",
   "execution_count": null,
   "metadata": {},
   "outputs": [
    {
     "data": {
      "text/plain": [
       "count    10000.000000\n",
       "mean         9.888235\n",
       "std          3.366624\n",
       "min          6.687714\n",
       "25%          6.687714\n",
       "50%         10.557847\n",
       "75%         10.607444\n",
       "max         21.967718\n",
       "Name: calledMerchantTime_to_arrivedAtMerchantTime_prediction (m), dtype: float64"
      ]
     },
     "execution_count": 83,
     "metadata": {},
     "output_type": "execute_result"
    }
   ],
   "source": [
    "raw_df['calledMerchantTime_to_arrivedAtMerchantTime_prediction (m)'].describe()"
   ]
  },
  {
   "attachments": {},
   "cell_type": "markdown",
   "metadata": {},
   "source": [
    "## 3.6 datetime"
   ]
  },
  {
   "cell_type": "code",
   "execution_count": null,
   "metadata": {},
   "outputs": [],
   "source": [
    "def to_datetime(df, date_col, time_col):\n",
    "    return pd.to_datetime(df[date_col].astype(str) + \" \" + df[time_col].astype(str))"
   ]
  },
  {
   "cell_type": "code",
   "execution_count": null,
   "metadata": {},
   "outputs": [],
   "source": [
    "to_datetime_feats = ['calledMerchantTime', 'mealPickedUpTime']\n",
    "for feat in to_datetime_feats:\n",
    "    raw_df[feat] = to_datetime(raw_df, 'JobAcceptedDate', feat)"
   ]
  },
  {
   "attachments": {},
   "cell_type": "markdown",
   "metadata": {},
   "source": [
    "## 3.7 duration"
   ]
  },
  {
   "cell_type": "code",
   "execution_count": null,
   "metadata": {},
   "outputs": [],
   "source": [
    "def to_duration(df, start_col, end_col):\n",
    "    return df[end_col] - df[start_col]"
   ]
  },
  {
   "cell_type": "code",
   "execution_count": null,
   "metadata": {},
   "outputs": [],
   "source": [
    "duration_feats = [('calledMerchantTime', 'mealPickedUpTime')]\n",
    "\n",
    "for feat_pairs in duration_feats:\n",
    "    raw_df[feat_pairs[0] + '_to_' + feat_pairs[1]] = to_duration(raw_df, feat_pairs[0], feat_pairs[1])\n",
    "    raw_df[feat_pairs[0] + '_to_' + feat_pairs[1] + ' (s)'] = raw_df[feat_pairs[0] + '_to_' + feat_pairs[1]].dt.total_seconds()\n",
    "    raw_df[feat_pairs[0] + '_to_' + feat_pairs[1] + ' (m)'] = raw_df[feat_pairs[0] + '_to_' + feat_pairs[1]].dt.total_seconds() / 60"
   ]
  },
  {
   "cell_type": "code",
   "execution_count": null,
   "metadata": {},
   "outputs": [
    {
     "name": "stdout",
     "output_type": "stream",
     "text": [
      "<class 'pandas.core.frame.DataFrame'>\n",
      "RangeIndex: 10000 entries, 0 to 9999\n",
      "Data columns (total 53 columns):\n",
      " #   Column                                                      Non-Null Count  Dtype          \n",
      "---  ------                                                      --------------  -----          \n",
      " 0   JobAcceptedDate                                             10000 non-null  datetime64[ns] \n",
      " 1   calledMerchantTime                                          10000 non-null  datetime64[ns] \n",
      " 2   mealPickedUpTime                                            10000 non-null  datetime64[ns] \n",
      " 3   Merchant.Lat                                                10000 non-null  float64        \n",
      " 4   Merchant.Lng                                                10000 non-null  float64        \n",
      " 5   NationFoodCategory                                          10000 non-null  object         \n",
      " 6   FoodCategories                                              10000 non-null  object         \n",
      " 7   NationFoodCategory_International                            10000 non-null  uint8          \n",
      " 8   NationFoodCategory_Isram                                    10000 non-null  uint8          \n",
      " 9   NationFoodCategory_Japanese                                 10000 non-null  uint8          \n",
      " 10  NationFoodCategory_Korean                                   10000 non-null  uint8          \n",
      " 11  NationFoodCategory_Myanmar                                  10000 non-null  uint8          \n",
      " 12  NationFoodCategory_Thai                                     10000 non-null  uint8          \n",
      " 13  NationFoodCategory_Vietnam                                  10000 non-null  uint8          \n",
      " 14  FoodCategories_Fast Food                                    10000 non-null  uint8          \n",
      " 15  FoodCategories_Quick Meal                                   10000 non-null  uint8          \n",
      " 16  FoodCategories_ขนมจีน                                       10000 non-null  uint8          \n",
      " 17  FoodCategories_ของหวาน                                      10000 non-null  uint8          \n",
      " 18  FoodCategories_ปิ้งย่าง                                     10000 non-null  uint8          \n",
      " 19  FoodCategories_พิซซ่า                                       10000 non-null  uint8          \n",
      " 20  FoodCategories_ร้านก๋วยเตี๋ยว                               10000 non-null  uint8          \n",
      " 21  FoodCategories_ร้านอาหาร                                    10000 non-null  uint8          \n",
      " 22  FoodCategories_สปาเก็ตตี้                                   10000 non-null  uint8          \n",
      " 23  FoodCategories_สุกี้ยากี้                                   10000 non-null  uint8          \n",
      " 24  FoodCategories_สเต๊ก                                        10000 non-null  uint8          \n",
      " 25  FoodCategories_อาหารคลีน                                    10000 non-null  uint8          \n",
      " 26  FoodCategories_อาหารจานด่วน                                 10000 non-null  uint8          \n",
      " 27  FoodCategories_อาหารตามสั่ง                                 10000 non-null  uint8          \n",
      " 28  FoodCategories_อาหารทะเล                                    10000 non-null  uint8          \n",
      " 29  FoodCategories_อาหารอีสาน                                   10000 non-null  uint8          \n",
      " 30  FoodCategories_อาหารฮาลาล                                   10000 non-null  uint8          \n",
      " 31  FoodCategories_อาหารเหนือ                                   10000 non-null  uint8          \n",
      " 32  FoodCategories_อาหารใต้                                     10000 non-null  uint8          \n",
      " 33  FoodCategories_เครื่องดื่ม                                  10000 non-null  uint8          \n",
      " 34  FoodCategories_ไก่ทอด                                       10000 non-null  uint8          \n",
      " 35  NationFoodCategory_id                                       10000 non-null  int64          \n",
      " 36  FoodCategories_id                                           10000 non-null  int64          \n",
      " 37  NationFoodCategory_sin                                      10000 non-null  float64        \n",
      " 38  NationFoodCategory_cos                                      10000 non-null  float64        \n",
      " 39  FoodCategories_sin                                          10000 non-null  float64        \n",
      " 40  FoodCategories_cos                                          10000 non-null  float64        \n",
      " 41  riderInitial_to_Merchant_EucDistance                        10000 non-null  float64        \n",
      " 42  riderInitial_to_Merchant_ShortestDistance                   10000 non-null  float64        \n",
      " 43  day_of_week                                                 10000 non-null  int64          \n",
      " 44  day_of_week_name                                            10000 non-null  object         \n",
      " 45  day_of_week_sin                                             10000 non-null  float64        \n",
      " 46  day_of_week_cos                                             10000 non-null  float64        \n",
      " 47  isHoliday                                                   10000 non-null  int64          \n",
      " 48  calledMerchantTime_to_arrivedAtMerchantTime_prediction (s)  10000 non-null  float64        \n",
      " 49  calledMerchantTime_to_arrivedAtMerchantTime_prediction (m)  10000 non-null  float64        \n",
      " 50  calledMerchantTime_to_mealPickedUpTime                      10000 non-null  timedelta64[ns]\n",
      " 51  calledMerchantTime_to_mealPickedUpTime (s)                  10000 non-null  float64        \n",
      " 52  calledMerchantTime_to_mealPickedUpTime (m)                  10000 non-null  float64        \n",
      "dtypes: datetime64[ns](3), float64(14), int64(4), object(3), timedelta64[ns](1), uint8(28)\n",
      "memory usage: 2.2+ MB\n"
     ]
    }
   ],
   "source": [
    "raw_df.info()"
   ]
  },
  {
   "cell_type": "code",
   "execution_count": null,
   "metadata": {},
   "outputs": [],
   "source": [
    "raw_df.to_csv('Sample 14days_food_preparation_All.csv', index=False)"
   ]
  },
  {
   "attachments": {},
   "cell_type": "markdown",
   "metadata": {},
   "source": [
    "# 4. Prepare Data for ML"
   ]
  },
  {
   "attachments": {},
   "cell_type": "markdown",
   "metadata": {},
   "source": [
    "## 4.1 load extracted feature data"
   ]
  },
  {
   "cell_type": "code",
   "execution_count": null,
   "metadata": {},
   "outputs": [],
   "source": [
    "raw_df = pd.read_csv('Sample 14days_food_preparation_All.csv')"
   ]
  },
  {
   "cell_type": "code",
   "execution_count": null,
   "metadata": {},
   "outputs": [
    {
     "name": "stdout",
     "output_type": "stream",
     "text": [
      "<class 'pandas.core.frame.DataFrame'>\n",
      "RangeIndex: 10000 entries, 0 to 9999\n",
      "Data columns (total 53 columns):\n",
      " #   Column                                                      Non-Null Count  Dtype  \n",
      "---  ------                                                      --------------  -----  \n",
      " 0   JobAcceptedDate                                             10000 non-null  object \n",
      " 1   calledMerchantTime                                          10000 non-null  object \n",
      " 2   mealPickedUpTime                                            10000 non-null  object \n",
      " 3   Merchant.Lat                                                10000 non-null  float64\n",
      " 4   Merchant.Lng                                                10000 non-null  float64\n",
      " 5   NationFoodCategory                                          10000 non-null  object \n",
      " 6   FoodCategories                                              10000 non-null  object \n",
      " 7   NationFoodCategory_International                            10000 non-null  int64  \n",
      " 8   NationFoodCategory_Isram                                    10000 non-null  int64  \n",
      " 9   NationFoodCategory_Japanese                                 10000 non-null  int64  \n",
      " 10  NationFoodCategory_Korean                                   10000 non-null  int64  \n",
      " 11  NationFoodCategory_Myanmar                                  10000 non-null  int64  \n",
      " 12  NationFoodCategory_Thai                                     10000 non-null  int64  \n",
      " 13  NationFoodCategory_Vietnam                                  10000 non-null  int64  \n",
      " 14  FoodCategories_Fast Food                                    10000 non-null  int64  \n",
      " 15  FoodCategories_Quick Meal                                   10000 non-null  int64  \n",
      " 16  FoodCategories_ขนมจีน                                       10000 non-null  int64  \n",
      " 17  FoodCategories_ของหวาน                                      10000 non-null  int64  \n",
      " 18  FoodCategories_ปิ้งย่าง                                     10000 non-null  int64  \n",
      " 19  FoodCategories_พิซซ่า                                       10000 non-null  int64  \n",
      " 20  FoodCategories_ร้านก๋วยเตี๋ยว                               10000 non-null  int64  \n",
      " 21  FoodCategories_ร้านอาหาร                                    10000 non-null  int64  \n",
      " 22  FoodCategories_สปาเก็ตตี้                                   10000 non-null  int64  \n",
      " 23  FoodCategories_สุกี้ยากี้                                   10000 non-null  int64  \n",
      " 24  FoodCategories_สเต๊ก                                        10000 non-null  int64  \n",
      " 25  FoodCategories_อาหารคลีน                                    10000 non-null  int64  \n",
      " 26  FoodCategories_อาหารจานด่วน                                 10000 non-null  int64  \n",
      " 27  FoodCategories_อาหารตามสั่ง                                 10000 non-null  int64  \n",
      " 28  FoodCategories_อาหารทะเล                                    10000 non-null  int64  \n",
      " 29  FoodCategories_อาหารอีสาน                                   10000 non-null  int64  \n",
      " 30  FoodCategories_อาหารฮาลาล                                   10000 non-null  int64  \n",
      " 31  FoodCategories_อาหารเหนือ                                   10000 non-null  int64  \n",
      " 32  FoodCategories_อาหารใต้                                     10000 non-null  int64  \n",
      " 33  FoodCategories_เครื่องดื่ม                                  10000 non-null  int64  \n",
      " 34  FoodCategories_ไก่ทอด                                       10000 non-null  int64  \n",
      " 35  NationFoodCategory_id                                       10000 non-null  int64  \n",
      " 36  FoodCategories_id                                           10000 non-null  int64  \n",
      " 37  NationFoodCategory_sin                                      10000 non-null  float64\n",
      " 38  NationFoodCategory_cos                                      10000 non-null  float64\n",
      " 39  FoodCategories_sin                                          10000 non-null  float64\n",
      " 40  FoodCategories_cos                                          10000 non-null  float64\n",
      " 41  riderInitial_to_Merchant_EucDistance                        10000 non-null  float64\n",
      " 42  riderInitial_to_Merchant_ShortestDistance                   10000 non-null  float64\n",
      " 43  day_of_week                                                 10000 non-null  int64  \n",
      " 44  day_of_week_name                                            10000 non-null  object \n",
      " 45  day_of_week_sin                                             10000 non-null  float64\n",
      " 46  day_of_week_cos                                             10000 non-null  float64\n",
      " 47  isHoliday                                                   10000 non-null  int64  \n",
      " 48  calledMerchantTime_to_arrivedAtMerchantTime_prediction (s)  10000 non-null  float64\n",
      " 49  calledMerchantTime_to_arrivedAtMerchantTime_prediction (m)  10000 non-null  float64\n",
      " 50  calledMerchantTime_to_mealPickedUpTime                      10000 non-null  object \n",
      " 51  calledMerchantTime_to_mealPickedUpTime (s)                  10000 non-null  float64\n",
      " 52  calledMerchantTime_to_mealPickedUpTime (m)                  10000 non-null  float64\n",
      "dtypes: float64(14), int64(32), object(7)\n",
      "memory usage: 4.0+ MB\n"
     ]
    }
   ],
   "source": [
    "raw_df.info()"
   ]
  },
  {
   "attachments": {},
   "cell_type": "markdown",
   "metadata": {},
   "source": [
    "## 4.2 construct new dataframe"
   ]
  },
  {
   "cell_type": "code",
   "execution_count": null,
   "metadata": {},
   "outputs": [],
   "source": [
    "\n",
    "# TODO: data_dict_1 contains one-hot encoding for NationFoodCategory and FoodCategories\n",
    "data_dict_1 = {\n",
    "   'Merchant_lat':[],\n",
    "   'Merchant_lon':[],\n",
    "   'NationFoodCategory_International':[],\n",
    "   'NationFoodCategory_Isram':[],\n",
    "   'NationFoodCategory_Japanese':[],\n",
    "   'NationFoodCategory_Korean':[],\n",
    "   'NationFoodCategory_Myanmar':[],          \n",
    "   'NationFoodCategory_Thai':[],\n",
    "   'NationFoodCategory_Vietnam':[],\n",
    "   'FoodCategories_FastFood':[],\n",
    "   'FoodCategories_QuickMeal':[],\n",
    "   'FoodCategories_ขนมจีน':[],\n",
    "   'FoodCategories_ของหวาน':[],\n",
    "   'FoodCategories_ปิ้งย่าง':[],\n",
    "   'FoodCategories_พิซซ่า':[],          \n",
    "   'FoodCategories_ร้านก๋วยเตี๋ยว':[],          \n",
    "   'FoodCategories_ร้านอาหาร':[],          \n",
    "   'FoodCategories_สปาเก็ตตี้':[],          \n",
    "   'FoodCategories_สุกี้ยากี้':[],\n",
    "   'FoodCategories_สเต๊ก':[],\n",
    "   'FoodCategories_อาหารคลีน':[],\n",
    "   'FoodCategories_อาหารจานด่วน':[],\n",
    "   'FoodCategories_อาหารตามสั่ง':[],\n",
    "   'FoodCategories_อาหารทะเล':[],\n",
    "   'FoodCategories_อาหารอีสาน':[],\n",
    "   'FoodCategories_อาหารฮาลาล':[],\n",
    "   'FoodCategories_อาหารเหนือ':[],\n",
    "   'FoodCategories_อาหารใต้':[],\n",
    "   'FoodCategories_เครื่องดื่ม':[],\n",
    "   'FoodCategories_ไก่ทอด':[],\n",
    "   'riderInitial_to_Merchant_EucDistance':[],\n",
    "   'riderInitial_to_Merchant_ShortestDistance':[],\n",
    "   'day_of_week_sin':[],\n",
    "   'day_of_week_cos':[],\n",
    "   'calledMerchantTime_to_arrivedAtMerchantTime_prediction (s)':[],\n",
    "   'calledMerchantTime_to_arrivedAtMerchantTime_prediction (m)':[],\n",
    "   'duration (s)':[],\n",
    "   'duration (m)':[]\n",
    "}\n",
    "\n",
    "# TODO: data_dict_2 contains angular distance encoding for NationFoodCategory and FoodCategories\n",
    "data_dict_2 = {\n",
    "   'Merchant_lat':[],\n",
    "   'Merchant_lon':[],\n",
    "   'NationFoodCategory_sin':[],\n",
    "   'NationFoodCategory_cos':[],\n",
    "   'FoodCategories_sin':[],\n",
    "   'FoodCategories_cos':[],\n",
    "   'riderInitial_to_Merchant_EucDistance':[],\n",
    "   'riderInitial_to_Merchant_ShortestDistance':[],\n",
    "   'day_of_week_sin':[],\n",
    "   'day_of_week_cos':[],\n",
    "   'calledMerchantTime_to_arrivedAtMerchantTime_prediction (s)':[],\n",
    "   'calledMerchantTime_to_arrivedAtMerchantTime_prediction (m)':[],\n",
    "   'duration (s)':[],\n",
    "   'duration (m)':[]\n",
    "}"
   ]
  },
  {
   "attachments": {},
   "cell_type": "markdown",
   "metadata": {},
   "source": [
    "## 4.3 fill data from raw_df to data_dict"
   ]
  },
  {
   "cell_type": "code",
   "execution_count": null,
   "metadata": {},
   "outputs": [],
   "source": [
    "data_dict_1['Merchant_lat'] += raw_df['Merchant.Lat'].tolist()\n",
    "data_dict_1['Merchant_lon'] += raw_df['Merchant.Lng'].tolist()\n",
    "data_dict_1['NationFoodCategory_International'] += raw_df['NationFoodCategory_International'].tolist()\n",
    "data_dict_1['NationFoodCategory_Isram'] += raw_df['NationFoodCategory_Isram'].tolist()\n",
    "data_dict_1['NationFoodCategory_Japanese'] += raw_df['NationFoodCategory_Japanese'].tolist()\n",
    "data_dict_1['NationFoodCategory_Korean'] += raw_df['NationFoodCategory_Korean'].tolist()\n",
    "data_dict_1['NationFoodCategory_Myanmar'] += raw_df['NationFoodCategory_Myanmar'].tolist()\n",
    "data_dict_1['NationFoodCategory_Thai'] += raw_df['NationFoodCategory_Thai'].tolist()\n",
    "data_dict_1['NationFoodCategory_Vietnam'] += raw_df['NationFoodCategory_Vietnam'].tolist()\n",
    "data_dict_1['FoodCategories_FastFood'] += raw_df['FoodCategories_Fast Food'].tolist()\n",
    "data_dict_1['FoodCategories_QuickMeal'] += raw_df['FoodCategories_Quick Meal'].tolist()\n",
    "data_dict_1['FoodCategories_ขนมจีน'] += raw_df['FoodCategories_ขนมจีน'].tolist()\n",
    "data_dict_1['FoodCategories_ของหวาน'] += raw_df['FoodCategories_ของหวาน'].tolist()\n",
    "data_dict_1['FoodCategories_ปิ้งย่าง'] += raw_df['FoodCategories_ปิ้งย่าง'].tolist()\n",
    "data_dict_1['FoodCategories_พิซซ่า'] += raw_df['FoodCategories_พิซซ่า'].tolist()\n",
    "data_dict_1['FoodCategories_ร้านก๋วยเตี๋ยว'] += raw_df['FoodCategories_ร้านก๋วยเตี๋ยว'].tolist()\n",
    "data_dict_1['FoodCategories_ร้านอาหาร'] += raw_df['FoodCategories_ร้านอาหาร'].tolist()\n",
    "data_dict_1['FoodCategories_สปาเก็ตตี้'] += raw_df['FoodCategories_สปาเก็ตตี้'].tolist()\n",
    "data_dict_1['FoodCategories_สุกี้ยากี้'] += raw_df['FoodCategories_สุกี้ยากี้'].tolist()\n",
    "data_dict_1['FoodCategories_สเต๊ก'] += raw_df['FoodCategories_สเต๊ก'].tolist()\n",
    "data_dict_1['FoodCategories_อาหารคลีน'] += raw_df['FoodCategories_อาหารคลีน'].tolist()\n",
    "data_dict_1['FoodCategories_อาหารจานด่วน'] += raw_df['FoodCategories_อาหารจานด่วน'].tolist()\n",
    "data_dict_1['FoodCategories_อาหารตามสั่ง'] += raw_df['FoodCategories_อาหารตามสั่ง'].tolist()\n",
    "data_dict_1['FoodCategories_อาหารทะเล'] += raw_df['FoodCategories_อาหารทะเล'].tolist()\n",
    "data_dict_1['FoodCategories_อาหารอีสาน'] += raw_df['FoodCategories_อาหารอีสาน'].tolist()\n",
    "data_dict_1['FoodCategories_อาหารฮาลาล'] += raw_df['FoodCategories_อาหารฮาลาล'].tolist()\n",
    "data_dict_1['FoodCategories_อาหารเหนือ'] += raw_df['FoodCategories_อาหารเหนือ'].tolist()\n",
    "data_dict_1['FoodCategories_อาหารใต้'] += raw_df['FoodCategories_อาหารใต้'].tolist()\n",
    "data_dict_1['FoodCategories_เครื่องดื่ม'] += raw_df['FoodCategories_เครื่องดื่ม'].tolist()\n",
    "data_dict_1['FoodCategories_ไก่ทอด'] += raw_df['FoodCategories_ไก่ทอด'].tolist()\n",
    "data_dict_1['riderInitial_to_Merchant_EucDistance'] += raw_df['riderInitial_to_Merchant_EucDistance'].tolist()\n",
    "data_dict_1['riderInitial_to_Merchant_ShortestDistance'] += raw_df['riderInitial_to_Merchant_ShortestDistance'].tolist()\n",
    "data_dict_1['day_of_week_sin'] += raw_df['day_of_week_sin'].tolist()\n",
    "data_dict_1['day_of_week_cos'] += raw_df['day_of_week_cos'].tolist()\n",
    "data_dict_1['calledMerchantTime_to_arrivedAtMerchantTime_prediction (s)'] += raw_df['calledMerchantTime_to_arrivedAtMerchantTime_prediction (s)'].tolist()\n",
    "data_dict_1['calledMerchantTime_to_arrivedAtMerchantTime_prediction (m)'] += raw_df['calledMerchantTime_to_arrivedAtMerchantTime_prediction (m)'].tolist()\n",
    "data_dict_1['duration (s)'] += raw_df['calledMerchantTime_to_mealPickedUpTime (s)'].tolist()\n",
    "data_dict_1['duration (m)'] += raw_df['calledMerchantTime_to_mealPickedUpTime (m)'].tolist()"
   ]
  },
  {
   "cell_type": "code",
   "execution_count": null,
   "metadata": {},
   "outputs": [],
   "source": [
    "data_dict_2['Merchant_lat'] += raw_df['Merchant.Lat'].tolist()\n",
    "data_dict_2['Merchant_lon'] += raw_df['Merchant.Lng'].tolist()\n",
    "data_dict_2['NationFoodCategory_sin'] += raw_df['NationFoodCategory_sin'].tolist()\n",
    "data_dict_2['NationFoodCategory_cos'] += raw_df['NationFoodCategory_cos'].tolist()\n",
    "data_dict_2['FoodCategories_sin'] += raw_df['FoodCategories_sin'].tolist()\n",
    "data_dict_2['FoodCategories_cos'] += raw_df['FoodCategories_cos'].tolist()\n",
    "data_dict_2['riderInitial_to_Merchant_EucDistance'] += raw_df['riderInitial_to_Merchant_EucDistance'].tolist()\n",
    "data_dict_2['riderInitial_to_Merchant_ShortestDistance'] += raw_df['riderInitial_to_Merchant_ShortestDistance'].tolist()\n",
    "data_dict_2['day_of_week_sin'] += raw_df['day_of_week_sin'].tolist()\n",
    "data_dict_2['day_of_week_cos'] += raw_df['day_of_week_cos'].tolist()\n",
    "data_dict_2['calledMerchantTime_to_arrivedAtMerchantTime_prediction (s)'] += raw_df['calledMerchantTime_to_arrivedAtMerchantTime_prediction (s)'].tolist()\n",
    "data_dict_2['calledMerchantTime_to_arrivedAtMerchantTime_prediction (m)'] += raw_df['calledMerchantTime_to_arrivedAtMerchantTime_prediction (m)'].tolist()\n",
    "data_dict_2['duration (s)'] += raw_df['calledMerchantTime_to_mealPickedUpTime (s)'].tolist()\n",
    "data_dict_2['duration (m)'] += raw_df['calledMerchantTime_to_mealPickedUpTime (m)'].tolist()"
   ]
  },
  {
   "cell_type": "code",
   "execution_count": null,
   "metadata": {},
   "outputs": [
    {
     "name": "stdout",
     "output_type": "stream",
     "text": [
      "<class 'pandas.core.frame.DataFrame'>\n",
      "RangeIndex: 10000 entries, 0 to 9999\n",
      "Data columns (total 38 columns):\n",
      " #   Column                                                      Non-Null Count  Dtype  \n",
      "---  ------                                                      --------------  -----  \n",
      " 0   Merchant_lat                                                10000 non-null  float64\n",
      " 1   Merchant_lon                                                10000 non-null  float64\n",
      " 2   NationFoodCategory_International                            10000 non-null  int64  \n",
      " 3   NationFoodCategory_Isram                                    10000 non-null  int64  \n",
      " 4   NationFoodCategory_Japanese                                 10000 non-null  int64  \n",
      " 5   NationFoodCategory_Korean                                   10000 non-null  int64  \n",
      " 6   NationFoodCategory_Myanmar                                  10000 non-null  int64  \n",
      " 7   NationFoodCategory_Thai                                     10000 non-null  int64  \n",
      " 8   NationFoodCategory_Vietnam                                  10000 non-null  int64  \n",
      " 9   FoodCategories_FastFood                                     10000 non-null  int64  \n",
      " 10  FoodCategories_QuickMeal                                    10000 non-null  int64  \n",
      " 11  FoodCategories_ขนมจีน                                       10000 non-null  int64  \n",
      " 12  FoodCategories_ของหวาน                                      10000 non-null  int64  \n",
      " 13  FoodCategories_ปิ้งย่าง                                     10000 non-null  int64  \n",
      " 14  FoodCategories_พิซซ่า                                       10000 non-null  int64  \n",
      " 15  FoodCategories_ร้านก๋วยเตี๋ยว                               10000 non-null  int64  \n",
      " 16  FoodCategories_ร้านอาหาร                                    10000 non-null  int64  \n",
      " 17  FoodCategories_สปาเก็ตตี้                                   10000 non-null  int64  \n",
      " 18  FoodCategories_สุกี้ยากี้                                   10000 non-null  int64  \n",
      " 19  FoodCategories_สเต๊ก                                        10000 non-null  int64  \n",
      " 20  FoodCategories_อาหารคลีน                                    10000 non-null  int64  \n",
      " 21  FoodCategories_อาหารจานด่วน                                 10000 non-null  int64  \n",
      " 22  FoodCategories_อาหารตามสั่ง                                 10000 non-null  int64  \n",
      " 23  FoodCategories_อาหารทะเล                                    10000 non-null  int64  \n",
      " 24  FoodCategories_อาหารอีสาน                                   10000 non-null  int64  \n",
      " 25  FoodCategories_อาหารฮาลาล                                   10000 non-null  int64  \n",
      " 26  FoodCategories_อาหารเหนือ                                   10000 non-null  int64  \n",
      " 27  FoodCategories_อาหารใต้                                     10000 non-null  int64  \n",
      " 28  FoodCategories_เครื่องดื่ม                                  10000 non-null  int64  \n",
      " 29  FoodCategories_ไก่ทอด                                       10000 non-null  int64  \n",
      " 30  riderInitial_to_Merchant_EucDistance                        10000 non-null  float64\n",
      " 31  riderInitial_to_Merchant_ShortestDistance                   10000 non-null  float64\n",
      " 32  day_of_week_sin                                             10000 non-null  float64\n",
      " 33  day_of_week_cos                                             10000 non-null  float64\n",
      " 34  calledMerchantTime_to_arrivedAtMerchantTime_prediction (s)  10000 non-null  float64\n",
      " 35  calledMerchantTime_to_arrivedAtMerchantTime_prediction (m)  10000 non-null  float64\n",
      " 36  duration (s)                                                10000 non-null  float64\n",
      " 37  duration (m)                                                10000 non-null  float64\n",
      "dtypes: float64(10), int64(28)\n",
      "memory usage: 2.9 MB\n"
     ]
    }
   ],
   "source": [
    "df_1 = pd.DataFrame(data_dict_1)\n",
    "df_1.info()"
   ]
  },
  {
   "cell_type": "code",
   "execution_count": null,
   "metadata": {},
   "outputs": [
    {
     "name": "stdout",
     "output_type": "stream",
     "text": [
      "<class 'pandas.core.frame.DataFrame'>\n",
      "RangeIndex: 10000 entries, 0 to 9999\n",
      "Data columns (total 14 columns):\n",
      " #   Column                                                      Non-Null Count  Dtype  \n",
      "---  ------                                                      --------------  -----  \n",
      " 0   Merchant_lat                                                10000 non-null  float64\n",
      " 1   Merchant_lon                                                10000 non-null  float64\n",
      " 2   NationFoodCategory_sin                                      10000 non-null  float64\n",
      " 3   NationFoodCategory_cos                                      10000 non-null  float64\n",
      " 4   FoodCategories_sin                                          10000 non-null  float64\n",
      " 5   FoodCategories_cos                                          10000 non-null  float64\n",
      " 6   riderInitial_to_Merchant_EucDistance                        10000 non-null  float64\n",
      " 7   riderInitial_to_Merchant_ShortestDistance                   10000 non-null  float64\n",
      " 8   day_of_week_sin                                             10000 non-null  float64\n",
      " 9   day_of_week_cos                                             10000 non-null  float64\n",
      " 10  calledMerchantTime_to_arrivedAtMerchantTime_prediction (s)  10000 non-null  float64\n",
      " 11  calledMerchantTime_to_arrivedAtMerchantTime_prediction (m)  10000 non-null  float64\n",
      " 12  duration (s)                                                10000 non-null  float64\n",
      " 13  duration (m)                                                10000 non-null  float64\n",
      "dtypes: float64(14)\n",
      "memory usage: 1.1 MB\n"
     ]
    }
   ],
   "source": [
    "df_2 = pd.DataFrame(data_dict_2)\n",
    "df_2.info()"
   ]
  },
  {
   "attachments": {},
   "cell_type": "markdown",
   "metadata": {},
   "source": [
    "## 4.4 save data"
   ]
  },
  {
   "cell_type": "code",
   "execution_count": 113,
   "metadata": {},
   "outputs": [],
   "source": [
    "df_1.to_csv('Sample 14days_food_preparation_Cleaned_1.csv', index=False)\n",
    "df_2.to_csv('Sample 14days_food_preparation_Cleaned_2.csv', index=False)\n",
    "df_2.to_csv('Sample 14days_food_preparation_Cleaned.csv', index=False)"
   ]
  },
  {
   "cell_type": "code",
   "execution_count": null,
   "metadata": {},
   "outputs": [],
   "source": []
  }
 ],
 "metadata": {
  "kernelspec": {
   "display_name": "EAT",
   "language": "python",
   "name": "python3"
  },
  "language_info": {
   "codemirror_mode": {
    "name": "ipython",
    "version": 3
   },
   "file_extension": ".py",
   "mimetype": "text/x-python",
   "name": "python",
   "nbconvert_exporter": "python",
   "pygments_lexer": "ipython3",
   "version": "3.9.12 (main, Apr  4 2022, 05:22:27) [MSC v.1916 64 bit (AMD64)]"
  },
  "orig_nbformat": 4,
  "vscode": {
   "interpreter": {
    "hash": "e873fd8460d25e2b7d13238b75f01f142c4b8abc313241c193ed6eac1548f508"
   }
  }
 },
 "nbformat": 4,
 "nbformat_minor": 2
}
