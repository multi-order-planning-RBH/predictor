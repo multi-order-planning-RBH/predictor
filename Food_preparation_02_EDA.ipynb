{
 "cells": [
  {
   "cell_type": "code",
   "execution_count": 1,
   "metadata": {},
   "outputs": [],
   "source": [
    "import numpy as np\n",
    "import pandas as pd\n",
    "\n",
    "import matplotlib.pyplot as plt\n",
    "import seaborn as sns"
   ]
  },
  {
   "cell_type": "code",
   "execution_count": 2,
   "metadata": {},
   "outputs": [],
   "source": [
    "df = pd.read_csv('Sample 14days_food_preparation_All.csv')"
   ]
  },
  {
   "cell_type": "code",
   "execution_count": 3,
   "metadata": {},
   "outputs": [
    {
     "name": "stdout",
     "output_type": "stream",
     "text": [
      "<class 'pandas.core.frame.DataFrame'>\n",
      "RangeIndex: 10000 entries, 0 to 9999\n",
      "Data columns (total 53 columns):\n",
      " #   Column                                                      Non-Null Count  Dtype  \n",
      "---  ------                                                      --------------  -----  \n",
      " 0   JobAcceptedDate                                             10000 non-null  object \n",
      " 1   calledMerchantTime                                          10000 non-null  object \n",
      " 2   mealPickedUpTime                                            10000 non-null  object \n",
      " 3   Merchant.Lat                                                10000 non-null  float64\n",
      " 4   Merchant.Lng                                                10000 non-null  float64\n",
      " 5   NationFoodCategory                                          10000 non-null  object \n",
      " 6   FoodCategories                                              10000 non-null  object \n",
      " 7   NationFoodCategory_International                            10000 non-null  int64  \n",
      " 8   NationFoodCategory_Isram                                    10000 non-null  int64  \n",
      " 9   NationFoodCategory_Japanese                                 10000 non-null  int64  \n",
      " 10  NationFoodCategory_Korean                                   10000 non-null  int64  \n",
      " 11  NationFoodCategory_Myanmar                                  10000 non-null  int64  \n",
      " 12  NationFoodCategory_Thai                                     10000 non-null  int64  \n",
      " 13  NationFoodCategory_Vietnam                                  10000 non-null  int64  \n",
      " 14  FoodCategories_Fast Food                                    10000 non-null  int64  \n",
      " 15  FoodCategories_Quick Meal                                   10000 non-null  int64  \n",
      " 16  FoodCategories_ขนมจีน                                       10000 non-null  int64  \n",
      " 17  FoodCategories_ของหวาน                                      10000 non-null  int64  \n",
      " 18  FoodCategories_ปิ้งย่าง                                     10000 non-null  int64  \n",
      " 19  FoodCategories_พิซซ่า                                       10000 non-null  int64  \n",
      " 20  FoodCategories_ร้านก๋วยเตี๋ยว                               10000 non-null  int64  \n",
      " 21  FoodCategories_ร้านอาหาร                                    10000 non-null  int64  \n",
      " 22  FoodCategories_สปาเก็ตตี้                                   10000 non-null  int64  \n",
      " 23  FoodCategories_สุกี้ยากี้                                   10000 non-null  int64  \n",
      " 24  FoodCategories_สเต๊ก                                        10000 non-null  int64  \n",
      " 25  FoodCategories_อาหารคลีน                                    10000 non-null  int64  \n",
      " 26  FoodCategories_อาหารจานด่วน                                 10000 non-null  int64  \n",
      " 27  FoodCategories_อาหารตามสั่ง                                 10000 non-null  int64  \n",
      " 28  FoodCategories_อาหารทะเล                                    10000 non-null  int64  \n",
      " 29  FoodCategories_อาหารอีสาน                                   10000 non-null  int64  \n",
      " 30  FoodCategories_อาหารฮาลาล                                   10000 non-null  int64  \n",
      " 31  FoodCategories_อาหารเหนือ                                   10000 non-null  int64  \n",
      " 32  FoodCategories_อาหารใต้                                     10000 non-null  int64  \n",
      " 33  FoodCategories_เครื่องดื่ม                                  10000 non-null  int64  \n",
      " 34  FoodCategories_ไก่ทอด                                       10000 non-null  int64  \n",
      " 35  NationFoodCategory_id                                       10000 non-null  int64  \n",
      " 36  FoodCategories_id                                           10000 non-null  int64  \n",
      " 37  NationFoodCategory_sin                                      10000 non-null  float64\n",
      " 38  NationFoodCategory_cos                                      10000 non-null  float64\n",
      " 39  FoodCategories_sin                                          10000 non-null  float64\n",
      " 40  FoodCategories_cos                                          10000 non-null  float64\n",
      " 41  riderInitial_to_Merchant_EucDistance                        10000 non-null  float64\n",
      " 42  riderInitial_to_Merchant_ShortestDistance                   10000 non-null  float64\n",
      " 43  day_of_week                                                 10000 non-null  int64  \n",
      " 44  day_of_week_name                                            10000 non-null  object \n",
      " 45  day_of_week_sin                                             10000 non-null  float64\n",
      " 46  day_of_week_cos                                             10000 non-null  float64\n",
      " 47  isHoliday                                                   10000 non-null  int64  \n",
      " 48  calledMerchantTime_to_arrivedAtMerchantTime_prediction (s)  10000 non-null  float64\n",
      " 49  calledMerchantTime_to_arrivedAtMerchantTime_prediction (m)  10000 non-null  float64\n",
      " 50  calledMerchantTime_to_mealPickedUpTime                      10000 non-null  object \n",
      " 51  calledMerchantTime_to_mealPickedUpTime (s)                  10000 non-null  float64\n",
      " 52  calledMerchantTime_to_mealPickedUpTime (m)                  10000 non-null  float64\n",
      "dtypes: float64(14), int64(32), object(7)\n",
      "memory usage: 4.0+ MB\n"
     ]
    }
   ],
   "source": [
    "df.info()"
   ]
  },
  {
   "cell_type": "code",
   "execution_count": 4,
   "metadata": {},
   "outputs": [
    {
     "data": {
      "text/plain": [
       "<AxesSubplot: ylabel='Frequency'>"
      ]
     },
     "execution_count": 4,
     "metadata": {},
     "output_type": "execute_result"
    },
    {
     "data": {
      "image/png": "[encoded data removed]",
      "text/plain": [
       "<Figure size 432x288 with 1 Axes>"
      ]
     },
     "metadata": {
      "needs_background": "light"
     },
     "output_type": "display_data"
    }
   ],
   "source": [
    "df['calledMerchantTime_to_mealPickedUpTime (m)'].plot(kind='hist', bins=100)"
   ]
  },
  {
   "cell_type": "code",
   "execution_count": 5,
   "metadata": {},
   "outputs": [
    {
     "data": {
      "text/plain": [
       "0        6.687714\n",
       "1       10.557847\n",
       "2       10.613229\n",
       "3       14.482695\n",
       "4        6.687714\n",
       "          ...    \n",
       "9995    10.582157\n",
       "9996     6.687714\n",
       "9997    10.613229\n",
       "9998    14.482695\n",
       "9999    10.607444\n",
       "Name: calledMerchantTime_to_arrivedAtMerchantTime_prediction (m), Length: 10000, dtype: float64"
      ]
     },
     "execution_count": 5,
     "metadata": {},
     "output_type": "execute_result"
    }
   ],
   "source": [
    "df['calledMerchantTime_to_arrivedAtMerchantTime_prediction (m)']"
   ]
  },
  {
   "cell_type": "code",
   "execution_count": 6,
   "metadata": {},
   "outputs": [
    {
     "data": {
      "text/plain": [
       "<AxesSubplot: ylabel='Frequency'>"
      ]
     },
     "execution_count": 6,
     "metadata": {},
     "output_type": "execute_result"
    },
    {
     "data": {
      "image/png": "[encoded data removed]",
      "text/plain": [
       "<Figure size 432x288 with 1 Axes>"
      ]
     },
     "metadata": {
      "needs_background": "light"
     },
     "output_type": "display_data"
    }
   ],
   "source": [
    "df['calledMerchantTime_to_arrivedAtMerchantTime_prediction (m)'].plot(kind='hist', bins=100)"
   ]
  },
  {
   "cell_type": "code",
   "execution_count": 7,
   "metadata": {},
   "outputs": [
    {
     "data": {
      "text/plain": [
       "<AxesSubplot: ylabel='Frequency'>"
      ]
     },
     "execution_count": 7,
     "metadata": {},
     "output_type": "execute_result"
    },
    {
     "data": {
      "image/png": "[encoded data removed]",
      "text/plain": [
       "<Figure size 432x288 with 1 Axes>"
      ]
     },
     "metadata": {
      "needs_background": "light"
     },
     "output_type": "display_data"
    }
   ],
   "source": [
    "(df['calledMerchantTime_to_mealPickedUpTime (m)'] - df['calledMerchantTime_to_arrivedAtMerchantTime_prediction (m)']).plot(kind='hist', bins=100)"
   ]
  },
  {
   "cell_type": "code",
   "execution_count": 8,
   "metadata": {},
   "outputs": [
    {
     "data": {
      "text/plain": [
       "<matplotlib.collections.PathCollection at 0x14ec52155b0>"
      ]
     },
     "execution_count": 8,
     "metadata": {},
     "output_type": "execute_result"
    },
    {
     "data": {
      "image/png": "[encoded data removed]",
      "text/plain": [
       "<Figure size 432x288 with 1 Axes>"
      ]
     },
     "metadata": {
      "needs_background": "light"
     },
     "output_type": "display_data"
    }
   ],
   "source": [
    "plt.scatter(df['calledMerchantTime_to_mealPickedUpTime (m)'], df['calledMerchantTime_to_arrivedAtMerchantTime_prediction (m)'])"
   ]
  },
  {
   "cell_type": "code",
   "execution_count": 9,
   "metadata": {},
   "outputs": [
    {
     "data": {
      "text/plain": [
       "count    10000.000000\n",
       "mean         9.888235\n",
       "std          3.366624\n",
       "min          6.687714\n",
       "25%          6.687714\n",
       "50%         10.557847\n",
       "75%         10.607444\n",
       "max         21.967718\n",
       "Name: calledMerchantTime_to_arrivedAtMerchantTime_prediction (m), dtype: float64"
      ]
     },
     "execution_count": 9,
     "metadata": {},
     "output_type": "execute_result"
    }
   ],
   "source": [
    "df['calledMerchantTime_to_arrivedAtMerchantTime_prediction (m)'].describe()"
   ]
  },
  {
   "cell_type": "code",
   "execution_count": null,
   "metadata": {},
   "outputs": [],
   "source": []
  },
  {
   "cell_type": "code",
   "execution_count": 10,
   "metadata": {},
   "outputs": [
    {
     "data": {
      "text/plain": [
       "((array([-3.81060943, -3.58545756, -3.46184782, ...,  3.46184782,\n",
       "          3.58545756,  3.81060943]),\n",
       "  array([ 6.68771372,  6.68771372,  6.68771372, ..., 21.96771816,\n",
       "         21.96771816, 21.96771816])),\n",
       " (3.0428687325641417, 9.88823492390531, 0.9035557083420733))"
      ]
     },
     "execution_count": 10,
     "metadata": {},
     "output_type": "execute_result"
    },
    {
     "data": {
      "image/png": "[encoded data removed]",
      "text/plain": [
       "<Figure size 432x288 with 1 Axes>"
      ]
     },
     "metadata": {
      "needs_background": "light"
     },
     "output_type": "display_data"
    }
   ],
   "source": [
    "# q-q plot\n",
    "import scipy.stats as stats\n",
    "x = df['calledMerchantTime_to_arrivedAtMerchantTime_prediction (m)']\n",
    "stats.probplot(x, dist=\"norm\", plot=plt)"
   ]
  },
  {
   "cell_type": "code",
   "execution_count": 11,
   "metadata": {},
   "outputs": [
    {
     "data": {
      "image/png": "[encoded data removed]",
      "text/plain": [
       "<Figure size 432x288 with 1 Axes>"
      ]
     },
     "metadata": {
      "needs_background": "light"
     },
     "output_type": "display_data"
    }
   ],
   "source": [
    "import statsmodels.api as sm\n",
    "import pylab as py\n",
    "  \n",
    "sm.qqplot(x, line ='45')\n",
    "py.show()"
   ]
  },
  {
   "cell_type": "code",
   "execution_count": 12,
   "metadata": {},
   "outputs": [
    {
     "name": "stdout",
     "output_type": "stream",
     "text": [
      "Statistics=0.816, p=0.000\n",
      "calledMerchantTime_to_arrivedAtMerchantTime_prediction does not look Gaussian (reject H0)\n"
     ]
    },
    {
     "name": "stderr",
     "output_type": "stream",
     "text": [
      "c:\\Users\\PoraRee\\.conda\\envs\\EAT\\lib\\site-packages\\scipy\\stats\\morestats.py:1681: UserWarning: p-value may not be accurate for N > 5000.\n",
      "  warnings.warn(\"p-value may not be accurate for N > 5000.\")\n"
     ]
    }
   ],
   "source": [
    "# Shapiro-Wilk Test\n",
    "from scipy.stats import shapiro\n",
    "stat, p = shapiro(x)\n",
    "print('Statistics=%.3f, p=%.3f' % (stat, p))\n",
    "# interpret\n",
    "alpha = 0.05\n",
    "if p > alpha:\n",
    "    print('calledMerchantTime_to_arrivedAtMerchantTime_prediction looks Gaussian (fail to reject H0)')\n",
    "else:\n",
    "    print('calledMerchantTime_to_arrivedAtMerchantTime_prediction does not look Gaussian (reject H0)')"
   ]
  },
  {
   "cell_type": "code",
   "execution_count": 13,
   "metadata": {},
   "outputs": [
    {
     "name": "stdout",
     "output_type": "stream",
     "text": [
      "Statistics=1.000, p=0.000\n",
      "calledMerchantTime_to_arrivedAtMerchantTime_prediction does not look Gaussian (reject H0)\n"
     ]
    }
   ],
   "source": [
    "# Kolmogorov-Smirnov Test\n",
    "from scipy.stats import kstest\n",
    "stat, p = kstest(x, 'norm')\n",
    "print('Statistics=%.3f, p=%.3f' % (stat, p))\n",
    "# interpret\n",
    "alpha = 0.05\n",
    "lambda_ = 0.05\n",
    "if p > alpha:\n",
    "    print('calledMerchantTime_to_arrivedAtMerchantTime_prediction looks Gaussian (fail to reject H0)')\n",
    "else:\n",
    "    print('calledMerchantTime_to_arrivedAtMerchantTime_prediction does not look Gaussian (reject H0)')"
   ]
  },
  {
   "cell_type": "code",
   "execution_count": null,
   "metadata": {},
   "outputs": [],
   "source": []
  },
  {
   "cell_type": "code",
   "execution_count": 14,
   "metadata": {},
   "outputs": [
    {
     "data": {
      "text/plain": [
       "((array([-3.81060943, -3.58545756, -3.46184782, ...,  3.46184782,\n",
       "          3.58545756,  3.81060943]),\n",
       "  array([ 3.36666667,  3.43333333,  3.43333333, ..., 38.45      ,\n",
       "         39.15      , 39.73333333])),\n",
       " (6.058778554183854, 17.318068333333333, 0.9963470852392098))"
      ]
     },
     "execution_count": 14,
     "metadata": {},
     "output_type": "execute_result"
    },
    {
     "data": {
      "image/png": "[encoded data removed]",
      "text/plain": [
       "<Figure size 432x288 with 1 Axes>"
      ]
     },
     "metadata": {
      "needs_background": "light"
     },
     "output_type": "display_data"
    }
   ],
   "source": [
    "# q-q plot\n",
    "import scipy.stats as stats\n",
    "x = df['calledMerchantTime_to_mealPickedUpTime (m)']\n",
    "stats.probplot(x, dist=\"norm\", plot=plt)"
   ]
  },
  {
   "cell_type": "code",
   "execution_count": 15,
   "metadata": {},
   "outputs": [
    {
     "data": {
      "image/png": "[encoded data removed]",
      "text/plain": [
       "<Figure size 432x288 with 1 Axes>"
      ]
     },
     "metadata": {
      "needs_background": "light"
     },
     "output_type": "display_data"
    }
   ],
   "source": [
    "sm.qqplot(x, line ='45')\n",
    "py.show()"
   ]
  },
  {
   "cell_type": "code",
   "execution_count": 16,
   "metadata": {},
   "outputs": [
    {
     "name": "stdout",
     "output_type": "stream",
     "text": [
      "Statistics=0.816, p=0.000\n",
      "calledMerchantTime_to_mealPickedUpTime does not look Gaussian (reject H0)\n"
     ]
    }
   ],
   "source": [
    "# Shapiro-Wilk Test\n",
    "from scipy.stats import shapiro\n",
    "stat, p = shapiro(df['calledMerchantTime_to_arrivedAtMerchantTime_prediction (m)'])\n",
    "print('Statistics=%.3f, p=%.3f' % (stat, p))\n",
    "# interpret\n",
    "alpha = 0.05\n",
    "if p > alpha:\n",
    "    print('calledMerchantTime_to_mealPickedUpTime looks Gaussian (fail to reject H0)')\n",
    "else:\n",
    "    print('calledMerchantTime_to_mealPickedUpTime does not look Gaussian (reject H0)')"
   ]
  },
  {
   "cell_type": "code",
   "execution_count": 18,
   "metadata": {},
   "outputs": [
    {
     "name": "stdout",
     "output_type": "stream",
     "text": [
      "Statistics=1.000, p=0.000\n",
      "calledMerchantTime_to_mealPickedUpTime does not look Gaussian (reject H0)\n"
     ]
    }
   ],
   "source": [
    "# Kolmogorov-Smirnov Test\n",
    "from scipy.stats import kstest\n",
    "stat, p = kstest(x, 'norm')\n",
    "print('Statistics=%.3f, p=%.3f' % (stat, p))\n",
    "# interpret\n",
    "alpha = 0.05\n",
    "lambda_ = 0.05\n",
    "if p > alpha:\n",
    "    print('calledMerchantTime_to_mealPickedUpTime looks Gaussian (fail to reject H0)')\n",
    "else:\n",
    "    print('calledMerchantTime_to_mealPickedUpTime does not look Gaussian (reject H0)')"
   ]
  },
  {
   "cell_type": "code",
   "execution_count": null,
   "metadata": {},
   "outputs": [],
   "source": []
  }
 ],
 "metadata": {
  "kernelspec": {
   "display_name": "EAT",
   "language": "python",
   "name": "python3"
  },
  "language_info": {
   "codemirror_mode": {
    "name": "ipython",
    "version": 3
   },
   "file_extension": ".py",
   "mimetype": "text/x-python",
   "name": "python",
   "nbconvert_exporter": "python",
   "pygments_lexer": "ipython3",
   "version": "3.9.12"
  },
  "orig_nbformat": 4,
  "vscode": {
   "interpreter": {
    "hash": "e873fd8460d25e2b7d13238b75f01f142c4b8abc313241c193ed6eac1548f508"
   }
  }
 },
 "nbformat": 4,
 "nbformat_minor": 2
}
