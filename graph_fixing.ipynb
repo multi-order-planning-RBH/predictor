{
 "cells": [
  {
   "cell_type": "code",
   "execution_count": 2,
   "metadata": {},
   "outputs": [
    {
     "data": {
      "text/plain": [
       "{'n': 183151,\n",
       " 'm': 398051,\n",
       " 'k_avg': 4.3466975337289995,\n",
       " 'edge_length_total': 34457749.39399898,\n",
       " 'edge_length_avg': 86.56616713435962,\n",
       " 'streets_per_node_avg': 2.310148456737883,\n",
       " 'streets_per_node_counts': {0: 0,\n",
       "  1: 70441,\n",
       "  2: 461,\n",
       "  3: 97331,\n",
       "  4: 14847,\n",
       "  5: 64,\n",
       "  6: 7},\n",
       " 'streets_per_node_proportions': {0: 0.0,\n",
       "  1: 0.3846061446565948,\n",
       "  2: 0.002517048773962468,\n",
       "  3: 0.5314248898449913,\n",
       "  4: 0.0810642584534073,\n",
       "  5: 0.0003494384415045509,\n",
       "  6: 3.8219829539560254e-05},\n",
       " 'intersection_count': 112710,\n",
       " 'street_length_total': 18817546.060999963,\n",
       " 'street_segment_count': 211550,\n",
       " 'street_length_avg': 88.95082042543116,\n",
       " 'circuity_avg': 1.0538989100172231,\n",
       " 'self_loop_proportion': 0.001366107303238005}"
      ]
     },
     "execution_count": 2,
     "metadata": {},
     "output_type": "execute_result"
    }
   ],
   "source": [
    "import osmnx as ox\n",
    "# import matplotlib.pyplot as plt\n",
    "# %matplotlib inline\n",
    "\n",
    "import pickle as pkl\n",
    "\n",
    "# Specify the name that is used to seach for the data\n",
    "# place_name = \"Bangkok, Thailand\" #Thailand\n",
    "\n",
    "# Fetch OSM street network from the location\n",
    "# graph = ox.graph_from_place(place_name)\n",
    "graph = pkl.load(open('bangkok_graph.pkl', 'rb')) \n",
    "\n",
    "ox.basic_stats(graph)"
   ]
  },
  {
   "cell_type": "code",
   "execution_count": 33,
   "metadata": {},
   "outputs": [],
   "source": [
    "import networkx as nx "
   ]
  },
  {
   "cell_type": "code",
   "execution_count": 4,
   "metadata": {},
   "outputs": [],
   "source": [
    "G = graph "
   ]
  },
  {
   "cell_type": "code",
   "execution_count": 20,
   "metadata": {},
   "outputs": [],
   "source": [
    "# nodes.items() show lat,long \n",
    "nodes = G.nodes()\n",
    "n = G.number_of_nodes()"
   ]
  },
  {
   "cell_type": "code",
   "execution_count": 23,
   "metadata": {},
   "outputs": [
    {
     "name": "stdout",
     "output_type": "stream",
     "text": [
      "51479828 {'y': 13.7525696, 'x': 100.5260262, 'street_count': 4}\n",
      "51479831 {'y': 13.7519092, 'x': 100.5256993, 'street_count': 3}\n",
      "51479856 {'y': 13.7532275, 'x': 100.5262837, 'street_count': 3}\n",
      "61703336 {'y': 13.735508, 'x': 100.5626041, 'street_count': 3}\n",
      "61703351 {'y': 13.6823662, 'x': 100.610412, 'street_count': 3}\n",
      "61703358 {'y': 13.6622587, 'x': 100.6023471, 'street_count': 4}\n",
      "61703359 {'y': 13.6587716, 'x': 100.6009208, 'highway': 'traffic_signals', 'street_count': 4}\n",
      "61705864 {'y': 13.6612042, 'x': 100.6433283, 'street_count': 3}\n",
      "61705866 {'y': 13.6719145, 'x': 100.6454685, 'street_count': 3}\n",
      "61705868 {'y': 13.6778189, 'x': 100.6459456, 'street_count': 4}\n"
     ]
    }
   ],
   "source": [
    "cnt = 0 \n",
    "for u,v in nodes.items():\n",
    "    print(u,v)\n",
    "    cnt+=1\n",
    "    if(cnt==10):\n",
    "        break\n"
   ]
  },
  {
   "cell_type": "code",
   "execution_count": 25,
   "metadata": {},
   "outputs": [
    {
     "name": "stdout",
     "output_type": "stream",
     "text": [
      "398051\n"
     ]
    }
   ],
   "source": [
    "m = G.number_of_edges()\n",
    "print(m)"
   ]
  },
  {
   "cell_type": "code",
   "execution_count": 30,
   "metadata": {},
   "outputs": [
    {
     "name": "stdout",
     "output_type": "stream",
     "text": [
      "(51479828, 1337580877, 0)\n",
      "(51479856, 1337580877, 0)\n",
      "(1337580877, 51479856, 0)\n",
      "(1337580877, 51479828, 0)\n",
      "(1337580877, 1337580882, 0)\n",
      "(1337580882, 1337580877, 0)\n"
     ]
    }
   ],
   "source": [
    "g = {}\n",
    "cnt = 0 \n",
    "for e in G.edges: \n",
    "    g[]\n",
    "#     print(e[0],e[1])\n",
    "#     if(e[0]==1337580877 or e[1] == 1337580877): \n",
    "#         print(e)\n",
    "#     cnt+=1\n",
    "#     if(cnt==10):\n",
    "#         break"
   ]
  },
  {
   "cell_type": "code",
   "execution_count": 35,
   "metadata": {},
   "outputs": [
    {
     "name": "stdout",
     "output_type": "stream",
     "text": [
      "302\n"
     ]
    }
   ],
   "source": [
    "print(nx.number_strongly_connected_components(G))"
   ]
  },
  {
   "cell_type": "code",
   "execution_count": 62,
   "metadata": {},
   "outputs": [],
   "source": []
  },
  {
   "cell_type": "code",
   "execution_count": 70,
   "metadata": {
    "scrolled": true
   },
   "outputs": [
    {
     "name": "stdout",
     "output_type": "stream",
     "text": [
      "1079\n"
     ]
    }
   ],
   "source": [
    "comp = nx.strongly_connected_components(G)\n",
    "remove_nodes = set() \n",
    "for c in comp: \n",
    "    if(len(c)!=182072):\n",
    "        remove_nodes = remove_nodes.union(c)\n",
    "print(len(remove_nodes))"
   ]
  },
  {
   "cell_type": "code",
   "execution_count": 71,
   "metadata": {},
   "outputs": [],
   "source": [
    "G.remove_nodes_from(remove_nodes)"
   ]
  },
  {
   "cell_type": "code",
   "execution_count": 72,
   "metadata": {},
   "outputs": [
    {
     "name": "stdout",
     "output_type": "stream",
     "text": [
      "182072\n"
     ]
    }
   ],
   "source": [
    "print(G.number_of_nodes())"
   ]
  },
  {
   "cell_type": "code",
   "execution_count": 73,
   "metadata": {},
   "outputs": [
    {
     "data": {
      "text/plain": [
       "182072"
      ]
     },
     "execution_count": 73,
     "metadata": {},
     "output_type": "execute_result"
    }
   ],
   "source": []
  },
  {
   "cell_type": "code",
   "execution_count": null,
   "metadata": {},
   "outputs": [],
   "source": []
  }
 ],
 "metadata": {
  "kernelspec": {
   "display_name": "Python 3",
   "language": "python",
   "name": "python3"
  },
  "language_info": {
   "codemirror_mode": {
    "name": "ipython",
    "version": 3
   },
   "file_extension": ".py",
   "mimetype": "text/x-python",
   "name": "python",
   "nbconvert_exporter": "python",
   "pygments_lexer": "ipython3",
   "version": "3.8.10"
  }
 },
 "nbformat": 4,
 "nbformat_minor": 4
}
