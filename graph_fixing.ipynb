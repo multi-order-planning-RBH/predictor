{
 "cells": [
  {
   "cell_type": "code",
   "execution_count": null,
   "metadata": {},
   "outputs": [],
   "source": [
    "import osmnx as ox\n",
    "# import matplotlib.pyplot as plt\n",
    "# %matplotlib inline\n",
    "import networkx as nx \n",
    "import pickle as pkl\n",
    "\n",
    "# Specify the name that is used to seach for the data\n",
    "# place_name = \"Bangkok, Thailand\" #Thailand\n",
    "\n",
    "# Fetch OSM street network from the location\n",
    "# graph = ox.graph_from_place(place_name)\n",
    "graph = pkl.load(open('bangkok_graph.pkl', 'rb')) \n",
    "\n",
    "# ox.basic_stats(graph)"
   ]
  },
  {
   "cell_type": "code",
   "execution_count": null,
   "metadata": {},
   "outputs": [],
   "source": [
    "G = graph "
   ]
  },
  {
   "cell_type": "code",
   "execution_count": null,
   "metadata": {},
   "outputs": [],
   "source": [
    "# nodes.items() show lat,long \n",
    "nodes = G.nodes()\n",
    "n = G.number_of_nodes()"
   ]
  },
  {
   "cell_type": "code",
   "execution_count": null,
   "metadata": {},
   "outputs": [
    {
     "name": "stdout",
     "output_type": "stream",
     "text": [
      "51479828 {'y': 13.7525696, 'x': 100.5260262, 'street_count': 4}\n",
      "51479831 {'y': 13.7519092, 'x': 100.5256993, 'street_count': 3}\n",
      "51479856 {'y': 13.7532275, 'x': 100.5262837, 'street_count': 3}\n",
      "61703336 {'y': 13.735508, 'x': 100.5626041, 'street_count': 3}\n",
      "61703351 {'y': 13.6823662, 'x': 100.610412, 'street_count': 3}\n",
      "61703358 {'y': 13.6622587, 'x': 100.6023471, 'street_count': 4}\n",
      "61703359 {'y': 13.6587716, 'x': 100.6009208, 'highway': 'traffic_signals', 'street_count': 4}\n",
      "61705864 {'y': 13.6612042, 'x': 100.6433283, 'street_count': 3}\n",
      "61705866 {'y': 13.6719145, 'x': 100.6454685, 'street_count': 3}\n",
      "61705868 {'y': 13.6778189, 'x': 100.6459456, 'street_count': 4}\n"
     ]
    }
   ],
   "source": [
    "cnt = 0 \n",
    "for u,v in nodes.items():\n",
    "    print(u,v)\n",
    "    cnt+=1\n",
    "    if(cnt==10):\n",
    "        break\n"
   ]
  },
  {
   "cell_type": "code",
   "execution_count": null,
   "metadata": {},
   "outputs": [
    {
     "name": "stdout",
     "output_type": "stream",
     "text": [
      "398051\n"
     ]
    }
   ],
   "source": [
    "m = G.number_of_edges()\n",
    "print(m)"
   ]
  },
  {
   "cell_type": "code",
   "execution_count": null,
   "metadata": {},
   "outputs": [
    {
     "name": "stdout",
     "output_type": "stream",
     "text": [
      "(51479828, 1337580877, 0)\n",
      "(51479856, 1337580877, 0)\n",
      "(1337580877, 51479856, 0)\n",
      "(1337580877, 51479828, 0)\n",
      "(1337580877, 1337580882, 0)\n",
      "(1337580882, 1337580877, 0)\n"
     ]
    }
   ],
   "source": [
    "g = {}\n",
    "cnt = 0 \n",
    "for e in G.edges: \n",
    "    g[]\n",
    "#     print(e[0],e[1])\n",
    "#     if(e[0]==1337580877 or e[1] == 1337580877): \n",
    "#         print(e)\n",
    "#     cnt+=1\n",
    "#     if(cnt==10):\n",
    "#         break"
   ]
  },
  {
   "cell_type": "code",
   "execution_count": null,
   "metadata": {},
   "outputs": [
    {
     "name": "stdout",
     "output_type": "stream",
     "text": [
      "302\n"
     ]
    }
   ],
   "source": [
    "print(nx.number_strongly_connected_components(G))"
   ]
  },
  {
   "cell_type": "code",
   "execution_count": null,
   "metadata": {
    "scrolled": true
   },
   "outputs": [
    {
     "name": "stdout",
     "output_type": "stream",
     "text": [
      "1079\n"
     ]
    }
   ],
   "source": [
    "comp = nx.strongly_connected_components(G)\n",
    "remove_nodes = set() \n",
    "for c in comp: \n",
    "    if(len(c)!=182072):\n",
    "        remove_nodes = remove_nodes.union(c)\n",
    "print(len(remove_nodes))"
   ]
  },
  {
   "cell_type": "code",
   "execution_count": null,
   "metadata": {},
   "outputs": [],
   "source": [
    "G.remove_nodes_from(remove_nodes)"
   ]
  },
  {
   "cell_type": "code",
   "execution_count": null,
   "metadata": {},
   "outputs": [
    {
     "name": "stdout",
     "output_type": "stream",
     "text": [
      "182072\n"
     ]
    }
   ],
   "source": [
    "print(G.number_of_nodes())"
   ]
  }
 ],
 "metadata": {
  "kernelspec": {
   "display_name": "Python 3.9.11 64-bit",
   "language": "python",
   "name": "python3"
  },
  "language_info": {
   "codemirror_mode": {
    "name": "ipython",
    "version": 3
   },
   "file_extension": ".py",
   "mimetype": "text/x-python",
   "name": "python",
   "nbconvert_exporter": "python",
   "pygments_lexer": "ipython3",
   "version": "3.9.11 (tags/v3.9.11:2de452f, Mar 16 2022, 14:33:45) [MSC v.1929 64 bit (AMD64)]"
  },
  "vscode": {
   "interpreter": {
    "hash": "11938c6bc6919ae2720b4d5011047913343b08a43b18698fd82dedb0d4417594"
   }
  }
 },
 "nbformat": 4,
 "nbformat_minor": 4
}
