{
 "cells": [
  {
   "cell_type": "code",
   "execution_count": 2,
   "metadata": {},
   "outputs": [],
   "source": [
    "import osmnx as ox\n",
    "import matplotlib.pyplot as plt\n",
    "%matplotlib inline\n",
    "\n",
    "import pickle as pkl\n",
    "\n",
    "# Specify the name that is used to seach for the data\n",
    "place_name = \"Bangkok, Thailand\" #Thailand\n",
    "\n",
    "# Fetch OSM street network from the location\n",
    "# graph = ox.graph_from_place(place_name)\n",
    "graph = pkl.load(open('graph_fix.pkl', 'rb')) "
   ]
  },
  {
   "cell_type": "code",
   "execution_count": 10,
   "metadata": {
    "scrolled": true
   },
   "outputs": [],
   "source": [
    "# Get statistic of graph (number of nodes, edges, etc.)\n",
    "ox.basic_stats(graph)"
   ]
  },
  {
   "cell_type": "code",
   "execution_count": 11,
   "metadata": {},
   "outputs": [
    {
     "name": "stdout",
     "output_type": "stream",
     "text": [
      "True\n"
     ]
    }
   ],
   "source": [
    "print(nx.is_strongly_connected(graph))"
   ]
  },
  {
   "cell_type": "code",
   "execution_count": 12,
   "metadata": {},
   "outputs": [],
   "source": [
    "edges = list(graph.edges())\n",
    "nodes = list(graph.nodes())"
   ]
  },
  {
   "cell_type": "code",
   "execution_count": 16,
   "metadata": {},
   "outputs": [
    {
     "name": "stdout",
     "output_type": "stream",
     "text": [
      "11.3 ns ± 0.0512 ns per loop (mean ± std. dev. of 7 runs, 100000000 loops each)\n"
     ]
    }
   ],
   "source": [
    "# use %%timeit to see how long it takes to run the function"
   ]
  },
  {
   "cell_type": "code",
   "execution_count": 13,
   "metadata": {},
   "outputs": [],
   "source": [
    "# Random 2 nodes for try shortest path algorithm\n",
    "import random"
   ]
  },
  {
   "cell_type": "code",
   "execution_count": 65,
   "metadata": {},
   "outputs": [],
   "source": [
    "# using networkx's dijkstra algorithm to find shortest path (from orig to dest)"
   ]
  },
  {
   "cell_type": "code",
   "execution_count": 66,
   "metadata": {},
   "outputs": [
    {
     "name": "stdout",
     "output_type": "stream",
     "text": [
      "449 ms ± 16.6 ms per loop (mean ± std. dev. of 7 runs, 1 loop each)\n"
     ]
    }
   ],
   "source": [
    "%%timeit\n",
    "shortest_path = nx.shortest_path(graph, orig, dest, weight='length')"
   ]
  },
  {
   "cell_type": "code",
   "execution_count": 67,
   "metadata": {},
   "outputs": [
    {
     "name": "stdout",
     "output_type": "stream",
     "text": [
      "486 ms ± 24.1 ms per loop (mean ± std. dev. of 7 runs, 1 loop each)\n"
     ]
    }
   ],
   "source": [
    "%%timeit\n",
    "shortest_path_length = nx.shortest_path_length(graph, orig, dest, weight='length')"
   ]
  },
  {
   "cell_type": "code",
   "execution_count": 14,
   "metadata": {},
   "outputs": [],
   "source": [
    "# Define the heuritic function\n",
    "from math import cos, sqrt\n",
    "def heuristic(u, v):\n",
    "    u_point = (graph.nodes[u]['y'], graph.nodes[u]['x'])\n",
    "    v_point = (graph.nodes[v]['y'], graph.nodes[v]['x'])\n",
    "    \n",
    "    coords_1 = u_point\n",
    "    coords_2 = v_point\n",
    "\n",
    "    R = 6371000\n",
    "    conversion_const = 0.0174533\n",
    "\n",
    "    c_1 = (coords_1[0]*conversion_const,coords_1[1]*conversion_const)\n",
    "    c_2 = (coords_2[0]*conversion_const,coords_2[1]*conversion_const)\n",
    "\n",
    "\n",
    "    delta_phi = abs(c_1[1]-c_2[1])\n",
    "\n",
    "    theta = c_1[0]\n",
    "    delta_theta = abs(c_1[0]-c_2[0])\n",
    "\n",
    "    del_x = R*cos(theta)*delta_phi \n",
    "    del_y = R*delta_theta\n",
    "\n",
    "    ans = sqrt(del_x**2+del_y**2)\n",
    "    return ans*2"
   ]
  },
  {
   "cell_type": "code",
   "execution_count": null,
   "metadata": {},
   "outputs": [],
   "source": [
    "# code for find u,v that not have path\n",
    "succ = 0\n",
    "count = 0\n",
    "while count < 1 and succ < 20:\n",
    "    print(succ, count)\n",
    "    orig = random.choice(nodes)\n",
    "    dest = random.choice(nodes)\n",
    "    try:\n",
    "        astar_path_length = nx.astar_path_length(graph, orig, dest, heuristic=heuristic, weight='length')\n",
    "    except:\n",
    "        count += 1\n",
    "        with open(\"err_nodes.txt\", \"a\") as f:\n",
    "            f.write(str(orig) + \":\" + str(graph.nodes()[orig]) + \", \" + str(dest) + \":\" + str(graph.nodes()[dest]) + \"\\n\")\n",
    "    succ += 1\n",
    "    print(\"end\", succ, count)"
   ]
  },
  {
   "cell_type": "code",
   "execution_count": 69,
   "metadata": {},
   "outputs": [],
   "source": [
    "# using networkx's A-star algorithm to find shortest path (from orig to dest) with heuristic funtion"
   ]
  },
  {
   "cell_type": "code",
   "execution_count": 70,
   "metadata": {},
   "outputs": [
    {
     "name": "stdout",
     "output_type": "stream",
     "text": [
      "7.76 ms ± 350 µs per loop (mean ± std. dev. of 7 runs, 100 loops each)\n"
     ]
    }
   ],
   "source": [
    "%%timeit\n",
    "astar_path = nx.astar_path(graph, orig, dest, heuristic=heuristic, weight='length')"
   ]
  },
  {
   "cell_type": "code",
   "execution_count": 71,
   "metadata": {},
   "outputs": [
    {
     "name": "stdout",
     "output_type": "stream",
     "text": [
      "8.04 ms ± 167 µs per loop (mean ± std. dev. of 7 runs, 100 loops each)\n"
     ]
    }
   ],
   "source": [
    "%%timeit\n",
    "astar_path_length = nx.astar_path_length(graph, orig, dest, heuristic=heuristic, weight='length')"
   ]
  },
  {
   "cell_type": "code",
   "execution_count": 15,
   "metadata": {},
   "outputs": [],
   "source": [
    "import time\n",
    "import numpy as np\n",
    "import networkx as nx\n",
    "import random"
   ]
  },
  {
   "cell_type": "code",
   "execution_count": 4,
   "metadata": {},
   "outputs": [
    {
     "name": "stdout",
     "output_type": "stream",
     "text": [
      "Mean duration: 0.45 seconds\n",
      "Median duration: 0.48 seconds\n",
      "Standard deviation: 0.26 seconds\n"
     ]
    }
   ],
   "source": [
    "G = pkl.load(open('bangkok_graph.pkl', 'rb'))"
   ]
  },
  {
   "cell_type": "code",
   "execution_count": 8,
   "metadata": {},
   "outputs": [
    {
     "name": "stdout",
     "output_type": "stream",
     "text": [
      "Mean duration: 0.03 seconds\n",
      "Median duration: 0.01 seconds\n",
      "Standard deviation: 0.04 seconds\n"
     ]
    }
   ],
   "source": [
    "n = 100\n",
    "i = 0\n",
    "durations = []\n",
    "while i<n:\n",
    "    start_time = time.time()\n",
    "    orig = random.choice(nodes)\n",
    "    dest = random.choice(nodes)\n",
    "    try:\n",
    "        astar_path_length = nx.astar_path_length(graph, orig, dest, heuristic=heuristic, weight='length')\n",
    "    except:\n",
    "        continue\n",
    "    end_time = time.time()\n",
    "    duration = end_time - start_time\n",
    "    durations.append(duration)\n",
    "    i += 1\n",
    "duration_mean = np.mean(durations)\n",
    "duration_median = np.median(durations)\n",
    "duration_std =  np.std(durations)\n",
    "print(\"Mean duration: {:.2f} seconds\".format(duration_mean))\n",
    "print(\"Median duration: {:.2f} seconds\".format(duration_median))\n",
    "print(\"Standard deviation: {:.2f} seconds\".format(duration_std))\n",
    "    "
   ]
  },
  {
   "cell_type": "code",
   "execution_count": 4,
   "metadata": {},
   "outputs": [],
   "source": [
    "import random"
   ]
  },
  {
   "cell_type": "code",
   "execution_count": 10,
   "metadata": {},
   "outputs": [
    {
     "data": {
      "text/plain": [
       "3011050475"
      ]
     },
     "execution_count": 10,
     "metadata": {},
     "output_type": "execute_result"
    }
   ],
   "source": [
    "orig"
   ]
  },
  {
   "cell_type": "code",
   "execution_count": 13,
   "metadata": {},
   "outputs": [
    {
     "data": {
      "text/plain": [
       "{'y': 13.7703336, 'x': 100.399658, 'street_count': 3}"
      ]
     },
     "execution_count": 13,
     "metadata": {},
     "output_type": "execute_result"
    }
   ],
   "source": [
    "graph.nodes()[orig]"
   ]
  },
  {
   "cell_type": "code",
   "execution_count": 15,
   "metadata": {},
   "outputs": [
    {
     "data": {
      "text/plain": [
       "<networkx.classes.multidigraph.MultiDiGraph at 0x17ca4da4760>"
      ]
     },
     "execution_count": 15,
     "metadata": {},
     "output_type": "execute_result"
    }
   ],
   "source": [
    "graph"
   ]
  },
  {
   "cell_type": "code",
   "execution_count": 16,
   "metadata": {},
   "outputs": [],
   "source": [
    "g = ox.get_undirected(graph)"
   ]
  },
  {
   "cell_type": "code",
   "execution_count": 19,
   "metadata": {},
   "outputs": [],
   "source": [
    "pkl.dump(g, open(\"bangkok_graph_drive_undir.pkl\", \"wb\"))"
   ]
  },
  {
   "cell_type": "code",
   "execution_count": 23,
   "metadata": {},
   "outputs": [],
   "source": [
    "nodes = list(g.nodes())"
   ]
  },
  {
   "cell_type": "code",
   "execution_count": 24,
   "metadata": {},
   "outputs": [],
   "source": [
    "# code for find u,v that not have path\n",
    "count = 0\n",
    "while count < 20:\n",
    "    orig = random.choice(nodes)\n",
    "    dest = random.choice(nodes)\n",
    "    try:\n",
    "        astar_path_length = nx.astar_path_length(g, orig, dest, heuristic=heuristic, weight='length')\n",
    "    except:\n",
    "        count += 1\n",
    "        with open(\"err_nodes.txt\", \"a\") as f:\n",
    "            f.write(str(orig) + \":\" + str(g.nodes()[orig]) + \", \" + str(dest) + \":\" + str(g.nodes()[dest]) + \"\\n\")"
   ]
  },
  {
   "cell_type": "code",
   "execution_count": 21,
   "metadata": {},
   "outputs": [
    {
     "data": {
      "text/plain": [
       "<networkx.classes.multigraph.MultiGraph at 0x17ca4da4ee0>"
      ]
     },
     "execution_count": 21,
     "metadata": {},
     "output_type": "execute_result"
    }
   ],
   "source": [
    "g"
   ]
  },
  {
   "cell_type": "code",
   "execution_count": 25,
   "metadata": {},
   "outputs": [
    {
     "data": {
      "text/plain": [
       "MultiEdgeDataView([(6004358296, 6004358297, None)])"
      ]
     },
     "execution_count": 25,
     "metadata": {},
     "output_type": "execute_result"
    }
   ],
   "source": [
    "g.edges(orig, dest)"
   ]
  },
  {
   "cell_type": "code",
   "execution_count": null,
   "metadata": {},
   "outputs": [],
   "source": []
  }
 ],
 "metadata": {
  "kernelspec": {
   "display_name": "Python 3.9.12 ('EAT')",
   "language": "python",
   "name": "python3"
  },
  "language_info": {
   "codemirror_mode": {
    "name": "ipython",
    "version": 3
   },
   "file_extension": ".py",
   "mimetype": "text/x-python",
   "name": "python",
   "nbconvert_exporter": "python",
   "pygments_lexer": "ipython3",
   "version": "3.9.12 (main, Apr  4 2022, 05:22:27) [MSC v.1916 64 bit (AMD64)]"
  },
  "vscode": {
   "interpreter": {
    "hash": "e873fd8460d25e2b7d13238b75f01f142c4b8abc313241c193ed6eac1548f508"
   }
  }
 },
 "nbformat": 4,
 "nbformat_minor": 2
}
