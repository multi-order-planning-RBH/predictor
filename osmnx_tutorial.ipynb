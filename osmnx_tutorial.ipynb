{
 "cells": [
  {
   "cell_type": "code",
   "execution_count": 1,
   "metadata": {},
   "outputs": [],
   "source": [
    "import osmnx as ox\n",
    "import matplotlib.pyplot as plt\n",
    "%matplotlib inline\n",
    "\n",
    "import pickle as pkl\n",
    "\n",
    "# Specify the name that is used to seach for the data\n",
    "place_name = \"Bangkok, Thailand\" #Thailand\n",
    "\n",
    "# Fetch OSM street network from the location\n",
    "# graph = ox.graph_from_place(place_name)\n",
    "graph = pkl.load(open('graph_fix.pkl', 'rb')) "
   ]
  },
  {
   "cell_type": "code",
   "execution_count": 3,
   "metadata": {},
   "outputs": [],
   "source": [
    "# Plot the streets\n",
    "# fig, ax = ox.plot_graph(graph)"
   ]
  },
  {
   "cell_type": "code",
   "execution_count": 2,
   "metadata": {},
   "outputs": [],
   "source": [
    "area = ox.geocode_to_gdf(place_name) # returns a GeoDataFrame based on the specified place name query"
   ]
  },
  {
   "cell_type": "code",
   "execution_count": 3,
   "metadata": {},
   "outputs": [
    {
     "data": {
      "text/html": [
       "<div>\n",
       "<style scoped>\n",
       "    .dataframe tbody tr th:only-of-type {\n",
       "        vertical-align: middle;\n",
       "    }\n",
       "\n",
       "    .dataframe tbody tr th {\n",
       "        vertical-align: top;\n",
       "    }\n",
       "\n",
       "    .dataframe thead th {\n",
       "        text-align: right;\n",
       "    }\n",
       "</style>\n",
       "<table border=\"1\" class=\"dataframe\">\n",
       "  <thead>\n",
       "    <tr style=\"text-align: right;\">\n",
       "      <th></th>\n",
       "      <th>geometry</th>\n",
       "      <th>bbox_north</th>\n",
       "      <th>bbox_south</th>\n",
       "      <th>bbox_east</th>\n",
       "      <th>bbox_west</th>\n",
       "      <th>place_id</th>\n",
       "      <th>osm_type</th>\n",
       "      <th>osm_id</th>\n",
       "      <th>lat</th>\n",
       "      <th>lon</th>\n",
       "      <th>display_name</th>\n",
       "      <th>class</th>\n",
       "      <th>type</th>\n",
       "      <th>importance</th>\n",
       "    </tr>\n",
       "  </thead>\n",
       "  <tbody>\n",
       "    <tr>\n",
       "      <th>0</th>\n",
       "      <td>POLYGON ((100.32788 13.80418, 100.32789 13.803...</td>\n",
       "      <td>13.955169</td>\n",
       "      <td>13.216667</td>\n",
       "      <td>100.938604</td>\n",
       "      <td>100.327877</td>\n",
       "      <td>297325349</td>\n",
       "      <td>relation</td>\n",
       "      <td>92277</td>\n",
       "      <td>13.82458</td>\n",
       "      <td>100.622446</td>\n",
       "      <td>Bangkok, Thailand</td>\n",
       "      <td>boundary</td>\n",
       "      <td>administrative</td>\n",
       "      <td>0.886241</td>\n",
       "    </tr>\n",
       "  </tbody>\n",
       "</table>\n",
       "</div>"
      ],
      "text/plain": [
       "                                            geometry  bbox_north  bbox_south  \\\n",
       "0  POLYGON ((100.32788 13.80418, 100.32789 13.803...   13.955169   13.216667   \n",
       "\n",
       "    bbox_east   bbox_west   place_id  osm_type  osm_id       lat         lon  \\\n",
       "0  100.938604  100.327877  297325349  relation   92277  13.82458  100.622446   \n",
       "\n",
       "        display_name     class            type  importance  \n",
       "0  Bangkok, Thailand  boundary  administrative    0.886241  "
      ]
     },
     "execution_count": 3,
     "metadata": {},
     "output_type": "execute_result"
    }
   ],
   "source": [
    "area # check data"
   ]
  },
  {
   "cell_type": "code",
   "execution_count": null,
   "metadata": {},
   "outputs": [],
   "source": [
    "buildings = ox.geometries_from_place(place_name, tags={'building':True}) # Retrieve buildings from the area:"
   ]
  },
  {
   "cell_type": "code",
   "execution_count": null,
   "metadata": {},
   "outputs": [],
   "source": [
    "len(buildings) # Check how many building footprints we received:"
   ]
  },
  {
   "cell_type": "code",
   "execution_count": null,
   "metadata": {},
   "outputs": [],
   "source": [
    "buildings.head(3) # Check the first rows:"
   ]
  },
  {
   "cell_type": "code",
   "execution_count": null,
   "metadata": {},
   "outputs": [],
   "source": [
    "# Retrieve restaurants\n",
    "restaurants = ox.geometries_from_place(place_name, \n",
    "                                  tags={\"amenity\": \"restaurant\"}\n",
    "                                 )\n",
    "# How many restaurants do we have?\n",
    "len(restaurants)"
   ]
  },
  {
   "cell_type": "code",
   "execution_count": 11,
   "metadata": {
    "scrolled": true
   },
   "outputs": [
    {
     "data": {
      "text/plain": [
       "{'n': 183151,\n",
       " 'm': 398051,\n",
       " 'k_avg': 4.3466975337289995,\n",
       " 'edge_length_total': 34457749.39399898,\n",
       " 'edge_length_avg': 86.56616713435962,\n",
       " 'streets_per_node_avg': 2.310148456737883,\n",
       " 'streets_per_node_counts': {0: 0,\n",
       "  1: 70441,\n",
       "  2: 461,\n",
       "  3: 97331,\n",
       "  4: 14847,\n",
       "  5: 64,\n",
       "  6: 7},\n",
       " 'streets_per_node_proportions': {0: 0.0,\n",
       "  1: 0.3846061446565948,\n",
       "  2: 0.002517048773962468,\n",
       "  3: 0.5314248898449913,\n",
       "  4: 0.0810642584534073,\n",
       "  5: 0.0003494384415045509,\n",
       "  6: 3.8219829539560254e-05},\n",
       " 'intersection_count': 112710,\n",
       " 'street_length_total': 18817546.060999963,\n",
       " 'street_segment_count': 211550,\n",
       " 'street_length_avg': 88.95082042543116,\n",
       " 'circuity_avg': 1.0538989100172231,\n",
       " 'self_loop_proportion': 0.001366107303238005}"
      ]
     },
     "execution_count": 11,
     "metadata": {},
     "output_type": "execute_result"
    }
   ],
   "source": [
    "# Fetch Bangkok street network\n",
    "graph = ox.graph_from_place(\"Bangkok, Thailand\")\n",
    "# Get statistic of graph (number of nodes, edges, etc.)\n",
    "ox.basic_stats(graph)"
   ]
  },
  {
   "cell_type": "code",
   "execution_count": 15,
   "metadata": {},
   "outputs": [],
   "source": [
    "edges = list(graph.edges())"
   ]
  },
  {
   "cell_type": "code",
   "execution_count": 16,
   "metadata": {},
   "outputs": [],
   "source": [
    "edge = edges[0]"
   ]
  },
  {
   "cell_type": "code",
   "execution_count": 23,
   "metadata": {},
   "outputs": [
    {
     "data": {
      "text/plain": [
       "{0: {'osmid': 202235939,\n",
       "  'name': 'ถนนบรรทัดทอง',\n",
       "  'highway': 'tertiary',\n",
       "  'oneway': False,\n",
       "  'reversed': False,\n",
       "  'length': 61.174}}"
      ]
     },
     "execution_count": 23,
     "metadata": {},
     "output_type": "execute_result"
    }
   ],
   "source": [
    "graph.get_edge_data(edge[0], edge[1])"
   ]
  },
  {
   "cell_type": "code",
   "execution_count": 16,
   "metadata": {},
   "outputs": [
    {
     "name": "stdout",
     "output_type": "stream",
     "text": [
      "11.3 ns ± 0.0512 ns per loop (mean ± std. dev. of 7 runs, 100000000 loops each)\n"
     ]
    }
   ],
   "source": [
    "# use %%timeit to see how long it takes to run the function"
   ]
  },
  {
   "cell_type": "code",
   "execution_count": 6,
   "metadata": {},
   "outputs": [],
   "source": [
    "# Get all nodes in graph\n",
    "nodes = list(graph.nodes())"
   ]
  },
  {
   "cell_type": "code",
   "execution_count": 64,
   "metadata": {},
   "outputs": [],
   "source": [
    "# Random 2 nodes for try shortest path algorithm\n",
    "import random\n",
    "orig = random.choice(nodes)\n",
    "dest = random.choice(nodes)"
   ]
  },
  {
   "cell_type": "code",
   "execution_count": 65,
   "metadata": {},
   "outputs": [],
   "source": [
    "# using networkx's dijkstra algorithm to find shortest path (from orig to dest)"
   ]
  },
  {
   "cell_type": "code",
   "execution_count": 66,
   "metadata": {},
   "outputs": [
    {
     "name": "stdout",
     "output_type": "stream",
     "text": [
      "449 ms ± 16.6 ms per loop (mean ± std. dev. of 7 runs, 1 loop each)\n"
     ]
    }
   ],
   "source": [
    "%%timeit\n",
    "shortest_path = nx.shortest_path(graph, orig, dest, weight='length')"
   ]
  },
  {
   "cell_type": "code",
   "execution_count": 67,
   "metadata": {},
   "outputs": [
    {
     "name": "stdout",
     "output_type": "stream",
     "text": [
      "486 ms ± 24.1 ms per loop (mean ± std. dev. of 7 runs, 1 loop each)\n"
     ]
    }
   ],
   "source": [
    "%%timeit\n",
    "shortest_path_length = nx.shortest_path_length(graph, orig, dest, weight='length')"
   ]
  },
  {
   "cell_type": "code",
   "execution_count": 2,
   "metadata": {},
   "outputs": [],
   "source": [
    "# Define the heuritic function\n",
    "from math import cos, sqrt\n",
    "def heuristic(u, v):\n",
    "    u_point = (graph.nodes[u]['y'], graph.nodes[u]['x'])\n",
    "    v_point = (graph.nodes[v]['y'], graph.nodes[v]['x'])\n",
    "    \n",
    "    coords_1 = u_point\n",
    "    coords_2 = v_point\n",
    "\n",
    "    R = 6371000\n",
    "    conversion_const = 0.0174533\n",
    "\n",
    "    c_1 = (coords_1[0]*conversion_const,coords_1[1]*conversion_const)\n",
    "    c_2 = (coords_2[0]*conversion_const,coords_2[1]*conversion_const)\n",
    "\n",
    "\n",
    "    delta_phi = abs(c_1[1]-c_2[1])\n",
    "\n",
    "    theta = c_1[0]\n",
    "    delta_theta = abs(c_1[0]-c_2[0])\n",
    "\n",
    "    del_x = R*cos(theta)*delta_phi \n",
    "    del_y = R*delta_theta\n",
    "\n",
    "    ans = sqrt(del_x**2+del_y**2)\n",
    "    return ans*2"
   ]
  },
  {
   "cell_type": "code",
   "execution_count": 69,
   "metadata": {},
   "outputs": [],
   "source": [
    "# using networkx's A-star algorithm to find shortest path (from orig to dest) with heuristic funtion"
   ]
  },
  {
   "cell_type": "code",
   "execution_count": 70,
   "metadata": {},
   "outputs": [
    {
     "name": "stdout",
     "output_type": "stream",
     "text": [
      "7.76 ms ± 350 µs per loop (mean ± std. dev. of 7 runs, 100 loops each)\n"
     ]
    }
   ],
   "source": [
    "%%timeit\n",
    "astar_path = nx.astar_path(graph, orig, dest, heuristic=heuristic, weight='length')"
   ]
  },
  {
   "cell_type": "code",
   "execution_count": 71,
   "metadata": {},
   "outputs": [
    {
     "name": "stdout",
     "output_type": "stream",
     "text": [
      "8.04 ms ± 167 µs per loop (mean ± std. dev. of 7 runs, 100 loops each)\n"
     ]
    }
   ],
   "source": [
    "%%timeit\n",
    "astar_path_length = nx.astar_path_length(graph, orig, dest, heuristic=heuristic, weight='length')"
   ]
  },
  {
   "cell_type": "code",
   "execution_count": 3,
   "metadata": {},
   "outputs": [],
   "source": [
    "import time\n",
    "import numpy as np\n",
    "import networkx as nx\n",
    "import random\n",
    "nodes = list(graph.nodes())"
   ]
  },
  {
   "cell_type": "code",
   "execution_count": 4,
   "metadata": {},
   "outputs": [
    {
     "name": "stdout",
     "output_type": "stream",
     "text": [
      "Mean duration: 0.45 seconds\n",
      "Median duration: 0.48 seconds\n",
      "Standard deviation: 0.26 seconds\n"
     ]
    }
   ],
   "source": [
    "G = pkl.load(open('bangkok_graph.pkl', 'rb'))"
   ]
  },
  {
   "cell_type": "code",
   "execution_count": 8,
   "metadata": {},
   "outputs": [
    {
     "name": "stdout",
     "output_type": "stream",
     "text": [
      "Mean duration: 0.03 seconds\n",
      "Median duration: 0.01 seconds\n",
      "Standard deviation: 0.04 seconds\n"
     ]
    }
   ],
   "source": [
    "n = 100\n",
    "i = 0\n",
    "durations = []\n",
    "while i<n:\n",
    "    start_time = time.time()\n",
    "    orig = random.choice(nodes)\n",
    "    dest = random.choice(nodes)\n",
    "    try:\n",
    "        astar_path_length = nx.astar_path_length(graph, orig, dest, heuristic=heuristic, weight='length')\n",
    "    except:\n",
    "        continue\n",
    "    end_time = time.time()\n",
    "    duration = end_time - start_time\n",
    "    durations.append(duration)\n",
    "    i += 1\n",
    "duration_mean = np.mean(durations)\n",
    "duration_median = np.median(durations)\n",
    "duration_std =  np.std(durations)\n",
    "print(\"Mean duration: {:.2f} seconds\".format(duration_mean))\n",
    "print(\"Median duration: {:.2f} seconds\".format(duration_median))\n",
    "print(\"Standard deviation: {:.2f} seconds\".format(duration_std))\n",
    "    "
   ]
  },
  {
   "cell_type": "code",
   "execution_count": 4,
   "metadata": {},
   "outputs": [],
   "source": [
    "import random"
   ]
  },
  {
   "cell_type": "code",
   "execution_count": 14,
   "metadata": {},
   "outputs": [],
   "source": [
    "# code for find u,v that not have path\n",
    "count = 0\n",
    "while count < 20:\n",
    "    orig = random.choice(nodes)\n",
    "    dest = random.choice(nodes)\n",
    "    try:\n",
    "        astar_path_length = nx.astar_path_length(graph, orig, dest, heuristic=heuristic, weight='length')\n",
    "    except:\n",
    "        count += 1\n",
    "        with open(\"err_nodes.txt\", \"a\") as f:\n",
    "            f.write(str(orig) + \":\" + str(graph.nodes()[orig]) + \", \" + str(dest) + \":\" + str(graph.nodes()[dest]) + \"\\n\")"
   ]
  },
  {
   "cell_type": "code",
   "execution_count": 10,
   "metadata": {},
   "outputs": [
    {
     "data": {
      "text/plain": [
       "3011050475"
      ]
     },
     "execution_count": 10,
     "metadata": {},
     "output_type": "execute_result"
    }
   ],
   "source": [
    "orig"
   ]
  },
  {
   "cell_type": "code",
   "execution_count": 13,
   "metadata": {},
   "outputs": [
    {
     "data": {
      "text/plain": [
       "{'y': 13.7703336, 'x': 100.399658, 'street_count': 3}"
      ]
     },
     "execution_count": 13,
     "metadata": {},
     "output_type": "execute_result"
    }
   ],
   "source": [
    "graph.nodes()[orig]"
   ]
  },
  {
   "cell_type": "code",
   "execution_count": 15,
   "metadata": {},
   "outputs": [
    {
     "data": {
      "text/plain": [
       "<networkx.classes.multidigraph.MultiDiGraph at 0x17ca4da4760>"
      ]
     },
     "execution_count": 15,
     "metadata": {},
     "output_type": "execute_result"
    }
   ],
   "source": [
    "graph"
   ]
  },
  {
   "cell_type": "code",
   "execution_count": 16,
   "metadata": {},
   "outputs": [],
   "source": [
    "g = ox.get_undirected(graph)"
   ]
  },
  {
   "cell_type": "code",
   "execution_count": 19,
   "metadata": {},
   "outputs": [],
   "source": [
    "pkl.dump(g, open(\"bangkok_graph_drive_undir.pkl\", \"wb\"))"
   ]
  },
  {
   "cell_type": "code",
   "execution_count": 23,
   "metadata": {},
   "outputs": [],
   "source": [
    "nodes = list(g.nodes())"
   ]
  },
  {
   "cell_type": "code",
   "execution_count": 24,
   "metadata": {},
   "outputs": [],
   "source": [
    "# code for find u,v that not have path\n",
    "count = 0\n",
    "while count < 20:\n",
    "    orig = random.choice(nodes)\n",
    "    dest = random.choice(nodes)\n",
    "    try:\n",
    "        astar_path_length = nx.astar_path_length(g, orig, dest, heuristic=heuristic, weight='length')\n",
    "    except:\n",
    "        count += 1\n",
    "        with open(\"err_nodes.txt\", \"a\") as f:\n",
    "            f.write(str(orig) + \":\" + str(g.nodes()[orig]) + \", \" + str(dest) + \":\" + str(g.nodes()[dest]) + \"\\n\")"
   ]
  },
  {
   "cell_type": "code",
   "execution_count": 21,
   "metadata": {},
   "outputs": [
    {
     "data": {
      "text/plain": [
       "<networkx.classes.multigraph.MultiGraph at 0x17ca4da4ee0>"
      ]
     },
     "execution_count": 21,
     "metadata": {},
     "output_type": "execute_result"
    }
   ],
   "source": [
    "g"
   ]
  },
  {
   "cell_type": "code",
   "execution_count": 25,
   "metadata": {},
   "outputs": [
    {
     "data": {
      "text/plain": [
       "MultiEdgeDataView([(6004358296, 6004358297, None)])"
      ]
     },
     "execution_count": 25,
     "metadata": {},
     "output_type": "execute_result"
    }
   ],
   "source": [
    "g.edges(orig, dest)"
   ]
  },
  {
   "cell_type": "code",
   "execution_count": null,
   "metadata": {},
   "outputs": [],
   "source": []
  }
 ],
 "metadata": {
  "kernelspec": {
   "display_name": "Python 3",
   "language": "python",
   "name": "python3"
  },
  "language_info": {
   "codemirror_mode": {
    "name": "ipython",
    "version": 3
   },
   "file_extension": ".py",
   "mimetype": "text/x-python",
   "name": "python",
   "nbconvert_exporter": "python",
   "pygments_lexer": "ipython3",
   "version": "3.8.10 (default, Nov 14 2022, 12:59:47) \n[GCC 9.4.0]"
  },
  "vscode": {
   "interpreter": {
    "hash": "916dbcbb3f70747c44a77c7bcd40155683ae19c65e1c03b4aa3499c5328201f1"
   }
  }
 },
 "nbformat": 4,
 "nbformat_minor": 2
}
