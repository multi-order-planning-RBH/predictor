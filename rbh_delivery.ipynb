{
 "cells": [
  {
   "cell_type": "markdown",
   "metadata": {},
   "source": [
    "# Food Delivery Time estimation"
   ]
  },
  {
   "cell_type": "markdown",
   "metadata": {},
   "source": [
    "## 1. Data Preparation"
   ]
  },
  {
   "cell_type": "markdown",
   "metadata": {},
   "source": [
    "### 1.1 Import libraries"
   ]
  },
  {
   "cell_type": "code",
   "execution_count": 1,
   "metadata": {},
   "outputs": [
    {
     "ename": "ModuleNotFoundError",
     "evalue": "No module named 'seaborn'",
     "output_type": "error",
     "traceback": [
      "\u001b[0;31m---------------------------------------------------------------------------\u001b[0m",
      "\u001b[0;31mModuleNotFoundError\u001b[0m                       Traceback (most recent call last)",
      "\u001b[0;32m<ipython-input-1-06f160b284c9>\u001b[0m in \u001b[0;36m<module>\u001b[0;34m\u001b[0m\n\u001b[1;32m     14\u001b[0m \u001b[0;32mfrom\u001b[0m \u001b[0mmpl_toolkits\u001b[0m\u001b[0;34m.\u001b[0m\u001b[0mmplot3d\u001b[0m \u001b[0;32mimport\u001b[0m \u001b[0mAxes3D\u001b[0m\u001b[0;34m\u001b[0m\u001b[0;34m\u001b[0m\u001b[0m\n\u001b[1;32m     15\u001b[0m \u001b[0;34m\u001b[0m\u001b[0m\n\u001b[0;32m---> 16\u001b[0;31m \u001b[0;32mimport\u001b[0m \u001b[0mseaborn\u001b[0m \u001b[0;32mas\u001b[0m \u001b[0msns\u001b[0m\u001b[0;34m\u001b[0m\u001b[0;34m\u001b[0m\u001b[0m\n\u001b[0m\u001b[1;32m     17\u001b[0m \u001b[0;34m\u001b[0m\u001b[0m\n\u001b[1;32m     18\u001b[0m \u001b[0;32mimport\u001b[0m \u001b[0msklearn\u001b[0m\u001b[0;34m\u001b[0m\u001b[0;34m\u001b[0m\u001b[0m\n",
      "\u001b[0;31mModuleNotFoundError\u001b[0m: No module named 'seaborn'"
     ]
    }
   ],
   "source": [
    "from module.distance_calculator import DistanceCalculator\n",
    "\n",
    "import numpy as np\n",
    "import pandas as pd\n",
    "\n",
    "from math import sqrt, cos\n",
    "\n",
    "import networkx as nx\n",
    "\n",
    "import datetime\n",
    "from datetime import time, date, datetime\n",
    "\n",
    "import matplotlib.pyplot as plt\n",
    "from mpl_toolkits.mplot3d import Axes3D\n",
    "\n",
    "import seaborn as sns\n",
    "\n",
    "import sklearn\n",
    "from sklearn.preprocessing import OneHotEncoder\n",
    "from sklearn.decomposition import PCA\n",
    "from sklearn.manifold import TSNE\n",
    "from sklearn.model_selection import train_test_split\n",
    "from sklearn import metrics\n",
    "\n",
    "\n",
    "from sklearn.linear_model import LinearRegression\n",
    "from sklearn.ensemble import RandomForestRegressor\n",
    "from sklearn.ensemble import GradientBoostingRegressor\n",
    "from sklearn.model_selection import cross_validate"
   ]
  },
  {
   "cell_type": "markdown",
   "metadata": {},
   "source": [
    "### 1.2 Exploratory Data Analysis (EDA)"
   ]
  },
  {
   "cell_type": "markdown",
   "metadata": {},
   "source": [
    "### 1.2.1 Examine data"
   ]
  },
  {
   "cell_type": "code",
   "execution_count": null,
   "metadata": {},
   "outputs": [],
   "source": [
    "# Read in the data\n",
    "df = pd.read_excel(\"Capstone SampleData 14days.xlsx\", sheet_name=\"Sheet1\", header=0)"
   ]
  },
  {
   "cell_type": "code",
   "execution_count": null,
   "metadata": {},
   "outputs": [],
   "source": [
    "# Check the data types\n",
    "df.head()"
   ]
  },
  {
   "cell_type": "code",
   "execution_count": null,
   "metadata": {},
   "outputs": [],
   "source": [
    "# Check the data informations\n",
    "df.info()"
   ]
  },
  {
   "cell_type": "code",
   "execution_count": null,
   "metadata": {},
   "outputs": [],
   "source": [
    "# Check the data shape\n",
    "df.shape"
   ]
  },
  {
   "cell_type": "markdown",
   "metadata": {},
   "source": [
    "### 1.2.2 Remove unused columns"
   ]
  },
  {
   "cell_type": "code",
   "execution_count": null,
   "metadata": {},
   "outputs": [],
   "source": [
    "# Remove the columns that are not needed\n",
    "drop_list = [\"calledMerchantTime\",\n",
    "             \"arrivedAtMerchantTime\",\n",
    "             \"foodDeliveredTime\",\n",
    "             \"riderInitial.lat\",\n",
    "             \"riderInitial.long\",\n",
    "             \"MerchantName\",\n",
    "             \"NationFoodCategory\",\n",
    "             \"FoodCategories\"]\n",
    "try:\n",
    "    df.drop(drop_list, axis=1, inplace=True)\n",
    "except KeyError:\n",
    "    print(\"Columns already removed\")\n",
    "\n",
    "display(df.head(3))"
   ]
  },
  {
   "cell_type": "markdown",
   "metadata": {},
   "source": [
    "### 1.2.3 Change data types (time, date -> datetime)\n",
    "datetime data type can find interval but both time and date data types cannot."
   ]
  },
  {
   "cell_type": "code",
   "execution_count": null,
   "metadata": {},
   "outputs": [],
   "source": [
    "def to_datetime(df, date_col, time_col):\n",
    "    return pd.to_datetime(df[date_col].astype(str) + \" \" + df[time_col].astype(str))"
   ]
  },
  {
   "cell_type": "code",
   "execution_count": null,
   "metadata": {},
   "outputs": [],
   "source": [
    "if not isinstance(df[\"mealPickedUpTime\"].iloc[0], datetime):\n",
    "    df[\"mealPickedUpTime\"]    = to_datetime(df, \"JobAcceptedDate\", \"mealPickedUpTime\")\n",
    "if not isinstance(df[\"arrivedAtCustLocationTime\"].iloc[0], datetime):\n",
    "    df[\"arrivedAtCustLocationTime\"] = to_datetime(df, \"JobAcceptedDate\", \"arrivedAtCustLocationTime\")"
   ]
  },
  {
   "cell_type": "markdown",
   "metadata": {},
   "source": [
    "### 1.2.4 Create target from existed columns"
   ]
  },
  {
   "cell_type": "code",
   "execution_count": null,
   "metadata": {},
   "outputs": [],
   "source": [
    "df[\"DeliveryTime\"] = df[\"arrivedAtCustLocationTime\"] - df[\"mealPickedUpTime\"]\n",
    "df[\"DeliveryTime (s)\"] = df[\"DeliveryTime\"].apply(lambda x: x.total_seconds())\n",
    "df[\"DeliveryTime (m)\"] = df[\"DeliveryTime\"].apply(lambda x: round(x.total_seconds()/60))"
   ]
  },
  {
   "cell_type": "code",
   "execution_count": null,
   "metadata": {},
   "outputs": [],
   "source": [
    "# Remove the columns that are not needed\n",
    "drop_list = [\"arrivedAtCustLocationTime\",\n",
    "             \"mealPickedUpTime\",\n",
    "             \"DeliveryTime\"]\n",
    "try:\n",
    "    df.drop(drop_list, axis=1, inplace=True)\n",
    "except KeyError:\n",
    "    print(\"Columns already removed\")\n",
    "\n",
    "display(df.head(3))"
   ]
  },
  {
   "cell_type": "code",
   "execution_count": null,
   "metadata": {},
   "outputs": [],
   "source": [
    "df.describe()"
   ]
  },
  {
   "cell_type": "code",
   "execution_count": null,
   "metadata": {},
   "outputs": [],
   "source": [
    "df[\"DeliveryTime (s)\"].hist(bins=100)\n",
    "plt.title(\"Delivery Time Distribution (s)\")\n",
    "plt.xlabel(\"Delivery Time (s)\")\n",
    "plt.ylabel(\"Frequency\")\n",
    "plt.show()"
   ]
  },
  {
   "cell_type": "code",
   "execution_count": null,
   "metadata": {},
   "outputs": [],
   "source": [
    "df[\"DeliveryTime (m)\"].hist(bins=100)\n",
    "plt.title(\"Delivery Time Distribution (m)\")\n",
    "plt.xlabel(\"Delivery Time (m)\")\n",
    "plt.ylabel(\"Frequency\")\n",
    "plt.show()"
   ]
  },
  {
   "cell_type": "markdown",
   "metadata": {},
   "source": [
    "### 1.2.5 Add additional features"
   ]
  },
  {
   "cell_type": "code",
   "execution_count": null,
   "metadata": {},
   "outputs": [],
   "source": [
    "def get_euc(coords_1, coords_2):\n",
    "    R = 6371000; conversion_const = 0.0174533\n",
    "    c_1 = (coords_1[0]*conversion_const, coords_1[1]*conversion_const)\n",
    "    c_2 = (coords_2[0]*conversion_const, coords_2[1]*conversion_const)\n",
    "    delta_phi = abs(c_1[1]-c_2[1])\n",
    "    theta = c_1[0]\n",
    "    delta_theta = abs(c_1[0]-c_2[0])\n",
    "    del_x = R*cos(theta)*delta_phi \n",
    "    del_y = R*delta_theta\n",
    "    return sqrt(del_x**2 + del_y**2)"
   ]
  },
  {
   "cell_type": "code",
   "execution_count": null,
   "metadata": {},
   "outputs": [],
   "source": [
    "df[\"EucDist\"] = df.apply(lambda x: get_euc((x[\"Merchant.Lat\"],x[\"Merchant.Lng\"]),(x[\"Customer.lat\"],x[\"Customer.lng\"])), axis=1)"
   ]
  },
  {
   "cell_type": "code",
   "execution_count": null,
   "metadata": {},
   "outputs": [],
   "source": [
    "mapper = {0:\"Mon\", 1:\"Tue\", 2:\"Wed\", 3:\"Thu\", 4:\"Fri\", 5:\"Sat\", 6:\"Sun\"} # TODO\n",
    "df[\"day_of_week\"] = df[\"JobAcceptedDate\"].apply(lambda x: x.weekday())\n",
    "df[\"day_of_week_name\"] = df[\"JobAcceptedDate\"].apply(lambda x: mapper[x.weekday()])\n",
    "\n",
    "df[\"isHoliday\"] = df[\"JobAcceptedDate\"].apply(lambda x: int(x == pd.Timestamp('2020-10-13 00:00:00')))\n",
    "df[\"isHoliday\"] = ( df[\"isHoliday\"] | ( (df[\"day_of_week\"] == 5) | (df[\"day_of_week\"] == 6) ) ).astype(int)"
   ]
  },
  {
   "cell_type": "code",
   "execution_count": null,
   "metadata": {},
   "outputs": [],
   "source": [
    "df.head()"
   ]
  },
  {
   "cell_type": "code",
   "execution_count": null,
   "metadata": {},
   "outputs": [],
   "source": [
    "# One Hot encode\n",
    "nominal_columns = [\"day_of_week_name\"]\n",
    "dummy_df = pd.get_dummies(df[nominal_columns], drop_first=False)\n",
    "df = pd.concat([df, dummy_df], axis=1)\n",
    "df = df.drop(nominal_columns, axis=1)"
   ]
  },
  {
   "cell_type": "code",
   "execution_count": null,
   "metadata": {},
   "outputs": [],
   "source": [
    "df.head()"
   ]
  },
  {
   "cell_type": "code",
   "execution_count": null,
   "metadata": {},
   "outputs": [],
   "source": [
    "## Try to convert one hot to angular distance (https://www.mikulskibartosz.name/time-in-machine-learning/)\n",
    "df[\"day_of_week_sin\"] = np.sin(df[\"day_of_week\"]*(2.*np.pi/7))\n",
    "df[\"day_of_week_cos\"] = np.cos(df[\"day_of_week\"]*(2.*np.pi/7))"
   ]
  },
  {
   "cell_type": "code",
   "execution_count": null,
   "metadata": {},
   "outputs": [],
   "source": [
    "df.head()"
   ]
  },
  {
   "cell_type": "code",
   "execution_count": null,
   "metadata": {},
   "outputs": [],
   "source": [
    "D = DistanceCalculator()"
   ]
  },
  {
   "cell_type": "code",
   "execution_count": null,
   "metadata": {},
   "outputs": [],
   "source": [
    "nx.is_strongly_connected(D.G)"
   ]
  },
  {
   "cell_type": "code",
   "execution_count": null,
   "metadata": {},
   "outputs": [],
   "source": [
    "# tmp = df.iloc[:10].copy()\n",
    "# tmp[\"Astar\"] = tmp.apply(lambda x: D.shortestDistance((x[\"Merchant.Lat\"], x[\"Merchant.Lng\"]), (x[\"Customer.lat\"], x[\"Customer.lng\"])), axis=1)"
   ]
  },
  {
   "cell_type": "code",
   "execution_count": null,
   "metadata": {},
   "outputs": [],
   "source": [
    "# tmp[[\"EucDist\", \"Astar\"]]"
   ]
  },
  {
   "cell_type": "code",
   "execution_count": null,
   "metadata": {},
   "outputs": [],
   "source": [
    "df[\"ShortestDist\"] = 0"
   ]
  },
  {
   "cell_type": "code",
   "execution_count": null,
   "metadata": {},
   "outputs": [],
   "source": [
    "df[[\"EucDist\", \"ShortestDist\"]]"
   ]
  },
  {
   "cell_type": "code",
   "execution_count": null,
   "metadata": {},
   "outputs": [],
   "source": [
    "# df.apply(lambda x: D.shortestDistance((x[\"Merchant.Lat\"], x[\"Merchant.Lng\"]), (x[\"Customer.lat\"], x[\"Customer.lng\"])), axis=1)"
   ]
  },
  {
   "cell_type": "code",
   "execution_count": null,
   "metadata": {},
   "outputs": [],
   "source": [
    "batch_size = 20\n",
    "for i in range(0, df.shape[0], batch_size):\n",
    "    print(i)\n",
    "    df.loc[i:i+batch_size, \"ShortestDist\"] = df.loc[i:i+batch_size].apply(lambda x: D.shortestDistance((x[\"Merchant.Lat\"], x[\"Merchant.Lng\"]), (x[\"Customer.lat\"], x[\"Customer.lng\"])), axis=1)\n",
    "    df.to_csv(\"Sample 14days (cleaned)\", index=False)"
   ]
  },
  {
   "cell_type": "code",
   "execution_count": null,
   "metadata": {},
   "outputs": [],
   "source": [
    "df[df[\"ShortestDist\"] == 0]"
   ]
  },
  {
   "cell_type": "code",
   "execution_count": null,
   "metadata": {},
   "outputs": [],
   "source": [
    "df[[\"EucDist\", \"ShortestDist\"]]"
   ]
  },
  {
   "cell_type": "code",
   "execution_count": null,
   "metadata": {},
   "outputs": [],
   "source": [
    "# idx = 2\n",
    "# u = df[[\"Merchant.Lat\", \"Merchant.Lng\"]].iloc[idx].values\n",
    "# v = df[[\"Customer.lat\", \"Customer.lng\"]].iloc[idx].values"
   ]
  },
  {
   "cell_type": "code",
   "execution_count": null,
   "metadata": {},
   "outputs": [],
   "source": [
    "# D.shortestDistance(u, v)"
   ]
  },
  {
   "cell_type": "markdown",
   "metadata": {},
   "source": [
    "### 1.2.6 Extract input/output for train model"
   ]
  },
  {
   "cell_type": "code",
   "execution_count": null,
   "metadata": {},
   "outputs": [],
   "source": [
    "# LOAD CLEANED DATASET\n",
    "df = pd.read_csv(\"Sample 14days (cleaned)\")"
   ]
  },
  {
   "cell_type": "code",
   "execution_count": null,
   "metadata": {},
   "outputs": [],
   "source": [
    "df[df[\"ShortestDist\"]==0]"
   ]
  },
  {
   "cell_type": "code",
   "execution_count": null,
   "metadata": {},
   "outputs": [],
   "source": [
    "df.loc[df[\"ShortestDist\"]==0, \"ShortestDist\"] = df.loc[df[\"ShortestDist\"]==0, \"EucDist\"]"
   ]
  },
  {
   "cell_type": "code",
   "execution_count": null,
   "metadata": {},
   "outputs": [],
   "source": [
    "df[df[\"ShortestDist\"]==0]"
   ]
  },
  {
   "cell_type": "code",
   "execution_count": null,
   "metadata": {},
   "outputs": [],
   "source": [
    "y_s = df.pop(\"DeliveryTime (s)\")\n",
    "y_m = df.pop(\"DeliveryTime (m)\")\n",
    "# # data without day of week\n",
    "# selected_cols_1 = [\"Merchant.Lat\", \"Merchant.Lng\", \"Customer.lat\", \"Customer.lng\", \"EucDist\"]\n",
    "# # data with day of week (onehot)\n",
    "# selected_cols_2 = [\"Merchant.Lat\", \"Merchant.Lng\", \"Customer.lat\", \"Customer.lng\", \"EucDist\", \"isHoliday\",\\\n",
    "#     'day_of_week_name_Mon', 'day_of_week_name_Tue', 'day_of_week_name_Wed', 'day_of_week_name_Thu', 'day_of_week_name_Fri', 'day_of_week_name_Sat', 'day_of_week_name_Sun']\n",
    "# # data with day of week (angular distance)\n",
    "# selected_cols_3 = [\"Merchant.Lat\", \"Merchant.Lng\", \"Customer.lat\", \"Customer.lng\", \"EucDist\", \"isHoliday\", \"day_of_week_sin\",\t\"day_of_week_cos\"]\n",
    "selected_cols_1 = [\"Merchant.Lat\", \"Merchant.Lng\", \"Customer.lat\", \"Customer.lng\", \"EucDist\"]\n",
    "selected_cols_2 = [\"Merchant.Lat\", \"Merchant.Lng\", \"Customer.lat\", \"Customer.lng\", \"EucDist\", \"ShortestDist\"]\n",
    "\n",
    "X = [df[selected_cols_1].copy(), df[selected_cols_2].copy()]"
   ]
  },
  {
   "cell_type": "markdown",
   "metadata": {},
   "source": [
    "## 3. Model Regression"
   ]
  },
  {
   "cell_type": "markdown",
   "metadata": {},
   "source": [
    "### 3.1 Split data for train and test"
   ]
  },
  {
   "cell_type": "code",
   "execution_count": null,
   "metadata": {},
   "outputs": [],
   "source": [
    "Xs_trains = []; Xs_tests = []; ys_trains = []; ys_tests = []\n",
    "Xm_trains = []; Xm_tests = []; ym_trains = []; ym_tests = []\n",
    "\n",
    "for i in range(len(X)):\n",
    "    Xs_train, Xs_test, ys_train, ys_test = train_test_split(X[i], y_s, test_size=0.20, random_state=0)\n",
    "    Xm_train, Xm_test, ym_train, ym_test = train_test_split(X[i], y_m, test_size=0.20, random_state=0)\n",
    "    Xs_trains.append(Xs_train); Xs_tests.append(Xs_test); ys_trains.append(ys_train); ys_tests.append(ys_test)\n",
    "    Xm_trains.append(Xm_train); Xm_tests.append(Xm_test); ym_trains.append(ym_train); ym_tests.append(ym_test)"
   ]
  },
  {
   "cell_type": "markdown",
   "metadata": {},
   "source": [
    "### 3.2 Model Metrics"
   ]
  },
  {
   "cell_type": "code",
   "execution_count": null,
   "metadata": {},
   "outputs": [],
   "source": [
    "met = pd.DataFrame({\"Model\": [], \"MAE\": [], \"MSE\": [], \"RMSE\": [], \"R2\": []})\n",
    "model_metrics_s = [met.copy(), met.copy()]\n",
    "model_metrics_m = [met.copy(), met.copy()]"
   ]
  },
  {
   "cell_type": "markdown",
   "metadata": {},
   "source": [
    "### 3.3 Baseline model (Average)"
   ]
  },
  {
   "cell_type": "code",
   "execution_count": null,
   "metadata": {},
   "outputs": [],
   "source": [
    "all_predictions_s = [[],[]]; all_predictions_m = [[],[]]"
   ]
  },
  {
   "cell_type": "markdown",
   "metadata": {},
   "source": [
    "### 3.3.1 As second"
   ]
  },
  {
   "cell_type": "code",
   "execution_count": null,
   "metadata": {},
   "outputs": [],
   "source": [
    "avg_predictions_s = np.full(len(ys_tests[i]), np.mean(ys_trains[i]))\n",
    "for i in range(len(X)):\n",
    "    MAE  = metrics.mean_absolute_error(ys_tests[i], avg_predictions_s)\n",
    "    MSE  = metrics.mean_squared_error(ys_tests[i], avg_predictions_s)\n",
    "    R2   = metrics.r2_score(ys_tests[i], avg_predictions_s)\n",
    "    RMSE = np.sqrt(metrics.mean_squared_error(ys_test, avg_predictions_s))\n",
    "\n",
    "    all_predictions_s[i].append(avg_predictions_s)\n",
    "    model_metrics_s[i].loc[len(model_metrics_s[i])] = list([\"Mean \", MAE, MSE, RMSE, R2])"
   ]
  },
  {
   "cell_type": "markdown",
   "metadata": {},
   "source": [
    "### 3.3.2 As minute"
   ]
  },
  {
   "cell_type": "code",
   "execution_count": null,
   "metadata": {},
   "outputs": [],
   "source": [
    "avg_predictions_m =  np.full(len(ym_tests[i]), np.mean(ym_trains[i]))\n",
    "for i in range(len(X)):\n",
    "    MAE  = metrics.mean_absolute_error(ym_test, avg_predictions_m)\n",
    "    MSE  = metrics.mean_squared_error(ym_test, avg_predictions_m)\n",
    "    R2   = metrics.r2_score(ym_test, avg_predictions_m)\n",
    "    RMSE = np.sqrt(metrics.mean_squared_error(ym_test, avg_predictions_m))\n",
    "\n",
    "    all_predictions_m[i].append(avg_predictions_m)\n",
    "    model_metrics_m[i].loc[len(model_metrics_m[i])] = list([\"Mean \", MAE, MSE, RMSE, R2])"
   ]
  },
  {
   "cell_type": "markdown",
   "metadata": {},
   "source": [
    "### 3.3 Linear Regression"
   ]
  },
  {
   "cell_type": "markdown",
   "metadata": {},
   "source": [
    "#### 3.3.1 As second"
   ]
  },
  {
   "cell_type": "code",
   "execution_count": null,
   "metadata": {},
   "outputs": [],
   "source": [
    "for i in range(len(X)):\n",
    "    lr = LinearRegression()\n",
    "    lr.fit(Xs_trains[i], ys_trains[i])\n",
    "    lr_predictions_s = lr.predict(Xs_tests[i])\n",
    "\n",
    "    MAE  = metrics.mean_absolute_error(ys_tests[i], lr_predictions_s)\n",
    "    MSE  = metrics.mean_squared_error(ys_tests[i], lr_predictions_s)\n",
    "    R2   = metrics.r2_score(ys_tests[i], lr_predictions_s)\n",
    "    RMSE = np.sqrt(metrics.mean_squared_error(ys_tests[i], lr_predictions_s))\n",
    "\n",
    "    all_predictions_s[i].append(lr_predictions_s)\n",
    "    model_metrics_s[i].loc[len(model_metrics_s[i])] = list([\"Linear Regression\", MAE, MSE, RMSE, R2])"
   ]
  },
  {
   "cell_type": "markdown",
   "metadata": {},
   "source": [
    "#### 3.3.2 As minute"
   ]
  },
  {
   "cell_type": "code",
   "execution_count": null,
   "metadata": {},
   "outputs": [],
   "source": [
    "for i in range(len(X)):\n",
    "    lr = LinearRegression()\n",
    "    lr.fit(Xm_trains[i], ym_trains[i])\n",
    "    lr_predictions_m = lr.predict(Xm_tests[i])\n",
    "    lr_predictions_m = np.round(lr_predictions_m)\n",
    "\n",
    "    MAE  = metrics.mean_absolute_error(ym_tests[i], lr_predictions_m)\n",
    "    MSE  = metrics.mean_squared_error(ym_tests[i], lr_predictions_m)\n",
    "    R2   = metrics.r2_score(ym_tests[i], lr_predictions_m)\n",
    "    RMSE = np.sqrt(metrics.mean_squared_error(ym_tests[i], lr_predictions_m))\n",
    "\n",
    "    all_predictions_m[i].append(lr_predictions_m)\n",
    "    model_metrics_m[i].loc[len(model_metrics_m[i])] = list([\"Linear Regression\", MAE, MSE, RMSE, R2])"
   ]
  },
  {
   "cell_type": "markdown",
   "metadata": {},
   "source": [
    "### 3.4 Random Forest"
   ]
  },
  {
   "cell_type": "markdown",
   "metadata": {},
   "source": [
    "#### 3.4.1 As second"
   ]
  },
  {
   "cell_type": "code",
   "execution_count": null,
   "metadata": {},
   "outputs": [],
   "source": [
    "for i in range(len(X)):\n",
    "    rf = RandomForestRegressor()\n",
    "    rf.fit(Xs_trains[i], ys_trains[i])\n",
    "    rf_predictions_s = rf.predict(Xs_tests[i])\n",
    "    \n",
    "    MAE  = metrics.mean_absolute_error(ys_tests[i], rf_predictions_s)\n",
    "    MSE  = metrics.mean_squared_error(ys_tests[i], rf_predictions_s)\n",
    "    R2   = metrics.r2_score(ys_tests[i], rf_predictions_s)\n",
    "    RMSE = np.sqrt(metrics.mean_squared_error(ys_tests[i], rf_predictions_s))\n",
    "\n",
    "    all_predictions_s[i].append(rf_predictions_s)\n",
    "    model_metrics_s[i].loc[len(model_metrics_s[i])] = list([\"Random Forest\", MAE, MSE, RMSE, R2])"
   ]
  },
  {
   "cell_type": "markdown",
   "metadata": {},
   "source": [
    "#### 3.4.2 As minute"
   ]
  },
  {
   "cell_type": "code",
   "execution_count": null,
   "metadata": {},
   "outputs": [],
   "source": [
    "for i in range(len(X)):\n",
    "    rf = RandomForestRegressor()\n",
    "    rf.fit(Xm_trains[i], ym_trains[i])\n",
    "    rf_predictions_m = rf.predict(Xm_tests[i])\n",
    "    rf_predictions_m = np.round(rf_predictions_m)\n",
    "\n",
    "    MAE  = metrics.mean_absolute_error(ym_tests[i], rf_predictions_m)\n",
    "    MSE  = metrics.mean_squared_error(ym_tests[i], rf_predictions_m)\n",
    "    R2   = metrics.r2_score(ym_tests[i], rf_predictions_m)\n",
    "    RMSE = np.sqrt(metrics.mean_squared_error(ym_tests[i], rf_predictions_m))\n",
    "\n",
    "    all_predictions_m[i].append(rf_predictions_m)\n",
    "    model_metrics_m[i].loc[len(model_metrics_m[i])] = list([\"Random Forest\", MAE, MSE, RMSE, R2])"
   ]
  },
  {
   "cell_type": "markdown",
   "metadata": {},
   "source": [
    "### 3.5 Gradient Boosted Desicion Tree"
   ]
  },
  {
   "cell_type": "markdown",
   "metadata": {},
   "source": [
    "#### 3.5.1 As second"
   ]
  },
  {
   "cell_type": "code",
   "execution_count": null,
   "metadata": {},
   "outputs": [],
   "source": [
    "for i in range(len(X)):\n",
    "    gbdt = GradientBoostingRegressor(n_estimators=1000, max_depth=7, random_state=0)\n",
    "    gbdt.fit(Xs_trains[i], ys_trains[i])\n",
    "    gbdt_predictions_s = gbdt.predict(Xs_tests[i])\n",
    "    \n",
    "    MAE  = metrics.mean_absolute_error(ys_tests[i], gbdt_predictions_s)\n",
    "    MSE  = metrics.mean_squared_error(ys_tests[i], gbdt_predictions_s)\n",
    "    R2   = metrics.r2_score(ys_tests[i], gbdt_predictions_s)\n",
    "    RMSE = np.sqrt(metrics.mean_squared_error(ys_tests[i], gbdt_predictions_s))\n",
    "\n",
    "    all_predictions_s[i].append(gbdt_predictions_s)\n",
    "    model_metrics_s[i].loc[len(model_metrics_s[i])] = list([\"Gradient Boosted Decision Tree\", MAE, MSE, RMSE, R2])"
   ]
  },
  {
   "cell_type": "markdown",
   "metadata": {},
   "source": [
    "#### 3.5.2 As minute"
   ]
  },
  {
   "cell_type": "code",
   "execution_count": null,
   "metadata": {},
   "outputs": [],
   "source": [
    "for i in range(len(X)):\n",
    "    gbdt = GradientBoostingRegressor(n_estimators=1000, max_depth=7, random_state=0)\n",
    "    gbdt.fit(Xm_trains[i], ym_trains[i])\n",
    "    gbdt_predictions_m = gbdt.predict(Xm_tests[i])\n",
    "    gbdt_predictions_m = np.round(gbdt_predictions_m)\n",
    "\n",
    "    MAE  = metrics.mean_absolute_error(ym_tests[i], gbdt_predictions_m)\n",
    "    MSE  = metrics.mean_squared_error(ym_tests[i], gbdt_predictions_m)\n",
    "    R2   = metrics.r2_score(ym_tests[i], gbdt_predictions_m)\n",
    "    RMSE = np.sqrt(metrics.mean_squared_error(ym_tests[i], gbdt_predictions_m))\n",
    "\n",
    "    all_predictions_m[i].append(gbdt_predictions_m)\n",
    "    model_metrics_m[i].loc[len(model_metrics_m[i])] = list([\"Gradient Boosted Decision Tree\", MAE, MSE, RMSE, R2])"
   ]
  },
  {
   "cell_type": "markdown",
   "metadata": {},
   "source": [
    "## 4. Model Evaluation"
   ]
  },
  {
   "cell_type": "code",
   "execution_count": null,
   "metadata": {},
   "outputs": [],
   "source": [
    "# DataFeats = [\"Without day_of_week\", \"With day_of_week OneHot\", \"With day_of_week Angular\"]\n",
    "# table_names = [\"Metrics without day_of_week as second\", \"Metrics with day_of_week_OneHot as second\", \"Metrics with day_of_week Angular as second\"]\n",
    "# for i in range(len(X)):\n",
    "#     print(DataFeats[i])\n",
    "#     display(model_metrics_s[i])\n",
    "#     #model_metrics_s[i].to_csv(table_names[i] + \".csv\", index=False)"
   ]
  },
  {
   "cell_type": "code",
   "execution_count": null,
   "metadata": {},
   "outputs": [],
   "source": [
    "DataFeats = [\"Without ShortestPath\", \"With ShortestPath\"]\n",
    "table_names = [\"Metrics without ShortestPath as second\", \"Metrics with ShortestPath as second\"]\n",
    "for i in range(len(X)):\n",
    "    print(DataFeats[i])\n",
    "    display(model_metrics_s[i])\n",
    "    model_metrics_s[i].to_csv(table_names[i] + \".csv\", index=False)"
   ]
  },
  {
   "cell_type": "code",
   "execution_count": null,
   "metadata": {},
   "outputs": [],
   "source": [
    "# table_names = [\"Metrics without day_of_week as minute\", \"Metrics with day_of_week_OneHot as minute\", \"Metrics with day_of_week Angular as minute\"]\n",
    "# for i in range(len(X)):\n",
    "#     print(DataFeats[i])\n",
    "#     display(model_metrics_m[i])\n",
    "#     #model_metrics_m[i].to_csv(table_names[i] + \".csv\", index=False)"
   ]
  },
  {
   "cell_type": "code",
   "execution_count": null,
   "metadata": {},
   "outputs": [],
   "source": [
    "table_names = [\"Metrics without ShortestPath as minute\", \"Metrics with ShortestPath as minute\"]\n",
    "for i in range(len(X)):\n",
    "    print(DataFeats[i])\n",
    "    display(model_metrics_m[i])\n",
    "    model_metrics_m[i].to_csv(table_names[i] + \".csv\", index=False)"
   ]
  },
  {
   "cell_type": "markdown",
   "metadata": {},
   "source": [
    "# Knowledge"
   ]
  },
  {
   "cell_type": "code",
   "execution_count": null,
   "metadata": {},
   "outputs": [],
   "source": [
    "plt.scatter(df[\"EucDist\"], y_s, alpha=0.1)\n",
    "plt.title(\"Euclidian distance (m) - Delivery time (s)\")\n",
    "plt.xlabel(\"Euclidian distance (m)\")\n",
    "plt.ylabel(\"Delivery time (s)\")\n",
    "plt.show()"
   ]
  },
  {
   "cell_type": "code",
   "execution_count": null,
   "metadata": {},
   "outputs": [],
   "source": [
    "plt.scatter(df[\"EucDist\"], y_m, alpha=0.1)\n",
    "plt.title(\"Euclidian distance (m) - Delivery time (m)\")\n",
    "plt.xlabel(\"Euclidian distance (m)\")\n",
    "plt.ylabel(\"Delivery time (m)\")\n",
    "plt.show()"
   ]
  },
  {
   "cell_type": "code",
   "execution_count": null,
   "metadata": {},
   "outputs": [],
   "source": [
    "plt.scatter(df[\"ShortestDist\"], y_s, alpha=0.1)\n",
    "plt.title(\"Shortest Path distance (m) - Delivery time (s)\")\n",
    "plt.xlabel(\"Shortest Path distance (m)\")\n",
    "plt.ylabel(\"Delivery time (s)\")\n",
    "plt.show()"
   ]
  },
  {
   "cell_type": "code",
   "execution_count": null,
   "metadata": {},
   "outputs": [],
   "source": [
    "plt.scatter(df[\"ShortestDist\"], y_m, alpha=0.1)\n",
    "plt.title(\"Shortest Path distance (m) - Delivery time (s)\")\n",
    "plt.xlabel(\"Shortest Path distance (m)\")\n",
    "plt.ylabel(\"Delivery time (s)\")\n",
    "plt.show()"
   ]
  },
  {
   "cell_type": "code",
   "execution_count": null,
   "metadata": {},
   "outputs": [],
   "source": [
    "df[\"EucDist\"].hist(bins=100)\n",
    "plt.plot()"
   ]
  },
  {
   "cell_type": "code",
   "execution_count": null,
   "metadata": {},
   "outputs": [],
   "source": [
    "df[\"ShortestDist\"].hist(bins=100)"
   ]
  },
  {
   "cell_type": "markdown",
   "metadata": {},
   "source": [
    "# Model Variance"
   ]
  },
  {
   "cell_type": "code",
   "execution_count": null,
   "metadata": {},
   "outputs": [],
   "source": [
    "Names = [\"Mean\", \"Lr\", \"Rf\", \"GBDT\"]\n",
    "#DataFeats\n",
    "fig, axs = plt.subplots(len(Names), len(X), figsize=(15, 15))\n",
    "fig.tight_layout(pad=5.0)\n",
    "for i in range(len(Names)):\n",
    "    for j in range(len(X)):\n",
    "        axs[i, j].scatter(all_predictions_s[j][i], ys_tests[j], alpha=0.1)\n",
    "        axs[i, j].set_title(Names[i]+\" \"+DataFeats[j])\n",
    "        axs[i, j].set_xlabel(\"Predicted\")\n",
    "        axs[i, j].set_ylabel(\"Actual\")"
   ]
  },
  {
   "cell_type": "code",
   "execution_count": null,
   "metadata": {},
   "outputs": [],
   "source": [
    "fig, axs = plt.subplots(len(Names), len(X), figsize=(15, 15))\n",
    "fig.tight_layout(pad=5.0)\n",
    "for i in range(len(Names)):\n",
    "    for j in range(len(X)):\n",
    "        axs[i, j].scatter(all_predictions_m[j][i], ym_tests[j],  alpha=0.1)\n",
    "        axs[i, j].set_title(Names[i]+\" \"+DataFeats[j])\n",
    "        axs[i, j].set_xlabel(\"Predicted\")\n",
    "        axs[i, j].set_ylabel(\"Actual\")"
   ]
  },
  {
   "cell_type": "markdown",
   "metadata": {},
   "source": [
    "# Error distribution"
   ]
  },
  {
   "cell_type": "code",
   "execution_count": null,
   "metadata": {},
   "outputs": [],
   "source": [
    "fig, axs = plt.subplots(len(Names), len(X), figsize=(15, 15))\n",
    "fig.tight_layout(pad=5.0)\n",
    "for i in range(len(Names)):\n",
    "    for j in range(len(X)):\n",
    "        sns.histplot((ys_test-all_predictions_s[j][i]), bins=100, ax=axs[i, j], kde=True, stat=\"density\", linewidth=0)\n",
    "        axs[i, j].set_title(Names[i]+\" \"+DataFeats[j])\n",
    "        axs[i, j].set_xlabel(\"Error\")\n",
    "        axs[i, j].set_ylabel(\"Frequency\")\n",
    "        axs[i, j].set_xlim(-1500, 1500)\n",
    "        axs[i, j].set_ylim(0, 0.0015)"
   ]
  },
  {
   "cell_type": "code",
   "execution_count": null,
   "metadata": {},
   "outputs": [],
   "source": [
    "fig, axs = plt.subplots(len(Names), len(X), figsize=(15, 15))\n",
    "fig.tight_layout(pad=5.0)\n",
    "for i in range(len(Names)):\n",
    "    for j in range(len(X)):\n",
    "        sns.histplot((ym_test-all_predictions_m[j][i]), bins=100, ax=axs[i, j], kde=True, stat=\"density\", linewidth=0)\n",
    "        axs[i, j].set_title(Names[i]+\" \"+DataFeats[j])\n",
    "        axs[i, j].set_xlabel(\"Error\")\n",
    "        axs[i, j].set_ylabel(\"Frequency\")\n",
    "        axs[i, j].set_xlim(-30, 30)\n",
    "        axs[i, j].set_ylim(0, 0.08)"
   ]
  },
  {
   "cell_type": "markdown",
   "metadata": {},
   "source": [
    "## 6. Hyperparameter tuning"
   ]
  },
  {
   "cell_type": "code",
   "execution_count": null,
   "metadata": {},
   "outputs": [],
   "source": [
    "from module.distance_calculator import DistanceCalculator\n",
    "\n",
    "import numpy as np\n",
    "import pandas as pd\n",
    "\n",
    "from math import sqrt, cos\n",
    "\n",
    "import networkx as nx\n",
    "\n",
    "import datetime\n",
    "from datetime import time, date, datetime\n",
    "\n",
    "import matplotlib.pyplot as plt\n",
    "from mpl_toolkits.mplot3d import Axes3D\n",
    "\n",
    "import seaborn as sns\n",
    "\n",
    "import sklearn\n",
    "from sklearn.preprocessing import OneHotEncoder\n",
    "from sklearn.decomposition import PCA\n",
    "from sklearn.manifold import TSNE\n",
    "from sklearn.model_selection import train_test_split\n",
    "from sklearn import metrics\n",
    "\n",
    "\n",
    "from sklearn.linear_model import LinearRegression\n",
    "from sklearn.ensemble import RandomForestRegressor\n",
    "from sklearn.ensemble import GradientBoostingRegressor\n",
    "from sklearn.model_selection import cross_validate"
   ]
  },
  {
   "cell_type": "code",
   "execution_count": null,
   "metadata": {},
   "outputs": [],
   "source": [
    "# LOAD CLEANED DATASET\n",
    "df = pd.read_csv(\"Sample 14days (cleaned)\")\n",
    "df.loc[df[\"ShortestDist\"]==0, \"ShortestDist\"] = df.loc[df[\"ShortestDist\"]==0, \"EucDist\"]"
   ]
  },
  {
   "cell_type": "code",
   "execution_count": null,
   "metadata": {},
   "outputs": [],
   "source": [
    "df.head(5)"
   ]
  },
  {
   "cell_type": "raw",
   "metadata": {},
   "source": [
    "y_s = df.pop(\"DeliveryTime (s)\")\n",
    "y_m = df.pop(\"DeliveryTime (m)\")\n",
    "X = df[[\"Merchant.Lat\", \"Merchant.Lng\", \"Customer.lat\", \"Customer.lng\", \"EucDist\", \"ShortestDist\", \"day_of_week_sin\", \"day_of_week_cos\"]]\n",
    "Xs_train, Xs_test, ys_train, ys_test = train_test_split(X, y_s, test_size=0.20, random_state=0)\n",
    "Xm_train, Xm_test, ym_train, ym_test = train_test_split(X, y_m, test_size=0.20, random_state=0)"
   ]
  },
  {
   "cell_type": "code",
   "execution_count": null,
   "metadata": {},
   "outputs": [],
   "source": [
    "import pickle as pkl\n",
    "from sklearn.model_selection import GridSearchCV\n",
    "from sklearn.ensemble import GradientBoostingRegressor\n",
    "from mpl_toolkits.mplot3d import Axes3D\n",
    "from pylab import cm\n",
    "import matplotlib.ticker as mticker"
   ]
  },
  {
   "cell_type": "code",
   "execution_count": null,
   "metadata": {},
   "outputs": [],
   "source": [
    "# gbdt = GradientBoostingRegressor(random_state=314159)\n",
    "# # gbdt.get_params(deep=True)\n",
    "\n",
    "# param_grid = { \n",
    "#  \"n_estimators\": [100, 200, 300, 500, 1000, 1500, 2000],\n",
    "#  \"max_features\": [1.0, \"sqrt\", \"log2\"], # \"auto\" is deprecated, use 1.0 instead\n",
    "#  \"max_depth\": [2, 3, 4, 5, 6, 7, 8],\n",
    "# }\n",
    "\n",
    "# CV_gbdt_s = GridSearchCV(estimator=gbdt, param_grid=param_grid)\n",
    "# CV_gbdt_s.fit(Xs_train, ys_train)"
   ]
  },
  {
   "cell_type": "code",
   "execution_count": null,
   "metadata": {},
   "outputs": [],
   "source": [
    "# pkl.dump(CV_gbdt_s, open(\"CV_gbdt_s.pkl\", \"wb\"))"
   ]
  },
  {
   "cell_type": "code",
   "execution_count": null,
   "metadata": {},
   "outputs": [],
   "source": [
    "CV_gbdt_s = pkl.load(open(\"CV_gbdt_s.pkl\", \"rb\"))"
   ]
  },
  {
   "cell_type": "code",
   "execution_count": null,
   "metadata": {},
   "outputs": [],
   "source": [
    "# gbdt = GradientBoostingRegressor(random_state=314159)\n",
    "# # gbdt.get_params(deep=True)\n",
    "\n",
    "# param_grid = { \n",
    "#  \"n_estimators\": [100, 200, 300, 500, 1000, 1500, 2000],\n",
    "#  \"max_features\": [1.0, \"sqrt\", \"log2\"], # \"auto\" is deprecated, use 1.0 instead\n",
    "#  \"max_depth\" : [2, 3, 4, 5, 6, 7, 8],\n",
    "# }\n",
    "\n",
    "# CV_gbdt_m = GridSearchCV(estimator=gbdt, param_grid=param_grid)\n",
    "# CV_gbdt_m.fit(Xm_train, ym_train)"
   ]
  },
  {
   "cell_type": "code",
   "execution_count": null,
   "metadata": {},
   "outputs": [],
   "source": [
    "# pkl.dump(CV_gbdt_m, open(\"CV_gbdt_m.pkl\", \"wb\"))"
   ]
  },
  {
   "cell_type": "code",
   "execution_count": null,
   "metadata": {},
   "outputs": [],
   "source": [
    "CV_gbdt_m = pkl.load(open(\"CV_gbdt_m.pkl\", \"rb\"))"
   ]
  },
  {
   "cell_type": "code",
   "execution_count": null,
   "metadata": {},
   "outputs": [],
   "source": [
    "gbdt_s = CV_gbdt_s.best_estimator_"
   ]
  },
  {
   "cell_type": "code",
   "execution_count": null,
   "metadata": {},
   "outputs": [],
   "source": [
    "# pkl.dump(gbdt_s, open(\"gbdt_s.pkl\", \"wb\"))"
   ]
  },
  {
   "cell_type": "code",
   "execution_count": null,
   "metadata": {},
   "outputs": [],
   "source": [
    "CV_gbdt_s.best_params_"
   ]
  },
  {
   "cell_type": "code",
   "execution_count": null,
   "metadata": {},
   "outputs": [],
   "source": [
    "CV_s_result = pd.DataFrame(CV_gbdt_s.cv_results_)"
   ]
  },
  {
   "cell_type": "code",
   "execution_count": null,
   "metadata": {},
   "outputs": [],
   "source": [
    "CV_s_result.info()"
   ]
  },
  {
   "cell_type": "code",
   "execution_count": null,
   "metadata": {},
   "outputs": [],
   "source": [
    "CV_s_result[[\"param_max_depth\", \"param_max_features\", \"param_n_estimators\", \"mean_test_score\", \"std_test_score\"]].sort_values(by=\"mean_test_score\", ascending=False)"
   ]
  },
  {
   "cell_type": "code",
   "execution_count": null,
   "metadata": {},
   "outputs": [],
   "source": [
    "fig = plt.figure(figsize=(10, 10))\n",
    "ax = fig.add_subplot(111, projection='3d')\n",
    "\n",
    "x = CV_s_result[\"param_max_depth\"].values.astype(\"int\")\n",
    "y = CV_s_result[\"param_max_features\"].map({1.0: 0, \"sqrt\": 1, \"log2\": 2}).values.astype(\"int\")\n",
    "z = CV_s_result[\"param_n_estimators\"].values.astype(\"int\")\n",
    "colo = CV_s_result[\"mean_test_score\"].values\n",
    "\n",
    "color_map = cm.ScalarMappable(cmap=cm.Greens_r)\n",
    "color_map.set_array(colo)\n",
    "\n",
    "img = ax.scatter(xs=x, ys=y, zs=z, c=colo, cmap=cm.Greens_r, s=100)\n",
    "cbar = fig.colorbar(img, ticks=np.linspace(0.70, 0.79, 10), orientation='vertical', shrink=0.5, aspect=10, pad=0.1)\n",
    "cbar.set_label('mean_test_score', rotation=270, labelpad=20)\n",
    "\n",
    "ax.set_title(\"mean R2 score of CV_gbdt_s\")\n",
    "ax.set_xlabel('param_max_depth')\n",
    "ax.set_ylabel('param_max_features')\n",
    "ax.set_zlabel('param_n_estimators')\n",
    "\n",
    "ax.axes.yaxis.set_major_locator(mticker.FixedLocator(y))\n",
    "ax.axes.yaxis.set_ticklabels(CV_s_result[\"param_max_features\"].map({1.0: \"auto\", \"sqrt\": \"sqrt\", \"log2\": \"log2\"}))\n",
    "plt.show()"
   ]
  },
  {
   "cell_type": "code",
   "execution_count": null,
   "metadata": {},
   "outputs": [],
   "source": [
    "gbdt_predictions_s = gbdt_s.predict(Xs_test)\n",
    "\n",
    "MAE  = metrics.mean_absolute_error(ys_test, gbdt_predictions_s)\n",
    "MSE  = metrics.mean_squared_error(ys_test, gbdt_predictions_s)\n",
    "R2   = metrics.r2_score(ys_test, gbdt_predictions_s)\n",
    "RMSE = np.sqrt(metrics.mean_squared_error(ys_test, gbdt_predictions_s))"
   ]
  },
  {
   "cell_type": "code",
   "execution_count": null,
   "metadata": {},
   "outputs": [],
   "source": [
    "MAE, MSE, R2, RMSE"
   ]
  },
  {
   "cell_type": "code",
   "execution_count": null,
   "metadata": {},
   "outputs": [],
   "source": [
    "gbdt_predictions_s_round = np.round(gbdt_s.predict(Xs_test))\n",
    "\n",
    "MAE  = metrics.mean_absolute_error(ys_test, gbdt_predictions_s_round)\n",
    "MSE  = metrics.mean_squared_error(ys_test, gbdt_predictions_s_round)\n",
    "R2   = metrics.r2_score(ys_test, gbdt_predictions_s_round)\n",
    "RMSE = np.sqrt(metrics.mean_squared_error(ys_test, gbdt_predictions_s_round))"
   ]
  },
  {
   "cell_type": "code",
   "execution_count": null,
   "metadata": {},
   "outputs": [],
   "source": [
    "MAE, MSE, R2, RMSE"
   ]
  },
  {
   "cell_type": "code",
   "execution_count": null,
   "metadata": {},
   "outputs": [],
   "source": [
    "gbdt_s_result = pd.DataFrame({\"Actual\": ys_test, \"Predicted_0\": gbdt_predictions_s, \"Predicted_1\": gbdt_predictions_s_round})\n",
    "gbdt_s_result"
   ]
  },
  {
   "cell_type": "code",
   "execution_count": null,
   "metadata": {},
   "outputs": [],
   "source": [
    "fig, axs = plt.subplots(1, 2, figsize=(10, 5))\n",
    "fig.tight_layout(pad=5.0)\n",
    "axs[0].scatter(gbdt_predictions_s, ys_test, alpha=0.1)\n",
    "axs[0].set_title(\"gbdt_s\")\n",
    "axs[0].set_xlabel(\"Predicted\")\n",
    "axs[0].set_ylabel(\"Actual\")\n",
    "\n",
    "axs[1].scatter(gbdt_predictions_s_round, ys_test, alpha=0.1)\n",
    "axs[1].set_title(\"gbdt_s_rounded\")\n",
    "axs[1].set_xlabel(\"Predicted\")\n",
    "axs[1].set_ylabel(\"Actual\")"
   ]
  },
  {
   "cell_type": "code",
   "execution_count": null,
   "metadata": {},
   "outputs": [],
   "source": [
    "fig, axs = plt.subplots(1, 2, figsize=(10, 5))\n",
    "fig.tight_layout(pad=5.0)\n",
    "axs[0].scatter(ys_test, gbdt_predictions_s, alpha=0.1)\n",
    "axs[0].set_title(\"gbdt_s\")\n",
    "axs[0].set_xlabel(\"Actual\")\n",
    "axs[0].set_ylabel(\"Predicted\")\n",
    "\n",
    "axs[1].scatter(ys_test, gbdt_predictions_s_round, alpha=0.1)\n",
    "axs[1].set_title(\"gbdt_s_rounded\")\n",
    "axs[1].set_xlabel(\"Actual\")\n",
    "axs[1].set_ylabel(\"Predicted\")"
   ]
  },
  {
   "cell_type": "code",
   "execution_count": null,
   "metadata": {},
   "outputs": [],
   "source": [
    "\n",
    "# TODO pred/act plot\n",
    "fig, axs = plt.subplots(1, 2, figsize=(10, 5))\n",
    "fig.tight_layout(pad=5.0)\n",
    "axs[0].scatter(gbdt_predictions_s, ys_test/gbdt_predictions_s, alpha=0.1)\n",
    "axs[0].set_title(\"gbdt_s\")\n",
    "axs[0].set_xlabel(\"Predicted\")\n",
    "axs[0].set_ylabel(\"Actual/Predicted\")\n",
    "\n",
    "axs[1].scatter(gbdt_predictions_s_round, ys_test/gbdt_predictions_s_round, alpha=0.1)\n",
    "axs[1].set_title(\"gbdt_s_rounded\")\n",
    "axs[1].set_xlabel(\"Predicted\")\n",
    "axs[1].set_ylabel(\"Actual/Predicted\")"
   ]
  },
  {
   "cell_type": "code",
   "execution_count": null,
   "metadata": {},
   "outputs": [],
   "source": [
    "\n",
    "# TODO pred/act plot\n",
    "fig, axs = plt.subplots(1, 2, figsize=(10, 5))\n",
    "fig.tight_layout(pad=5.0)\n",
    "axs[0].scatter(ys_test/gbdt_predictions_s, gbdt_predictions_s, alpha=0.1)\n",
    "axs[0].set_title(\"gbdt_s\")\n",
    "axs[0].set_xlabel(\"Actual/Predicted\")\n",
    "axs[0].set_ylabel(\"Predicted\")\n",
    "\n",
    "axs[1].scatter(ys_test/gbdt_predictions_s_round, gbdt_predictions_s_round,alpha=0.1)\n",
    "axs[1].set_title(\"gbdt_s_rounded\")\n",
    "axs[1].set_xlabel(\"Actual/Predicted\")\n",
    "axs[1].set_ylabel(\"Predicted\")"
   ]
  },
  {
   "cell_type": "code",
   "execution_count": null,
   "metadata": {},
   "outputs": [],
   "source": [
    "\n",
    "# TODO act, act/pred plot\n",
    "fig, axs = plt.subplots(1, 2, figsize=(10, 5))\n",
    "fig.tight_layout(pad=5.0)\n",
    "axs[0].scatter(ys_test, ys_test/gbdt_predictions_s, alpha=0.1)\n",
    "axs[0].set_title(\"gbdt_s\")\n",
    "axs[0].set_xlabel(\"Actual\")\n",
    "axs[0].set_ylabel(\"Actual/Predicted\")\n",
    "\n",
    "axs[1].scatter(ys_test, ys_test/gbdt_predictions_s_round, alpha=0.1)\n",
    "axs[1].set_title(\"gbdt_s_rounded\")\n",
    "axs[1].set_xlabel(\"Actual\")\n",
    "axs[1].set_ylabel(\"Actual/Predicted\")"
   ]
  },
  {
   "cell_type": "code",
   "execution_count": null,
   "metadata": {},
   "outputs": [],
   "source": [
    "fig, axs = plt.subplots(1, 2, figsize=(10, 5))\n",
    "fig.tight_layout(pad=5.0)\n",
    "\n",
    "sns.histplot((ys_test-gbdt_predictions_s), bins=100, ax=axs[0], kde=True, stat=\"density\", linewidth=0)\n",
    "axs[0].set_title(\"CV_gbdt_s\")\n",
    "axs[0].set_xlabel(\"Error\")\n",
    "axs[0].set_ylabel(\"Frequency\")\n",
    "axs[0].set_xlim(-1500, 1500)\n",
    "axs[0].set_ylim(0, 0.0015)\n",
    "\n",
    "sns.histplot((ys_test-gbdt_predictions_s_round), bins=100, ax=axs[1], kde=True, stat=\"density\", linewidth=0)\n",
    "axs[1].set_title(\"CV_gbdt_s_rounded\")\n",
    "axs[1].set_xlabel(\"Error\")\n",
    "axs[1].set_ylabel(\"Frequency\")\n",
    "axs[1].set_xlim(-1500, 1500)\n",
    "axs[1].set_ylim(0, 0.0015)"
   ]
  },
  {
   "cell_type": "markdown",
   "metadata": {},
   "source": [
    "#### for m"
   ]
  },
  {
   "cell_type": "code",
   "execution_count": null,
   "metadata": {},
   "outputs": [],
   "source": [
    "gbdt_m = CV_gbdt_m.best_estimator_"
   ]
  },
  {
   "cell_type": "code",
   "execution_count": null,
   "metadata": {},
   "outputs": [],
   "source": [
    "gbdt_m.feature_importances_"
   ]
  },
  {
   "cell_type": "code",
   "execution_count": null,
   "metadata": {},
   "outputs": [],
   "source": [
    "# pkl.dump(gbdt_m, open(\"gbdt_m.pkl\", \"wb\"))"
   ]
  },
  {
   "cell_type": "code",
   "execution_count": null,
   "metadata": {},
   "outputs": [],
   "source": [
    "CV_gbdt_m.best_params_"
   ]
  },
  {
   "cell_type": "code",
   "execution_count": null,
   "metadata": {},
   "outputs": [],
   "source": [
    "pd.DataFrame(CV_gbdt_m.cv_results_).head(5)"
   ]
  },
  {
   "cell_type": "code",
   "execution_count": null,
   "metadata": {},
   "outputs": [],
   "source": [
    "CV_m_result = pd.DataFrame(CV_gbdt_m.cv_results_)"
   ]
  },
  {
   "cell_type": "code",
   "execution_count": null,
   "metadata": {},
   "outputs": [],
   "source": [
    "CV_m_result[[\"param_max_depth\", \"param_max_features\", \"param_n_estimators\", \"mean_test_score\", \"std_test_score\"]].sort_values(by=\"mean_test_score\", ascending=False)"
   ]
  },
  {
   "cell_type": "raw",
   "metadata": {},
   "source": [
    "fig = plt.figure(figsize=(10, 10))\n",
    "fig.tight_layout(pad=5.0)\n",
    "ax = fig.add_subplot(111, projection='3d')\n",
    "\n",
    "x = CV_m_result[\"param_max_depth\"].values.astype(\"int\")\n",
    "y = CV_m_result[\"param_max_features\"].map({1.0: 0, \"sqrt\": 1, \"log2\": 2}).values.astype(\"int\")\n",
    "z = CV_m_result[\"param_n_estimators\"].values.astype(\"int\")\n",
    "colo = CV_m_result[\"mean_test_score\"].values\n",
    "\n",
    "color_map = cm.ScalarMappable(cmap=cm.Greens_r)\n",
    "color_map.set_array(colo)\n",
    "\n",
    "img = ax.scatter(xs=x, ys=y, zs=z, c=colo, cmap=cm.Greens_r, s=100)\n",
    "cbar = fig.colorbar(img, ticks=np.linspace(0.70, 0.79, 10), orientation='vertical', shrink=0.5, aspect=10, pad=0.1)\n",
    "cbar.set_label('mean_test_score', rotation=270, labelpad=20)\n",
    "\n",
    "ax.set_title(\"mean R2 score of CV_gbdt_m\")\n",
    "ax.set_xlabel('param_max_depth')\n",
    "ax.set_ylabel('param_max_features')\n",
    "ax.set_zlabel('param_n_estimators')\n",
    "\n",
    "ax.axes.yaxis.set_major_locator(mticker.FixedLocator(y))\n",
    "ax.axes.yaxis.set_ticklabels(CV_m_result[\"param_max_features\"].map({1.0: \"auto\", \"sqrt\": \"sqrt\", \"log2\": \"log2\"}))\n",
    "plt.show()"
   ]
  },
  {
   "cell_type": "code",
   "execution_count": null,
   "metadata": {},
   "outputs": [],
   "source": [
    "gbdt_predictions_m = gbdt_m.predict(Xm_test)\n",
    "\n",
    "MAE  = metrics.mean_absolute_error(ym_test, gbdt_predictions_m)\n",
    "MSE  = metrics.mean_squared_error(ym_test, gbdt_predictions_m)\n",
    "R2   = metrics.r2_score(ym_test, gbdt_predictions_m)\n",
    "RMSE = np.sqrt(metrics.mean_squared_error(ym_test, gbdt_predictions_m))"
   ]
  },
  {
   "cell_type": "code",
   "execution_count": null,
   "metadata": {},
   "outputs": [],
   "source": [
    "MAE, MSE, R2, RMSE"
   ]
  },
  {
   "cell_type": "code",
   "execution_count": null,
   "metadata": {},
   "outputs": [],
   "source": [
    "gbdt_predictions_m_round = np.round(gbdt_m.predict(Xm_test))\n",
    "\n",
    "MAE  = metrics.mean_absolute_error(ym_test, gbdt_predictions_m_round)\n",
    "MSE  = metrics.mean_squared_error(ym_test, gbdt_predictions_m_round)\n",
    "R2   = metrics.r2_score(ym_test, gbdt_predictions_m_round)\n",
    "RMSE = np.sqrt(metrics.mean_squared_error(ym_test, gbdt_predictions_m_round))"
   ]
  },
  {
   "cell_type": "code",
   "execution_count": null,
   "metadata": {},
   "outputs": [],
   "source": [
    "MAE, MSE, R2, RMSE"
   ]
  },
  {
   "cell_type": "code",
   "execution_count": null,
   "metadata": {},
   "outputs": [],
   "source": [
    "gbdt_m_result = pd.DataFrame({\"Actual\": ym_test, \"Predicted_0\": gbdt_predictions_m, \"Predicted_1\": gbdt_predictions_m_round})\n",
    "gbdt_m_result"
   ]
  },
  {
   "cell_type": "code",
   "execution_count": null,
   "metadata": {},
   "outputs": [],
   "source": [
    "fig, axs = plt.subplots(1, 2, figsize=(10, 5))\n",
    "fig.tight_layout(pad=5.0)\n",
    "axs[0].scatter(gbdt_predictions_m, ym_test, alpha=0.1)\n",
    "axs[0].set_title(\"gbdt_m\")\n",
    "axs[0].set_xlabel(\"Predicted\")\n",
    "axs[0].set_ylabel(\"Actual\")\n",
    "\n",
    "axs[1].scatter(gbdt_predictions_m_round, ym_test, alpha=0.1)\n",
    "axs[1].set_title(\"gbdt_m_rounded\")\n",
    "axs[1].set_xlabel(\"Predicted\")\n",
    "axs[1].set_ylabel(\"Actual\")"
   ]
  },
  {
   "cell_type": "code",
   "execution_count": null,
   "metadata": {},
   "outputs": [],
   "source": [
    "fig, axs = plt.subplots(1, 2, figsize=(10, 5))\n",
    "fig.tight_layout(pad=5.0)\n",
    "axs[0].scatter(ym_test, gbdt_predictions_m, alpha=0.1)\n",
    "axs[0].set_title(\"gbdt_m\")\n",
    "axs[0].set_xlabel(\"Actual\")\n",
    "axs[0].set_ylabel(\"Predicted\")\n",
    "\n",
    "axs[1].scatter(ym_test,gbdt_predictions_m_round, alpha=0.1)\n",
    "axs[1].set_title(\"gbdt_m_rounded\")\n",
    "axs[1].set_xlabel(\"Actual\")\n",
    "axs[1].set_ylabel(\"Predicted\")"
   ]
  },
  {
   "cell_type": "code",
   "execution_count": null,
   "metadata": {},
   "outputs": [],
   "source": [
    "\n",
    "# TODO pred/act plot\n",
    "fig, axs = plt.subplots(1, 2, figsize=(10, 5))\n",
    "fig.tight_layout(pad=5.0)\n",
    "axs[0].scatter(gbdt_predictions_m, ym_test/gbdt_predictions_m, alpha=0.1)\n",
    "axs[0].set_title(\"gbdt_m\")\n",
    "axs[0].set_xlabel(\"Predicted\")\n",
    "axs[0].set_ylabel(\"Actual/Predicted\")\n",
    "\n",
    "axs[1].scatter(gbdt_predictions_m_round, ym_test/gbdt_predictions_m_round, alpha=0.1)\n",
    "axs[1].set_title(\"gbdt_m_rounded\")\n",
    "axs[1].set_xlabel(\"Predicted\")\n",
    "axs[1].set_ylabel(\"Actual/Predicted\")"
   ]
  },
  {
   "cell_type": "code",
   "execution_count": null,
   "metadata": {},
   "outputs": [],
   "source": [
    "\n",
    "# TODO pred/act plot\n",
    "fig, axs = plt.subplots(1, 2, figsize=(10, 5))\n",
    "fig.tight_layout(pad=5.0)\n",
    "axs[0].scatter(ym_test/gbdt_predictions_m, gbdt_predictions_m, alpha=0.1)\n",
    "axs[0].set_title(\"gbdt_m\")\n",
    "axs[0].set_xlabel(\"Actual/Predicted\")\n",
    "axs[0].set_ylabel(\"Predicted\")\n",
    "\n",
    "axs[1].scatter(ym_test/gbdt_predictions_m_round, gbdt_predictions_m_round, alpha=0.1)\n",
    "axs[1].set_title(\"gbdt_m_rounded\")\n",
    "axs[1].set_xlabel(\"Actual/Predicted\")\n",
    "axs[1].set_ylabel(\"Predicted\")"
   ]
  },
  {
   "cell_type": "code",
   "execution_count": null,
   "metadata": {},
   "outputs": [],
   "source": [
    "\n",
    "# TODO act, act/pred plot\n",
    "fig, axs = plt.subplots(1, 2, figsize=(10, 5))\n",
    "fig.tight_layout(pad=5.0)\n",
    "axs[0].scatter(ym_test, ym_test/gbdt_predictions_m, alpha=0.1)\n",
    "axs[0].set_title(\"gbdt_m\")\n",
    "axs[0].set_xlabel(\"Actual\")\n",
    "axs[0].set_ylabel(\"Actual/Predicted\")\n",
    "\n",
    "axs[1].scatter(ym_test, ym_test/gbdt_predictions_m_round, alpha=0.1)\n",
    "axs[1].set_title(\"gbdt_m_rounded\")\n",
    "axs[1].set_xlabel(\"Actual\")\n",
    "axs[1].set_ylabel(\"Actual/Predicted\")"
   ]
  },
  {
   "cell_type": "markdown",
   "metadata": {},
   "source": [
    "## compare gbdt s,m"
   ]
  },
  {
   "cell_type": "code",
   "execution_count": null,
   "metadata": {},
   "outputs": [],
   "source": [
    "\n",
    "# TODO pred/act plot s/m\n",
    "fig, axs = plt.subplots(1, 2, figsize=(10, 5))\n",
    "fig.tight_layout(pad=5.0)\n",
    "axs[0].scatter(gbdt_predictions_s, ys_test/gbdt_predictions_s, alpha=0.1)\n",
    "axs[0].set_title(\"gbdt_s\")\n",
    "axs[0].set_xlabel(\"Predicted\")\n",
    "axs[0].set_ylabel(\"Actual/Predicted\")\n",
    "axs[0].set_ylim(0.35, 1.5)\n",
    "\n",
    "axs[1].scatter(gbdt_predictions_m, ym_test/gbdt_predictions_m, alpha=0.1)\n",
    "axs[1].set_title(\"gbdt_m\")\n",
    "axs[1].set_xlabel(\"Predicted\")\n",
    "axs[1].set_ylabel(\"Actual/Predicted\")\n",
    "axs[1].set_ylim(0.35, 1.5)"
   ]
  },
  {
   "cell_type": "code",
   "execution_count": null,
   "metadata": {},
   "outputs": [],
   "source": [
    "\n",
    "# TODO pred/act plot s/m rounded\n",
    "fig, axs = plt.subplots(1, 2, figsize=(10, 5))\n",
    "fig.tight_layout(pad=5.0)\n",
    "axs[0].scatter(gbdt_predictions_s_round, ys_test/gbdt_predictions_s_round, alpha=0.1)\n",
    "axs[0].set_title(\"gbdt_s_rounded\")\n",
    "axs[0].set_xlabel(\"Predicted\")\n",
    "axs[0].set_ylabel(\"Actual/Predicted\")\n",
    "axs[0].set_ylim(0.35, 1.5)\n",
    "\n",
    "axs[1].scatter(gbdt_predictions_m_round, ym_test/gbdt_predictions_m_round, alpha=0.1)\n",
    "axs[1].set_title(\"gbdt_m_rounded\")\n",
    "axs[1].set_xlabel(\"Predicted\")\n",
    "axs[1].set_ylabel(\"Actual/Predicted\")\n",
    "axs[1].set_ylim(0.35, 1.5)"
   ]
  },
  {
   "cell_type": "code",
   "execution_count": null,
   "metadata": {},
   "outputs": [],
   "source": [
    "\n",
    "# TODO act, act/pred plot s/m\n",
    "fig, axs = plt.subplots(1, 2, figsize=(10, 5))\n",
    "fig.tight_layout(pad=5.0)\n",
    "axs[0].scatter(ys_test, ys_test/gbdt_predictions_s, alpha=0.1)\n",
    "axs[0].set_title(\"gbdt_s\")\n",
    "axs[0].set_xlabel(\"Actual\")\n",
    "axs[0].set_ylabel(\"Actual/Predicted\")\n",
    "axs[0].set_ylim(0.35, 1.5)\n",
    "\n",
    "axs[1].scatter(ym_test, ym_test/gbdt_predictions_m, alpha=0.1)\n",
    "axs[1].set_title(\"gbdt_m\")\n",
    "axs[1].set_xlabel(\"Actual\")\n",
    "axs[1].set_ylabel(\"Actual/Predicted\")\n",
    "axs[1].set_ylim(0.35, 1.5)"
   ]
  },
  {
   "cell_type": "code",
   "execution_count": null,
   "metadata": {},
   "outputs": [],
   "source": [
    "\n",
    "# TODO pred/act plot s/m rounded\n",
    "fig, axs = plt.subplots(1, 2, figsize=(10, 5))\n",
    "fig.tight_layout(pad=5.0)\n",
    "axs[0].scatter(ys_test, ys_test/gbdt_predictions_s_round, alpha=0.1)\n",
    "axs[0].set_title(\"gbdt_s_rounded\")\n",
    "axs[0].set_xlabel(\"Actual\")\n",
    "axs[0].set_ylabel(\"Actual/Predicted\")\n",
    "axs[0].set_ylim(0.35, 1.5)\n",
    "\n",
    "axs[1].scatter(ym_test, ym_test/gbdt_predictions_m_round, alpha=0.1)\n",
    "axs[1].set_title(\"gbdt_m_rounded\")\n",
    "axs[1].set_xlabel(\"Actual\")\n",
    "axs[1].set_ylabel(\"Actual/Predicted\")\n",
    "axs[1].set_ylim(0.35, 1.5)"
   ]
  },
  {
   "cell_type": "code",
   "execution_count": null,
   "metadata": {},
   "outputs": [],
   "source": [
    "\n",
    "# TODO pred/act plot s/m\n",
    "fig, axs = plt.subplots(1, 2, figsize=(10, 5))\n",
    "fig.tight_layout(pad=5.0)\n",
    "axs[0].scatter(ys_test/gbdt_predictions_s, gbdt_predictions_s, alpha=0.1)\n",
    "axs[0].set_title(\"gbdt_s\")\n",
    "axs[0].set_xlabel(\"Actual/Predicted\")\n",
    "axs[0].set_ylabel(\"Predicted\")\n",
    "axs[0].set_xlim(0.35, 1.5)\n",
    "\n",
    "axs[1].scatter(ym_test/gbdt_predictions_m, gbdt_predictions_m, alpha=0.1)\n",
    "axs[1].set_title(\"gbdt_m\")\n",
    "axs[1].set_xlabel(\"Actual/Predicted\")\n",
    "axs[1].set_ylabel(\"Predicted\")\n",
    "axs[1].set_xlim(0.35, 1.5)"
   ]
  },
  {
   "cell_type": "code",
   "execution_count": null,
   "metadata": {},
   "outputs": [],
   "source": [
    "\n",
    "# TODO pred/act plot s/m rounded\n",
    "fig, axs = plt.subplots(1, 2, figsize=(10, 5))\n",
    "fig.tight_layout(pad=5.0)\n",
    "axs[0].scatter(ys_test/gbdt_predictions_s_round, gbdt_predictions_s_round, alpha=0.1)\n",
    "axs[0].set_title(\"gbdt_s_rounded\")\n",
    "axs[0].set_xlabel(\"Actual/Predicted\")\n",
    "axs[0].set_ylabel(\"Predicted\")\n",
    "axs[0].set_xlim(0.35, 1.5)\n",
    "\n",
    "axs[1].scatter(ym_test/gbdt_predictions_m_round, gbdt_predictions_m_round, alpha=0.1)\n",
    "axs[1].set_title(\"gbdt_m_rounded\")\n",
    "axs[1].set_xlabel(\"Actual/Predicted\")\n",
    "axs[1].set_ylabel(\"Predicted\")\n",
    "axs[1].set_xlim(0.35, 1.5)"
   ]
  },
  {
   "cell_type": "code",
   "execution_count": null,
   "metadata": {},
   "outputs": [],
   "source": [
    "fig, axs = plt.subplots(1, 2, figsize=(10, 5))\n",
    "fig.tight_layout(pad=5.0)\n",
    "\n",
    "sns.histplot((ym_test-gbdt_predictions_m), bins=100, ax=axs[0], kde=True, stat=\"density\", linewidth=0)\n",
    "axs[0].set_title(\"CV_gbdt_m\")\n",
    "axs[0].set_xlabel(\"Error\")\n",
    "axs[0].set_ylabel(\"Frequency\")\n",
    "axs[0].set_xlim(-30, 30)\n",
    "axs[0].set_ylim(0, 0.08)\n",
    "\n",
    "sns.histplot((ym_test-gbdt_predictions_m_round), bins=100, ax=axs[1], kde=True, stat=\"density\", linewidth=0)\n",
    "axs[1].set_title(\"CV_gbdt_m_rounded\")\n",
    "axs[1].set_xlabel(\"Error\")\n",
    "axs[1].set_ylabel(\"Frequency\")\n",
    "axs[1].set_xlim(-30, 30)\n",
    "axs[1].set_ylim(0, 0.08)"
   ]
  },
  {
   "cell_type": "code",
   "execution_count": null,
   "metadata": {},
   "outputs": [],
   "source": [
    "gbdt_m_result[\"AE_0\"] = np.abs(gbdt_m_result[\"Actual\"] - gbdt_m_result[\"Predicted_0\"])\n",
    "gbdt_m_result[\"AE_1\"] = np.abs(gbdt_m_result[\"Actual\"] - gbdt_m_result[\"Predicted_1\"])\n",
    "gbdt_m_result.head(1)"
   ]
  },
  {
   "cell_type": "code",
   "execution_count": null,
   "metadata": {},
   "outputs": [],
   "source": [
    "gbdt_m_result"
   ]
  },
  {
   "cell_type": "code",
   "execution_count": null,
   "metadata": {},
   "outputs": [],
   "source": [
    "# TODO: try to group AE_0 to cateorical\n",
    "gbdt_m_pareto_0 = gbdt_m_result.value_counts(\"AE_0\").sort_index().to_frame().reset_index()\n",
    "# gbdt_m_pareto_1.index = gbdt_m_pareto_1[\"AE_1\"].values.astype(str)\n",
    "# gbdt_m_pareto_1[\"AE_1\"] = gbdt_m_pareto_1[0]\n",
    "# gbdt_m_pareto_1.drop(columns=[0], inplace=True)\n",
    "# gbdt_m_pareto_1[\"cumpercentage\"] = gbdt_m_pareto_1[\"AE_1\"].cumsum()/gbdt_m_pareto_1[\"AE_1\"].sum()*100\n",
    "# gbdt_m_pareto_1.head(3)\n",
    "\n",
    "gbdt_m_pareto_0.value_counts()"
   ]
  },
  {
   "cell_type": "code",
   "execution_count": null,
   "metadata": {},
   "outputs": [],
   "source": [
    "# for AE_1 it is integer\n",
    "from matplotlib.ticker import PercentFormatter\n",
    "gbdt_m_pareto_1 = gbdt_m_result.value_counts(\"AE_1\").sort_index().to_frame().reset_index()\n",
    "gbdt_m_pareto_1.index = gbdt_m_pareto_1[\"AE_1\"].values.astype(str)\n",
    "gbdt_m_pareto_1[\"AE_1\"] = gbdt_m_pareto_1[0]\n",
    "gbdt_m_pareto_1.drop(columns=[0], inplace=True)\n",
    "gbdt_m_pareto_1[\"cumpercentage\"] = gbdt_m_pareto_1[\"AE_1\"].cumsum()/gbdt_m_pareto_1[\"AE_1\"].sum()*100\n",
    "gbdt_m_pareto_1.head(3)"
   ]
  },
  {
   "cell_type": "code",
   "execution_count": null,
   "metadata": {},
   "outputs": [],
   "source": [
    "gbdt_m_pareto_1"
   ]
  },
  {
   "cell_type": "code",
   "execution_count": null,
   "metadata": {},
   "outputs": [],
   "source": [
    "129/2000*100"
   ]
  },
  {
   "cell_type": "code",
   "execution_count": null,
   "metadata": {},
   "outputs": [],
   "source": [
    "# TODO pareto chart of AE_1\n",
    "fig, ax = plt.subplots(figsize=(10, 5))\n",
    "ax.bar(gbdt_m_pareto_1.index, gbdt_m_pareto_1[\"AE_1\"], color=\"C0\")\n",
    "ax2 = ax.twinx()\n",
    "ax2.plot(gbdt_m_pareto_1.index, gbdt_m_pareto_1[\"cumpercentage\"], color=\"C1\", marker=\"D\", ms=7)\n",
    "ax2.yaxis.set_major_formatter(PercentFormatter())\n",
    "ax2.set_ylim(0, 100) # TODO : tell Boat to add this line\n",
    "ax.tick_params(axis=\"y\", colors=\"C0\")\n",
    "ax2.tick_params(axis=\"y\", colors=\"C1\")\n",
    "plt.title(\"Pareto chart of Absolute Error of GBDT_m\")\n",
    "plt.xlabel(\"AE_1\")\n",
    "ax.set_ylabel(\"Frequency\")\n",
    "ax.set_xlabel(\"Absolute Error\")\n",
    "ax2.set_ylabel(\"Cumulative percentage\", rotation=270)\n",
    "plt.grid()\n",
    "plt.show()"
   ]
  },
  {
   "cell_type": "code",
   "execution_count": null,
   "metadata": {},
   "outputs": [],
   "source": [
    "gbdt_m_result"
   ]
  },
  {
   "cell_type": "code",
   "execution_count": null,
   "metadata": {},
   "outputs": [],
   "source": [
    "#Mon 26 Dec 65\n",
    "#TODO Error dist for CV_gbdt_s,m -- done\n",
    "#TODO pred/actual dist for CV_gbdt_s,m (similar to error dist)\n",
    "#TODO hyperparameters - score, time, error dist -- done\n",
    "\n",
    "# X-ต้น Y-ตาม"
   ]
  },
  {
   "cell_type": "code",
   "execution_count": null,
   "metadata": {},
   "outputs": [],
   "source": [
    "#Mon 2 Jan 66\n",
    "#TODO: plot X=actual, Y=actual/predicted for all gbdt_s and m\n",
    "#TODO: fix y-axis of percentage in pareto (0, 100) ylim"
   ]
  },
  {
   "cell_type": "markdown",
   "metadata": {},
   "source": [
    "## 7. Model Deployment (ONNX)"
   ]
  },
  {
   "cell_type": "code",
   "execution_count": null,
   "metadata": {},
   "outputs": [],
   "source": [
    "from skl2onnx import __max_supported_opset__\n",
    "print(\"Last supported opset:\", __max_supported_opset__)"
   ]
  },
  {
   "cell_type": "code",
   "execution_count": null,
   "metadata": {},
   "outputs": [],
   "source": [
    "X.info()"
   ]
  },
  {
   "cell_type": "code",
   "execution_count": null,
   "metadata": {},
   "outputs": [],
   "source": [
    "gbdt_s = pkl.load(open(\"gbdt_s.pkl\", \"rb\"))\n",
    "gbdt_m = pkl.load(open(\"gbdt_m.pkl\", \"rb\"))"
   ]
  },
  {
   "cell_type": "code",
   "execution_count": null,
   "metadata": {},
   "outputs": [],
   "source": [
    "gbdt_s"
   ]
  },
  {
   "cell_type": "code",
   "execution_count": null,
   "metadata": {},
   "outputs": [],
   "source": [
    "gbdt_m"
   ]
  },
  {
   "cell_type": "code",
   "execution_count": null,
   "metadata": {},
   "outputs": [],
   "source": [
    "from skl2onnx import convert_sklearn\n",
    "from skl2onnx.common.data_types import FloatTensorType"
   ]
  },
  {
   "cell_type": "code",
   "execution_count": null,
   "metadata": {},
   "outputs": [],
   "source": [
    "X.shape"
   ]
  },
  {
   "cell_type": "code",
   "execution_count": null,
   "metadata": {},
   "outputs": [],
   "source": [
    "Xs_train[:1]"
   ]
  },
  {
   "cell_type": "code",
   "execution_count": null,
   "metadata": {},
   "outputs": [],
   "source": [
    "Xs_train.astype(np.float32).values[:1]"
   ]
  },
  {
   "cell_type": "code",
   "execution_count": null,
   "metadata": {},
   "outputs": [],
   "source": [
    "np.arange(20).reshape(10, 2)"
   ]
  },
  {
   "cell_type": "code",
   "execution_count": null,
   "metadata": {},
   "outputs": [],
   "source": [
    "initial_type = [(\"X\", Xs_train.astype(np.float32).values)]\n",
    "onx = convert_sklearn(gbdt_s, initial_types=initial_type)\n",
    "with open(\"gbdt_s.onnx\", \"wb\") as f:\n",
    "    f.write(onx.SerializeToString())"
   ]
  },
  {
   "cell_type": "code",
   "execution_count": null,
   "metadata": {},
   "outputs": [],
   "source": [
    "import onnxruntime as rt"
   ]
  },
  {
   "cell_type": "code",
   "execution_count": null,
   "metadata": {},
   "outputs": [],
   "source": [
    "X.info()"
   ]
  },
  {
   "cell_type": "code",
   "execution_count": null,
   "metadata": {},
   "outputs": [],
   "source": [
    "Xs_test.info()"
   ]
  },
  {
   "cell_type": "code",
   "execution_count": null,
   "metadata": {},
   "outputs": [],
   "source": [
    "sess = rt.InferenceSession(\"gbdt_s.onnx\")\n",
    "pred_ort = sess.run(None, {'X': Xs_test.astype(np.float32)})[0]"
   ]
  },
  {
   "cell_type": "code",
   "execution_count": null,
   "metadata": {},
   "outputs": [],
   "source": [
    "np.random.rand(2,7).astype('float32')"
   ]
  },
  {
   "cell_type": "code",
   "execution_count": null,
   "metadata": {},
   "outputs": [],
   "source": [
    "df"
   ]
  }
 ],
 "metadata": {
  "kernelspec": {
   "display_name": "EAT",
   "language": "python",
   "name": "python3"
  },
  "language_info": {
   "codemirror_mode": {
    "name": "ipython",
    "version": 3
   },
   "file_extension": ".py",
   "mimetype": "text/x-python",
   "name": "python",
   "nbconvert_exporter": "python",
   "pygments_lexer": "ipython3",
   "version": "3.9.12"
  },
  "vscode": {
   "interpreter": {
    "hash": "e873fd8460d25e2b7d13238b75f01f142c4b8abc313241c193ed6eac1548f508"
   }
  }
 },
 "nbformat": 4,
 "nbformat_minor": 2
}
