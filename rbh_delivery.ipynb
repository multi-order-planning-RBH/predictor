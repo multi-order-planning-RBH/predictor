{
 "cells": [
  {
   "cell_type": "markdown",
   "metadata": {},
   "source": [
    "# Food Delivery Time estimation"
   ]
  },
  {
   "cell_type": "markdown",
   "metadata": {},
   "source": [
    "## 1. Data Preparation"
   ]
  },
  {
   "cell_type": "markdown",
   "metadata": {},
   "source": [
    "### 1.1 Import libraries"
   ]
  },
  {
   "cell_type": "code",
   "execution_count": 226,
   "metadata": {},
   "outputs": [],
   "source": [
    "from module.distance_calculator import DistanceCalculator\n",
    "\n",
    "import numpy as np\n",
    "import pandas as pd\n",
    "\n",
    "from math import sqrt, cos\n",
    "\n",
    "import datetime\n",
    "from datetime import time, date, datetime\n",
    "\n",
    "import matplotlib.pyplot as plt\n",
    "from mpl_toolkits.mplot3d import Axes3D\n",
    "\n",
    "import seaborn as sns\n",
    "\n",
    "import sklearn\n",
    "from sklearn.preprocessing import OneHotEncoder\n",
    "from sklearn.decomposition import PCA\n",
    "from sklearn.manifold import TSNE\n",
    "from sklearn.model_selection import train_test_split\n",
    "from sklearn import metrics\n",
    "\n",
    "\n",
    "from sklearn.linear_model import LinearRegression\n",
    "from sklearn.ensemble import RandomForestRegressor\n",
    "from sklearn.ensemble import GradientBoostingRegressor\n",
    "from sklearn.model_selection import cross_validate"
   ]
  },
  {
   "cell_type": "markdown",
   "metadata": {},
   "source": [
    "### 1.2 Exploratory Data Analysis (EDA)"
   ]
  },
  {
   "cell_type": "markdown",
   "metadata": {},
   "source": [
    "### 1.2.1 Examine data"
   ]
  },
  {
   "cell_type": "code",
   "execution_count": 227,
   "metadata": {},
   "outputs": [],
   "source": [
    "# Read in the data\n",
    "df = pd.read_excel(\"Capstone SampleData 14days.xlsx\", sheet_name=\"Sheet1\", header=0)"
   ]
  },
  {
   "cell_type": "code",
   "execution_count": 228,
   "metadata": {},
   "outputs": [
    {
     "data": {
      "text/html": [
       "<div>\n",
       "<style scoped>\n",
       "    .dataframe tbody tr th:only-of-type {\n",
       "        vertical-align: middle;\n",
       "    }\n",
       "\n",
       "    .dataframe tbody tr th {\n",
       "        vertical-align: top;\n",
       "    }\n",
       "\n",
       "    .dataframe thead th {\n",
       "        text-align: right;\n",
       "    }\n",
       "</style>\n",
       "<table border=\"1\" class=\"dataframe\">\n",
       "  <thead>\n",
       "    <tr style=\"text-align: right;\">\n",
       "      <th></th>\n",
       "      <th>JobAcceptedDate</th>\n",
       "      <th>jobAcceptedTime</th>\n",
       "      <th>calledMerchantTime</th>\n",
       "      <th>arrivedAtMerchantTime</th>\n",
       "      <th>mealPickedUpTime</th>\n",
       "      <th>arrivedAtCustLocationTime</th>\n",
       "      <th>foodDeliveredTime</th>\n",
       "      <th>riderInitial.lat</th>\n",
       "      <th>riderInitial.long</th>\n",
       "      <th>Merchant.Lat</th>\n",
       "      <th>Merchant.Lng</th>\n",
       "      <th>Customer.lat</th>\n",
       "      <th>Customer.lng</th>\n",
       "      <th>MerchantName</th>\n",
       "      <th>NationFoodCategory</th>\n",
       "      <th>FoodCategories</th>\n",
       "    </tr>\n",
       "  </thead>\n",
       "  <tbody>\n",
       "    <tr>\n",
       "      <th>0</th>\n",
       "      <td>2020-10-03</td>\n",
       "      <td>20:39:15.840000</td>\n",
       "      <td>20:40:51.840000</td>\n",
       "      <td>20:48:19.840000</td>\n",
       "      <td>20:49:18.840000</td>\n",
       "      <td>21:14:09.840000</td>\n",
       "      <td>21:15:12.840000</td>\n",
       "      <td>13.825853</td>\n",
       "      <td>100.551958</td>\n",
       "      <td>13.825703</td>\n",
       "      <td>100.559309</td>\n",
       "      <td>13.756065</td>\n",
       "      <td>100.562375</td>\n",
       "      <td>3K SEA ZABB</td>\n",
       "      <td>Thai</td>\n",
       "      <td>อาหารทะเล</td>\n",
       "    </tr>\n",
       "    <tr>\n",
       "      <th>1</th>\n",
       "      <td>2020-10-01</td>\n",
       "      <td>12:54:34.560000</td>\n",
       "      <td>12:55:38.560000</td>\n",
       "      <td>13:10:26.560000</td>\n",
       "      <td>13:24:56.560000</td>\n",
       "      <td>14:01:00.560000</td>\n",
       "      <td>14:01:39.560000</td>\n",
       "      <td>13.819283</td>\n",
       "      <td>100.561874</td>\n",
       "      <td>13.831056</td>\n",
       "      <td>100.570731</td>\n",
       "      <td>13.774685</td>\n",
       "      <td>100.573913</td>\n",
       "      <td>ร้านอาหารอีสานแม่อลิส</td>\n",
       "      <td>Thai</td>\n",
       "      <td>อาหารอีสาน</td>\n",
       "    </tr>\n",
       "    <tr>\n",
       "      <th>2</th>\n",
       "      <td>2020-10-01</td>\n",
       "      <td>12:32:06.720000</td>\n",
       "      <td>12:32:21.720000</td>\n",
       "      <td>12:41:08.720000</td>\n",
       "      <td>12:46:41.720000</td>\n",
       "      <td>13:22:01.720000</td>\n",
       "      <td>13:22:53.720000</td>\n",
       "      <td>13.827041</td>\n",
       "      <td>100.554284</td>\n",
       "      <td>13.827205</td>\n",
       "      <td>100.536048</td>\n",
       "      <td>13.743898</td>\n",
       "      <td>100.571659</td>\n",
       "      <td>ไก่ย่างห้าดาว กรุงเทพ-นนท์44</td>\n",
       "      <td>Thai</td>\n",
       "      <td>Fast Food</td>\n",
       "    </tr>\n",
       "    <tr>\n",
       "      <th>3</th>\n",
       "      <td>2020-10-03</td>\n",
       "      <td>13:19:03.360000</td>\n",
       "      <td>13:20:04.360000</td>\n",
       "      <td>13:32:37.360000</td>\n",
       "      <td>13:45:46.360000</td>\n",
       "      <td>14:14:28.360000</td>\n",
       "      <td>14:15:47.360000</td>\n",
       "      <td>13.820453</td>\n",
       "      <td>100.557910</td>\n",
       "      <td>13.840180</td>\n",
       "      <td>100.542326</td>\n",
       "      <td>13.803957</td>\n",
       "      <td>100.513704</td>\n",
       "      <td>กิวกิวเต้ ประชาชื่น</td>\n",
       "      <td>Japanese</td>\n",
       "      <td>ปิ้งย่าง</td>\n",
       "    </tr>\n",
       "    <tr>\n",
       "      <th>4</th>\n",
       "      <td>2020-10-13</td>\n",
       "      <td>11:08:26.880000</td>\n",
       "      <td>11:09:03.880000</td>\n",
       "      <td>11:13:43.880000</td>\n",
       "      <td>11:15:32.880000</td>\n",
       "      <td>11:40:26.880000</td>\n",
       "      <td>11:41:23.880000</td>\n",
       "      <td>13.825773</td>\n",
       "      <td>100.567170</td>\n",
       "      <td>13.827034</td>\n",
       "      <td>100.564534</td>\n",
       "      <td>13.775817</td>\n",
       "      <td>100.575734</td>\n",
       "      <td>ร้านอาหาร วินเทส</td>\n",
       "      <td>Thai</td>\n",
       "      <td>อาหารตามสั่ง</td>\n",
       "    </tr>\n",
       "  </tbody>\n",
       "</table>\n",
       "</div>"
      ],
      "text/plain": [
       "  JobAcceptedDate  jobAcceptedTime calledMerchantTime arrivedAtMerchantTime  \\\n",
       "0      2020-10-03  20:39:15.840000    20:40:51.840000       20:48:19.840000   \n",
       "1      2020-10-01  12:54:34.560000    12:55:38.560000       13:10:26.560000   \n",
       "2      2020-10-01  12:32:06.720000    12:32:21.720000       12:41:08.720000   \n",
       "3      2020-10-03  13:19:03.360000    13:20:04.360000       13:32:37.360000   \n",
       "4      2020-10-13  11:08:26.880000    11:09:03.880000       11:13:43.880000   \n",
       "\n",
       "  mealPickedUpTime arrivedAtCustLocationTime foodDeliveredTime  \\\n",
       "0  20:49:18.840000           21:14:09.840000   21:15:12.840000   \n",
       "1  13:24:56.560000           14:01:00.560000   14:01:39.560000   \n",
       "2  12:46:41.720000           13:22:01.720000   13:22:53.720000   \n",
       "3  13:45:46.360000           14:14:28.360000   14:15:47.360000   \n",
       "4  11:15:32.880000           11:40:26.880000   11:41:23.880000   \n",
       "\n",
       "   riderInitial.lat  riderInitial.long  Merchant.Lat  Merchant.Lng  \\\n",
       "0         13.825853         100.551958     13.825703    100.559309   \n",
       "1         13.819283         100.561874     13.831056    100.570731   \n",
       "2         13.827041         100.554284     13.827205    100.536048   \n",
       "3         13.820453         100.557910     13.840180    100.542326   \n",
       "4         13.825773         100.567170     13.827034    100.564534   \n",
       "\n",
       "   Customer.lat  Customer.lng                  MerchantName  \\\n",
       "0     13.756065    100.562375                   3K SEA ZABB   \n",
       "1     13.774685    100.573913         ร้านอาหารอีสานแม่อลิส   \n",
       "2     13.743898    100.571659  ไก่ย่างห้าดาว กรุงเทพ-นนท์44   \n",
       "3     13.803957    100.513704           กิวกิวเต้ ประชาชื่น   \n",
       "4     13.775817    100.575734              ร้านอาหาร วินเทส   \n",
       "\n",
       "  NationFoodCategory FoodCategories  \n",
       "0               Thai      อาหารทะเล  \n",
       "1               Thai     อาหารอีสาน  \n",
       "2               Thai      Fast Food  \n",
       "3           Japanese       ปิ้งย่าง  \n",
       "4               Thai   อาหารตามสั่ง  "
      ]
     },
     "execution_count": 228,
     "metadata": {},
     "output_type": "execute_result"
    }
   ],
   "source": [
    "# Check the data types\n",
    "df.head()"
   ]
  },
  {
   "cell_type": "code",
   "execution_count": 229,
   "metadata": {},
   "outputs": [
    {
     "name": "stdout",
     "output_type": "stream",
     "text": [
      "<class 'pandas.core.frame.DataFrame'>\n",
      "RangeIndex: 10000 entries, 0 to 9999\n",
      "Data columns (total 16 columns):\n",
      " #   Column                     Non-Null Count  Dtype         \n",
      "---  ------                     --------------  -----         \n",
      " 0   JobAcceptedDate            10000 non-null  datetime64[ns]\n",
      " 1   jobAcceptedTime            10000 non-null  object        \n",
      " 2   calledMerchantTime         10000 non-null  object        \n",
      " 3   arrivedAtMerchantTime      10000 non-null  object        \n",
      " 4   mealPickedUpTime           10000 non-null  object        \n",
      " 5   arrivedAtCustLocationTime  10000 non-null  object        \n",
      " 6   foodDeliveredTime          10000 non-null  object        \n",
      " 7   riderInitial.lat           10000 non-null  float64       \n",
      " 8   riderInitial.long          10000 non-null  float64       \n",
      " 9   Merchant.Lat               10000 non-null  float64       \n",
      " 10  Merchant.Lng               10000 non-null  float64       \n",
      " 11  Customer.lat               10000 non-null  float64       \n",
      " 12  Customer.lng               10000 non-null  float64       \n",
      " 13  MerchantName               10000 non-null  object        \n",
      " 14  NationFoodCategory         10000 non-null  object        \n",
      " 15  FoodCategories             10000 non-null  object        \n",
      "dtypes: datetime64[ns](1), float64(6), object(9)\n",
      "memory usage: 1.2+ MB\n"
     ]
    }
   ],
   "source": [
    "# Check the data informations\n",
    "df.info()"
   ]
  },
  {
   "cell_type": "code",
   "execution_count": 230,
   "metadata": {},
   "outputs": [
    {
     "data": {
      "text/plain": [
       "(10000, 16)"
      ]
     },
     "execution_count": 230,
     "metadata": {},
     "output_type": "execute_result"
    }
   ],
   "source": [
    "# Check the data shape\n",
    "df.shape"
   ]
  },
  {
   "cell_type": "markdown",
   "metadata": {},
   "source": [
    "### 1.2.2 Remove unused columns"
   ]
  },
  {
   "cell_type": "code",
   "execution_count": 231,
   "metadata": {},
   "outputs": [
    {
     "data": {
      "text/html": [
       "<div>\n",
       "<style scoped>\n",
       "    .dataframe tbody tr th:only-of-type {\n",
       "        vertical-align: middle;\n",
       "    }\n",
       "\n",
       "    .dataframe tbody tr th {\n",
       "        vertical-align: top;\n",
       "    }\n",
       "\n",
       "    .dataframe thead th {\n",
       "        text-align: right;\n",
       "    }\n",
       "</style>\n",
       "<table border=\"1\" class=\"dataframe\">\n",
       "  <thead>\n",
       "    <tr style=\"text-align: right;\">\n",
       "      <th></th>\n",
       "      <th>JobAcceptedDate</th>\n",
       "      <th>jobAcceptedTime</th>\n",
       "      <th>mealPickedUpTime</th>\n",
       "      <th>arrivedAtCustLocationTime</th>\n",
       "      <th>Merchant.Lat</th>\n",
       "      <th>Merchant.Lng</th>\n",
       "      <th>Customer.lat</th>\n",
       "      <th>Customer.lng</th>\n",
       "    </tr>\n",
       "  </thead>\n",
       "  <tbody>\n",
       "    <tr>\n",
       "      <th>0</th>\n",
       "      <td>2020-10-03</td>\n",
       "      <td>20:39:15.840000</td>\n",
       "      <td>20:49:18.840000</td>\n",
       "      <td>21:14:09.840000</td>\n",
       "      <td>13.825703</td>\n",
       "      <td>100.559309</td>\n",
       "      <td>13.756065</td>\n",
       "      <td>100.562375</td>\n",
       "    </tr>\n",
       "    <tr>\n",
       "      <th>1</th>\n",
       "      <td>2020-10-01</td>\n",
       "      <td>12:54:34.560000</td>\n",
       "      <td>13:24:56.560000</td>\n",
       "      <td>14:01:00.560000</td>\n",
       "      <td>13.831056</td>\n",
       "      <td>100.570731</td>\n",
       "      <td>13.774685</td>\n",
       "      <td>100.573913</td>\n",
       "    </tr>\n",
       "    <tr>\n",
       "      <th>2</th>\n",
       "      <td>2020-10-01</td>\n",
       "      <td>12:32:06.720000</td>\n",
       "      <td>12:46:41.720000</td>\n",
       "      <td>13:22:01.720000</td>\n",
       "      <td>13.827205</td>\n",
       "      <td>100.536048</td>\n",
       "      <td>13.743898</td>\n",
       "      <td>100.571659</td>\n",
       "    </tr>\n",
       "  </tbody>\n",
       "</table>\n",
       "</div>"
      ],
      "text/plain": [
       "  JobAcceptedDate  jobAcceptedTime mealPickedUpTime arrivedAtCustLocationTime  \\\n",
       "0      2020-10-03  20:39:15.840000  20:49:18.840000           21:14:09.840000   \n",
       "1      2020-10-01  12:54:34.560000  13:24:56.560000           14:01:00.560000   \n",
       "2      2020-10-01  12:32:06.720000  12:46:41.720000           13:22:01.720000   \n",
       "\n",
       "   Merchant.Lat  Merchant.Lng  Customer.lat  Customer.lng  \n",
       "0     13.825703    100.559309     13.756065    100.562375  \n",
       "1     13.831056    100.570731     13.774685    100.573913  \n",
       "2     13.827205    100.536048     13.743898    100.571659  "
      ]
     },
     "metadata": {},
     "output_type": "display_data"
    }
   ],
   "source": [
    "# Remove the columns that are not needed\n",
    "drop_list = [\"calledMerchantTime\",\n",
    "             \"arrivedAtMerchantTime\",\n",
    "             \"foodDeliveredTime\",\n",
    "             \"riderInitial.lat\",\n",
    "             \"riderInitial.long\",\n",
    "             \"MerchantName\",\n",
    "             \"NationFoodCategory\",\n",
    "             \"FoodCategories\"]\n",
    "try:\n",
    "    df.drop(drop_list, axis=1, inplace=True)\n",
    "except KeyError:\n",
    "    print(\"Columns already removed\")\n",
    "\n",
    "display(df.head(3))"
   ]
  },
  {
   "cell_type": "markdown",
   "metadata": {},
   "source": [
    "### 1.2.3 Change data types (time, date -> datetime)\n",
    "datetime data type can find interval but both time and date data types cannot."
   ]
  },
  {
   "cell_type": "code",
   "execution_count": 232,
   "metadata": {},
   "outputs": [],
   "source": [
    "def to_datetime(df, date_col, time_col):\n",
    "    return pd.to_datetime(df[date_col].astype(str) + \" \" + df[time_col].astype(str))"
   ]
  },
  {
   "cell_type": "code",
   "execution_count": 233,
   "metadata": {},
   "outputs": [],
   "source": [
    "if not isinstance(df[\"mealPickedUpTime\"].iloc[0], datetime):\n",
    "    df[\"mealPickedUpTime\"]    = to_datetime(df, \"JobAcceptedDate\", \"mealPickedUpTime\")\n",
    "if not isinstance(df[\"arrivedAtCustLocationTime\"].iloc[0], datetime):\n",
    "    df[\"arrivedAtCustLocationTime\"] = to_datetime(df, \"JobAcceptedDate\", \"arrivedAtCustLocationTime\")"
   ]
  },
  {
   "cell_type": "markdown",
   "metadata": {},
   "source": [
    "### 1.2.3 Create target from existed columns"
   ]
  },
  {
   "cell_type": "code",
   "execution_count": 234,
   "metadata": {},
   "outputs": [],
   "source": [
    "df[\"DeliveryTime\"] = df[\"arrivedAtCustLocationTime\"] - df[\"mealPickedUpTime\"]\n",
    "df[\"DeliveryTime (s)\"] = df[\"DeliveryTime\"].apply(lambda x: x.total_seconds())\n",
    "df[\"DeliveryTime (m)\"] = df[\"DeliveryTime\"].apply(lambda x: round(x.total_seconds()/60))"
   ]
  },
  {
   "cell_type": "code",
   "execution_count": 235,
   "metadata": {},
   "outputs": [
    {
     "data": {
      "text/html": [
       "<div>\n",
       "<style scoped>\n",
       "    .dataframe tbody tr th:only-of-type {\n",
       "        vertical-align: middle;\n",
       "    }\n",
       "\n",
       "    .dataframe tbody tr th {\n",
       "        vertical-align: top;\n",
       "    }\n",
       "\n",
       "    .dataframe thead th {\n",
       "        text-align: right;\n",
       "    }\n",
       "</style>\n",
       "<table border=\"1\" class=\"dataframe\">\n",
       "  <thead>\n",
       "    <tr style=\"text-align: right;\">\n",
       "      <th></th>\n",
       "      <th>JobAcceptedDate</th>\n",
       "      <th>jobAcceptedTime</th>\n",
       "      <th>Merchant.Lat</th>\n",
       "      <th>Merchant.Lng</th>\n",
       "      <th>Customer.lat</th>\n",
       "      <th>Customer.lng</th>\n",
       "      <th>DeliveryTime (s)</th>\n",
       "      <th>DeliveryTime (m)</th>\n",
       "    </tr>\n",
       "  </thead>\n",
       "  <tbody>\n",
       "    <tr>\n",
       "      <th>0</th>\n",
       "      <td>2020-10-03</td>\n",
       "      <td>20:39:15.840000</td>\n",
       "      <td>13.825703</td>\n",
       "      <td>100.559309</td>\n",
       "      <td>13.756065</td>\n",
       "      <td>100.562375</td>\n",
       "      <td>1491.0</td>\n",
       "      <td>25</td>\n",
       "    </tr>\n",
       "    <tr>\n",
       "      <th>1</th>\n",
       "      <td>2020-10-01</td>\n",
       "      <td>12:54:34.560000</td>\n",
       "      <td>13.831056</td>\n",
       "      <td>100.570731</td>\n",
       "      <td>13.774685</td>\n",
       "      <td>100.573913</td>\n",
       "      <td>2164.0</td>\n",
       "      <td>36</td>\n",
       "    </tr>\n",
       "    <tr>\n",
       "      <th>2</th>\n",
       "      <td>2020-10-01</td>\n",
       "      <td>12:32:06.720000</td>\n",
       "      <td>13.827205</td>\n",
       "      <td>100.536048</td>\n",
       "      <td>13.743898</td>\n",
       "      <td>100.571659</td>\n",
       "      <td>2120.0</td>\n",
       "      <td>35</td>\n",
       "    </tr>\n",
       "  </tbody>\n",
       "</table>\n",
       "</div>"
      ],
      "text/plain": [
       "  JobAcceptedDate  jobAcceptedTime  Merchant.Lat  Merchant.Lng  Customer.lat  \\\n",
       "0      2020-10-03  20:39:15.840000     13.825703    100.559309     13.756065   \n",
       "1      2020-10-01  12:54:34.560000     13.831056    100.570731     13.774685   \n",
       "2      2020-10-01  12:32:06.720000     13.827205    100.536048     13.743898   \n",
       "\n",
       "   Customer.lng  DeliveryTime (s)  DeliveryTime (m)  \n",
       "0    100.562375            1491.0                25  \n",
       "1    100.573913            2164.0                36  \n",
       "2    100.571659            2120.0                35  "
      ]
     },
     "metadata": {},
     "output_type": "display_data"
    }
   ],
   "source": [
    "# Remove the columns that are not needed\n",
    "drop_list = [\"arrivedAtCustLocationTime\",\n",
    "             \"mealPickedUpTime\",\n",
    "             \"DeliveryTime\"]\n",
    "try:\n",
    "    df.drop(drop_list, axis=1, inplace=True)\n",
    "except KeyError:\n",
    "    print(\"Columns already removed\")\n",
    "\n",
    "display(df.head(3))"
   ]
  },
  {
   "cell_type": "code",
   "execution_count": 236,
   "metadata": {},
   "outputs": [
    {
     "data": {
      "text/html": [
       "<div>\n",
       "<style scoped>\n",
       "    .dataframe tbody tr th:only-of-type {\n",
       "        vertical-align: middle;\n",
       "    }\n",
       "\n",
       "    .dataframe tbody tr th {\n",
       "        vertical-align: top;\n",
       "    }\n",
       "\n",
       "    .dataframe thead th {\n",
       "        text-align: right;\n",
       "    }\n",
       "</style>\n",
       "<table border=\"1\" class=\"dataframe\">\n",
       "  <thead>\n",
       "    <tr style=\"text-align: right;\">\n",
       "      <th></th>\n",
       "      <th>Merchant.Lat</th>\n",
       "      <th>Merchant.Lng</th>\n",
       "      <th>Customer.lat</th>\n",
       "      <th>Customer.lng</th>\n",
       "      <th>DeliveryTime (s)</th>\n",
       "      <th>DeliveryTime (m)</th>\n",
       "    </tr>\n",
       "  </thead>\n",
       "  <tbody>\n",
       "    <tr>\n",
       "      <th>count</th>\n",
       "      <td>10000.000000</td>\n",
       "      <td>10000.000000</td>\n",
       "      <td>10000.000000</td>\n",
       "      <td>10000.000000</td>\n",
       "      <td>10000.000000</td>\n",
       "      <td>10000.000000</td>\n",
       "    </tr>\n",
       "    <tr>\n",
       "      <th>mean</th>\n",
       "      <td>13.828060</td>\n",
       "      <td>100.559658</td>\n",
       "      <td>13.795584</td>\n",
       "      <td>100.564746</td>\n",
       "      <td>1821.204700</td>\n",
       "      <td>30.355000</td>\n",
       "    </tr>\n",
       "    <tr>\n",
       "      <th>std</th>\n",
       "      <td>0.005297</td>\n",
       "      <td>0.010585</td>\n",
       "      <td>0.044893</td>\n",
       "      <td>0.030013</td>\n",
       "      <td>755.673662</td>\n",
       "      <td>12.599034</td>\n",
       "    </tr>\n",
       "    <tr>\n",
       "      <th>min</th>\n",
       "      <td>13.811964</td>\n",
       "      <td>100.526637</td>\n",
       "      <td>13.738166</td>\n",
       "      <td>100.484028</td>\n",
       "      <td>181.000000</td>\n",
       "      <td>3.000000</td>\n",
       "    </tr>\n",
       "    <tr>\n",
       "      <th>25%</th>\n",
       "      <td>13.824620</td>\n",
       "      <td>100.555560</td>\n",
       "      <td>13.754118</td>\n",
       "      <td>100.544932</td>\n",
       "      <td>1245.000000</td>\n",
       "      <td>21.000000</td>\n",
       "    </tr>\n",
       "    <tr>\n",
       "      <th>50%</th>\n",
       "      <td>13.827034</td>\n",
       "      <td>100.563396</td>\n",
       "      <td>13.788780</td>\n",
       "      <td>100.564803</td>\n",
       "      <td>1814.000000</td>\n",
       "      <td>30.000000</td>\n",
       "    </tr>\n",
       "    <tr>\n",
       "      <th>75%</th>\n",
       "      <td>13.828517</td>\n",
       "      <td>100.564534</td>\n",
       "      <td>13.825360</td>\n",
       "      <td>100.580921</td>\n",
       "      <td>2375.000000</td>\n",
       "      <td>40.000000</td>\n",
       "    </tr>\n",
       "    <tr>\n",
       "      <th>max</th>\n",
       "      <td>13.843905</td>\n",
       "      <td>100.580416</td>\n",
       "      <td>13.914579</td>\n",
       "      <td>100.661622</td>\n",
       "      <td>4271.000000</td>\n",
       "      <td>71.000000</td>\n",
       "    </tr>\n",
       "  </tbody>\n",
       "</table>\n",
       "</div>"
      ],
      "text/plain": [
       "       Merchant.Lat  Merchant.Lng  Customer.lat  Customer.lng  \\\n",
       "count  10000.000000  10000.000000  10000.000000  10000.000000   \n",
       "mean      13.828060    100.559658     13.795584    100.564746   \n",
       "std        0.005297      0.010585      0.044893      0.030013   \n",
       "min       13.811964    100.526637     13.738166    100.484028   \n",
       "25%       13.824620    100.555560     13.754118    100.544932   \n",
       "50%       13.827034    100.563396     13.788780    100.564803   \n",
       "75%       13.828517    100.564534     13.825360    100.580921   \n",
       "max       13.843905    100.580416     13.914579    100.661622   \n",
       "\n",
       "       DeliveryTime (s)  DeliveryTime (m)  \n",
       "count      10000.000000      10000.000000  \n",
       "mean        1821.204700         30.355000  \n",
       "std          755.673662         12.599034  \n",
       "min          181.000000          3.000000  \n",
       "25%         1245.000000         21.000000  \n",
       "50%         1814.000000         30.000000  \n",
       "75%         2375.000000         40.000000  \n",
       "max         4271.000000         71.000000  "
      ]
     },
     "execution_count": 236,
     "metadata": {},
     "output_type": "execute_result"
    }
   ],
   "source": [
    "df.describe()"
   ]
  },
  {
   "cell_type": "code",
   "execution_count": 237,
   "metadata": {},
   "outputs": [
    {
     "data": {
      "text/plain": [
       "<AxesSubplot: >"
      ]
     },
     "execution_count": 237,
     "metadata": {},
     "output_type": "execute_result"
    },
    {
     "data": {
      "image/png": "[encoded data removed]",
      "text/plain": [
       "<Figure size 432x288 with 1 Axes>"
      ]
     },
     "metadata": {
      "needs_background": "light"
     },
     "output_type": "display_data"
    }
   ],
   "source": [
    "df[\"DeliveryTime (s)\"].hist()"
   ]
  },
  {
   "cell_type": "code",
   "execution_count": 238,
   "metadata": {},
   "outputs": [
    {
     "data": {
      "text/plain": [
       "<AxesSubplot: >"
      ]
     },
     "execution_count": 238,
     "metadata": {},
     "output_type": "execute_result"
    },
    {
     "data": {
      "image/png": "[encoded data removed]",
      "text/plain": [
       "<Figure size 432x288 with 1 Axes>"
      ]
     },
     "metadata": {
      "needs_background": "light"
     },
     "output_type": "display_data"
    }
   ],
   "source": [
    "df[\"DeliveryTime (m)\"].hist()"
   ]
  },
  {
   "cell_type": "markdown",
   "metadata": {},
   "source": [
    "### 1.2.4 Add additional features"
   ]
  },
  {
   "cell_type": "code",
   "execution_count": 239,
   "metadata": {},
   "outputs": [],
   "source": [
    "def get_euc(coords_1, coords_2):\n",
    "    R = 6371000; conversion_const = 0.0174533\n",
    "    c_1 = (coords_1[0]*conversion_const, coords_1[1]*conversion_const)\n",
    "    c_2 = (coords_2[0]*conversion_const, coords_2[1]*conversion_const)\n",
    "    delta_phi = abs(c_1[1]-c_2[1])\n",
    "    theta = c_1[0]\n",
    "    delta_theta = abs(c_1[0]-c_2[0])\n",
    "    del_x = R*cos(theta)*delta_phi \n",
    "    del_y = R*delta_theta\n",
    "    return sqrt(del_x**2 + del_y**2)"
   ]
  },
  {
   "cell_type": "code",
   "execution_count": 240,
   "metadata": {},
   "outputs": [],
   "source": [
    "df[\"EucDist\"] = df.apply(lambda x: get_euc((x[\"Merchant.Lat\"],x[\"Merchant.Lng\"]),(x[\"Customer.lat\"],x[\"Customer.lng\"])), axis=1)"
   ]
  },
  {
   "cell_type": "code",
   "execution_count": 241,
   "metadata": {},
   "outputs": [],
   "source": [
    "# plt.scatter(df[\"EucDist\"], df[\"DeliveryTime (m)\"])"
   ]
  },
  {
   "cell_type": "code",
   "execution_count": 242,
   "metadata": {},
   "outputs": [],
   "source": [
    "# plt.scatter(df[\"EucDist\"], df[\"DeliveryTime (s)\"])"
   ]
  },
  {
   "cell_type": "code",
   "execution_count": 243,
   "metadata": {},
   "outputs": [],
   "source": [
    "df[\"isHoliday\"] = df[\"JobAcceptedDate\"].apply(lambda x: int(x == pd.Timestamp('2020-10-13 00:00:00')))\n",
    "mapper = {0:\"Mon\", 1:\"Tue\", 2:\"Wed\", 3:\"Thu\", 4:\"Fri\", 5:\"Sat\", 6:\"Sun\"} # TODO\n",
    "df[\"day_of_week\"] = df[\"JobAcceptedDate\"].apply(lambda x: x.weekday())\n",
    "df[\"day_of_week_name\"] = df[\"JobAcceptedDate\"].apply(lambda x: mapper[x.weekday()])"
   ]
  },
  {
   "cell_type": "code",
   "execution_count": 244,
   "metadata": {},
   "outputs": [
    {
     "data": {
      "text/html": [
       "<div>\n",
       "<style scoped>\n",
       "    .dataframe tbody tr th:only-of-type {\n",
       "        vertical-align: middle;\n",
       "    }\n",
       "\n",
       "    .dataframe tbody tr th {\n",
       "        vertical-align: top;\n",
       "    }\n",
       "\n",
       "    .dataframe thead th {\n",
       "        text-align: right;\n",
       "    }\n",
       "</style>\n",
       "<table border=\"1\" class=\"dataframe\">\n",
       "  <thead>\n",
       "    <tr style=\"text-align: right;\">\n",
       "      <th></th>\n",
       "      <th>JobAcceptedDate</th>\n",
       "      <th>jobAcceptedTime</th>\n",
       "      <th>Merchant.Lat</th>\n",
       "      <th>Merchant.Lng</th>\n",
       "      <th>Customer.lat</th>\n",
       "      <th>Customer.lng</th>\n",
       "      <th>DeliveryTime (s)</th>\n",
       "      <th>DeliveryTime (m)</th>\n",
       "      <th>EucDist</th>\n",
       "      <th>isHoliday</th>\n",
       "      <th>day_of_week</th>\n",
       "      <th>day_of_week_name</th>\n",
       "    </tr>\n",
       "  </thead>\n",
       "  <tbody>\n",
       "    <tr>\n",
       "      <th>0</th>\n",
       "      <td>2020-10-03</td>\n",
       "      <td>20:39:15.840000</td>\n",
       "      <td>13.825703</td>\n",
       "      <td>100.559309</td>\n",
       "      <td>13.756065</td>\n",
       "      <td>100.562375</td>\n",
       "      <td>1491.0</td>\n",
       "      <td>25</td>\n",
       "      <td>7750.511440</td>\n",
       "      <td>0</td>\n",
       "      <td>5</td>\n",
       "      <td>Sat</td>\n",
       "    </tr>\n",
       "    <tr>\n",
       "      <th>1</th>\n",
       "      <td>2020-10-01</td>\n",
       "      <td>12:54:34.560000</td>\n",
       "      <td>13.831056</td>\n",
       "      <td>100.570731</td>\n",
       "      <td>13.774685</td>\n",
       "      <td>100.573913</td>\n",
       "      <td>2164.0</td>\n",
       "      <td>36</td>\n",
       "      <td>6277.603705</td>\n",
       "      <td>0</td>\n",
       "      <td>3</td>\n",
       "      <td>Thu</td>\n",
       "    </tr>\n",
       "    <tr>\n",
       "      <th>2</th>\n",
       "      <td>2020-10-01</td>\n",
       "      <td>12:32:06.720000</td>\n",
       "      <td>13.827205</td>\n",
       "      <td>100.536048</td>\n",
       "      <td>13.743898</td>\n",
       "      <td>100.571659</td>\n",
       "      <td>2120.0</td>\n",
       "      <td>35</td>\n",
       "      <td>10029.576224</td>\n",
       "      <td>0</td>\n",
       "      <td>3</td>\n",
       "      <td>Thu</td>\n",
       "    </tr>\n",
       "    <tr>\n",
       "      <th>3</th>\n",
       "      <td>2020-10-03</td>\n",
       "      <td>13:19:03.360000</td>\n",
       "      <td>13.840180</td>\n",
       "      <td>100.542326</td>\n",
       "      <td>13.803957</td>\n",
       "      <td>100.513704</td>\n",
       "      <td>1722.0</td>\n",
       "      <td>29</td>\n",
       "      <td>5076.637568</td>\n",
       "      <td>0</td>\n",
       "      <td>5</td>\n",
       "      <td>Sat</td>\n",
       "    </tr>\n",
       "    <tr>\n",
       "      <th>4</th>\n",
       "      <td>2020-10-13</td>\n",
       "      <td>11:08:26.880000</td>\n",
       "      <td>13.827034</td>\n",
       "      <td>100.564534</td>\n",
       "      <td>13.775817</td>\n",
       "      <td>100.575734</td>\n",
       "      <td>1494.0</td>\n",
       "      <td>25</td>\n",
       "      <td>5822.057209</td>\n",
       "      <td>1</td>\n",
       "      <td>1</td>\n",
       "      <td>Tue</td>\n",
       "    </tr>\n",
       "  </tbody>\n",
       "</table>\n",
       "</div>"
      ],
      "text/plain": [
       "  JobAcceptedDate  jobAcceptedTime  Merchant.Lat  Merchant.Lng  Customer.lat  \\\n",
       "0      2020-10-03  20:39:15.840000     13.825703    100.559309     13.756065   \n",
       "1      2020-10-01  12:54:34.560000     13.831056    100.570731     13.774685   \n",
       "2      2020-10-01  12:32:06.720000     13.827205    100.536048     13.743898   \n",
       "3      2020-10-03  13:19:03.360000     13.840180    100.542326     13.803957   \n",
       "4      2020-10-13  11:08:26.880000     13.827034    100.564534     13.775817   \n",
       "\n",
       "   Customer.lng  DeliveryTime (s)  DeliveryTime (m)       EucDist  isHoliday  \\\n",
       "0    100.562375            1491.0                25   7750.511440          0   \n",
       "1    100.573913            2164.0                36   6277.603705          0   \n",
       "2    100.571659            2120.0                35  10029.576224          0   \n",
       "3    100.513704            1722.0                29   5076.637568          0   \n",
       "4    100.575734            1494.0                25   5822.057209          1   \n",
       "\n",
       "   day_of_week day_of_week_name  \n",
       "0            5              Sat  \n",
       "1            3              Thu  \n",
       "2            3              Thu  \n",
       "3            5              Sat  \n",
       "4            1              Tue  "
      ]
     },
     "execution_count": 244,
     "metadata": {},
     "output_type": "execute_result"
    }
   ],
   "source": [
    "df.head()"
   ]
  },
  {
   "cell_type": "code",
   "execution_count": 245,
   "metadata": {},
   "outputs": [],
   "source": [
    "# One Hot encode\n",
    "nominal_columns = [\"day_of_week_name\"]\n",
    "dummy_df = pd.get_dummies(df[nominal_columns], drop_first=False)\n",
    "df = pd.concat([df, dummy_df], axis=1)\n",
    "df = df.drop(nominal_columns, axis=1)"
   ]
  },
  {
   "cell_type": "code",
   "execution_count": 246,
   "metadata": {},
   "outputs": [
    {
     "data": {
      "text/html": [
       "<div>\n",
       "<style scoped>\n",
       "    .dataframe tbody tr th:only-of-type {\n",
       "        vertical-align: middle;\n",
       "    }\n",
       "\n",
       "    .dataframe tbody tr th {\n",
       "        vertical-align: top;\n",
       "    }\n",
       "\n",
       "    .dataframe thead th {\n",
       "        text-align: right;\n",
       "    }\n",
       "</style>\n",
       "<table border=\"1\" class=\"dataframe\">\n",
       "  <thead>\n",
       "    <tr style=\"text-align: right;\">\n",
       "      <th></th>\n",
       "      <th>JobAcceptedDate</th>\n",
       "      <th>jobAcceptedTime</th>\n",
       "      <th>Merchant.Lat</th>\n",
       "      <th>Merchant.Lng</th>\n",
       "      <th>Customer.lat</th>\n",
       "      <th>Customer.lng</th>\n",
       "      <th>DeliveryTime (s)</th>\n",
       "      <th>DeliveryTime (m)</th>\n",
       "      <th>EucDist</th>\n",
       "      <th>isHoliday</th>\n",
       "      <th>day_of_week</th>\n",
       "      <th>day_of_week_name_Fri</th>\n",
       "      <th>day_of_week_name_Mon</th>\n",
       "      <th>day_of_week_name_Sat</th>\n",
       "      <th>day_of_week_name_Sun</th>\n",
       "      <th>day_of_week_name_Thu</th>\n",
       "      <th>day_of_week_name_Tue</th>\n",
       "      <th>day_of_week_name_Wed</th>\n",
       "    </tr>\n",
       "  </thead>\n",
       "  <tbody>\n",
       "    <tr>\n",
       "      <th>0</th>\n",
       "      <td>2020-10-03</td>\n",
       "      <td>20:39:15.840000</td>\n",
       "      <td>13.825703</td>\n",
       "      <td>100.559309</td>\n",
       "      <td>13.756065</td>\n",
       "      <td>100.562375</td>\n",
       "      <td>1491.0</td>\n",
       "      <td>25</td>\n",
       "      <td>7750.511440</td>\n",
       "      <td>0</td>\n",
       "      <td>5</td>\n",
       "      <td>0</td>\n",
       "      <td>0</td>\n",
       "      <td>1</td>\n",
       "      <td>0</td>\n",
       "      <td>0</td>\n",
       "      <td>0</td>\n",
       "      <td>0</td>\n",
       "    </tr>\n",
       "    <tr>\n",
       "      <th>1</th>\n",
       "      <td>2020-10-01</td>\n",
       "      <td>12:54:34.560000</td>\n",
       "      <td>13.831056</td>\n",
       "      <td>100.570731</td>\n",
       "      <td>13.774685</td>\n",
       "      <td>100.573913</td>\n",
       "      <td>2164.0</td>\n",
       "      <td>36</td>\n",
       "      <td>6277.603705</td>\n",
       "      <td>0</td>\n",
       "      <td>3</td>\n",
       "      <td>0</td>\n",
       "      <td>0</td>\n",
       "      <td>0</td>\n",
       "      <td>0</td>\n",
       "      <td>1</td>\n",
       "      <td>0</td>\n",
       "      <td>0</td>\n",
       "    </tr>\n",
       "    <tr>\n",
       "      <th>2</th>\n",
       "      <td>2020-10-01</td>\n",
       "      <td>12:32:06.720000</td>\n",
       "      <td>13.827205</td>\n",
       "      <td>100.536048</td>\n",
       "      <td>13.743898</td>\n",
       "      <td>100.571659</td>\n",
       "      <td>2120.0</td>\n",
       "      <td>35</td>\n",
       "      <td>10029.576224</td>\n",
       "      <td>0</td>\n",
       "      <td>3</td>\n",
       "      <td>0</td>\n",
       "      <td>0</td>\n",
       "      <td>0</td>\n",
       "      <td>0</td>\n",
       "      <td>1</td>\n",
       "      <td>0</td>\n",
       "      <td>0</td>\n",
       "    </tr>\n",
       "    <tr>\n",
       "      <th>3</th>\n",
       "      <td>2020-10-03</td>\n",
       "      <td>13:19:03.360000</td>\n",
       "      <td>13.840180</td>\n",
       "      <td>100.542326</td>\n",
       "      <td>13.803957</td>\n",
       "      <td>100.513704</td>\n",
       "      <td>1722.0</td>\n",
       "      <td>29</td>\n",
       "      <td>5076.637568</td>\n",
       "      <td>0</td>\n",
       "      <td>5</td>\n",
       "      <td>0</td>\n",
       "      <td>0</td>\n",
       "      <td>1</td>\n",
       "      <td>0</td>\n",
       "      <td>0</td>\n",
       "      <td>0</td>\n",
       "      <td>0</td>\n",
       "    </tr>\n",
       "    <tr>\n",
       "      <th>4</th>\n",
       "      <td>2020-10-13</td>\n",
       "      <td>11:08:26.880000</td>\n",
       "      <td>13.827034</td>\n",
       "      <td>100.564534</td>\n",
       "      <td>13.775817</td>\n",
       "      <td>100.575734</td>\n",
       "      <td>1494.0</td>\n",
       "      <td>25</td>\n",
       "      <td>5822.057209</td>\n",
       "      <td>1</td>\n",
       "      <td>1</td>\n",
       "      <td>0</td>\n",
       "      <td>0</td>\n",
       "      <td>0</td>\n",
       "      <td>0</td>\n",
       "      <td>0</td>\n",
       "      <td>1</td>\n",
       "      <td>0</td>\n",
       "    </tr>\n",
       "    <tr>\n",
       "      <th>...</th>\n",
       "      <td>...</td>\n",
       "      <td>...</td>\n",
       "      <td>...</td>\n",
       "      <td>...</td>\n",
       "      <td>...</td>\n",
       "      <td>...</td>\n",
       "      <td>...</td>\n",
       "      <td>...</td>\n",
       "      <td>...</td>\n",
       "      <td>...</td>\n",
       "      <td>...</td>\n",
       "      <td>...</td>\n",
       "      <td>...</td>\n",
       "      <td>...</td>\n",
       "      <td>...</td>\n",
       "      <td>...</td>\n",
       "      <td>...</td>\n",
       "      <td>...</td>\n",
       "    </tr>\n",
       "    <tr>\n",
       "      <th>9995</th>\n",
       "      <td>2020-10-04</td>\n",
       "      <td>20:37:58.080000</td>\n",
       "      <td>13.831056</td>\n",
       "      <td>100.570731</td>\n",
       "      <td>13.740277</td>\n",
       "      <td>100.566035</td>\n",
       "      <td>2692.0</td>\n",
       "      <td>45</td>\n",
       "      <td>10106.915791</td>\n",
       "      <td>0</td>\n",
       "      <td>6</td>\n",
       "      <td>0</td>\n",
       "      <td>0</td>\n",
       "      <td>0</td>\n",
       "      <td>1</td>\n",
       "      <td>0</td>\n",
       "      <td>0</td>\n",
       "      <td>0</td>\n",
       "    </tr>\n",
       "    <tr>\n",
       "      <th>9996</th>\n",
       "      <td>2020-10-05</td>\n",
       "      <td>08:13:55.200000</td>\n",
       "      <td>13.827034</td>\n",
       "      <td>100.564534</td>\n",
       "      <td>13.739573</td>\n",
       "      <td>100.555864</td>\n",
       "      <td>2887.0</td>\n",
       "      <td>48</td>\n",
       "      <td>9770.186216</td>\n",
       "      <td>0</td>\n",
       "      <td>0</td>\n",
       "      <td>0</td>\n",
       "      <td>1</td>\n",
       "      <td>0</td>\n",
       "      <td>0</td>\n",
       "      <td>0</td>\n",
       "      <td>0</td>\n",
       "      <td>0</td>\n",
       "    </tr>\n",
       "    <tr>\n",
       "      <th>9997</th>\n",
       "      <td>2020-10-04</td>\n",
       "      <td>16:39:47.520000</td>\n",
       "      <td>13.836996</td>\n",
       "      <td>100.540408</td>\n",
       "      <td>13.875017</td>\n",
       "      <td>100.516766</td>\n",
       "      <td>1462.0</td>\n",
       "      <td>24</td>\n",
       "      <td>4938.553701</td>\n",
       "      <td>0</td>\n",
       "      <td>6</td>\n",
       "      <td>0</td>\n",
       "      <td>0</td>\n",
       "      <td>0</td>\n",
       "      <td>1</td>\n",
       "      <td>0</td>\n",
       "      <td>0</td>\n",
       "      <td>0</td>\n",
       "    </tr>\n",
       "    <tr>\n",
       "      <th>9998</th>\n",
       "      <td>2020-10-03</td>\n",
       "      <td>12:05:19.680000</td>\n",
       "      <td>13.839923</td>\n",
       "      <td>100.547567</td>\n",
       "      <td>13.770979</td>\n",
       "      <td>100.630330</td>\n",
       "      <td>3633.0</td>\n",
       "      <td>61</td>\n",
       "      <td>11773.601221</td>\n",
       "      <td>0</td>\n",
       "      <td>5</td>\n",
       "      <td>0</td>\n",
       "      <td>0</td>\n",
       "      <td>1</td>\n",
       "      <td>0</td>\n",
       "      <td>0</td>\n",
       "      <td>0</td>\n",
       "      <td>0</td>\n",
       "    </tr>\n",
       "    <tr>\n",
       "      <th>9999</th>\n",
       "      <td>2020-10-03</td>\n",
       "      <td>10:43:14.880000</td>\n",
       "      <td>13.824620</td>\n",
       "      <td>100.563396</td>\n",
       "      <td>13.746458</td>\n",
       "      <td>100.529481</td>\n",
       "      <td>1973.0</td>\n",
       "      <td>33</td>\n",
       "      <td>9431.177597</td>\n",
       "      <td>0</td>\n",
       "      <td>5</td>\n",
       "      <td>0</td>\n",
       "      <td>0</td>\n",
       "      <td>1</td>\n",
       "      <td>0</td>\n",
       "      <td>0</td>\n",
       "      <td>0</td>\n",
       "      <td>0</td>\n",
       "    </tr>\n",
       "  </tbody>\n",
       "</table>\n",
       "<p>10000 rows × 18 columns</p>\n",
       "</div>"
      ],
      "text/plain": [
       "     JobAcceptedDate  jobAcceptedTime  Merchant.Lat  Merchant.Lng  \\\n",
       "0         2020-10-03  20:39:15.840000     13.825703    100.559309   \n",
       "1         2020-10-01  12:54:34.560000     13.831056    100.570731   \n",
       "2         2020-10-01  12:32:06.720000     13.827205    100.536048   \n",
       "3         2020-10-03  13:19:03.360000     13.840180    100.542326   \n",
       "4         2020-10-13  11:08:26.880000     13.827034    100.564534   \n",
       "...              ...              ...           ...           ...   \n",
       "9995      2020-10-04  20:37:58.080000     13.831056    100.570731   \n",
       "9996      2020-10-05  08:13:55.200000     13.827034    100.564534   \n",
       "9997      2020-10-04  16:39:47.520000     13.836996    100.540408   \n",
       "9998      2020-10-03  12:05:19.680000     13.839923    100.547567   \n",
       "9999      2020-10-03  10:43:14.880000     13.824620    100.563396   \n",
       "\n",
       "      Customer.lat  Customer.lng  DeliveryTime (s)  DeliveryTime (m)  \\\n",
       "0        13.756065    100.562375            1491.0                25   \n",
       "1        13.774685    100.573913            2164.0                36   \n",
       "2        13.743898    100.571659            2120.0                35   \n",
       "3        13.803957    100.513704            1722.0                29   \n",
       "4        13.775817    100.575734            1494.0                25   \n",
       "...            ...           ...               ...               ...   \n",
       "9995     13.740277    100.566035            2692.0                45   \n",
       "9996     13.739573    100.555864            2887.0                48   \n",
       "9997     13.875017    100.516766            1462.0                24   \n",
       "9998     13.770979    100.630330            3633.0                61   \n",
       "9999     13.746458    100.529481            1973.0                33   \n",
       "\n",
       "           EucDist  isHoliday  day_of_week  day_of_week_name_Fri  \\\n",
       "0      7750.511440          0            5                     0   \n",
       "1      6277.603705          0            3                     0   \n",
       "2     10029.576224          0            3                     0   \n",
       "3      5076.637568          0            5                     0   \n",
       "4      5822.057209          1            1                     0   \n",
       "...            ...        ...          ...                   ...   \n",
       "9995  10106.915791          0            6                     0   \n",
       "9996   9770.186216          0            0                     0   \n",
       "9997   4938.553701          0            6                     0   \n",
       "9998  11773.601221          0            5                     0   \n",
       "9999   9431.177597          0            5                     0   \n",
       "\n",
       "      day_of_week_name_Mon  day_of_week_name_Sat  day_of_week_name_Sun  \\\n",
       "0                        0                     1                     0   \n",
       "1                        0                     0                     0   \n",
       "2                        0                     0                     0   \n",
       "3                        0                     1                     0   \n",
       "4                        0                     0                     0   \n",
       "...                    ...                   ...                   ...   \n",
       "9995                     0                     0                     1   \n",
       "9996                     1                     0                     0   \n",
       "9997                     0                     0                     1   \n",
       "9998                     0                     1                     0   \n",
       "9999                     0                     1                     0   \n",
       "\n",
       "      day_of_week_name_Thu  day_of_week_name_Tue  day_of_week_name_Wed  \n",
       "0                        0                     0                     0  \n",
       "1                        1                     0                     0  \n",
       "2                        1                     0                     0  \n",
       "3                        0                     0                     0  \n",
       "4                        0                     1                     0  \n",
       "...                    ...                   ...                   ...  \n",
       "9995                     0                     0                     0  \n",
       "9996                     0                     0                     0  \n",
       "9997                     0                     0                     0  \n",
       "9998                     0                     0                     0  \n",
       "9999                     0                     0                     0  \n",
       "\n",
       "[10000 rows x 18 columns]"
      ]
     },
     "execution_count": 246,
     "metadata": {},
     "output_type": "execute_result"
    }
   ],
   "source": [
    "df"
   ]
  },
  {
   "cell_type": "code",
   "execution_count": 247,
   "metadata": {},
   "outputs": [],
   "source": [
    "## Try to convert one hot to angular distance (https://www.mikulskibartosz.name/time-in-machine-learning/)\n",
    "df[\"day_of_week_sin\"] = np.sin(df[\"day_of_week\"]*(2.*np.pi/7))\n",
    "df[\"day_of_week_cos\"] = np.cos(df[\"day_of_week\"]*(2.*np.pi/7))"
   ]
  },
  {
   "cell_type": "code",
   "execution_count": 248,
   "metadata": {},
   "outputs": [
    {
     "data": {
      "text/html": [
       "<div>\n",
       "<style scoped>\n",
       "    .dataframe tbody tr th:only-of-type {\n",
       "        vertical-align: middle;\n",
       "    }\n",
       "\n",
       "    .dataframe tbody tr th {\n",
       "        vertical-align: top;\n",
       "    }\n",
       "\n",
       "    .dataframe thead th {\n",
       "        text-align: right;\n",
       "    }\n",
       "</style>\n",
       "<table border=\"1\" class=\"dataframe\">\n",
       "  <thead>\n",
       "    <tr style=\"text-align: right;\">\n",
       "      <th></th>\n",
       "      <th>JobAcceptedDate</th>\n",
       "      <th>jobAcceptedTime</th>\n",
       "      <th>Merchant.Lat</th>\n",
       "      <th>Merchant.Lng</th>\n",
       "      <th>Customer.lat</th>\n",
       "      <th>Customer.lng</th>\n",
       "      <th>DeliveryTime (s)</th>\n",
       "      <th>DeliveryTime (m)</th>\n",
       "      <th>EucDist</th>\n",
       "      <th>isHoliday</th>\n",
       "      <th>day_of_week</th>\n",
       "      <th>day_of_week_name_Fri</th>\n",
       "      <th>day_of_week_name_Mon</th>\n",
       "      <th>day_of_week_name_Sat</th>\n",
       "      <th>day_of_week_name_Sun</th>\n",
       "      <th>day_of_week_name_Thu</th>\n",
       "      <th>day_of_week_name_Tue</th>\n",
       "      <th>day_of_week_name_Wed</th>\n",
       "      <th>day_of_week_sin</th>\n",
       "      <th>day_of_week_cos</th>\n",
       "    </tr>\n",
       "  </thead>\n",
       "  <tbody>\n",
       "    <tr>\n",
       "      <th>0</th>\n",
       "      <td>2020-10-03</td>\n",
       "      <td>20:39:15.840000</td>\n",
       "      <td>13.825703</td>\n",
       "      <td>100.559309</td>\n",
       "      <td>13.756065</td>\n",
       "      <td>100.562375</td>\n",
       "      <td>1491.0</td>\n",
       "      <td>25</td>\n",
       "      <td>7750.511440</td>\n",
       "      <td>0</td>\n",
       "      <td>5</td>\n",
       "      <td>0</td>\n",
       "      <td>0</td>\n",
       "      <td>1</td>\n",
       "      <td>0</td>\n",
       "      <td>0</td>\n",
       "      <td>0</td>\n",
       "      <td>0</td>\n",
       "      <td>-0.974928</td>\n",
       "      <td>-0.222521</td>\n",
       "    </tr>\n",
       "    <tr>\n",
       "      <th>1</th>\n",
       "      <td>2020-10-01</td>\n",
       "      <td>12:54:34.560000</td>\n",
       "      <td>13.831056</td>\n",
       "      <td>100.570731</td>\n",
       "      <td>13.774685</td>\n",
       "      <td>100.573913</td>\n",
       "      <td>2164.0</td>\n",
       "      <td>36</td>\n",
       "      <td>6277.603705</td>\n",
       "      <td>0</td>\n",
       "      <td>3</td>\n",
       "      <td>0</td>\n",
       "      <td>0</td>\n",
       "      <td>0</td>\n",
       "      <td>0</td>\n",
       "      <td>1</td>\n",
       "      <td>0</td>\n",
       "      <td>0</td>\n",
       "      <td>0.433884</td>\n",
       "      <td>-0.900969</td>\n",
       "    </tr>\n",
       "    <tr>\n",
       "      <th>2</th>\n",
       "      <td>2020-10-01</td>\n",
       "      <td>12:32:06.720000</td>\n",
       "      <td>13.827205</td>\n",
       "      <td>100.536048</td>\n",
       "      <td>13.743898</td>\n",
       "      <td>100.571659</td>\n",
       "      <td>2120.0</td>\n",
       "      <td>35</td>\n",
       "      <td>10029.576224</td>\n",
       "      <td>0</td>\n",
       "      <td>3</td>\n",
       "      <td>0</td>\n",
       "      <td>0</td>\n",
       "      <td>0</td>\n",
       "      <td>0</td>\n",
       "      <td>1</td>\n",
       "      <td>0</td>\n",
       "      <td>0</td>\n",
       "      <td>0.433884</td>\n",
       "      <td>-0.900969</td>\n",
       "    </tr>\n",
       "    <tr>\n",
       "      <th>3</th>\n",
       "      <td>2020-10-03</td>\n",
       "      <td>13:19:03.360000</td>\n",
       "      <td>13.840180</td>\n",
       "      <td>100.542326</td>\n",
       "      <td>13.803957</td>\n",
       "      <td>100.513704</td>\n",
       "      <td>1722.0</td>\n",
       "      <td>29</td>\n",
       "      <td>5076.637568</td>\n",
       "      <td>0</td>\n",
       "      <td>5</td>\n",
       "      <td>0</td>\n",
       "      <td>0</td>\n",
       "      <td>1</td>\n",
       "      <td>0</td>\n",
       "      <td>0</td>\n",
       "      <td>0</td>\n",
       "      <td>0</td>\n",
       "      <td>-0.974928</td>\n",
       "      <td>-0.222521</td>\n",
       "    </tr>\n",
       "    <tr>\n",
       "      <th>4</th>\n",
       "      <td>2020-10-13</td>\n",
       "      <td>11:08:26.880000</td>\n",
       "      <td>13.827034</td>\n",
       "      <td>100.564534</td>\n",
       "      <td>13.775817</td>\n",
       "      <td>100.575734</td>\n",
       "      <td>1494.0</td>\n",
       "      <td>25</td>\n",
       "      <td>5822.057209</td>\n",
       "      <td>1</td>\n",
       "      <td>1</td>\n",
       "      <td>0</td>\n",
       "      <td>0</td>\n",
       "      <td>0</td>\n",
       "      <td>0</td>\n",
       "      <td>0</td>\n",
       "      <td>1</td>\n",
       "      <td>0</td>\n",
       "      <td>0.781831</td>\n",
       "      <td>0.623490</td>\n",
       "    </tr>\n",
       "    <tr>\n",
       "      <th>...</th>\n",
       "      <td>...</td>\n",
       "      <td>...</td>\n",
       "      <td>...</td>\n",
       "      <td>...</td>\n",
       "      <td>...</td>\n",
       "      <td>...</td>\n",
       "      <td>...</td>\n",
       "      <td>...</td>\n",
       "      <td>...</td>\n",
       "      <td>...</td>\n",
       "      <td>...</td>\n",
       "      <td>...</td>\n",
       "      <td>...</td>\n",
       "      <td>...</td>\n",
       "      <td>...</td>\n",
       "      <td>...</td>\n",
       "      <td>...</td>\n",
       "      <td>...</td>\n",
       "      <td>...</td>\n",
       "      <td>...</td>\n",
       "    </tr>\n",
       "    <tr>\n",
       "      <th>9995</th>\n",
       "      <td>2020-10-04</td>\n",
       "      <td>20:37:58.080000</td>\n",
       "      <td>13.831056</td>\n",
       "      <td>100.570731</td>\n",
       "      <td>13.740277</td>\n",
       "      <td>100.566035</td>\n",
       "      <td>2692.0</td>\n",
       "      <td>45</td>\n",
       "      <td>10106.915791</td>\n",
       "      <td>0</td>\n",
       "      <td>6</td>\n",
       "      <td>0</td>\n",
       "      <td>0</td>\n",
       "      <td>0</td>\n",
       "      <td>1</td>\n",
       "      <td>0</td>\n",
       "      <td>0</td>\n",
       "      <td>0</td>\n",
       "      <td>-0.781831</td>\n",
       "      <td>0.623490</td>\n",
       "    </tr>\n",
       "    <tr>\n",
       "      <th>9996</th>\n",
       "      <td>2020-10-05</td>\n",
       "      <td>08:13:55.200000</td>\n",
       "      <td>13.827034</td>\n",
       "      <td>100.564534</td>\n",
       "      <td>13.739573</td>\n",
       "      <td>100.555864</td>\n",
       "      <td>2887.0</td>\n",
       "      <td>48</td>\n",
       "      <td>9770.186216</td>\n",
       "      <td>0</td>\n",
       "      <td>0</td>\n",
       "      <td>0</td>\n",
       "      <td>1</td>\n",
       "      <td>0</td>\n",
       "      <td>0</td>\n",
       "      <td>0</td>\n",
       "      <td>0</td>\n",
       "      <td>0</td>\n",
       "      <td>0.000000</td>\n",
       "      <td>1.000000</td>\n",
       "    </tr>\n",
       "    <tr>\n",
       "      <th>9997</th>\n",
       "      <td>2020-10-04</td>\n",
       "      <td>16:39:47.520000</td>\n",
       "      <td>13.836996</td>\n",
       "      <td>100.540408</td>\n",
       "      <td>13.875017</td>\n",
       "      <td>100.516766</td>\n",
       "      <td>1462.0</td>\n",
       "      <td>24</td>\n",
       "      <td>4938.553701</td>\n",
       "      <td>0</td>\n",
       "      <td>6</td>\n",
       "      <td>0</td>\n",
       "      <td>0</td>\n",
       "      <td>0</td>\n",
       "      <td>1</td>\n",
       "      <td>0</td>\n",
       "      <td>0</td>\n",
       "      <td>0</td>\n",
       "      <td>-0.781831</td>\n",
       "      <td>0.623490</td>\n",
       "    </tr>\n",
       "    <tr>\n",
       "      <th>9998</th>\n",
       "      <td>2020-10-03</td>\n",
       "      <td>12:05:19.680000</td>\n",
       "      <td>13.839923</td>\n",
       "      <td>100.547567</td>\n",
       "      <td>13.770979</td>\n",
       "      <td>100.630330</td>\n",
       "      <td>3633.0</td>\n",
       "      <td>61</td>\n",
       "      <td>11773.601221</td>\n",
       "      <td>0</td>\n",
       "      <td>5</td>\n",
       "      <td>0</td>\n",
       "      <td>0</td>\n",
       "      <td>1</td>\n",
       "      <td>0</td>\n",
       "      <td>0</td>\n",
       "      <td>0</td>\n",
       "      <td>0</td>\n",
       "      <td>-0.974928</td>\n",
       "      <td>-0.222521</td>\n",
       "    </tr>\n",
       "    <tr>\n",
       "      <th>9999</th>\n",
       "      <td>2020-10-03</td>\n",
       "      <td>10:43:14.880000</td>\n",
       "      <td>13.824620</td>\n",
       "      <td>100.563396</td>\n",
       "      <td>13.746458</td>\n",
       "      <td>100.529481</td>\n",
       "      <td>1973.0</td>\n",
       "      <td>33</td>\n",
       "      <td>9431.177597</td>\n",
       "      <td>0</td>\n",
       "      <td>5</td>\n",
       "      <td>0</td>\n",
       "      <td>0</td>\n",
       "      <td>1</td>\n",
       "      <td>0</td>\n",
       "      <td>0</td>\n",
       "      <td>0</td>\n",
       "      <td>0</td>\n",
       "      <td>-0.974928</td>\n",
       "      <td>-0.222521</td>\n",
       "    </tr>\n",
       "  </tbody>\n",
       "</table>\n",
       "<p>10000 rows × 20 columns</p>\n",
       "</div>"
      ],
      "text/plain": [
       "     JobAcceptedDate  jobAcceptedTime  Merchant.Lat  Merchant.Lng  \\\n",
       "0         2020-10-03  20:39:15.840000     13.825703    100.559309   \n",
       "1         2020-10-01  12:54:34.560000     13.831056    100.570731   \n",
       "2         2020-10-01  12:32:06.720000     13.827205    100.536048   \n",
       "3         2020-10-03  13:19:03.360000     13.840180    100.542326   \n",
       "4         2020-10-13  11:08:26.880000     13.827034    100.564534   \n",
       "...              ...              ...           ...           ...   \n",
       "9995      2020-10-04  20:37:58.080000     13.831056    100.570731   \n",
       "9996      2020-10-05  08:13:55.200000     13.827034    100.564534   \n",
       "9997      2020-10-04  16:39:47.520000     13.836996    100.540408   \n",
       "9998      2020-10-03  12:05:19.680000     13.839923    100.547567   \n",
       "9999      2020-10-03  10:43:14.880000     13.824620    100.563396   \n",
       "\n",
       "      Customer.lat  Customer.lng  DeliveryTime (s)  DeliveryTime (m)  \\\n",
       "0        13.756065    100.562375            1491.0                25   \n",
       "1        13.774685    100.573913            2164.0                36   \n",
       "2        13.743898    100.571659            2120.0                35   \n",
       "3        13.803957    100.513704            1722.0                29   \n",
       "4        13.775817    100.575734            1494.0                25   \n",
       "...            ...           ...               ...               ...   \n",
       "9995     13.740277    100.566035            2692.0                45   \n",
       "9996     13.739573    100.555864            2887.0                48   \n",
       "9997     13.875017    100.516766            1462.0                24   \n",
       "9998     13.770979    100.630330            3633.0                61   \n",
       "9999     13.746458    100.529481            1973.0                33   \n",
       "\n",
       "           EucDist  isHoliday  day_of_week  day_of_week_name_Fri  \\\n",
       "0      7750.511440          0            5                     0   \n",
       "1      6277.603705          0            3                     0   \n",
       "2     10029.576224          0            3                     0   \n",
       "3      5076.637568          0            5                     0   \n",
       "4      5822.057209          1            1                     0   \n",
       "...            ...        ...          ...                   ...   \n",
       "9995  10106.915791          0            6                     0   \n",
       "9996   9770.186216          0            0                     0   \n",
       "9997   4938.553701          0            6                     0   \n",
       "9998  11773.601221          0            5                     0   \n",
       "9999   9431.177597          0            5                     0   \n",
       "\n",
       "      day_of_week_name_Mon  day_of_week_name_Sat  day_of_week_name_Sun  \\\n",
       "0                        0                     1                     0   \n",
       "1                        0                     0                     0   \n",
       "2                        0                     0                     0   \n",
       "3                        0                     1                     0   \n",
       "4                        0                     0                     0   \n",
       "...                    ...                   ...                   ...   \n",
       "9995                     0                     0                     1   \n",
       "9996                     1                     0                     0   \n",
       "9997                     0                     0                     1   \n",
       "9998                     0                     1                     0   \n",
       "9999                     0                     1                     0   \n",
       "\n",
       "      day_of_week_name_Thu  day_of_week_name_Tue  day_of_week_name_Wed  \\\n",
       "0                        0                     0                     0   \n",
       "1                        1                     0                     0   \n",
       "2                        1                     0                     0   \n",
       "3                        0                     0                     0   \n",
       "4                        0                     1                     0   \n",
       "...                    ...                   ...                   ...   \n",
       "9995                     0                     0                     0   \n",
       "9996                     0                     0                     0   \n",
       "9997                     0                     0                     0   \n",
       "9998                     0                     0                     0   \n",
       "9999                     0                     0                     0   \n",
       "\n",
       "      day_of_week_sin  day_of_week_cos  \n",
       "0           -0.974928        -0.222521  \n",
       "1            0.433884        -0.900969  \n",
       "2            0.433884        -0.900969  \n",
       "3           -0.974928        -0.222521  \n",
       "4            0.781831         0.623490  \n",
       "...               ...              ...  \n",
       "9995        -0.781831         0.623490  \n",
       "9996         0.000000         1.000000  \n",
       "9997        -0.781831         0.623490  \n",
       "9998        -0.974928        -0.222521  \n",
       "9999        -0.974928        -0.222521  \n",
       "\n",
       "[10000 rows x 20 columns]"
      ]
     },
     "execution_count": 248,
     "metadata": {},
     "output_type": "execute_result"
    }
   ],
   "source": [
    "df"
   ]
  },
  {
   "cell_type": "markdown",
   "metadata": {},
   "source": [
    "### 1.2.5 Extract input/output for train model"
   ]
  },
  {
   "cell_type": "code",
   "execution_count": 249,
   "metadata": {},
   "outputs": [],
   "source": [
    "y_s = df.pop(\"DeliveryTime (s)\")\n",
    "y_m = df.pop(\"DeliveryTime (m)\")\n",
    "# data without day of week\n",
    "selected_cols_1 = [\"Merchant.Lat\", \"Merchant.Lng\", \"Customer.lat\", \"Customer.lng\", \"EucDist\"]\n",
    "# data with day of week (onehot)\n",
    "selected_cols_2 = [\"Merchant.Lat\", \"Merchant.Lng\", \"Customer.lat\", \"Customer.lng\", \"EucDist\", \"isHoliday\",\\\n",
    "    'day_of_week_name_Mon', 'day_of_week_name_Tue', 'day_of_week_name_Wed', 'day_of_week_name_Thu', 'day_of_week_name_Fri', 'day_of_week_name_Sat', 'day_of_week_name_Sun']\n",
    "# data with day of week (angular distance)\n",
    "selected_cols_3 = [\"Merchant.Lat\", \"Merchant.Lng\", \"Customer.lat\", \"Customer.lng\", \"EucDist\", \"isHoliday\", \"day_of_week_sin\",\t\"day_of_week_cos\"]\n",
    "X = [df[selected_cols_1].copy(), df[selected_cols_2].copy(), df[selected_cols_3].copy()]"
   ]
  },
  {
   "cell_type": "markdown",
   "metadata": {},
   "source": [
    "## 3. Model Regression"
   ]
  },
  {
   "cell_type": "markdown",
   "metadata": {},
   "source": [
    "### 3.1 Split data for train and test"
   ]
  },
  {
   "cell_type": "code",
   "execution_count": 250,
   "metadata": {},
   "outputs": [],
   "source": [
    "Xs_trains = []; Xs_tests = []; ys_trains = []; ys_tests = []\n",
    "Xm_trains = []; Xm_tests = []; ym_trains = []; ym_tests = []\n",
    "\n",
    "for i in range(len(X)):\n",
    "    Xs_train, Xs_test, ys_train, ys_test = train_test_split(X[i], y_s, test_size=0.20, random_state=0)\n",
    "    Xm_train, Xm_test, ym_train, ym_test = train_test_split(X[i], y_m, test_size=0.20, random_state=0)\n",
    "    Xs_trains.append(Xs_train); Xs_tests.append(Xs_test); ys_trains.append(ys_train); ys_tests.append(ys_test)\n",
    "    Xm_trains.append(Xm_train); Xm_tests.append(Xm_test); ym_trains.append(ym_train); ym_tests.append(ym_test)"
   ]
  },
  {
   "cell_type": "markdown",
   "metadata": {},
   "source": [
    "### 3.2 Model Metrics"
   ]
  },
  {
   "cell_type": "code",
   "execution_count": 251,
   "metadata": {},
   "outputs": [],
   "source": [
    "met = pd.DataFrame({\"Model\": [], \"MAE\": [], \"MSE\": [], \"RMSE\": [], \"R2\": []})\n",
    "model_metrics_s = [met.copy(), met.copy(), met.copy()]\n",
    "model_metrics_m = [met.copy(), met.copy(), met.copy()]"
   ]
  },
  {
   "cell_type": "markdown",
   "metadata": {},
   "source": [
    "### 3.3 Baseline model (Average)"
   ]
  },
  {
   "cell_type": "code",
   "execution_count": 252,
   "metadata": {},
   "outputs": [],
   "source": [
    "all_predictions_s = [[],[],[]]; all_predictions_m = [[],[],[]]"
   ]
  },
  {
   "cell_type": "markdown",
   "metadata": {},
   "source": [
    "### 3.3.1 As second"
   ]
  },
  {
   "cell_type": "code",
   "execution_count": 253,
   "metadata": {},
   "outputs": [],
   "source": [
    "avg_predictions_s = np.full(len(ys_tests[i]), np.mean(ys_trains[i]))\n",
    "for i in range(len(X)):\n",
    "    MAE  = metrics.mean_absolute_error(ys_tests[i], avg_predictions_s)\n",
    "    MSE  = metrics.mean_squared_error(ys_tests[i], avg_predictions_s)\n",
    "    R2   = metrics.r2_score(ys_tests[i], avg_predictions_s)\n",
    "    RMSE = np.sqrt(metrics.mean_squared_error(ys_test, avg_predictions_s))\n",
    "\n",
    "    all_predictions_s[i].append(avg_predictions_s)\n",
    "    model_metrics_s[i].loc[len(model_metrics_s[i])] = list([\"Mean \", MAE, MSE, RMSE, R2])\n",
    "    "
   ]
  },
  {
   "cell_type": "markdown",
   "metadata": {},
   "source": [
    "### 3.3.2 As minute"
   ]
  },
  {
   "cell_type": "code",
   "execution_count": 254,
   "metadata": {},
   "outputs": [],
   "source": [
    "avg_predictions_m =  np.full(len(ym_tests[i]), np.mean(ym_trains[i]))\n",
    "for i in range(len(X)):\n",
    "    MAE  = metrics.mean_absolute_error(ym_test, avg_predictions_m)\n",
    "    MSE  = metrics.mean_squared_error(ym_test, avg_predictions_m)\n",
    "    R2   = metrics.r2_score(ym_test, avg_predictions_m)\n",
    "    RMSE = np.sqrt(metrics.mean_squared_error(ym_test, avg_predictions_m))\n",
    "\n",
    "    all_predictions_m[i].append(avg_predictions_m)\n",
    "    model_metrics_m[i].loc[len(model_metrics_m[i])] = list([\"Mean \", MAE, MSE, RMSE, R2])"
   ]
  },
  {
   "cell_type": "markdown",
   "metadata": {},
   "source": [
    "### 3.3 Linear Regression"
   ]
  },
  {
   "cell_type": "markdown",
   "metadata": {},
   "source": [
    "#### 3.3.1 As second"
   ]
  },
  {
   "cell_type": "code",
   "execution_count": 255,
   "metadata": {},
   "outputs": [],
   "source": [
    "for i in range(len(X)):\n",
    "    lr = LinearRegression()\n",
    "    lr.fit(Xs_trains[i], ys_trains[i])\n",
    "    lr_predictions_s = lr.predict(Xs_tests[i])\n",
    "\n",
    "    MAE  = metrics.mean_absolute_error(ys_tests[i], lr_predictions_s)\n",
    "    MSE  = metrics.mean_squared_error(ys_tests[i], lr_predictions_s)\n",
    "    R2   = metrics.r2_score(ys_tests[i], lr_predictions_s)\n",
    "    RMSE = np.sqrt(metrics.mean_squared_error(ys_tests[i], lr_predictions_s))\n",
    "\n",
    "    all_predictions_s[i].append(lr_predictions_s)\n",
    "    model_metrics_s[i].loc[len(model_metrics_s[i])] = list([\"Linear Regression\", MAE, MSE, RMSE, R2])"
   ]
  },
  {
   "cell_type": "markdown",
   "metadata": {},
   "source": [
    "#### 3.3.2 As minute"
   ]
  },
  {
   "cell_type": "code",
   "execution_count": 256,
   "metadata": {},
   "outputs": [],
   "source": [
    "for i in range(len(X)):\n",
    "    lr = LinearRegression()\n",
    "    lr.fit(Xm_trains[i], ym_trains[i])\n",
    "    lr_predictions_m = lr.predict(Xm_tests[i])\n",
    "\n",
    "    MAE  = metrics.mean_absolute_error(ym_tests[i], lr_predictions_m)\n",
    "    MSE  = metrics.mean_squared_error(ym_tests[i], lr_predictions_m)\n",
    "    R2   = metrics.r2_score(ym_tests[i], lr_predictions_m)\n",
    "    RMSE = np.sqrt(metrics.mean_squared_error(ym_tests[i], lr_predictions_m))\n",
    "\n",
    "    all_predictions_m[i].append(lr_predictions_m)\n",
    "    model_metrics_m[i].loc[len(model_metrics_m[i])] = list([\"Linear Regression\", MAE, MSE, RMSE, R2])"
   ]
  },
  {
   "cell_type": "code",
   "execution_count": 257,
   "metadata": {},
   "outputs": [],
   "source": [
    "# plt.scatter(ys_test, lr_predictions_s)"
   ]
  },
  {
   "cell_type": "markdown",
   "metadata": {},
   "source": [
    "### 3.4 Random Forest"
   ]
  },
  {
   "cell_type": "markdown",
   "metadata": {},
   "source": [
    "#### 3.4.1 As second"
   ]
  },
  {
   "cell_type": "code",
   "execution_count": 258,
   "metadata": {},
   "outputs": [],
   "source": [
    "for i in range(len(X)):\n",
    "    rf = RandomForestRegressor()\n",
    "    rf.fit(Xs_trains[i], ys_trains[i])\n",
    "    rf_predictions_s = rf.predict(Xs_tests[i])\n",
    "    \n",
    "    MAE  = metrics.mean_absolute_error(ys_tests[i], rf_predictions_s)\n",
    "    MSE  = metrics.mean_squared_error(ys_tests[i], rf_predictions_s)\n",
    "    R2   = metrics.r2_score(ys_tests[i], rf_predictions_s)\n",
    "    RMSE = np.sqrt(metrics.mean_squared_error(ys_tests[i], rf_predictions_s))\n",
    "\n",
    "    all_predictions_s[i].append(rf_predictions_s)\n",
    "    model_metrics_s[i].loc[len(model_metrics_s[i])] = list([\"Random Forest\", MAE, MSE, RMSE, R2])"
   ]
  },
  {
   "cell_type": "markdown",
   "metadata": {},
   "source": [
    "#### 3.4.2 As minute"
   ]
  },
  {
   "cell_type": "code",
   "execution_count": 259,
   "metadata": {},
   "outputs": [],
   "source": [
    "for i in range(len(X)):\n",
    "    rf = RandomForestRegressor()\n",
    "    rf.fit(Xm_trains[i], ym_trains[i])\n",
    "    rf_predictions_m = rf.predict(Xm_tests[i])\n",
    "\n",
    "    MAE  = metrics.mean_absolute_error(ym_tests[i], rf_predictions_m)\n",
    "    MSE  = metrics.mean_squared_error(ym_tests[i], rf_predictions_m)\n",
    "    R2   = metrics.r2_score(ym_tests[i], rf_predictions_m)\n",
    "    RMSE = np.sqrt(metrics.mean_squared_error(ym_tests[i], rf_predictions_m))\n",
    "\n",
    "    all_predictions_m[i].append(rf_predictions_m)\n",
    "    model_metrics_m[i].loc[len(model_metrics_m[i])] = list([\"Random Forest\", MAE, MSE, RMSE, R2])"
   ]
  },
  {
   "cell_type": "markdown",
   "metadata": {},
   "source": [
    "### 3.5 Gradient Boosted Desicion Tree"
   ]
  },
  {
   "cell_type": "markdown",
   "metadata": {},
   "source": [
    "#### 3.5.1 As second"
   ]
  },
  {
   "cell_type": "code",
   "execution_count": 260,
   "metadata": {},
   "outputs": [],
   "source": [
    "for i in range(len(X)):\n",
    "    gbdt = GradientBoostingRegressor(n_estimators=1000, max_depth=7, random_state=0)\n",
    "    gbdt.fit(Xs_trains[i], ys_trains[i])\n",
    "    gbdt_predictions_s = gbdt.predict(Xs_tests[i])\n",
    "    \n",
    "    MAE  = metrics.mean_absolute_error(ys_tests[i], gbdt_predictions_s)\n",
    "    MSE  = metrics.mean_squared_error(ys_tests[i], gbdt_predictions_s)\n",
    "    R2   = metrics.r2_score(ys_tests[i], gbdt_predictions_s)\n",
    "    RMSE = np.sqrt(metrics.mean_squared_error(ys_tests[i], gbdt_predictions_s))\n",
    "\n",
    "    all_predictions_s[i].append(gbdt_predictions_s)\n",
    "    model_metrics_s[i].loc[len(model_metrics_s[i])] = list([\"Gradient Boosted Decision Tree\", MAE, MSE, RMSE, R2])"
   ]
  },
  {
   "cell_type": "markdown",
   "metadata": {},
   "source": [
    "#### 3.5.2 As minute"
   ]
  },
  {
   "cell_type": "code",
   "execution_count": 261,
   "metadata": {},
   "outputs": [],
   "source": [
    "for i in range(len(X)):\n",
    "    gbdt = GradientBoostingRegressor(n_estimators=1000, max_depth=7, random_state=0)\n",
    "    gbdt.fit(Xm_trains[i], ym_trains[i])\n",
    "    gbdt_predictions_m = gbdt.predict(Xm_tests[i])\n",
    "\n",
    "    MAE  = metrics.mean_absolute_error(ym_tests[i], gbdt_predictions_m)\n",
    "    MSE  = metrics.mean_squared_error(ym_tests[i], gbdt_predictions_m)\n",
    "    R2   = metrics.r2_score(ym_tests[i], gbdt_predictions_m)\n",
    "    RMSE = np.sqrt(metrics.mean_squared_error(ym_tests[i], gbdt_predictions_m))\n",
    "\n",
    "    all_predictions_m[i].append(gbdt_predictions_m)\n",
    "    model_metrics_m[i].loc[len(model_metrics_m[i])] = list([\"Gradient Boosted Decision Tree\", MAE, MSE, RMSE, R2])"
   ]
  },
  {
   "cell_type": "markdown",
   "metadata": {},
   "source": [
    "# 4. Model Evaluation"
   ]
  },
  {
   "cell_type": "markdown",
   "metadata": {},
   "source": [
    "## 4.1 Linear Regression"
   ]
  },
  {
   "cell_type": "markdown",
   "metadata": {},
   "source": [
    "### 4.1.1 "
   ]
  },
  {
   "cell_type": "code",
   "execution_count": 262,
   "metadata": {},
   "outputs": [
    {
     "name": "stderr",
     "output_type": "stream",
     "text": [
      "C:\\Users\\PoraRee\\AppData\\Local\\Temp/ipykernel_5960/2374787410.py:1: UserWarning: \n",
      "\n",
      "`distplot` is a deprecated function and will be removed in seaborn v0.14.0.\n",
      "\n",
      "Please adapt your code to use either `displot` (a figure-level function with\n",
      "similar flexibility) or `histplot` (an axes-level function for histograms).\n",
      "\n",
      "For a guide to updating your code to use the new functions, please see\n",
      "https://gist.github.com/mwaskom/de44147ed2974457ad6372750bbe5751\n",
      "\n",
      "  sns.distplot((ym_test-gbdt_predictions_m), bins=50)\n"
     ]
    },
    {
     "data": {
      "text/plain": [
       "<AxesSubplot: xlabel='DeliveryTime (m)', ylabel='Density'>"
      ]
     },
     "execution_count": 262,
     "metadata": {},
     "output_type": "execute_result"
    },
    {
     "data": {
      "image/png": "[encoded data removed]",
      "text/plain": [
       "<Figure size 432x288 with 1 Axes>"
      ]
     },
     "metadata": {
      "needs_background": "light"
     },
     "output_type": "display_data"
    }
   ],
   "source": [
    "sns.distplot((ym_test-gbdt_predictions_m), bins=50)"
   ]
  },
  {
   "cell_type": "code",
   "execution_count": 263,
   "metadata": {},
   "outputs": [
    {
     "name": "stdout",
     "output_type": "stream",
     "text": [
      "Without day_of_week\n"
     ]
    },
    {
     "data": {
      "text/html": [
       "<div>\n",
       "<style scoped>\n",
       "    .dataframe tbody tr th:only-of-type {\n",
       "        vertical-align: middle;\n",
       "    }\n",
       "\n",
       "    .dataframe tbody tr th {\n",
       "        vertical-align: top;\n",
       "    }\n",
       "\n",
       "    .dataframe thead th {\n",
       "        text-align: right;\n",
       "    }\n",
       "</style>\n",
       "<table border=\"1\" class=\"dataframe\">\n",
       "  <thead>\n",
       "    <tr style=\"text-align: right;\">\n",
       "      <th></th>\n",
       "      <th>Model</th>\n",
       "      <th>MAE</th>\n",
       "      <th>MSE</th>\n",
       "      <th>RMSE</th>\n",
       "      <th>R2</th>\n",
       "    </tr>\n",
       "  </thead>\n",
       "  <tbody>\n",
       "    <tr>\n",
       "      <th>0</th>\n",
       "      <td>Mean</td>\n",
       "      <td>619.032975</td>\n",
       "      <td>569247.206950</td>\n",
       "      <td>754.484729</td>\n",
       "      <td>-0.000018</td>\n",
       "    </tr>\n",
       "    <tr>\n",
       "      <th>1</th>\n",
       "      <td>Linear Regression</td>\n",
       "      <td>290.057970</td>\n",
       "      <td>123414.634860</td>\n",
       "      <td>351.304191</td>\n",
       "      <td>0.783193</td>\n",
       "    </tr>\n",
       "    <tr>\n",
       "      <th>2</th>\n",
       "      <td>Random Forest</td>\n",
       "      <td>302.742187</td>\n",
       "      <td>139704.695323</td>\n",
       "      <td>373.770913</td>\n",
       "      <td>0.754575</td>\n",
       "    </tr>\n",
       "    <tr>\n",
       "      <th>3</th>\n",
       "      <td>Gradient Boosted Decision Tree</td>\n",
       "      <td>314.644290</td>\n",
       "      <td>156384.984775</td>\n",
       "      <td>395.455414</td>\n",
       "      <td>0.725273</td>\n",
       "    </tr>\n",
       "  </tbody>\n",
       "</table>\n",
       "</div>"
      ],
      "text/plain": [
       "                            Model         MAE            MSE        RMSE  \\\n",
       "0                           Mean   619.032975  569247.206950  754.484729   \n",
       "1               Linear Regression  290.057970  123414.634860  351.304191   \n",
       "2                   Random Forest  302.742187  139704.695323  373.770913   \n",
       "3  Gradient Boosted Decision Tree  314.644290  156384.984775  395.455414   \n",
       "\n",
       "         R2  \n",
       "0 -0.000018  \n",
       "1  0.783193  \n",
       "2  0.754575  \n",
       "3  0.725273  "
      ]
     },
     "metadata": {},
     "output_type": "display_data"
    },
    {
     "name": "stdout",
     "output_type": "stream",
     "text": [
      "With day_of_week OneHot\n"
     ]
    },
    {
     "data": {
      "text/html": [
       "<div>\n",
       "<style scoped>\n",
       "    .dataframe tbody tr th:only-of-type {\n",
       "        vertical-align: middle;\n",
       "    }\n",
       "\n",
       "    .dataframe tbody tr th {\n",
       "        vertical-align: top;\n",
       "    }\n",
       "\n",
       "    .dataframe thead th {\n",
       "        text-align: right;\n",
       "    }\n",
       "</style>\n",
       "<table border=\"1\" class=\"dataframe\">\n",
       "  <thead>\n",
       "    <tr style=\"text-align: right;\">\n",
       "      <th></th>\n",
       "      <th>Model</th>\n",
       "      <th>MAE</th>\n",
       "      <th>MSE</th>\n",
       "      <th>RMSE</th>\n",
       "      <th>R2</th>\n",
       "    </tr>\n",
       "  </thead>\n",
       "  <tbody>\n",
       "    <tr>\n",
       "      <th>0</th>\n",
       "      <td>Mean</td>\n",
       "      <td>619.032975</td>\n",
       "      <td>569247.206950</td>\n",
       "      <td>754.484729</td>\n",
       "      <td>-0.000018</td>\n",
       "    </tr>\n",
       "    <tr>\n",
       "      <th>1</th>\n",
       "      <td>Linear Regression</td>\n",
       "      <td>290.095703</td>\n",
       "      <td>123578.498894</td>\n",
       "      <td>351.537336</td>\n",
       "      <td>0.782905</td>\n",
       "    </tr>\n",
       "    <tr>\n",
       "      <th>2</th>\n",
       "      <td>Random Forest</td>\n",
       "      <td>298.785415</td>\n",
       "      <td>135759.237438</td>\n",
       "      <td>368.455204</td>\n",
       "      <td>0.761507</td>\n",
       "    </tr>\n",
       "    <tr>\n",
       "      <th>3</th>\n",
       "      <td>Gradient Boosted Decision Tree</td>\n",
       "      <td>312.209914</td>\n",
       "      <td>153962.743019</td>\n",
       "      <td>392.380865</td>\n",
       "      <td>0.729528</td>\n",
       "    </tr>\n",
       "  </tbody>\n",
       "</table>\n",
       "</div>"
      ],
      "text/plain": [
       "                            Model         MAE            MSE        RMSE  \\\n",
       "0                           Mean   619.032975  569247.206950  754.484729   \n",
       "1               Linear Regression  290.095703  123578.498894  351.537336   \n",
       "2                   Random Forest  298.785415  135759.237438  368.455204   \n",
       "3  Gradient Boosted Decision Tree  312.209914  153962.743019  392.380865   \n",
       "\n",
       "         R2  \n",
       "0 -0.000018  \n",
       "1  0.782905  \n",
       "2  0.761507  \n",
       "3  0.729528  "
      ]
     },
     "metadata": {},
     "output_type": "display_data"
    },
    {
     "name": "stdout",
     "output_type": "stream",
     "text": [
      "With day_of_week Angular\n"
     ]
    },
    {
     "data": {
      "text/html": [
       "<div>\n",
       "<style scoped>\n",
       "    .dataframe tbody tr th:only-of-type {\n",
       "        vertical-align: middle;\n",
       "    }\n",
       "\n",
       "    .dataframe tbody tr th {\n",
       "        vertical-align: top;\n",
       "    }\n",
       "\n",
       "    .dataframe thead th {\n",
       "        text-align: right;\n",
       "    }\n",
       "</style>\n",
       "<table border=\"1\" class=\"dataframe\">\n",
       "  <thead>\n",
       "    <tr style=\"text-align: right;\">\n",
       "      <th></th>\n",
       "      <th>Model</th>\n",
       "      <th>MAE</th>\n",
       "      <th>MSE</th>\n",
       "      <th>RMSE</th>\n",
       "      <th>R2</th>\n",
       "    </tr>\n",
       "  </thead>\n",
       "  <tbody>\n",
       "    <tr>\n",
       "      <th>0</th>\n",
       "      <td>Mean</td>\n",
       "      <td>619.032975</td>\n",
       "      <td>569247.206950</td>\n",
       "      <td>754.484729</td>\n",
       "      <td>-0.000018</td>\n",
       "    </tr>\n",
       "    <tr>\n",
       "      <th>1</th>\n",
       "      <td>Linear Regression</td>\n",
       "      <td>290.094838</td>\n",
       "      <td>123487.250730</td>\n",
       "      <td>351.407528</td>\n",
       "      <td>0.783065</td>\n",
       "    </tr>\n",
       "    <tr>\n",
       "      <th>2</th>\n",
       "      <td>Random Forest</td>\n",
       "      <td>297.887352</td>\n",
       "      <td>134655.735744</td>\n",
       "      <td>366.954678</td>\n",
       "      <td>0.763445</td>\n",
       "    </tr>\n",
       "    <tr>\n",
       "      <th>3</th>\n",
       "      <td>Gradient Boosted Decision Tree</td>\n",
       "      <td>313.741738</td>\n",
       "      <td>154766.466474</td>\n",
       "      <td>393.403694</td>\n",
       "      <td>0.728116</td>\n",
       "    </tr>\n",
       "  </tbody>\n",
       "</table>\n",
       "</div>"
      ],
      "text/plain": [
       "                            Model         MAE            MSE        RMSE  \\\n",
       "0                           Mean   619.032975  569247.206950  754.484729   \n",
       "1               Linear Regression  290.094838  123487.250730  351.407528   \n",
       "2                   Random Forest  297.887352  134655.735744  366.954678   \n",
       "3  Gradient Boosted Decision Tree  313.741738  154766.466474  393.403694   \n",
       "\n",
       "         R2  \n",
       "0 -0.000018  \n",
       "1  0.783065  \n",
       "2  0.763445  \n",
       "3  0.728116  "
      ]
     },
     "metadata": {},
     "output_type": "display_data"
    }
   ],
   "source": [
    "DataFeats = [\"Without day_of_week\", \"With day_of_week OneHot\", \"With day_of_week Angular\"]\n",
    "for i in range(len(X)):\n",
    "    print(DataFeats[i])\n",
    "    display(model_metrics_s[i])"
   ]
  },
  {
   "cell_type": "code",
   "execution_count": 264,
   "metadata": {},
   "outputs": [
    {
     "name": "stdout",
     "output_type": "stream",
     "text": [
      "Without day_of_week\n"
     ]
    },
    {
     "data": {
      "text/html": [
       "<div>\n",
       "<style scoped>\n",
       "    .dataframe tbody tr th:only-of-type {\n",
       "        vertical-align: middle;\n",
       "    }\n",
       "\n",
       "    .dataframe tbody tr th {\n",
       "        vertical-align: top;\n",
       "    }\n",
       "\n",
       "    .dataframe thead th {\n",
       "        text-align: right;\n",
       "    }\n",
       "</style>\n",
       "<table border=\"1\" class=\"dataframe\">\n",
       "  <thead>\n",
       "    <tr style=\"text-align: right;\">\n",
       "      <th></th>\n",
       "      <th>Model</th>\n",
       "      <th>MAE</th>\n",
       "      <th>MSE</th>\n",
       "      <th>RMSE</th>\n",
       "      <th>R2</th>\n",
       "    </tr>\n",
       "  </thead>\n",
       "  <tbody>\n",
       "    <tr>\n",
       "      <th>0</th>\n",
       "      <td>Mean</td>\n",
       "      <td>10.326068</td>\n",
       "      <td>158.240588</td>\n",
       "      <td>12.579372</td>\n",
       "      <td>-0.000022</td>\n",
       "    </tr>\n",
       "    <tr>\n",
       "      <th>1</th>\n",
       "      <td>Linear Regression</td>\n",
       "      <td>4.850609</td>\n",
       "      <td>34.505436</td>\n",
       "      <td>5.874133</td>\n",
       "      <td>0.781938</td>\n",
       "    </tr>\n",
       "    <tr>\n",
       "      <th>2</th>\n",
       "      <td>Random Forest</td>\n",
       "      <td>5.068789</td>\n",
       "      <td>38.944791</td>\n",
       "      <td>6.240576</td>\n",
       "      <td>0.753883</td>\n",
       "    </tr>\n",
       "    <tr>\n",
       "      <th>3</th>\n",
       "      <td>Gradient Boosted Decision Tree</td>\n",
       "      <td>5.313295</td>\n",
       "      <td>44.201209</td>\n",
       "      <td>6.648399</td>\n",
       "      <td>0.720665</td>\n",
       "    </tr>\n",
       "  </tbody>\n",
       "</table>\n",
       "</div>"
      ],
      "text/plain": [
       "                            Model        MAE         MSE       RMSE        R2\n",
       "0                           Mean   10.326068  158.240588  12.579372 -0.000022\n",
       "1               Linear Regression   4.850609   34.505436   5.874133  0.781938\n",
       "2                   Random Forest   5.068789   38.944791   6.240576  0.753883\n",
       "3  Gradient Boosted Decision Tree   5.313295   44.201209   6.648399  0.720665"
      ]
     },
     "metadata": {},
     "output_type": "display_data"
    },
    {
     "name": "stdout",
     "output_type": "stream",
     "text": [
      "With day_of_week OneHot\n"
     ]
    },
    {
     "data": {
      "text/html": [
       "<div>\n",
       "<style scoped>\n",
       "    .dataframe tbody tr th:only-of-type {\n",
       "        vertical-align: middle;\n",
       "    }\n",
       "\n",
       "    .dataframe tbody tr th {\n",
       "        vertical-align: top;\n",
       "    }\n",
       "\n",
       "    .dataframe thead th {\n",
       "        text-align: right;\n",
       "    }\n",
       "</style>\n",
       "<table border=\"1\" class=\"dataframe\">\n",
       "  <thead>\n",
       "    <tr style=\"text-align: right;\">\n",
       "      <th></th>\n",
       "      <th>Model</th>\n",
       "      <th>MAE</th>\n",
       "      <th>MSE</th>\n",
       "      <th>RMSE</th>\n",
       "      <th>R2</th>\n",
       "    </tr>\n",
       "  </thead>\n",
       "  <tbody>\n",
       "    <tr>\n",
       "      <th>0</th>\n",
       "      <td>Mean</td>\n",
       "      <td>10.326068</td>\n",
       "      <td>158.240588</td>\n",
       "      <td>12.579372</td>\n",
       "      <td>-0.000022</td>\n",
       "    </tr>\n",
       "    <tr>\n",
       "      <th>1</th>\n",
       "      <td>Linear Regression</td>\n",
       "      <td>4.851274</td>\n",
       "      <td>34.552090</td>\n",
       "      <td>5.878103</td>\n",
       "      <td>0.781644</td>\n",
       "    </tr>\n",
       "    <tr>\n",
       "      <th>2</th>\n",
       "      <td>Random Forest</td>\n",
       "      <td>5.000909</td>\n",
       "      <td>37.993744</td>\n",
       "      <td>6.163907</td>\n",
       "      <td>0.759894</td>\n",
       "    </tr>\n",
       "    <tr>\n",
       "      <th>3</th>\n",
       "      <td>Gradient Boosted Decision Tree</td>\n",
       "      <td>5.247631</td>\n",
       "      <td>43.116409</td>\n",
       "      <td>6.566309</td>\n",
       "      <td>0.727520</td>\n",
       "    </tr>\n",
       "  </tbody>\n",
       "</table>\n",
       "</div>"
      ],
      "text/plain": [
       "                            Model        MAE         MSE       RMSE        R2\n",
       "0                           Mean   10.326068  158.240588  12.579372 -0.000022\n",
       "1               Linear Regression   4.851274   34.552090   5.878103  0.781644\n",
       "2                   Random Forest   5.000909   37.993744   6.163907  0.759894\n",
       "3  Gradient Boosted Decision Tree   5.247631   43.116409   6.566309  0.727520"
      ]
     },
     "metadata": {},
     "output_type": "display_data"
    },
    {
     "name": "stdout",
     "output_type": "stream",
     "text": [
      "With day_of_week Angular\n"
     ]
    },
    {
     "data": {
      "text/html": [
       "<div>\n",
       "<style scoped>\n",
       "    .dataframe tbody tr th:only-of-type {\n",
       "        vertical-align: middle;\n",
       "    }\n",
       "\n",
       "    .dataframe tbody tr th {\n",
       "        vertical-align: top;\n",
       "    }\n",
       "\n",
       "    .dataframe thead th {\n",
       "        text-align: right;\n",
       "    }\n",
       "</style>\n",
       "<table border=\"1\" class=\"dataframe\">\n",
       "  <thead>\n",
       "    <tr style=\"text-align: right;\">\n",
       "      <th></th>\n",
       "      <th>Model</th>\n",
       "      <th>MAE</th>\n",
       "      <th>MSE</th>\n",
       "      <th>RMSE</th>\n",
       "      <th>R2</th>\n",
       "    </tr>\n",
       "  </thead>\n",
       "  <tbody>\n",
       "    <tr>\n",
       "      <th>0</th>\n",
       "      <td>Mean</td>\n",
       "      <td>10.326068</td>\n",
       "      <td>158.240588</td>\n",
       "      <td>12.579372</td>\n",
       "      <td>-0.000022</td>\n",
       "    </tr>\n",
       "    <tr>\n",
       "      <th>1</th>\n",
       "      <td>Linear Regression</td>\n",
       "      <td>4.851511</td>\n",
       "      <td>34.524513</td>\n",
       "      <td>5.875756</td>\n",
       "      <td>0.781818</td>\n",
       "    </tr>\n",
       "    <tr>\n",
       "      <th>2</th>\n",
       "      <td>Random Forest</td>\n",
       "      <td>5.007295</td>\n",
       "      <td>37.743791</td>\n",
       "      <td>6.143598</td>\n",
       "      <td>0.761473</td>\n",
       "    </tr>\n",
       "    <tr>\n",
       "      <th>3</th>\n",
       "      <td>Gradient Boosted Decision Tree</td>\n",
       "      <td>5.241641</td>\n",
       "      <td>43.514206</td>\n",
       "      <td>6.596530</td>\n",
       "      <td>0.725006</td>\n",
       "    </tr>\n",
       "  </tbody>\n",
       "</table>\n",
       "</div>"
      ],
      "text/plain": [
       "                            Model        MAE         MSE       RMSE        R2\n",
       "0                           Mean   10.326068  158.240588  12.579372 -0.000022\n",
       "1               Linear Regression   4.851511   34.524513   5.875756  0.781818\n",
       "2                   Random Forest   5.007295   37.743791   6.143598  0.761473\n",
       "3  Gradient Boosted Decision Tree   5.241641   43.514206   6.596530  0.725006"
      ]
     },
     "metadata": {},
     "output_type": "display_data"
    }
   ],
   "source": [
    "for i in range(len(X)):\n",
    "    print(DataFeats[i])\n",
    "    display(model_metrics_m[i])"
   ]
  },
  {
   "cell_type": "markdown",
   "metadata": {},
   "source": [
    "# Knowledge"
   ]
  },
  {
   "cell_type": "code",
   "execution_count": 265,
   "metadata": {},
   "outputs": [
    {
     "data": {
      "text/plain": [
       "<matplotlib.collections.PathCollection at 0x25019180a00>"
      ]
     },
     "execution_count": 265,
     "metadata": {},
     "output_type": "execute_result"
    },
    {
     "data": {
      "image/png": "[encoded data removed]",
      "text/plain": [
       "<Figure size 432x288 with 1 Axes>"
      ]
     },
     "metadata": {
      "needs_background": "light"
     },
     "output_type": "display_data"
    }
   ],
   "source": [
    "plt.scatter(df[\"EucDist\"], y_s, alpha=0.1)"
   ]
  },
  {
   "cell_type": "code",
   "execution_count": 266,
   "metadata": {},
   "outputs": [
    {
     "data": {
      "text/plain": [
       "<matplotlib.collections.PathCollection at 0x25019324100>"
      ]
     },
     "execution_count": 266,
     "metadata": {},
     "output_type": "execute_result"
    },
    {
     "data": {
      "image/png": "[encoded data removed]",
      "text/plain": [
       "<Figure size 432x288 with 1 Axes>"
      ]
     },
     "metadata": {
      "needs_background": "light"
     },
     "output_type": "display_data"
    }
   ],
   "source": [
    "plt.scatter(df[\"EucDist\"], y_m, alpha=0.1)"
   ]
  },
  {
   "cell_type": "markdown",
   "metadata": {},
   "source": [
    "# Model Varirance"
   ]
  },
  {
   "cell_type": "code",
   "execution_count": 288,
   "metadata": {},
   "outputs": [
    {
     "data": {
      "image/png": "[encoded data removed]",
      "text/plain": [
       "<Figure size 1080x1080 with 12 Axes>"
      ]
     },
     "metadata": {
      "needs_background": "light"
     },
     "output_type": "display_data"
    }
   ],
   "source": [
    "Names = [\"Mean\", \"Lr\", \"Rf\", \"GBDT\"]\n",
    "#DataFeats\n",
    "fig, axs = plt.subplots(4, 3, figsize=(15, 15))\n",
    "for i in range(len(X)):\n",
    "    for j in range(len(Names)):\n",
    "        axs[j, i].scatter(all_predictions_s[i][j], ys_tests[i])\n",
    "        axs[j, i].set_title(Names[j]+\" \"+DataFeats[i])"
   ]
  },
  {
   "cell_type": "code",
   "execution_count": 289,
   "metadata": {},
   "outputs": [
    {
     "data": {
      "image/png": "[encoded data removed]",
      "text/plain": [
       "<Figure size 1080x1080 with 12 Axes>"
      ]
     },
     "metadata": {
      "needs_background": "light"
     },
     "output_type": "display_data"
    }
   ],
   "source": [
    "fig, axs = plt.subplots(4, 3, figsize=(15, 15))\n",
    "for i in range(len(X)):\n",
    "    for j in range(len(Names)):\n",
    "        axs[j, i].scatter(all_predictions_m[i][j], ym_tests[i])\n",
    "        axs[j, i].set_title(Names[j]+\" \"+DataFeats[i])"
   ]
  },
  {
   "cell_type": "markdown",
   "metadata": {},
   "source": [
    "# Error dist"
   ]
  },
  {
   "cell_type": "code",
   "execution_count": 299,
   "metadata": {},
   "outputs": [
    {
     "data": {
      "image/png": "[encoded data removed]",
      "text/plain": [
       "<Figure size 1080x1080 with 12 Axes>"
      ]
     },
     "metadata": {
      "needs_background": "light"
     },
     "output_type": "display_data"
    }
   ],
   "source": [
    "fig, axs = plt.subplots(4, 3, figsize=(15, 15))\n",
    "for i in range(len(X)):\n",
    "    for j in range(len(Names)):\n",
    "        sns.histplot((ys_test-all_predictions_s[i][j]), bins=100, ax=axs[j, i])\n",
    "        axs[j, i].set_title(Names[j]+\" \"+DataFeats[i])"
   ]
  },
  {
   "cell_type": "code",
   "execution_count": 300,
   "metadata": {},
   "outputs": [
    {
     "data": {
      "image/png": "[encoded data removed]",
      "text/plain": [
       "<Figure size 1080x1080 with 12 Axes>"
      ]
     },
     "metadata": {
      "needs_background": "light"
     },
     "output_type": "display_data"
    }
   ],
   "source": [
    "fig, axs = plt.subplots(4, 3, figsize=(15, 15))\n",
    "for i in range(len(X)):\n",
    "    for j in range(len(Names)):\n",
    "        sns.histplot((ym_test-all_predictions_m[i][j]), bins=100, ax=axs[j, i])\n",
    "        axs[j, i].set_title(Names[j]+\" \"+DataFeats[i])"
   ]
  },
  {
   "cell_type": "code",
   "execution_count": null,
   "metadata": {},
   "outputs": [],
   "source": []
  }
 ],
 "metadata": {
  "kernelspec": {
   "display_name": "Python 3.9.12 ('EAT')",
   "language": "python",
   "name": "python3"
  },
  "language_info": {
   "codemirror_mode": {
    "name": "ipython",
    "version": 3
   },
   "file_extension": ".py",
   "mimetype": "text/x-python",
   "name": "python",
   "nbconvert_exporter": "python",
   "pygments_lexer": "ipython3",
   "version": "3.9.12"
  },
  "orig_nbformat": 4,
  "vscode": {
   "interpreter": {
    "hash": "e873fd8460d25e2b7d13238b75f01f142c4b8abc313241c193ed6eac1548f508"
   }
  }
 },
 "nbformat": 4,
 "nbformat_minor": 2
}
