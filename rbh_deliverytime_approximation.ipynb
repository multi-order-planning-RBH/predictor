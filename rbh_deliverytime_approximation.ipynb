{
 "cells": [
  {
   "cell_type": "code",
   "execution_count": 18,
   "metadata": {},
   "outputs": [],
   "source": [
    "import pandas as pd\n",
    "import numpy as np\n",
    "from datetime import datetime\n",
    "from math import sqrt, cos\n"
   ]
  },
  {
   "cell_type": "code",
   "execution_count": 19,
   "metadata": {},
   "outputs": [],
   "source": [
    "from module.distance_calculator import DistanceCalculator"
   ]
  },
  {
   "cell_type": "code",
   "execution_count": 20,
   "metadata": {},
   "outputs": [],
   "source": [
    "df = pd.read_excel('sample_rbh_data.xlsx', sheet_name='Sheet1')"
   ]
  },
  {
   "cell_type": "code",
   "execution_count": 21,
   "metadata": {},
   "outputs": [
    {
     "data": {
      "text/html": [
       "<div>\n",
       "<style scoped>\n",
       "    .dataframe tbody tr th:only-of-type {\n",
       "        vertical-align: middle;\n",
       "    }\n",
       "\n",
       "    .dataframe tbody tr th {\n",
       "        vertical-align: top;\n",
       "    }\n",
       "\n",
       "    .dataframe thead th {\n",
       "        text-align: right;\n",
       "    }\n",
       "</style>\n",
       "<table border=\"1\" class=\"dataframe\">\n",
       "  <thead>\n",
       "    <tr style=\"text-align: right;\">\n",
       "      <th></th>\n",
       "      <th>jobId</th>\n",
       "      <th>jobAcceptedTime</th>\n",
       "      <th>calledMerchantTime</th>\n",
       "      <th>arrivedAtMerchantTime</th>\n",
       "      <th>mealPickedUpTime</th>\n",
       "      <th>arrivedAtCustLocationTime</th>\n",
       "      <th>foodDeliveredTime</th>\n",
       "      <th>riderInitialLatLong.lat</th>\n",
       "      <th>riderInitialLatLong.lng</th>\n",
       "      <th>Merchant.Lat</th>\n",
       "      <th>Merchant.Lng</th>\n",
       "      <th>Customer.lat</th>\n",
       "      <th>Customer.lng</th>\n",
       "    </tr>\n",
       "  </thead>\n",
       "  <tbody>\n",
       "    <tr>\n",
       "      <th>0</th>\n",
       "      <td>S210712297069</td>\n",
       "      <td>2021-07-12T11:51:59Z</td>\n",
       "      <td>2021-07-12T11:53:32Z</td>\n",
       "      <td>2021-07-12T11:55:42Z</td>\n",
       "      <td>2021-07-12T12:18:58Z</td>\n",
       "      <td>2021-07-12T12:23:48Z</td>\n",
       "      <td>2021-07-12T12:24:10Z</td>\n",
       "      <td>13.696167</td>\n",
       "      <td>100.372988</td>\n",
       "      <td>13.692471</td>\n",
       "      <td>100.378297</td>\n",
       "      <td>13.687792</td>\n",
       "      <td>100.3599</td>\n",
       "    </tr>\n",
       "    <tr>\n",
       "      <th>1</th>\n",
       "      <td>S210712176524</td>\n",
       "      <td>2021-07-12T04:54:43Z</td>\n",
       "      <td>2021-07-12T04:55:11Z</td>\n",
       "      <td>2021-07-12T05:08:57Z</td>\n",
       "      <td>2021-07-12T05:09:21Z</td>\n",
       "      <td>2021-07-12T05:26:02Z</td>\n",
       "      <td>2021-07-12T05:26:24Z</td>\n",
       "      <td>13.855861</td>\n",
       "      <td>100.505192</td>\n",
       "      <td>13.866007</td>\n",
       "      <td>100.497420</td>\n",
       "      <td>13.869973</td>\n",
       "      <td>100.455743</td>\n",
       "    </tr>\n",
       "    <tr>\n",
       "      <th>2</th>\n",
       "      <td>S210712207553</td>\n",
       "      <td>2021-07-12T06:19:40Z</td>\n",
       "      <td>2021-07-12T06:22:43Z</td>\n",
       "      <td>2021-07-12T06:39:45Z</td>\n",
       "      <td>2021-07-12T06:40:19Z</td>\n",
       "      <td>2021-07-12T06:55:35Z</td>\n",
       "      <td>2021-07-12T06:56:06Z</td>\n",
       "      <td>13.923222</td>\n",
       "      <td>100.641427</td>\n",
       "      <td>13.937330</td>\n",
       "      <td>100.625068</td>\n",
       "      <td>13.954999</td>\n",
       "      <td>100.611758</td>\n",
       "    </tr>\n",
       "    <tr>\n",
       "      <th>3</th>\n",
       "      <td>S210712202283</td>\n",
       "      <td>2021-07-12T06:03:43Z</td>\n",
       "      <td>2021-07-12T06:04:48Z</td>\n",
       "      <td>2021-07-12T06:12:18Z</td>\n",
       "      <td>2021-07-12T06:12:59Z</td>\n",
       "      <td>2021-07-12T06:26:30Z</td>\n",
       "      <td>2021-07-12T06:26:48Z</td>\n",
       "      <td>13.749551</td>\n",
       "      <td>100.650041</td>\n",
       "      <td>13.743053</td>\n",
       "      <td>100.624662</td>\n",
       "      <td>13.738476</td>\n",
       "      <td>100.692156</td>\n",
       "    </tr>\n",
       "    <tr>\n",
       "      <th>4</th>\n",
       "      <td>S210712235129</td>\n",
       "      <td>2021-07-12T08:12:10Z</td>\n",
       "      <td>2021-07-12T08:12:45Z</td>\n",
       "      <td>2021-07-12T08:17:26Z</td>\n",
       "      <td>2021-07-12T08:27:44Z</td>\n",
       "      <td>2021-07-12T08:50:51Z</td>\n",
       "      <td>2021-07-12T08:50:58Z</td>\n",
       "      <td>13.787922</td>\n",
       "      <td>100.780864</td>\n",
       "      <td>13.802771</td>\n",
       "      <td>100.782363</td>\n",
       "      <td>13.769007</td>\n",
       "      <td>100.722973</td>\n",
       "    </tr>\n",
       "  </tbody>\n",
       "</table>\n",
       "</div>"
      ],
      "text/plain": [
       "           jobId       jobAcceptedTime  ... Customer.lat Customer.lng\n",
       "0  S210712297069  2021-07-12T11:51:59Z  ...    13.687792     100.3599\n",
       "1  S210712176524  2021-07-12T04:54:43Z  ...    13.869973   100.455743\n",
       "2  S210712207553  2021-07-12T06:19:40Z  ...    13.954999   100.611758\n",
       "3  S210712202283  2021-07-12T06:03:43Z  ...    13.738476   100.692156\n",
       "4  S210712235129  2021-07-12T08:12:10Z  ...    13.769007   100.722973\n",
       "\n",
       "[5 rows x 13 columns]"
      ]
     },
     "execution_count": 21,
     "metadata": {},
     "output_type": "execute_result"
    }
   ],
   "source": [
    "df.head()"
   ]
  },
  {
   "cell_type": "code",
   "execution_count": 22,
   "metadata": {},
   "outputs": [
    {
     "data": {
      "text/plain": [
       "(296, 13)"
      ]
     },
     "execution_count": 22,
     "metadata": {},
     "output_type": "execute_result"
    }
   ],
   "source": [
    "df.shape"
   ]
  },
  {
   "cell_type": "code",
   "execution_count": 23,
   "metadata": {},
   "outputs": [],
   "source": [
    "df[\"jobAcceptedTime\"] = pd.to_datetime(df[\"jobAcceptedTime\"], format=\"%Y-%m-%d %H:%M:%S\")\n",
    "df[\"calledMerchantTime\"] = pd.to_datetime(df[\"calledMerchantTime\"], format=\"%Y-%m-%d %H:%M:%S\")\n",
    "df[\"arrivedAtMerchantTime\"] = pd.to_datetime(df[\"arrivedAtMerchantTime\"], format=\"%Y-%m-%d %H:%M:%S\")\n",
    "df[\"mealPickedUpTime\"] = pd.to_datetime(df[\"mealPickedUpTime\"], format=\"%Y-%m-%d %H:%M:%S\")\n",
    "df[\"arrivedAtCustLocationTime\"] = pd.to_datetime(df[\"arrivedAtCustLocationTime\"], format=\"%Y-%m-%d %H:%M:%S\")\n",
    "df[\"foodDeliveredTime\"] = pd.to_datetime(df[\"foodDeliveredTime\"], format=\"%Y-%m-%d %H:%M:%S\")"
   ]
  },
  {
   "cell_type": "code",
   "execution_count": 24,
   "metadata": {},
   "outputs": [
    {
     "data": {
      "text/plain": [
       "[' ตำบลคูคต อำเภอลำลูกกา ปทุมธานี 12130 ประเทศไทย',\n",
       " ' Phasi Charoen',\n",
       " ' Min Buri',\n",
       " ' Thung Maha Mek',\n",
       " ' Pak Nam']"
      ]
     },
     "execution_count": 24,
     "metadata": {},
     "output_type": "execute_result"
    }
   ],
   "source": [
    "str_lat = [lat for lat in df[\"Customer.lat\"].unique() if type(lat) == str]\n",
    "str_lng = [lng for lng in df[\"Customer.lng\"].unique() if type(lng) == str]\n",
    "str_lat[:5]"
   ]
  },
  {
   "cell_type": "code",
   "execution_count": 25,
   "metadata": {},
   "outputs": [],
   "source": [
    "df = df.drop(df[df[\"Customer.lat\"].isin(str_lat)].index)\n",
    "df = df.drop(df[df[\"Customer.lng\"].isin(str_lng)].index)"
   ]
  },
  {
   "cell_type": "code",
   "execution_count": 26,
   "metadata": {},
   "outputs": [],
   "source": [
    "df[\"duration\"] = (df[\"foodDeliveredTime\"] - df[\"mealPickedUpTime\"]).dt.total_seconds()//60"
   ]
  },
  {
   "cell_type": "code",
   "execution_count": 27,
   "metadata": {},
   "outputs": [
    {
     "data": {
      "text/html": [
       "<div>\n",
       "<style scoped>\n",
       "    .dataframe tbody tr th:only-of-type {\n",
       "        vertical-align: middle;\n",
       "    }\n",
       "\n",
       "    .dataframe tbody tr th {\n",
       "        vertical-align: top;\n",
       "    }\n",
       "\n",
       "    .dataframe thead th {\n",
       "        text-align: right;\n",
       "    }\n",
       "</style>\n",
       "<table border=\"1\" class=\"dataframe\">\n",
       "  <thead>\n",
       "    <tr style=\"text-align: right;\">\n",
       "      <th></th>\n",
       "      <th>jobId</th>\n",
       "      <th>jobAcceptedTime</th>\n",
       "      <th>calledMerchantTime</th>\n",
       "      <th>arrivedAtMerchantTime</th>\n",
       "      <th>mealPickedUpTime</th>\n",
       "      <th>arrivedAtCustLocationTime</th>\n",
       "      <th>foodDeliveredTime</th>\n",
       "      <th>riderInitialLatLong.lat</th>\n",
       "      <th>riderInitialLatLong.lng</th>\n",
       "      <th>Merchant.Lat</th>\n",
       "      <th>Merchant.Lng</th>\n",
       "      <th>Customer.lat</th>\n",
       "      <th>Customer.lng</th>\n",
       "      <th>duration</th>\n",
       "    </tr>\n",
       "  </thead>\n",
       "  <tbody>\n",
       "    <tr>\n",
       "      <th>0</th>\n",
       "      <td>S210712297069</td>\n",
       "      <td>2021-07-12 11:51:59+00:00</td>\n",
       "      <td>2021-07-12 11:53:32+00:00</td>\n",
       "      <td>2021-07-12 11:55:42+00:00</td>\n",
       "      <td>2021-07-12 12:18:58+00:00</td>\n",
       "      <td>2021-07-12 12:23:48+00:00</td>\n",
       "      <td>2021-07-12 12:24:10+00:00</td>\n",
       "      <td>13.696167</td>\n",
       "      <td>100.372988</td>\n",
       "      <td>13.692471</td>\n",
       "      <td>100.378297</td>\n",
       "      <td>13.687792</td>\n",
       "      <td>100.3599</td>\n",
       "      <td>5.0</td>\n",
       "    </tr>\n",
       "    <tr>\n",
       "      <th>1</th>\n",
       "      <td>S210712176524</td>\n",
       "      <td>2021-07-12 04:54:43+00:00</td>\n",
       "      <td>2021-07-12 04:55:11+00:00</td>\n",
       "      <td>2021-07-12 05:08:57+00:00</td>\n",
       "      <td>2021-07-12 05:09:21+00:00</td>\n",
       "      <td>2021-07-12 05:26:02+00:00</td>\n",
       "      <td>2021-07-12 05:26:24+00:00</td>\n",
       "      <td>13.855861</td>\n",
       "      <td>100.505192</td>\n",
       "      <td>13.866007</td>\n",
       "      <td>100.497420</td>\n",
       "      <td>13.869973</td>\n",
       "      <td>100.455743</td>\n",
       "      <td>17.0</td>\n",
       "    </tr>\n",
       "    <tr>\n",
       "      <th>2</th>\n",
       "      <td>S210712207553</td>\n",
       "      <td>2021-07-12 06:19:40+00:00</td>\n",
       "      <td>2021-07-12 06:22:43+00:00</td>\n",
       "      <td>2021-07-12 06:39:45+00:00</td>\n",
       "      <td>2021-07-12 06:40:19+00:00</td>\n",
       "      <td>2021-07-12 06:55:35+00:00</td>\n",
       "      <td>2021-07-12 06:56:06+00:00</td>\n",
       "      <td>13.923222</td>\n",
       "      <td>100.641427</td>\n",
       "      <td>13.937330</td>\n",
       "      <td>100.625068</td>\n",
       "      <td>13.954999</td>\n",
       "      <td>100.611758</td>\n",
       "      <td>15.0</td>\n",
       "    </tr>\n",
       "    <tr>\n",
       "      <th>3</th>\n",
       "      <td>S210712202283</td>\n",
       "      <td>2021-07-12 06:03:43+00:00</td>\n",
       "      <td>2021-07-12 06:04:48+00:00</td>\n",
       "      <td>2021-07-12 06:12:18+00:00</td>\n",
       "      <td>2021-07-12 06:12:59+00:00</td>\n",
       "      <td>2021-07-12 06:26:30+00:00</td>\n",
       "      <td>2021-07-12 06:26:48+00:00</td>\n",
       "      <td>13.749551</td>\n",
       "      <td>100.650041</td>\n",
       "      <td>13.743053</td>\n",
       "      <td>100.624662</td>\n",
       "      <td>13.738476</td>\n",
       "      <td>100.692156</td>\n",
       "      <td>13.0</td>\n",
       "    </tr>\n",
       "    <tr>\n",
       "      <th>4</th>\n",
       "      <td>S210712235129</td>\n",
       "      <td>2021-07-12 08:12:10+00:00</td>\n",
       "      <td>2021-07-12 08:12:45+00:00</td>\n",
       "      <td>2021-07-12 08:17:26+00:00</td>\n",
       "      <td>2021-07-12 08:27:44+00:00</td>\n",
       "      <td>2021-07-12 08:50:51+00:00</td>\n",
       "      <td>2021-07-12 08:50:58+00:00</td>\n",
       "      <td>13.787922</td>\n",
       "      <td>100.780864</td>\n",
       "      <td>13.802771</td>\n",
       "      <td>100.782363</td>\n",
       "      <td>13.769007</td>\n",
       "      <td>100.722973</td>\n",
       "      <td>23.0</td>\n",
       "    </tr>\n",
       "  </tbody>\n",
       "</table>\n",
       "</div>"
      ],
      "text/plain": [
       "           jobId           jobAcceptedTime  ... Customer.lng duration\n",
       "0  S210712297069 2021-07-12 11:51:59+00:00  ...     100.3599      5.0\n",
       "1  S210712176524 2021-07-12 04:54:43+00:00  ...   100.455743     17.0\n",
       "2  S210712207553 2021-07-12 06:19:40+00:00  ...   100.611758     15.0\n",
       "3  S210712202283 2021-07-12 06:03:43+00:00  ...   100.692156     13.0\n",
       "4  S210712235129 2021-07-12 08:12:10+00:00  ...   100.722973     23.0\n",
       "\n",
       "[5 rows x 14 columns]"
      ]
     },
     "execution_count": 27,
     "metadata": {},
     "output_type": "execute_result"
    }
   ],
   "source": [
    "df.head()"
   ]
  },
  {
   "cell_type": "code",
   "execution_count": 28,
   "metadata": {},
   "outputs": [],
   "source": [
    "def extract_datetime(df, datetime_col):\n",
    "    df[datetime_col + \".dayOfWeek\"] = df[datetime_col].dt.dayofweek\n",
    "    # df[datetime_col + \".year\"] = df[datetime_col].dt.year\n",
    "    # df[datetime_col + \".month\"] = df[datetime_col].dt.month\n",
    "    # df[datetime_col + \".day\"] = df[datetime_col].dt.day\n",
    "    # df[datetime_col + \".hour\"] = df[datetime_col].dt.hour\n",
    "    # df[datetime_col + \".minute\"] = df[datetime_col].dt.minute\n",
    "    # df[datetime_col + \".second\"] = df[datetime_col].dt.second\n",
    "    df.drop(columns=[datetime_col], inplace=True)\n",
    "    return df"
   ]
  },
  {
   "cell_type": "code",
   "execution_count": 29,
   "metadata": {},
   "outputs": [],
   "source": [
    "# df = extract_datetime(df, \"jobAcceptedTime\")\n",
    "# df = extract_datetime(df, \"calledMerchantTime\")\n",
    "# df = extract_datetime(df, \"arrivedAtMerchantTime\")\n",
    "# df = extract_datetime(df, \"mealPickedUpTime\")\n",
    "# df = extract_datetime(df, \"arrivedAtCustLocationTime\")\n",
    "# df = extract_datetime(df, \"foodDeliveredTime\")"
   ]
  },
  {
   "cell_type": "code",
   "execution_count": 30,
   "metadata": {},
   "outputs": [
    {
     "data": {
      "text/html": [
       "<div>\n",
       "<style scoped>\n",
       "    .dataframe tbody tr th:only-of-type {\n",
       "        vertical-align: middle;\n",
       "    }\n",
       "\n",
       "    .dataframe tbody tr th {\n",
       "        vertical-align: top;\n",
       "    }\n",
       "\n",
       "    .dataframe thead th {\n",
       "        text-align: right;\n",
       "    }\n",
       "</style>\n",
       "<table border=\"1\" class=\"dataframe\">\n",
       "  <thead>\n",
       "    <tr style=\"text-align: right;\">\n",
       "      <th></th>\n",
       "      <th>jobId</th>\n",
       "      <th>jobAcceptedTime</th>\n",
       "      <th>calledMerchantTime</th>\n",
       "      <th>arrivedAtMerchantTime</th>\n",
       "      <th>mealPickedUpTime</th>\n",
       "      <th>arrivedAtCustLocationTime</th>\n",
       "      <th>foodDeliveredTime</th>\n",
       "      <th>riderInitialLatLong.lat</th>\n",
       "      <th>riderInitialLatLong.lng</th>\n",
       "      <th>Merchant.Lat</th>\n",
       "      <th>Merchant.Lng</th>\n",
       "      <th>Customer.lat</th>\n",
       "      <th>Customer.lng</th>\n",
       "      <th>duration</th>\n",
       "    </tr>\n",
       "  </thead>\n",
       "  <tbody>\n",
       "    <tr>\n",
       "      <th>0</th>\n",
       "      <td>S210712297069</td>\n",
       "      <td>2021-07-12 11:51:59+00:00</td>\n",
       "      <td>2021-07-12 11:53:32+00:00</td>\n",
       "      <td>2021-07-12 11:55:42+00:00</td>\n",
       "      <td>2021-07-12 12:18:58+00:00</td>\n",
       "      <td>2021-07-12 12:23:48+00:00</td>\n",
       "      <td>2021-07-12 12:24:10+00:00</td>\n",
       "      <td>13.696167</td>\n",
       "      <td>100.372988</td>\n",
       "      <td>13.692471</td>\n",
       "      <td>100.378297</td>\n",
       "      <td>13.687792</td>\n",
       "      <td>100.3599</td>\n",
       "      <td>5.0</td>\n",
       "    </tr>\n",
       "    <tr>\n",
       "      <th>1</th>\n",
       "      <td>S210712176524</td>\n",
       "      <td>2021-07-12 04:54:43+00:00</td>\n",
       "      <td>2021-07-12 04:55:11+00:00</td>\n",
       "      <td>2021-07-12 05:08:57+00:00</td>\n",
       "      <td>2021-07-12 05:09:21+00:00</td>\n",
       "      <td>2021-07-12 05:26:02+00:00</td>\n",
       "      <td>2021-07-12 05:26:24+00:00</td>\n",
       "      <td>13.855861</td>\n",
       "      <td>100.505192</td>\n",
       "      <td>13.866007</td>\n",
       "      <td>100.497420</td>\n",
       "      <td>13.869973</td>\n",
       "      <td>100.455743</td>\n",
       "      <td>17.0</td>\n",
       "    </tr>\n",
       "    <tr>\n",
       "      <th>2</th>\n",
       "      <td>S210712207553</td>\n",
       "      <td>2021-07-12 06:19:40+00:00</td>\n",
       "      <td>2021-07-12 06:22:43+00:00</td>\n",
       "      <td>2021-07-12 06:39:45+00:00</td>\n",
       "      <td>2021-07-12 06:40:19+00:00</td>\n",
       "      <td>2021-07-12 06:55:35+00:00</td>\n",
       "      <td>2021-07-12 06:56:06+00:00</td>\n",
       "      <td>13.923222</td>\n",
       "      <td>100.641427</td>\n",
       "      <td>13.937330</td>\n",
       "      <td>100.625068</td>\n",
       "      <td>13.954999</td>\n",
       "      <td>100.611758</td>\n",
       "      <td>15.0</td>\n",
       "    </tr>\n",
       "    <tr>\n",
       "      <th>3</th>\n",
       "      <td>S210712202283</td>\n",
       "      <td>2021-07-12 06:03:43+00:00</td>\n",
       "      <td>2021-07-12 06:04:48+00:00</td>\n",
       "      <td>2021-07-12 06:12:18+00:00</td>\n",
       "      <td>2021-07-12 06:12:59+00:00</td>\n",
       "      <td>2021-07-12 06:26:30+00:00</td>\n",
       "      <td>2021-07-12 06:26:48+00:00</td>\n",
       "      <td>13.749551</td>\n",
       "      <td>100.650041</td>\n",
       "      <td>13.743053</td>\n",
       "      <td>100.624662</td>\n",
       "      <td>13.738476</td>\n",
       "      <td>100.692156</td>\n",
       "      <td>13.0</td>\n",
       "    </tr>\n",
       "    <tr>\n",
       "      <th>4</th>\n",
       "      <td>S210712235129</td>\n",
       "      <td>2021-07-12 08:12:10+00:00</td>\n",
       "      <td>2021-07-12 08:12:45+00:00</td>\n",
       "      <td>2021-07-12 08:17:26+00:00</td>\n",
       "      <td>2021-07-12 08:27:44+00:00</td>\n",
       "      <td>2021-07-12 08:50:51+00:00</td>\n",
       "      <td>2021-07-12 08:50:58+00:00</td>\n",
       "      <td>13.787922</td>\n",
       "      <td>100.780864</td>\n",
       "      <td>13.802771</td>\n",
       "      <td>100.782363</td>\n",
       "      <td>13.769007</td>\n",
       "      <td>100.722973</td>\n",
       "      <td>23.0</td>\n",
       "    </tr>\n",
       "  </tbody>\n",
       "</table>\n",
       "</div>"
      ],
      "text/plain": [
       "           jobId           jobAcceptedTime  ... Customer.lng duration\n",
       "0  S210712297069 2021-07-12 11:51:59+00:00  ...     100.3599      5.0\n",
       "1  S210712176524 2021-07-12 04:54:43+00:00  ...   100.455743     17.0\n",
       "2  S210712207553 2021-07-12 06:19:40+00:00  ...   100.611758     15.0\n",
       "3  S210712202283 2021-07-12 06:03:43+00:00  ...   100.692156     13.0\n",
       "4  S210712235129 2021-07-12 08:12:10+00:00  ...   100.722973     23.0\n",
       "\n",
       "[5 rows x 14 columns]"
      ]
     },
     "execution_count": 30,
     "metadata": {},
     "output_type": "execute_result"
    }
   ],
   "source": [
    "df.head()"
   ]
  },
  {
   "cell_type": "code",
   "execution_count": 31,
   "metadata": {},
   "outputs": [
    {
     "data": {
      "text/plain": [
       "(271, 14)"
      ]
     },
     "execution_count": 31,
     "metadata": {},
     "output_type": "execute_result"
    }
   ],
   "source": [
    "df.shape"
   ]
  },
  {
   "cell_type": "code",
   "execution_count": 32,
   "metadata": {},
   "outputs": [
    {
     "name": "stdout",
     "output_type": "stream",
     "text": [
      "<class 'pandas.core.frame.DataFrame'>\n",
      "Int64Index: 271 entries, 0 to 295\n",
      "Data columns (total 14 columns):\n",
      " #   Column                     Non-Null Count  Dtype              \n",
      "---  ------                     --------------  -----              \n",
      " 0   jobId                      271 non-null    object             \n",
      " 1   jobAcceptedTime            271 non-null    datetime64[ns, UTC]\n",
      " 2   calledMerchantTime         271 non-null    datetime64[ns, UTC]\n",
      " 3   arrivedAtMerchantTime      271 non-null    datetime64[ns, UTC]\n",
      " 4   mealPickedUpTime           271 non-null    datetime64[ns, UTC]\n",
      " 5   arrivedAtCustLocationTime  271 non-null    datetime64[ns, UTC]\n",
      " 6   foodDeliveredTime          271 non-null    datetime64[ns, UTC]\n",
      " 7   riderInitialLatLong.lat    271 non-null    float64            \n",
      " 8   riderInitialLatLong.lng    271 non-null    float64            \n",
      " 9   Merchant.Lat               271 non-null    float64            \n",
      " 10  Merchant.Lng               271 non-null    float64            \n",
      " 11  Customer.lat               271 non-null    object             \n",
      " 12  Customer.lng               271 non-null    object             \n",
      " 13  duration                   271 non-null    float64            \n",
      "dtypes: datetime64[ns, UTC](6), float64(5), object(3)\n",
      "memory usage: 31.8+ KB\n"
     ]
    }
   ],
   "source": [
    "df.info()"
   ]
  },
  {
   "cell_type": "code",
   "execution_count": 33,
   "metadata": {},
   "outputs": [
    {
     "data": {
      "text/html": [
       "<div>\n",
       "<style scoped>\n",
       "    .dataframe tbody tr th:only-of-type {\n",
       "        vertical-align: middle;\n",
       "    }\n",
       "\n",
       "    .dataframe tbody tr th {\n",
       "        vertical-align: top;\n",
       "    }\n",
       "\n",
       "    .dataframe thead th {\n",
       "        text-align: right;\n",
       "    }\n",
       "</style>\n",
       "<table border=\"1\" class=\"dataframe\">\n",
       "  <thead>\n",
       "    <tr style=\"text-align: right;\">\n",
       "      <th></th>\n",
       "      <th>jobId</th>\n",
       "      <th>jobAcceptedTime</th>\n",
       "      <th>calledMerchantTime</th>\n",
       "      <th>arrivedAtMerchantTime</th>\n",
       "      <th>mealPickedUpTime</th>\n",
       "      <th>arrivedAtCustLocationTime</th>\n",
       "      <th>foodDeliveredTime</th>\n",
       "      <th>riderInitialLatLong.lat</th>\n",
       "      <th>riderInitialLatLong.lng</th>\n",
       "      <th>Merchant.Lat</th>\n",
       "      <th>Merchant.Lng</th>\n",
       "      <th>Customer.lat</th>\n",
       "      <th>Customer.lng</th>\n",
       "      <th>duration</th>\n",
       "    </tr>\n",
       "  </thead>\n",
       "  <tbody>\n",
       "    <tr>\n",
       "      <th>0</th>\n",
       "      <td>S210712297069</td>\n",
       "      <td>2021-07-12 11:51:59+00:00</td>\n",
       "      <td>2021-07-12 11:53:32+00:00</td>\n",
       "      <td>2021-07-12 11:55:42+00:00</td>\n",
       "      <td>2021-07-12 12:18:58+00:00</td>\n",
       "      <td>2021-07-12 12:23:48+00:00</td>\n",
       "      <td>2021-07-12 12:24:10+00:00</td>\n",
       "      <td>13.696167</td>\n",
       "      <td>100.372988</td>\n",
       "      <td>13.692471</td>\n",
       "      <td>100.378297</td>\n",
       "      <td>13.687792</td>\n",
       "      <td>100.3599</td>\n",
       "      <td>5.0</td>\n",
       "    </tr>\n",
       "    <tr>\n",
       "      <th>1</th>\n",
       "      <td>S210712176524</td>\n",
       "      <td>2021-07-12 04:54:43+00:00</td>\n",
       "      <td>2021-07-12 04:55:11+00:00</td>\n",
       "      <td>2021-07-12 05:08:57+00:00</td>\n",
       "      <td>2021-07-12 05:09:21+00:00</td>\n",
       "      <td>2021-07-12 05:26:02+00:00</td>\n",
       "      <td>2021-07-12 05:26:24+00:00</td>\n",
       "      <td>13.855861</td>\n",
       "      <td>100.505192</td>\n",
       "      <td>13.866007</td>\n",
       "      <td>100.497420</td>\n",
       "      <td>13.869973</td>\n",
       "      <td>100.455743</td>\n",
       "      <td>17.0</td>\n",
       "    </tr>\n",
       "    <tr>\n",
       "      <th>2</th>\n",
       "      <td>S210712207553</td>\n",
       "      <td>2021-07-12 06:19:40+00:00</td>\n",
       "      <td>2021-07-12 06:22:43+00:00</td>\n",
       "      <td>2021-07-12 06:39:45+00:00</td>\n",
       "      <td>2021-07-12 06:40:19+00:00</td>\n",
       "      <td>2021-07-12 06:55:35+00:00</td>\n",
       "      <td>2021-07-12 06:56:06+00:00</td>\n",
       "      <td>13.923222</td>\n",
       "      <td>100.641427</td>\n",
       "      <td>13.937330</td>\n",
       "      <td>100.625068</td>\n",
       "      <td>13.954999</td>\n",
       "      <td>100.611758</td>\n",
       "      <td>15.0</td>\n",
       "    </tr>\n",
       "    <tr>\n",
       "      <th>3</th>\n",
       "      <td>S210712202283</td>\n",
       "      <td>2021-07-12 06:03:43+00:00</td>\n",
       "      <td>2021-07-12 06:04:48+00:00</td>\n",
       "      <td>2021-07-12 06:12:18+00:00</td>\n",
       "      <td>2021-07-12 06:12:59+00:00</td>\n",
       "      <td>2021-07-12 06:26:30+00:00</td>\n",
       "      <td>2021-07-12 06:26:48+00:00</td>\n",
       "      <td>13.749551</td>\n",
       "      <td>100.650041</td>\n",
       "      <td>13.743053</td>\n",
       "      <td>100.624662</td>\n",
       "      <td>13.738476</td>\n",
       "      <td>100.692156</td>\n",
       "      <td>13.0</td>\n",
       "    </tr>\n",
       "    <tr>\n",
       "      <th>4</th>\n",
       "      <td>S210712235129</td>\n",
       "      <td>2021-07-12 08:12:10+00:00</td>\n",
       "      <td>2021-07-12 08:12:45+00:00</td>\n",
       "      <td>2021-07-12 08:17:26+00:00</td>\n",
       "      <td>2021-07-12 08:27:44+00:00</td>\n",
       "      <td>2021-07-12 08:50:51+00:00</td>\n",
       "      <td>2021-07-12 08:50:58+00:00</td>\n",
       "      <td>13.787922</td>\n",
       "      <td>100.780864</td>\n",
       "      <td>13.802771</td>\n",
       "      <td>100.782363</td>\n",
       "      <td>13.769007</td>\n",
       "      <td>100.722973</td>\n",
       "      <td>23.0</td>\n",
       "    </tr>\n",
       "  </tbody>\n",
       "</table>\n",
       "</div>"
      ],
      "text/plain": [
       "           jobId           jobAcceptedTime  ... Customer.lng duration\n",
       "0  S210712297069 2021-07-12 11:51:59+00:00  ...     100.3599      5.0\n",
       "1  S210712176524 2021-07-12 04:54:43+00:00  ...   100.455743     17.0\n",
       "2  S210712207553 2021-07-12 06:19:40+00:00  ...   100.611758     15.0\n",
       "3  S210712202283 2021-07-12 06:03:43+00:00  ...   100.692156     13.0\n",
       "4  S210712235129 2021-07-12 08:12:10+00:00  ...   100.722973     23.0\n",
       "\n",
       "[5 rows x 14 columns]"
      ]
     },
     "execution_count": 33,
     "metadata": {},
     "output_type": "execute_result"
    }
   ],
   "source": [
    "df.head()"
   ]
  },
  {
   "cell_type": "code",
   "execution_count": 42,
   "metadata": {},
   "outputs": [],
   "source": [
    "def get_euc(coords_1, coords_2):\n",
    "    R = 6371000\n",
    "    conversion_const = 0.0174533\n",
    "\n",
    "    c_1 = (coords_1[0]*conversion_const,coords_1[1]*conversion_const)\n",
    "    c_2 = (coords_2[0]*conversion_const,coords_2[1]*conversion_const)\n",
    "\n",
    "\n",
    "    delta_phi = abs(c_1[1]-c_2[1])\n",
    "\n",
    "    theta = c_1[0]\n",
    "    delta_theta = abs(c_1[0]-c_2[0])\n",
    "\n",
    "    del_x = R*cos(theta)*delta_phi \n",
    "    del_y = R*delta_theta\n",
    "\n",
    "    return sqrt(del_x**2+del_y**2)"
   ]
  },
  {
   "cell_type": "code",
   "execution_count": 43,
   "metadata": {},
   "outputs": [],
   "source": [
    "df[\"eucDistanceFromRiderToCustomer\"] = df.apply(lambda x: get_euc((x[\"Merchant.Lat\"],x[\"Merchant.Lng\"]),(x[\"Customer.lat\"],x[\"Customer.lng\"])), axis=1)"
   ]
  },
  {
   "cell_type": "code",
   "execution_count": 45,
   "metadata": {},
   "outputs": [],
   "source": [
    "D = DistanceCalculator()"
   ]
  },
  {
   "cell_type": "code",
   "execution_count": 46,
   "metadata": {},
   "outputs": [
    {
     "data": {
      "text/plain": [
       "{'y': 13.8349443, 'x': 100.5238375, 'street_count': 1}"
      ]
     },
     "execution_count": 46,
     "metadata": {},
     "output_type": "execute_result"
    }
   ],
   "source": [
    "D.G.nodes()[5880824979]"
   ]
  },
  {
   "cell_type": "code",
   "execution_count": 47,
   "metadata": {},
   "outputs": [
    {
     "data": {
      "text/plain": [
       "{'y': 13.8212094, 'x': 100.5076869, 'street_count': 3}"
      ]
     },
     "execution_count": 47,
     "metadata": {},
     "output_type": "execute_result"
    }
   ],
   "source": [
    "D.G.nodes()[7903748995]"
   ]
  },
  {
   "cell_type": "code",
   "execution_count": 48,
   "metadata": {},
   "outputs": [
    {
     "name": "stdout",
     "output_type": "stream",
     "text": [
      "4525703343 4527467267\n",
      "5880824979 7903748995\n"
     ]
    },
    {
     "ename": "NetworkXNoPath",
     "evalue": "Node 7903748995 not reachable from 5880824979",
     "output_type": "error",
     "traceback": [
      "\u001b[1;31m---------------------------------------------------------------------------\u001b[0m",
      "\u001b[1;31mNetworkXNoPath\u001b[0m                            Traceback (most recent call last)",
      "\u001b[1;32m~\\AppData\\Local\\Temp/ipykernel_18860/1171946428.py\u001b[0m in \u001b[0;36m<module>\u001b[1;34m\u001b[0m\n\u001b[1;32m----> 1\u001b[1;33m \u001b[0mdf\u001b[0m\u001b[1;33m[\u001b[0m\u001b[1;34m\"astarDistanceFromRiderToCustomer\"\u001b[0m\u001b[1;33m]\u001b[0m \u001b[1;33m=\u001b[0m \u001b[0mdf\u001b[0m\u001b[1;33m.\u001b[0m\u001b[0mapply\u001b[0m\u001b[1;33m(\u001b[0m\u001b[1;32mlambda\u001b[0m \u001b[0mx\u001b[0m\u001b[1;33m:\u001b[0m \u001b[0mD\u001b[0m\u001b[1;33m.\u001b[0m\u001b[0mshortestDistance\u001b[0m\u001b[1;33m(\u001b[0m\u001b[1;33m(\u001b[0m\u001b[0mx\u001b[0m\u001b[1;33m[\u001b[0m\u001b[1;34m\"Merchant.Lat\"\u001b[0m\u001b[1;33m]\u001b[0m\u001b[1;33m,\u001b[0m\u001b[0mx\u001b[0m\u001b[1;33m[\u001b[0m\u001b[1;34m\"Merchant.Lng\"\u001b[0m\u001b[1;33m]\u001b[0m\u001b[1;33m)\u001b[0m\u001b[1;33m,\u001b[0m\u001b[1;33m(\u001b[0m\u001b[0mx\u001b[0m\u001b[1;33m[\u001b[0m\u001b[1;34m\"Customer.lat\"\u001b[0m\u001b[1;33m]\u001b[0m\u001b[1;33m,\u001b[0m\u001b[0mx\u001b[0m\u001b[1;33m[\u001b[0m\u001b[1;34m\"Customer.lng\"\u001b[0m\u001b[1;33m]\u001b[0m\u001b[1;33m)\u001b[0m\u001b[1;33m)\u001b[0m\u001b[1;33m,\u001b[0m \u001b[0maxis\u001b[0m\u001b[1;33m=\u001b[0m\u001b[1;36m1\u001b[0m\u001b[1;33m)\u001b[0m\u001b[1;33m\u001b[0m\u001b[1;33m\u001b[0m\u001b[0m\n\u001b[0m",
      "\u001b[1;32m~\\AppData\\Roaming\\Python\\Python39\\site-packages\\pandas\\core\\frame.py\u001b[0m in \u001b[0;36mapply\u001b[1;34m(self, func, axis, raw, result_type, args, **kwargs)\u001b[0m\n\u001b[0;32m   9556\u001b[0m             \u001b[0mkwargs\u001b[0m\u001b[1;33m=\u001b[0m\u001b[0mkwargs\u001b[0m\u001b[1;33m,\u001b[0m\u001b[1;33m\u001b[0m\u001b[1;33m\u001b[0m\u001b[0m\n\u001b[0;32m   9557\u001b[0m         )\n\u001b[1;32m-> 9558\u001b[1;33m         \u001b[1;32mreturn\u001b[0m \u001b[0mop\u001b[0m\u001b[1;33m.\u001b[0m\u001b[0mapply\u001b[0m\u001b[1;33m(\u001b[0m\u001b[1;33m)\u001b[0m\u001b[1;33m.\u001b[0m\u001b[0m__finalize__\u001b[0m\u001b[1;33m(\u001b[0m\u001b[0mself\u001b[0m\u001b[1;33m,\u001b[0m \u001b[0mmethod\u001b[0m\u001b[1;33m=\u001b[0m\u001b[1;34m\"apply\"\u001b[0m\u001b[1;33m)\u001b[0m\u001b[1;33m\u001b[0m\u001b[1;33m\u001b[0m\u001b[0m\n\u001b[0m\u001b[0;32m   9559\u001b[0m \u001b[1;33m\u001b[0m\u001b[0m\n\u001b[0;32m   9560\u001b[0m     def applymap(\n",
      "\u001b[1;32m~\\AppData\\Roaming\\Python\\Python39\\site-packages\\pandas\\core\\apply.py\u001b[0m in \u001b[0;36mapply\u001b[1;34m(self)\u001b[0m\n\u001b[0;32m    739\u001b[0m             \u001b[1;32mreturn\u001b[0m \u001b[0mself\u001b[0m\u001b[1;33m.\u001b[0m\u001b[0mapply_raw\u001b[0m\u001b[1;33m(\u001b[0m\u001b[1;33m)\u001b[0m\u001b[1;33m\u001b[0m\u001b[1;33m\u001b[0m\u001b[0m\n\u001b[0;32m    740\u001b[0m \u001b[1;33m\u001b[0m\u001b[0m\n\u001b[1;32m--> 741\u001b[1;33m         \u001b[1;32mreturn\u001b[0m \u001b[0mself\u001b[0m\u001b[1;33m.\u001b[0m\u001b[0mapply_standard\u001b[0m\u001b[1;33m(\u001b[0m\u001b[1;33m)\u001b[0m\u001b[1;33m\u001b[0m\u001b[1;33m\u001b[0m\u001b[0m\n\u001b[0m\u001b[0;32m    742\u001b[0m \u001b[1;33m\u001b[0m\u001b[0m\n\u001b[0;32m    743\u001b[0m     \u001b[1;32mdef\u001b[0m \u001b[0magg\u001b[0m\u001b[1;33m(\u001b[0m\u001b[0mself\u001b[0m\u001b[1;33m)\u001b[0m\u001b[1;33m:\u001b[0m\u001b[1;33m\u001b[0m\u001b[1;33m\u001b[0m\u001b[0m\n",
      "\u001b[1;32m~\\AppData\\Roaming\\Python\\Python39\\site-packages\\pandas\\core\\apply.py\u001b[0m in \u001b[0;36mapply_standard\u001b[1;34m(self)\u001b[0m\n\u001b[0;32m    866\u001b[0m \u001b[1;33m\u001b[0m\u001b[0m\n\u001b[0;32m    867\u001b[0m     \u001b[1;32mdef\u001b[0m \u001b[0mapply_standard\u001b[0m\u001b[1;33m(\u001b[0m\u001b[0mself\u001b[0m\u001b[1;33m)\u001b[0m\u001b[1;33m:\u001b[0m\u001b[1;33m\u001b[0m\u001b[1;33m\u001b[0m\u001b[0m\n\u001b[1;32m--> 868\u001b[1;33m         \u001b[0mresults\u001b[0m\u001b[1;33m,\u001b[0m \u001b[0mres_index\u001b[0m \u001b[1;33m=\u001b[0m \u001b[0mself\u001b[0m\u001b[1;33m.\u001b[0m\u001b[0mapply_series_generator\u001b[0m\u001b[1;33m(\u001b[0m\u001b[1;33m)\u001b[0m\u001b[1;33m\u001b[0m\u001b[1;33m\u001b[0m\u001b[0m\n\u001b[0m\u001b[0;32m    869\u001b[0m \u001b[1;33m\u001b[0m\u001b[0m\n\u001b[0;32m    870\u001b[0m         \u001b[1;31m# wrap results\u001b[0m\u001b[1;33m\u001b[0m\u001b[1;33m\u001b[0m\u001b[0m\n",
      "\u001b[1;32m~\\AppData\\Roaming\\Python\\Python39\\site-packages\\pandas\\core\\apply.py\u001b[0m in \u001b[0;36mapply_series_generator\u001b[1;34m(self)\u001b[0m\n\u001b[0;32m    882\u001b[0m             \u001b[1;32mfor\u001b[0m \u001b[0mi\u001b[0m\u001b[1;33m,\u001b[0m \u001b[0mv\u001b[0m \u001b[1;32min\u001b[0m \u001b[0menumerate\u001b[0m\u001b[1;33m(\u001b[0m\u001b[0mseries_gen\u001b[0m\u001b[1;33m)\u001b[0m\u001b[1;33m:\u001b[0m\u001b[1;33m\u001b[0m\u001b[1;33m\u001b[0m\u001b[0m\n\u001b[0;32m    883\u001b[0m                 \u001b[1;31m# ignore SettingWithCopy here in case the user mutates\u001b[0m\u001b[1;33m\u001b[0m\u001b[1;33m\u001b[0m\u001b[0m\n\u001b[1;32m--> 884\u001b[1;33m                 \u001b[0mresults\u001b[0m\u001b[1;33m[\u001b[0m\u001b[0mi\u001b[0m\u001b[1;33m]\u001b[0m \u001b[1;33m=\u001b[0m \u001b[0mself\u001b[0m\u001b[1;33m.\u001b[0m\u001b[0mf\u001b[0m\u001b[1;33m(\u001b[0m\u001b[0mv\u001b[0m\u001b[1;33m)\u001b[0m\u001b[1;33m\u001b[0m\u001b[1;33m\u001b[0m\u001b[0m\n\u001b[0m\u001b[0;32m    885\u001b[0m                 \u001b[1;32mif\u001b[0m \u001b[0misinstance\u001b[0m\u001b[1;33m(\u001b[0m\u001b[0mresults\u001b[0m\u001b[1;33m[\u001b[0m\u001b[0mi\u001b[0m\u001b[1;33m]\u001b[0m\u001b[1;33m,\u001b[0m \u001b[0mABCSeries\u001b[0m\u001b[1;33m)\u001b[0m\u001b[1;33m:\u001b[0m\u001b[1;33m\u001b[0m\u001b[1;33m\u001b[0m\u001b[0m\n\u001b[0;32m    886\u001b[0m                     \u001b[1;31m# If we have a view on v, we need to make a copy because\u001b[0m\u001b[1;33m\u001b[0m\u001b[1;33m\u001b[0m\u001b[0m\n",
      "\u001b[1;32m~\\AppData\\Local\\Temp/ipykernel_18860/1171946428.py\u001b[0m in \u001b[0;36m<lambda>\u001b[1;34m(x)\u001b[0m\n\u001b[1;32m----> 1\u001b[1;33m \u001b[0mdf\u001b[0m\u001b[1;33m[\u001b[0m\u001b[1;34m\"astarDistanceFromRiderToCustomer\"\u001b[0m\u001b[1;33m]\u001b[0m \u001b[1;33m=\u001b[0m \u001b[0mdf\u001b[0m\u001b[1;33m.\u001b[0m\u001b[0mapply\u001b[0m\u001b[1;33m(\u001b[0m\u001b[1;32mlambda\u001b[0m \u001b[0mx\u001b[0m\u001b[1;33m:\u001b[0m \u001b[0mD\u001b[0m\u001b[1;33m.\u001b[0m\u001b[0mshortestDistance\u001b[0m\u001b[1;33m(\u001b[0m\u001b[1;33m(\u001b[0m\u001b[0mx\u001b[0m\u001b[1;33m[\u001b[0m\u001b[1;34m\"Merchant.Lat\"\u001b[0m\u001b[1;33m]\u001b[0m\u001b[1;33m,\u001b[0m\u001b[0mx\u001b[0m\u001b[1;33m[\u001b[0m\u001b[1;34m\"Merchant.Lng\"\u001b[0m\u001b[1;33m]\u001b[0m\u001b[1;33m)\u001b[0m\u001b[1;33m,\u001b[0m\u001b[1;33m(\u001b[0m\u001b[0mx\u001b[0m\u001b[1;33m[\u001b[0m\u001b[1;34m\"Customer.lat\"\u001b[0m\u001b[1;33m]\u001b[0m\u001b[1;33m,\u001b[0m\u001b[0mx\u001b[0m\u001b[1;33m[\u001b[0m\u001b[1;34m\"Customer.lng\"\u001b[0m\u001b[1;33m]\u001b[0m\u001b[1;33m)\u001b[0m\u001b[1;33m)\u001b[0m\u001b[1;33m,\u001b[0m \u001b[0maxis\u001b[0m\u001b[1;33m=\u001b[0m\u001b[1;36m1\u001b[0m\u001b[1;33m)\u001b[0m\u001b[1;33m\u001b[0m\u001b[1;33m\u001b[0m\u001b[0m\n\u001b[0m",
      "\u001b[1;32mc:\\Users\\PoraRee\\Desktop\\predictor\\module\\distance_calculator.py\u001b[0m in \u001b[0;36mshortestDistance\u001b[1;34m(self, u, v)\u001b[0m\n\u001b[0;32m     36\u001b[0m                 \u001b[0mprint\u001b[0m\u001b[1;33m(\u001b[0m\u001b[0morigin_node\u001b[0m\u001b[1;33m,\u001b[0m \u001b[0mdestination_node\u001b[0m\u001b[1;33m)\u001b[0m\u001b[1;33m\u001b[0m\u001b[1;33m\u001b[0m\u001b[0m\n\u001b[0;32m     37\u001b[0m                 \u001b[1;32mreturn\u001b[0m \u001b[0mastar_path_length\u001b[0m\u001b[1;33m(\u001b[0m\u001b[0mself\u001b[0m\u001b[1;33m.\u001b[0m\u001b[0mG\u001b[0m\u001b[1;33m,\u001b[0m \u001b[0morigin_node\u001b[0m\u001b[1;33m,\u001b[0m \u001b[0mdestination_node\u001b[0m\u001b[1;33m,\u001b[0m \u001b[0mheuristic\u001b[0m\u001b[1;33m=\u001b[0m\u001b[0mself\u001b[0m\u001b[1;33m.\u001b[0m\u001b[0mcomputeHeuristic\u001b[0m\u001b[1;33m,\u001b[0m \u001b[0mweight\u001b[0m\u001b[1;33m=\u001b[0m\u001b[1;34m'length'\u001b[0m\u001b[1;33m)\u001b[0m\u001b[1;33m\u001b[0m\u001b[1;33m\u001b[0m\u001b[0m\n",
      "\u001b[1;32mc:\\Users\\PoraRee\\.conda\\envs\\EAT\\lib\\site-packages\\networkx\\algorithms\\shortest_paths\\astar.py\u001b[0m in \u001b[0;36mastar_path_length\u001b[1;34m(G, source, target, heuristic, weight)\u001b[0m\n\u001b[0;32m    196\u001b[0m \u001b[1;33m\u001b[0m\u001b[0m\n\u001b[0;32m    197\u001b[0m     \u001b[0mweight\u001b[0m \u001b[1;33m=\u001b[0m \u001b[0m_weight_function\u001b[0m\u001b[1;33m(\u001b[0m\u001b[0mG\u001b[0m\u001b[1;33m,\u001b[0m \u001b[0mweight\u001b[0m\u001b[1;33m)\u001b[0m\u001b[1;33m\u001b[0m\u001b[1;33m\u001b[0m\u001b[0m\n\u001b[1;32m--> 198\u001b[1;33m     \u001b[0mpath\u001b[0m \u001b[1;33m=\u001b[0m \u001b[0mastar_path\u001b[0m\u001b[1;33m(\u001b[0m\u001b[0mG\u001b[0m\u001b[1;33m,\u001b[0m \u001b[0msource\u001b[0m\u001b[1;33m,\u001b[0m \u001b[0mtarget\u001b[0m\u001b[1;33m,\u001b[0m \u001b[0mheuristic\u001b[0m\u001b[1;33m,\u001b[0m \u001b[0mweight\u001b[0m\u001b[1;33m)\u001b[0m\u001b[1;33m\u001b[0m\u001b[1;33m\u001b[0m\u001b[0m\n\u001b[0m\u001b[0;32m    199\u001b[0m     \u001b[1;32mreturn\u001b[0m \u001b[0msum\u001b[0m\u001b[1;33m(\u001b[0m\u001b[0mweight\u001b[0m\u001b[1;33m(\u001b[0m\u001b[0mu\u001b[0m\u001b[1;33m,\u001b[0m \u001b[0mv\u001b[0m\u001b[1;33m,\u001b[0m \u001b[0mG\u001b[0m\u001b[1;33m[\u001b[0m\u001b[0mu\u001b[0m\u001b[1;33m]\u001b[0m\u001b[1;33m[\u001b[0m\u001b[0mv\u001b[0m\u001b[1;33m]\u001b[0m\u001b[1;33m)\u001b[0m \u001b[1;32mfor\u001b[0m \u001b[0mu\u001b[0m\u001b[1;33m,\u001b[0m \u001b[0mv\u001b[0m \u001b[1;32min\u001b[0m \u001b[0mzip\u001b[0m\u001b[1;33m(\u001b[0m\u001b[0mpath\u001b[0m\u001b[1;33m[\u001b[0m\u001b[1;33m:\u001b[0m\u001b[1;33m-\u001b[0m\u001b[1;36m1\u001b[0m\u001b[1;33m]\u001b[0m\u001b[1;33m,\u001b[0m \u001b[0mpath\u001b[0m\u001b[1;33m[\u001b[0m\u001b[1;36m1\u001b[0m\u001b[1;33m:\u001b[0m\u001b[1;33m]\u001b[0m\u001b[1;33m)\u001b[0m\u001b[1;33m)\u001b[0m\u001b[1;33m\u001b[0m\u001b[1;33m\u001b[0m\u001b[0m\n",
      "\u001b[1;32mc:\\Users\\PoraRee\\.conda\\envs\\EAT\\lib\\site-packages\\networkx\\algorithms\\shortest_paths\\astar.py\u001b[0m in \u001b[0;36mastar_path\u001b[1;34m(G, source, target, heuristic, weight)\u001b[0m\n\u001b[0;32m    142\u001b[0m             \u001b[0mpush\u001b[0m\u001b[1;33m(\u001b[0m\u001b[0mqueue\u001b[0m\u001b[1;33m,\u001b[0m \u001b[1;33m(\u001b[0m\u001b[0mncost\u001b[0m \u001b[1;33m+\u001b[0m \u001b[0mh\u001b[0m\u001b[1;33m,\u001b[0m \u001b[0mnext\u001b[0m\u001b[1;33m(\u001b[0m\u001b[0mc\u001b[0m\u001b[1;33m)\u001b[0m\u001b[1;33m,\u001b[0m \u001b[0mneighbor\u001b[0m\u001b[1;33m,\u001b[0m \u001b[0mncost\u001b[0m\u001b[1;33m,\u001b[0m \u001b[0mcurnode\u001b[0m\u001b[1;33m)\u001b[0m\u001b[1;33m)\u001b[0m\u001b[1;33m\u001b[0m\u001b[1;33m\u001b[0m\u001b[0m\n\u001b[0;32m    143\u001b[0m \u001b[1;33m\u001b[0m\u001b[0m\n\u001b[1;32m--> 144\u001b[1;33m     \u001b[1;32mraise\u001b[0m \u001b[0mnx\u001b[0m\u001b[1;33m.\u001b[0m\u001b[0mNetworkXNoPath\u001b[0m\u001b[1;33m(\u001b[0m\u001b[1;34mf\"Node {target} not reachable from {source}\"\u001b[0m\u001b[1;33m)\u001b[0m\u001b[1;33m\u001b[0m\u001b[1;33m\u001b[0m\u001b[0m\n\u001b[0m\u001b[0;32m    145\u001b[0m \u001b[1;33m\u001b[0m\u001b[0m\n\u001b[0;32m    146\u001b[0m \u001b[1;33m\u001b[0m\u001b[0m\n",
      "\u001b[1;31mNetworkXNoPath\u001b[0m: Node 7903748995 not reachable from 5880824979"
     ]
    }
   ],
   "source": [
    "df[\"astarDistanceFromRiderToCustomer\"] = df.apply(lambda x: D.shortestDistance((x[\"Merchant.Lat\"],x[\"Merchant.Lng\"]),(x[\"Customer.lat\"],x[\"Customer.lng\"])), axis=1)"
   ]
  },
  {
   "cell_type": "code",
   "execution_count": 58,
   "metadata": {},
   "outputs": [],
   "source": [
    "from sklearn.ensemble import RandomForestRegressor\n",
    "reg = RandomForestRegressor(n_estimators=1000, max_depth=7, random_state=0)\n",
    "\n",
    "from sklearn.model_selection import train_test_split\n",
    "from sklearn.model_selection import cross_validate"
   ]
  },
  {
   "cell_type": "code",
   "execution_count": 59,
   "metadata": {},
   "outputs": [],
   "source": [
    "X = df[[\"eucDistanceFromRiderToCustomer\",\"riderInitialLatLong.lat\",\"riderInitialLatLong.lng\",\"Customer.lat\",\"Customer.lng\"]]\n",
    "y = df[\"duration\"]"
   ]
  },
  {
   "cell_type": "code",
   "execution_count": 60,
   "metadata": {},
   "outputs": [
    {
     "data": {
      "text/html": [
       "<div>\n",
       "<style scoped>\n",
       "    .dataframe tbody tr th:only-of-type {\n",
       "        vertical-align: middle;\n",
       "    }\n",
       "\n",
       "    .dataframe tbody tr th {\n",
       "        vertical-align: top;\n",
       "    }\n",
       "\n",
       "    .dataframe thead th {\n",
       "        text-align: right;\n",
       "    }\n",
       "</style>\n",
       "<table border=\"1\" class=\"dataframe\">\n",
       "  <thead>\n",
       "    <tr style=\"text-align: right;\">\n",
       "      <th></th>\n",
       "      <th>eucDistanceFromRiderToCustomer</th>\n",
       "      <th>riderInitialLatLong.lat</th>\n",
       "      <th>riderInitialLatLong.lng</th>\n",
       "      <th>Customer.lat</th>\n",
       "      <th>Customer.lng</th>\n",
       "    </tr>\n",
       "  </thead>\n",
       "  <tbody>\n",
       "    <tr>\n",
       "      <th>0</th>\n",
       "      <td>1693.089117</td>\n",
       "      <td>13.696167</td>\n",
       "      <td>100.372988</td>\n",
       "      <td>13.687792</td>\n",
       "      <td>100.3599</td>\n",
       "    </tr>\n",
       "    <tr>\n",
       "      <th>1</th>\n",
       "      <td>5564.311141</td>\n",
       "      <td>13.855861</td>\n",
       "      <td>100.505192</td>\n",
       "      <td>13.869973</td>\n",
       "      <td>100.455743</td>\n",
       "    </tr>\n",
       "    <tr>\n",
       "      <th>2</th>\n",
       "      <td>4768.541763</td>\n",
       "      <td>13.923222</td>\n",
       "      <td>100.641427</td>\n",
       "      <td>13.954999</td>\n",
       "      <td>100.611758</td>\n",
       "    </tr>\n",
       "    <tr>\n",
       "      <th>3</th>\n",
       "      <td>4712.532026</td>\n",
       "      <td>13.749551</td>\n",
       "      <td>100.650041</td>\n",
       "      <td>13.738476</td>\n",
       "      <td>100.692156</td>\n",
       "    </tr>\n",
       "    <tr>\n",
       "      <th>4</th>\n",
       "      <td>6596.003768</td>\n",
       "      <td>13.787922</td>\n",
       "      <td>100.780864</td>\n",
       "      <td>13.769007</td>\n",
       "      <td>100.722973</td>\n",
       "    </tr>\n",
       "  </tbody>\n",
       "</table>\n",
       "</div>"
      ],
      "text/plain": [
       "   eucDistanceFromRiderToCustomer  riderInitialLatLong.lat  \\\n",
       "0                     1693.089117                13.696167   \n",
       "1                     5564.311141                13.855861   \n",
       "2                     4768.541763                13.923222   \n",
       "3                     4712.532026                13.749551   \n",
       "4                     6596.003768                13.787922   \n",
       "\n",
       "   riderInitialLatLong.lng Customer.lat Customer.lng  \n",
       "0               100.372988    13.687792     100.3599  \n",
       "1               100.505192    13.869973   100.455743  \n",
       "2               100.641427    13.954999   100.611758  \n",
       "3               100.650041    13.738476   100.692156  \n",
       "4               100.780864    13.769007   100.722973  "
      ]
     },
     "execution_count": 60,
     "metadata": {},
     "output_type": "execute_result"
    }
   ],
   "source": [
    "X.head()"
   ]
  },
  {
   "cell_type": "code",
   "execution_count": 61,
   "metadata": {},
   "outputs": [
    {
     "data": {
      "text/plain": [
       "0     5.0\n",
       "1    17.0\n",
       "2    15.0\n",
       "3    13.0\n",
       "4    23.0\n",
       "Name: duration, dtype: float64"
      ]
     },
     "execution_count": 61,
     "metadata": {},
     "output_type": "execute_result"
    }
   ],
   "source": [
    "y.head()"
   ]
  },
  {
   "cell_type": "code",
   "execution_count": 62,
   "metadata": {},
   "outputs": [
    {
     "data": {
      "text/html": [
       "<style>#sk-container-id-2 {color: black;background-color: white;}#sk-container-id-2 pre{padding: 0;}#sk-container-id-2 div.sk-toggleable {background-color: white;}#sk-container-id-2 label.sk-toggleable__label {cursor: pointer;display: block;width: 100%;margin-bottom: 0;padding: 0.3em;box-sizing: border-box;text-align: center;}#sk-container-id-2 label.sk-toggleable__label-arrow:before {content: \"▸\";float: left;margin-right: 0.25em;color: #696969;}#sk-container-id-2 label.sk-toggleable__label-arrow:hover:before {color: black;}#sk-container-id-2 div.sk-estimator:hover label.sk-toggleable__label-arrow:before {color: black;}#sk-container-id-2 div.sk-toggleable__content {max-height: 0;max-width: 0;overflow: hidden;text-align: left;background-color: #f0f8ff;}#sk-container-id-2 div.sk-toggleable__content pre {margin: 0.2em;color: black;border-radius: 0.25em;background-color: #f0f8ff;}#sk-container-id-2 input.sk-toggleable__control:checked~div.sk-toggleable__content {max-height: 200px;max-width: 100%;overflow: auto;}#sk-container-id-2 input.sk-toggleable__control:checked~label.sk-toggleable__label-arrow:before {content: \"▾\";}#sk-container-id-2 div.sk-estimator input.sk-toggleable__control:checked~label.sk-toggleable__label {background-color: #d4ebff;}#sk-container-id-2 div.sk-label input.sk-toggleable__control:checked~label.sk-toggleable__label {background-color: #d4ebff;}#sk-container-id-2 input.sk-hidden--visually {border: 0;clip: rect(1px 1px 1px 1px);clip: rect(1px, 1px, 1px, 1px);height: 1px;margin: -1px;overflow: hidden;padding: 0;position: absolute;width: 1px;}#sk-container-id-2 div.sk-estimator {font-family: monospace;background-color: #f0f8ff;border: 1px dotted black;border-radius: 0.25em;box-sizing: border-box;margin-bottom: 0.5em;}#sk-container-id-2 div.sk-estimator:hover {background-color: #d4ebff;}#sk-container-id-2 div.sk-parallel-item::after {content: \"\";width: 100%;border-bottom: 1px solid gray;flex-grow: 1;}#sk-container-id-2 div.sk-label:hover label.sk-toggleable__label {background-color: #d4ebff;}#sk-container-id-2 div.sk-serial::before {content: \"\";position: absolute;border-left: 1px solid gray;box-sizing: border-box;top: 0;bottom: 0;left: 50%;z-index: 0;}#sk-container-id-2 div.sk-serial {display: flex;flex-direction: column;align-items: center;background-color: white;padding-right: 0.2em;padding-left: 0.2em;position: relative;}#sk-container-id-2 div.sk-item {position: relative;z-index: 1;}#sk-container-id-2 div.sk-parallel {display: flex;align-items: stretch;justify-content: center;background-color: white;position: relative;}#sk-container-id-2 div.sk-item::before, #sk-container-id-2 div.sk-parallel-item::before {content: \"\";position: absolute;border-left: 1px solid gray;box-sizing: border-box;top: 0;bottom: 0;left: 50%;z-index: -1;}#sk-container-id-2 div.sk-parallel-item {display: flex;flex-direction: column;z-index: 1;position: relative;background-color: white;}#sk-container-id-2 div.sk-parallel-item:first-child::after {align-self: flex-end;width: 50%;}#sk-container-id-2 div.sk-parallel-item:last-child::after {align-self: flex-start;width: 50%;}#sk-container-id-2 div.sk-parallel-item:only-child::after {width: 0;}#sk-container-id-2 div.sk-dashed-wrapped {border: 1px dashed gray;margin: 0 0.4em 0.5em 0.4em;box-sizing: border-box;padding-bottom: 0.4em;background-color: white;}#sk-container-id-2 div.sk-label label {font-family: monospace;font-weight: bold;display: inline-block;line-height: 1.2em;}#sk-container-id-2 div.sk-label-container {text-align: center;}#sk-container-id-2 div.sk-container {/* jupyter's `normalize.less` sets `[hidden] { display: none; }` but bootstrap.min.css set `[hidden] { display: none !important; }` so we also need the `!important` here to be able to override the default hidden behavior on the sphinx rendered scikit-learn.org. See: https://github.com/scikit-learn/scikit-learn/issues/21755 */display: inline-block !important;position: relative;}#sk-container-id-2 div.sk-text-repr-fallback {display: none;}</style><div id=\"sk-container-id-2\" class=\"sk-top-container\"><div class=\"sk-text-repr-fallback\"><pre>RandomForestRegressor(max_depth=7, n_estimators=1000, random_state=0)</pre><b>In a Jupyter environment, please rerun this cell to show the HTML representation or trust the notebook. <br />On GitHub, the HTML representation is unable to render, please try loading this page with nbviewer.org.</b></div><div class=\"sk-container\" hidden><div class=\"sk-item\"><div class=\"sk-estimator sk-toggleable\"><input class=\"sk-toggleable__control sk-hidden--visually\" id=\"sk-estimator-id-2\" type=\"checkbox\" checked><label for=\"sk-estimator-id-2\" class=\"sk-toggleable__label sk-toggleable__label-arrow\">RandomForestRegressor</label><div class=\"sk-toggleable__content\"><pre>RandomForestRegressor(max_depth=7, n_estimators=1000, random_state=0)</pre></div></div></div></div></div>"
      ],
      "text/plain": [
       "RandomForestRegressor(max_depth=7, n_estimators=1000, random_state=0)"
      ]
     },
     "execution_count": 62,
     "metadata": {},
     "output_type": "execute_result"
    }
   ],
   "source": [
    "reg.fit(X,y)"
   ]
  },
  {
   "cell_type": "code",
   "execution_count": 63,
   "metadata": {},
   "outputs": [],
   "source": [
    "cv_results = cross_validate(reg, X, y, cv=5, scoring=('neg_mean_absolute_error', 'neg_mean_squared_error', 'r2'), return_train_score=True)"
   ]
  },
  {
   "cell_type": "code",
   "execution_count": 64,
   "metadata": {},
   "outputs": [
    {
     "data": {
      "text/html": [
       "<div>\n",
       "<style scoped>\n",
       "    .dataframe tbody tr th:only-of-type {\n",
       "        vertical-align: middle;\n",
       "    }\n",
       "\n",
       "    .dataframe tbody tr th {\n",
       "        vertical-align: top;\n",
       "    }\n",
       "\n",
       "    .dataframe thead th {\n",
       "        text-align: right;\n",
       "    }\n",
       "</style>\n",
       "<table border=\"1\" class=\"dataframe\">\n",
       "  <thead>\n",
       "    <tr style=\"text-align: right;\">\n",
       "      <th></th>\n",
       "      <th>fit_time</th>\n",
       "      <th>score_time</th>\n",
       "      <th>test_neg_mean_absolute_error</th>\n",
       "      <th>train_neg_mean_absolute_error</th>\n",
       "      <th>test_neg_mean_squared_error</th>\n",
       "      <th>train_neg_mean_squared_error</th>\n",
       "      <th>test_r2</th>\n",
       "      <th>train_r2</th>\n",
       "    </tr>\n",
       "  </thead>\n",
       "  <tbody>\n",
       "    <tr>\n",
       "      <th>0</th>\n",
       "      <td>1.035934</td>\n",
       "      <td>0.057637</td>\n",
       "      <td>-3.433252</td>\n",
       "      <td>-2.031565</td>\n",
       "      <td>-18.276326</td>\n",
       "      <td>-6.869408</td>\n",
       "      <td>0.372578</td>\n",
       "      <td>0.887476</td>\n",
       "    </tr>\n",
       "    <tr>\n",
       "      <th>1</th>\n",
       "      <td>1.083310</td>\n",
       "      <td>0.051141</td>\n",
       "      <td>-4.044029</td>\n",
       "      <td>-1.941068</td>\n",
       "      <td>-33.000172</td>\n",
       "      <td>-6.093671</td>\n",
       "      <td>0.390774</td>\n",
       "      <td>0.889254</td>\n",
       "    </tr>\n",
       "    <tr>\n",
       "      <th>2</th>\n",
       "      <td>1.084532</td>\n",
       "      <td>0.050558</td>\n",
       "      <td>-4.022726</td>\n",
       "      <td>-1.936614</td>\n",
       "      <td>-37.560836</td>\n",
       "      <td>-5.766881</td>\n",
       "      <td>0.516711</td>\n",
       "      <td>0.883260</td>\n",
       "    </tr>\n",
       "    <tr>\n",
       "      <th>3</th>\n",
       "      <td>1.018981</td>\n",
       "      <td>0.050020</td>\n",
       "      <td>-2.922684</td>\n",
       "      <td>-2.018832</td>\n",
       "      <td>-14.884128</td>\n",
       "      <td>-6.516797</td>\n",
       "      <td>0.601830</td>\n",
       "      <td>0.890257</td>\n",
       "    </tr>\n",
       "    <tr>\n",
       "      <th>4</th>\n",
       "      <td>1.029506</td>\n",
       "      <td>0.057999</td>\n",
       "      <td>-4.383037</td>\n",
       "      <td>-1.846816</td>\n",
       "      <td>-29.975771</td>\n",
       "      <td>-5.912920</td>\n",
       "      <td>0.590291</td>\n",
       "      <td>0.882989</td>\n",
       "    </tr>\n",
       "  </tbody>\n",
       "</table>\n",
       "</div>"
      ],
      "text/plain": [
       "   fit_time  score_time  test_neg_mean_absolute_error  \\\n",
       "0  1.035934    0.057637                     -3.433252   \n",
       "1  1.083310    0.051141                     -4.044029   \n",
       "2  1.084532    0.050558                     -4.022726   \n",
       "3  1.018981    0.050020                     -2.922684   \n",
       "4  1.029506    0.057999                     -4.383037   \n",
       "\n",
       "   train_neg_mean_absolute_error  test_neg_mean_squared_error  \\\n",
       "0                      -2.031565                   -18.276326   \n",
       "1                      -1.941068                   -33.000172   \n",
       "2                      -1.936614                   -37.560836   \n",
       "3                      -2.018832                   -14.884128   \n",
       "4                      -1.846816                   -29.975771   \n",
       "\n",
       "   train_neg_mean_squared_error   test_r2  train_r2  \n",
       "0                     -6.869408  0.372578  0.887476  \n",
       "1                     -6.093671  0.390774  0.889254  \n",
       "2                     -5.766881  0.516711  0.883260  \n",
       "3                     -6.516797  0.601830  0.890257  \n",
       "4                     -5.912920  0.590291  0.882989  "
      ]
     },
     "execution_count": 64,
     "metadata": {},
     "output_type": "execute_result"
    }
   ],
   "source": [
    "pd.DataFrame(cv_results)"
   ]
  },
  {
   "cell_type": "code",
   "execution_count": 65,
   "metadata": {},
   "outputs": [
    {
     "data": {
      "text/plain": [
       "0.8752404802982888"
      ]
     },
     "execution_count": 65,
     "metadata": {},
     "output_type": "execute_result"
    }
   ],
   "source": [
    "reg.score(X, y)"
   ]
  },
  {
   "cell_type": "code",
   "execution_count": null,
   "metadata": {},
   "outputs": [],
   "source": []
  }
 ],
 "metadata": {
  "kernelspec": {
   "display_name": "Python 3.9.12 ('EAT')",
   "language": "python",
   "name": "python3"
  },
  "language_info": {
   "codemirror_mode": {
    "name": "ipython",
    "version": 3
   },
   "file_extension": ".py",
   "mimetype": "text/x-python",
   "name": "python",
   "nbconvert_exporter": "python",
   "pygments_lexer": "ipython3",
   "version": "3.9.12"
  },
  "orig_nbformat": 4,
  "vscode": {
   "interpreter": {
    "hash": "e873fd8460d25e2b7d13238b75f01f142c4b8abc313241c193ed6eac1548f508"
   }
  }
 },
 "nbformat": 4,
 "nbformat_minor": 2
}
