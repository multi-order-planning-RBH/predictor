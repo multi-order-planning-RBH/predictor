{
 "cells": [
  {
   "cell_type": "code",
   "execution_count": 54,
   "metadata": {},
   "outputs": [],
   "source": [
    "import pandas as pd\n",
    "import numpy as np\n",
    "from datetime import datetime\n",
    "from math import sqrt, cos"
   ]
  },
  {
   "cell_type": "code",
   "execution_count": 55,
   "metadata": {},
   "outputs": [],
   "source": [
    "from module.distance_calculator import DistanceCalculator"
   ]
  },
  {
   "cell_type": "code",
   "execution_count": 56,
   "metadata": {},
   "outputs": [],
   "source": [
    "df = pd.read_excel('sample_rbh_data.xlsx', sheet_name='Sheet1')"
   ]
  },
  {
   "cell_type": "code",
   "execution_count": 57,
   "metadata": {},
   "outputs": [
    {
     "data": {
      "text/html": [
       "<div>\n",
       "<style scoped>\n",
       "    .dataframe tbody tr th:only-of-type {\n",
       "        vertical-align: middle;\n",
       "    }\n",
       "\n",
       "    .dataframe tbody tr th {\n",
       "        vertical-align: top;\n",
       "    }\n",
       "\n",
       "    .dataframe thead th {\n",
       "        text-align: right;\n",
       "    }\n",
       "</style>\n",
       "<table border=\"1\" class=\"dataframe\">\n",
       "  <thead>\n",
       "    <tr style=\"text-align: right;\">\n",
       "      <th></th>\n",
       "      <th>jobId</th>\n",
       "      <th>jobAcceptedTime</th>\n",
       "      <th>calledMerchantTime</th>\n",
       "      <th>arrivedAtMerchantTime</th>\n",
       "      <th>mealPickedUpTime</th>\n",
       "      <th>arrivedAtCustLocationTime</th>\n",
       "      <th>foodDeliveredTime</th>\n",
       "      <th>riderInitialLatLong.lat</th>\n",
       "      <th>riderInitialLatLong.lng</th>\n",
       "      <th>Merchant.Lat</th>\n",
       "      <th>Merchant.Lng</th>\n",
       "      <th>Customer.lat</th>\n",
       "      <th>Customer.lng</th>\n",
       "    </tr>\n",
       "  </thead>\n",
       "  <tbody>\n",
       "    <tr>\n",
       "      <th>0</th>\n",
       "      <td>S210712297069</td>\n",
       "      <td>2021-07-12T11:51:59Z</td>\n",
       "      <td>2021-07-12T11:53:32Z</td>\n",
       "      <td>2021-07-12T11:55:42Z</td>\n",
       "      <td>2021-07-12T12:18:58Z</td>\n",
       "      <td>2021-07-12T12:23:48Z</td>\n",
       "      <td>2021-07-12T12:24:10Z</td>\n",
       "      <td>13.696167</td>\n",
       "      <td>100.372988</td>\n",
       "      <td>13.692471</td>\n",
       "      <td>100.378297</td>\n",
       "      <td>13.687792</td>\n",
       "      <td>100.3599</td>\n",
       "    </tr>\n",
       "    <tr>\n",
       "      <th>1</th>\n",
       "      <td>S210712176524</td>\n",
       "      <td>2021-07-12T04:54:43Z</td>\n",
       "      <td>2021-07-12T04:55:11Z</td>\n",
       "      <td>2021-07-12T05:08:57Z</td>\n",
       "      <td>2021-07-12T05:09:21Z</td>\n",
       "      <td>2021-07-12T05:26:02Z</td>\n",
       "      <td>2021-07-12T05:26:24Z</td>\n",
       "      <td>13.855861</td>\n",
       "      <td>100.505192</td>\n",
       "      <td>13.866007</td>\n",
       "      <td>100.497420</td>\n",
       "      <td>13.869973</td>\n",
       "      <td>100.455743</td>\n",
       "    </tr>\n",
       "    <tr>\n",
       "      <th>2</th>\n",
       "      <td>S210712207553</td>\n",
       "      <td>2021-07-12T06:19:40Z</td>\n",
       "      <td>2021-07-12T06:22:43Z</td>\n",
       "      <td>2021-07-12T06:39:45Z</td>\n",
       "      <td>2021-07-12T06:40:19Z</td>\n",
       "      <td>2021-07-12T06:55:35Z</td>\n",
       "      <td>2021-07-12T06:56:06Z</td>\n",
       "      <td>13.923222</td>\n",
       "      <td>100.641427</td>\n",
       "      <td>13.937330</td>\n",
       "      <td>100.625068</td>\n",
       "      <td>13.954999</td>\n",
       "      <td>100.611758</td>\n",
       "    </tr>\n",
       "    <tr>\n",
       "      <th>3</th>\n",
       "      <td>S210712202283</td>\n",
       "      <td>2021-07-12T06:03:43Z</td>\n",
       "      <td>2021-07-12T06:04:48Z</td>\n",
       "      <td>2021-07-12T06:12:18Z</td>\n",
       "      <td>2021-07-12T06:12:59Z</td>\n",
       "      <td>2021-07-12T06:26:30Z</td>\n",
       "      <td>2021-07-12T06:26:48Z</td>\n",
       "      <td>13.749551</td>\n",
       "      <td>100.650041</td>\n",
       "      <td>13.743053</td>\n",
       "      <td>100.624662</td>\n",
       "      <td>13.738476</td>\n",
       "      <td>100.692156</td>\n",
       "    </tr>\n",
       "    <tr>\n",
       "      <th>4</th>\n",
       "      <td>S210712235129</td>\n",
       "      <td>2021-07-12T08:12:10Z</td>\n",
       "      <td>2021-07-12T08:12:45Z</td>\n",
       "      <td>2021-07-12T08:17:26Z</td>\n",
       "      <td>2021-07-12T08:27:44Z</td>\n",
       "      <td>2021-07-12T08:50:51Z</td>\n",
       "      <td>2021-07-12T08:50:58Z</td>\n",
       "      <td>13.787922</td>\n",
       "      <td>100.780864</td>\n",
       "      <td>13.802771</td>\n",
       "      <td>100.782363</td>\n",
       "      <td>13.769007</td>\n",
       "      <td>100.722973</td>\n",
       "    </tr>\n",
       "  </tbody>\n",
       "</table>\n",
       "</div>"
      ],
      "text/plain": [
       "           jobId       jobAcceptedTime    calledMerchantTime  \\\n",
       "0  S210712297069  2021-07-12T11:51:59Z  2021-07-12T11:53:32Z   \n",
       "1  S210712176524  2021-07-12T04:54:43Z  2021-07-12T04:55:11Z   \n",
       "2  S210712207553  2021-07-12T06:19:40Z  2021-07-12T06:22:43Z   \n",
       "3  S210712202283  2021-07-12T06:03:43Z  2021-07-12T06:04:48Z   \n",
       "4  S210712235129  2021-07-12T08:12:10Z  2021-07-12T08:12:45Z   \n",
       "\n",
       "  arrivedAtMerchantTime      mealPickedUpTime arrivedAtCustLocationTime  \\\n",
       "0  2021-07-12T11:55:42Z  2021-07-12T12:18:58Z      2021-07-12T12:23:48Z   \n",
       "1  2021-07-12T05:08:57Z  2021-07-12T05:09:21Z      2021-07-12T05:26:02Z   \n",
       "2  2021-07-12T06:39:45Z  2021-07-12T06:40:19Z      2021-07-12T06:55:35Z   \n",
       "3  2021-07-12T06:12:18Z  2021-07-12T06:12:59Z      2021-07-12T06:26:30Z   \n",
       "4  2021-07-12T08:17:26Z  2021-07-12T08:27:44Z      2021-07-12T08:50:51Z   \n",
       "\n",
       "      foodDeliveredTime  riderInitialLatLong.lat  riderInitialLatLong.lng  \\\n",
       "0  2021-07-12T12:24:10Z                13.696167               100.372988   \n",
       "1  2021-07-12T05:26:24Z                13.855861               100.505192   \n",
       "2  2021-07-12T06:56:06Z                13.923222               100.641427   \n",
       "3  2021-07-12T06:26:48Z                13.749551               100.650041   \n",
       "4  2021-07-12T08:50:58Z                13.787922               100.780864   \n",
       "\n",
       "   Merchant.Lat  Merchant.Lng Customer.lat Customer.lng  \n",
       "0     13.692471    100.378297    13.687792     100.3599  \n",
       "1     13.866007    100.497420    13.869973   100.455743  \n",
       "2     13.937330    100.625068    13.954999   100.611758  \n",
       "3     13.743053    100.624662    13.738476   100.692156  \n",
       "4     13.802771    100.782363    13.769007   100.722973  "
      ]
     },
     "execution_count": 57,
     "metadata": {},
     "output_type": "execute_result"
    }
   ],
   "source": [
    "df.head()"
   ]
  },
  {
   "cell_type": "code",
   "execution_count": 58,
   "metadata": {},
   "outputs": [
    {
     "data": {
      "text/plain": [
       "(296, 13)"
      ]
     },
     "execution_count": 58,
     "metadata": {},
     "output_type": "execute_result"
    }
   ],
   "source": [
    "df.shape"
   ]
  },
  {
   "cell_type": "code",
   "execution_count": 59,
   "metadata": {},
   "outputs": [],
   "source": [
    "df[\"jobAcceptedTime\"] = pd.to_datetime(df[\"jobAcceptedTime\"], format=\"%Y-%m-%d %H:%M:%S\")\n",
    "df[\"calledMerchantTime\"] = pd.to_datetime(df[\"calledMerchantTime\"], format=\"%Y-%m-%d %H:%M:%S\")\n",
    "df[\"arrivedAtMerchantTime\"] = pd.to_datetime(df[\"arrivedAtMerchantTime\"], format=\"%Y-%m-%d %H:%M:%S\")\n",
    "df[\"mealPickedUpTime\"] = pd.to_datetime(df[\"mealPickedUpTime\"], format=\"%Y-%m-%d %H:%M:%S\")\n",
    "df[\"arrivedAtCustLocationTime\"] = pd.to_datetime(df[\"arrivedAtCustLocationTime\"], format=\"%Y-%m-%d %H:%M:%S\")\n",
    "df[\"foodDeliveredTime\"] = pd.to_datetime(df[\"foodDeliveredTime\"], format=\"%Y-%m-%d %H:%M:%S\")"
   ]
  },
  {
   "cell_type": "code",
   "execution_count": 60,
   "metadata": {},
   "outputs": [
    {
     "data": {
      "text/plain": [
       "[' ตำบลคูคต อำเภอลำลูกกา ปทุมธานี 12130 ประเทศไทย',\n",
       " ' Phasi Charoen',\n",
       " ' Min Buri',\n",
       " ' Thung Maha Mek',\n",
       " ' Pak Nam']"
      ]
     },
     "execution_count": 60,
     "metadata": {},
     "output_type": "execute_result"
    }
   ],
   "source": [
    "str_lat = [lat for lat in df[\"Customer.lat\"].unique() if type(lat) == str]\n",
    "str_lng = [lng for lng in df[\"Customer.lng\"].unique() if type(lng) == str]\n",
    "str_lat[:5]"
   ]
  },
  {
   "cell_type": "code",
   "execution_count": 61,
   "metadata": {},
   "outputs": [],
   "source": [
    "df = df.drop(df[df[\"Customer.lat\"].isin(str_lat)].index)\n",
    "df = df.drop(df[df[\"Customer.lng\"].isin(str_lng)].index)"
   ]
  },
  {
   "cell_type": "code",
   "execution_count": 62,
   "metadata": {},
   "outputs": [],
   "source": [
    "df[\"duration\"] = (df[\"foodDeliveredTime\"] - df[\"mealPickedUpTime\"]).dt.total_seconds()//60"
   ]
  },
  {
   "cell_type": "code",
   "execution_count": 63,
   "metadata": {},
   "outputs": [
    {
     "data": {
      "text/html": [
       "<div>\n",
       "<style scoped>\n",
       "    .dataframe tbody tr th:only-of-type {\n",
       "        vertical-align: middle;\n",
       "    }\n",
       "\n",
       "    .dataframe tbody tr th {\n",
       "        vertical-align: top;\n",
       "    }\n",
       "\n",
       "    .dataframe thead th {\n",
       "        text-align: right;\n",
       "    }\n",
       "</style>\n",
       "<table border=\"1\" class=\"dataframe\">\n",
       "  <thead>\n",
       "    <tr style=\"text-align: right;\">\n",
       "      <th></th>\n",
       "      <th>jobId</th>\n",
       "      <th>jobAcceptedTime</th>\n",
       "      <th>calledMerchantTime</th>\n",
       "      <th>arrivedAtMerchantTime</th>\n",
       "      <th>mealPickedUpTime</th>\n",
       "      <th>arrivedAtCustLocationTime</th>\n",
       "      <th>foodDeliveredTime</th>\n",
       "      <th>riderInitialLatLong.lat</th>\n",
       "      <th>riderInitialLatLong.lng</th>\n",
       "      <th>Merchant.Lat</th>\n",
       "      <th>Merchant.Lng</th>\n",
       "      <th>Customer.lat</th>\n",
       "      <th>Customer.lng</th>\n",
       "      <th>duration</th>\n",
       "    </tr>\n",
       "  </thead>\n",
       "  <tbody>\n",
       "    <tr>\n",
       "      <th>0</th>\n",
       "      <td>S210712297069</td>\n",
       "      <td>2021-07-12 11:51:59+00:00</td>\n",
       "      <td>2021-07-12 11:53:32+00:00</td>\n",
       "      <td>2021-07-12 11:55:42+00:00</td>\n",
       "      <td>2021-07-12 12:18:58+00:00</td>\n",
       "      <td>2021-07-12 12:23:48+00:00</td>\n",
       "      <td>2021-07-12 12:24:10+00:00</td>\n",
       "      <td>13.696167</td>\n",
       "      <td>100.372988</td>\n",
       "      <td>13.692471</td>\n",
       "      <td>100.378297</td>\n",
       "      <td>13.687792</td>\n",
       "      <td>100.3599</td>\n",
       "      <td>5.0</td>\n",
       "    </tr>\n",
       "    <tr>\n",
       "      <th>1</th>\n",
       "      <td>S210712176524</td>\n",
       "      <td>2021-07-12 04:54:43+00:00</td>\n",
       "      <td>2021-07-12 04:55:11+00:00</td>\n",
       "      <td>2021-07-12 05:08:57+00:00</td>\n",
       "      <td>2021-07-12 05:09:21+00:00</td>\n",
       "      <td>2021-07-12 05:26:02+00:00</td>\n",
       "      <td>2021-07-12 05:26:24+00:00</td>\n",
       "      <td>13.855861</td>\n",
       "      <td>100.505192</td>\n",
       "      <td>13.866007</td>\n",
       "      <td>100.497420</td>\n",
       "      <td>13.869973</td>\n",
       "      <td>100.455743</td>\n",
       "      <td>17.0</td>\n",
       "    </tr>\n",
       "    <tr>\n",
       "      <th>2</th>\n",
       "      <td>S210712207553</td>\n",
       "      <td>2021-07-12 06:19:40+00:00</td>\n",
       "      <td>2021-07-12 06:22:43+00:00</td>\n",
       "      <td>2021-07-12 06:39:45+00:00</td>\n",
       "      <td>2021-07-12 06:40:19+00:00</td>\n",
       "      <td>2021-07-12 06:55:35+00:00</td>\n",
       "      <td>2021-07-12 06:56:06+00:00</td>\n",
       "      <td>13.923222</td>\n",
       "      <td>100.641427</td>\n",
       "      <td>13.937330</td>\n",
       "      <td>100.625068</td>\n",
       "      <td>13.954999</td>\n",
       "      <td>100.611758</td>\n",
       "      <td>15.0</td>\n",
       "    </tr>\n",
       "    <tr>\n",
       "      <th>3</th>\n",
       "      <td>S210712202283</td>\n",
       "      <td>2021-07-12 06:03:43+00:00</td>\n",
       "      <td>2021-07-12 06:04:48+00:00</td>\n",
       "      <td>2021-07-12 06:12:18+00:00</td>\n",
       "      <td>2021-07-12 06:12:59+00:00</td>\n",
       "      <td>2021-07-12 06:26:30+00:00</td>\n",
       "      <td>2021-07-12 06:26:48+00:00</td>\n",
       "      <td>13.749551</td>\n",
       "      <td>100.650041</td>\n",
       "      <td>13.743053</td>\n",
       "      <td>100.624662</td>\n",
       "      <td>13.738476</td>\n",
       "      <td>100.692156</td>\n",
       "      <td>13.0</td>\n",
       "    </tr>\n",
       "    <tr>\n",
       "      <th>4</th>\n",
       "      <td>S210712235129</td>\n",
       "      <td>2021-07-12 08:12:10+00:00</td>\n",
       "      <td>2021-07-12 08:12:45+00:00</td>\n",
       "      <td>2021-07-12 08:17:26+00:00</td>\n",
       "      <td>2021-07-12 08:27:44+00:00</td>\n",
       "      <td>2021-07-12 08:50:51+00:00</td>\n",
       "      <td>2021-07-12 08:50:58+00:00</td>\n",
       "      <td>13.787922</td>\n",
       "      <td>100.780864</td>\n",
       "      <td>13.802771</td>\n",
       "      <td>100.782363</td>\n",
       "      <td>13.769007</td>\n",
       "      <td>100.722973</td>\n",
       "      <td>23.0</td>\n",
       "    </tr>\n",
       "  </tbody>\n",
       "</table>\n",
       "</div>"
      ],
      "text/plain": [
       "           jobId           jobAcceptedTime        calledMerchantTime  \\\n",
       "0  S210712297069 2021-07-12 11:51:59+00:00 2021-07-12 11:53:32+00:00   \n",
       "1  S210712176524 2021-07-12 04:54:43+00:00 2021-07-12 04:55:11+00:00   \n",
       "2  S210712207553 2021-07-12 06:19:40+00:00 2021-07-12 06:22:43+00:00   \n",
       "3  S210712202283 2021-07-12 06:03:43+00:00 2021-07-12 06:04:48+00:00   \n",
       "4  S210712235129 2021-07-12 08:12:10+00:00 2021-07-12 08:12:45+00:00   \n",
       "\n",
       "      arrivedAtMerchantTime          mealPickedUpTime  \\\n",
       "0 2021-07-12 11:55:42+00:00 2021-07-12 12:18:58+00:00   \n",
       "1 2021-07-12 05:08:57+00:00 2021-07-12 05:09:21+00:00   \n",
       "2 2021-07-12 06:39:45+00:00 2021-07-12 06:40:19+00:00   \n",
       "3 2021-07-12 06:12:18+00:00 2021-07-12 06:12:59+00:00   \n",
       "4 2021-07-12 08:17:26+00:00 2021-07-12 08:27:44+00:00   \n",
       "\n",
       "  arrivedAtCustLocationTime         foodDeliveredTime  \\\n",
       "0 2021-07-12 12:23:48+00:00 2021-07-12 12:24:10+00:00   \n",
       "1 2021-07-12 05:26:02+00:00 2021-07-12 05:26:24+00:00   \n",
       "2 2021-07-12 06:55:35+00:00 2021-07-12 06:56:06+00:00   \n",
       "3 2021-07-12 06:26:30+00:00 2021-07-12 06:26:48+00:00   \n",
       "4 2021-07-12 08:50:51+00:00 2021-07-12 08:50:58+00:00   \n",
       "\n",
       "   riderInitialLatLong.lat  riderInitialLatLong.lng  Merchant.Lat  \\\n",
       "0                13.696167               100.372988     13.692471   \n",
       "1                13.855861               100.505192     13.866007   \n",
       "2                13.923222               100.641427     13.937330   \n",
       "3                13.749551               100.650041     13.743053   \n",
       "4                13.787922               100.780864     13.802771   \n",
       "\n",
       "   Merchant.Lng Customer.lat Customer.lng  duration  \n",
       "0    100.378297    13.687792     100.3599       5.0  \n",
       "1    100.497420    13.869973   100.455743      17.0  \n",
       "2    100.625068    13.954999   100.611758      15.0  \n",
       "3    100.624662    13.738476   100.692156      13.0  \n",
       "4    100.782363    13.769007   100.722973      23.0  "
      ]
     },
     "execution_count": 63,
     "metadata": {},
     "output_type": "execute_result"
    }
   ],
   "source": [
    "df.head()"
   ]
  },
  {
   "cell_type": "code",
   "execution_count": 64,
   "metadata": {},
   "outputs": [
    {
     "data": {
      "text/plain": [
       "12.354243542435425"
      ]
     },
     "execution_count": 64,
     "metadata": {},
     "output_type": "execute_result"
    }
   ],
   "source": [
    "df[\"duration\"].mean()"
   ]
  },
  {
   "cell_type": "code",
   "execution_count": 65,
   "metadata": {},
   "outputs": [],
   "source": [
    "def extract_datetime(df, datetime_col):\n",
    "    df[datetime_col + \".dayOfWeek\"] = df[datetime_col].dt.dayofweek\n",
    "    # df[datetime_col + \".year\"] = df[datetime_col].dt.year\n",
    "    # df[datetime_col + \".month\"] = df[datetime_col].dt.month\n",
    "    # df[datetime_col + \".day\"] = df[datetime_col].dt.day\n",
    "    # df[datetime_col + \".hour\"] = df[datetime_col].dt.hour\n",
    "    # df[datetime_col + \".minute\"] = df[datetime_col].dt.minute\n",
    "    # df[datetime_col + \".second\"] = df[datetime_col].dt.second\n",
    "    df.drop(columns=[datetime_col], inplace=True)\n",
    "    return df"
   ]
  },
  {
   "cell_type": "code",
   "execution_count": 66,
   "metadata": {},
   "outputs": [],
   "source": [
    "# df = extract_datetime(df, \"jobAcceptedTime\")\n",
    "# df = extract_datetime(df, \"calledMerchantTime\")\n",
    "# df = extract_datetime(df, \"arrivedAtMerchantTime\")\n",
    "# df = extract_datetime(df, \"mealPickedUpTime\")\n",
    "# df = extract_datetime(df, \"arrivedAtCustLocationTime\")\n",
    "# df = extract_datetime(df, \"foodDeliveredTime\")"
   ]
  },
  {
   "cell_type": "code",
   "execution_count": 67,
   "metadata": {},
   "outputs": [
    {
     "data": {
      "text/html": [
       "<div>\n",
       "<style scoped>\n",
       "    .dataframe tbody tr th:only-of-type {\n",
       "        vertical-align: middle;\n",
       "    }\n",
       "\n",
       "    .dataframe tbody tr th {\n",
       "        vertical-align: top;\n",
       "    }\n",
       "\n",
       "    .dataframe thead th {\n",
       "        text-align: right;\n",
       "    }\n",
       "</style>\n",
       "<table border=\"1\" class=\"dataframe\">\n",
       "  <thead>\n",
       "    <tr style=\"text-align: right;\">\n",
       "      <th></th>\n",
       "      <th>jobId</th>\n",
       "      <th>jobAcceptedTime</th>\n",
       "      <th>calledMerchantTime</th>\n",
       "      <th>arrivedAtMerchantTime</th>\n",
       "      <th>mealPickedUpTime</th>\n",
       "      <th>arrivedAtCustLocationTime</th>\n",
       "      <th>foodDeliveredTime</th>\n",
       "      <th>riderInitialLatLong.lat</th>\n",
       "      <th>riderInitialLatLong.lng</th>\n",
       "      <th>Merchant.Lat</th>\n",
       "      <th>Merchant.Lng</th>\n",
       "      <th>Customer.lat</th>\n",
       "      <th>Customer.lng</th>\n",
       "      <th>duration</th>\n",
       "    </tr>\n",
       "  </thead>\n",
       "  <tbody>\n",
       "    <tr>\n",
       "      <th>0</th>\n",
       "      <td>S210712297069</td>\n",
       "      <td>2021-07-12 11:51:59+00:00</td>\n",
       "      <td>2021-07-12 11:53:32+00:00</td>\n",
       "      <td>2021-07-12 11:55:42+00:00</td>\n",
       "      <td>2021-07-12 12:18:58+00:00</td>\n",
       "      <td>2021-07-12 12:23:48+00:00</td>\n",
       "      <td>2021-07-12 12:24:10+00:00</td>\n",
       "      <td>13.696167</td>\n",
       "      <td>100.372988</td>\n",
       "      <td>13.692471</td>\n",
       "      <td>100.378297</td>\n",
       "      <td>13.687792</td>\n",
       "      <td>100.3599</td>\n",
       "      <td>5.0</td>\n",
       "    </tr>\n",
       "    <tr>\n",
       "      <th>1</th>\n",
       "      <td>S210712176524</td>\n",
       "      <td>2021-07-12 04:54:43+00:00</td>\n",
       "      <td>2021-07-12 04:55:11+00:00</td>\n",
       "      <td>2021-07-12 05:08:57+00:00</td>\n",
       "      <td>2021-07-12 05:09:21+00:00</td>\n",
       "      <td>2021-07-12 05:26:02+00:00</td>\n",
       "      <td>2021-07-12 05:26:24+00:00</td>\n",
       "      <td>13.855861</td>\n",
       "      <td>100.505192</td>\n",
       "      <td>13.866007</td>\n",
       "      <td>100.497420</td>\n",
       "      <td>13.869973</td>\n",
       "      <td>100.455743</td>\n",
       "      <td>17.0</td>\n",
       "    </tr>\n",
       "    <tr>\n",
       "      <th>2</th>\n",
       "      <td>S210712207553</td>\n",
       "      <td>2021-07-12 06:19:40+00:00</td>\n",
       "      <td>2021-07-12 06:22:43+00:00</td>\n",
       "      <td>2021-07-12 06:39:45+00:00</td>\n",
       "      <td>2021-07-12 06:40:19+00:00</td>\n",
       "      <td>2021-07-12 06:55:35+00:00</td>\n",
       "      <td>2021-07-12 06:56:06+00:00</td>\n",
       "      <td>13.923222</td>\n",
       "      <td>100.641427</td>\n",
       "      <td>13.937330</td>\n",
       "      <td>100.625068</td>\n",
       "      <td>13.954999</td>\n",
       "      <td>100.611758</td>\n",
       "      <td>15.0</td>\n",
       "    </tr>\n",
       "    <tr>\n",
       "      <th>3</th>\n",
       "      <td>S210712202283</td>\n",
       "      <td>2021-07-12 06:03:43+00:00</td>\n",
       "      <td>2021-07-12 06:04:48+00:00</td>\n",
       "      <td>2021-07-12 06:12:18+00:00</td>\n",
       "      <td>2021-07-12 06:12:59+00:00</td>\n",
       "      <td>2021-07-12 06:26:30+00:00</td>\n",
       "      <td>2021-07-12 06:26:48+00:00</td>\n",
       "      <td>13.749551</td>\n",
       "      <td>100.650041</td>\n",
       "      <td>13.743053</td>\n",
       "      <td>100.624662</td>\n",
       "      <td>13.738476</td>\n",
       "      <td>100.692156</td>\n",
       "      <td>13.0</td>\n",
       "    </tr>\n",
       "    <tr>\n",
       "      <th>4</th>\n",
       "      <td>S210712235129</td>\n",
       "      <td>2021-07-12 08:12:10+00:00</td>\n",
       "      <td>2021-07-12 08:12:45+00:00</td>\n",
       "      <td>2021-07-12 08:17:26+00:00</td>\n",
       "      <td>2021-07-12 08:27:44+00:00</td>\n",
       "      <td>2021-07-12 08:50:51+00:00</td>\n",
       "      <td>2021-07-12 08:50:58+00:00</td>\n",
       "      <td>13.787922</td>\n",
       "      <td>100.780864</td>\n",
       "      <td>13.802771</td>\n",
       "      <td>100.782363</td>\n",
       "      <td>13.769007</td>\n",
       "      <td>100.722973</td>\n",
       "      <td>23.0</td>\n",
       "    </tr>\n",
       "  </tbody>\n",
       "</table>\n",
       "</div>"
      ],
      "text/plain": [
       "           jobId           jobAcceptedTime        calledMerchantTime  \\\n",
       "0  S210712297069 2021-07-12 11:51:59+00:00 2021-07-12 11:53:32+00:00   \n",
       "1  S210712176524 2021-07-12 04:54:43+00:00 2021-07-12 04:55:11+00:00   \n",
       "2  S210712207553 2021-07-12 06:19:40+00:00 2021-07-12 06:22:43+00:00   \n",
       "3  S210712202283 2021-07-12 06:03:43+00:00 2021-07-12 06:04:48+00:00   \n",
       "4  S210712235129 2021-07-12 08:12:10+00:00 2021-07-12 08:12:45+00:00   \n",
       "\n",
       "      arrivedAtMerchantTime          mealPickedUpTime  \\\n",
       "0 2021-07-12 11:55:42+00:00 2021-07-12 12:18:58+00:00   \n",
       "1 2021-07-12 05:08:57+00:00 2021-07-12 05:09:21+00:00   \n",
       "2 2021-07-12 06:39:45+00:00 2021-07-12 06:40:19+00:00   \n",
       "3 2021-07-12 06:12:18+00:00 2021-07-12 06:12:59+00:00   \n",
       "4 2021-07-12 08:17:26+00:00 2021-07-12 08:27:44+00:00   \n",
       "\n",
       "  arrivedAtCustLocationTime         foodDeliveredTime  \\\n",
       "0 2021-07-12 12:23:48+00:00 2021-07-12 12:24:10+00:00   \n",
       "1 2021-07-12 05:26:02+00:00 2021-07-12 05:26:24+00:00   \n",
       "2 2021-07-12 06:55:35+00:00 2021-07-12 06:56:06+00:00   \n",
       "3 2021-07-12 06:26:30+00:00 2021-07-12 06:26:48+00:00   \n",
       "4 2021-07-12 08:50:51+00:00 2021-07-12 08:50:58+00:00   \n",
       "\n",
       "   riderInitialLatLong.lat  riderInitialLatLong.lng  Merchant.Lat  \\\n",
       "0                13.696167               100.372988     13.692471   \n",
       "1                13.855861               100.505192     13.866007   \n",
       "2                13.923222               100.641427     13.937330   \n",
       "3                13.749551               100.650041     13.743053   \n",
       "4                13.787922               100.780864     13.802771   \n",
       "\n",
       "   Merchant.Lng Customer.lat Customer.lng  duration  \n",
       "0    100.378297    13.687792     100.3599       5.0  \n",
       "1    100.497420    13.869973   100.455743      17.0  \n",
       "2    100.625068    13.954999   100.611758      15.0  \n",
       "3    100.624662    13.738476   100.692156      13.0  \n",
       "4    100.782363    13.769007   100.722973      23.0  "
      ]
     },
     "execution_count": 67,
     "metadata": {},
     "output_type": "execute_result"
    }
   ],
   "source": [
    "df.head()"
   ]
  },
  {
   "cell_type": "code",
   "execution_count": 68,
   "metadata": {},
   "outputs": [
    {
     "data": {
      "text/plain": [
       "(271, 14)"
      ]
     },
     "execution_count": 68,
     "metadata": {},
     "output_type": "execute_result"
    }
   ],
   "source": [
    "df.shape"
   ]
  },
  {
   "cell_type": "code",
   "execution_count": 69,
   "metadata": {},
   "outputs": [
    {
     "name": "stdout",
     "output_type": "stream",
     "text": [
      "<class 'pandas.core.frame.DataFrame'>\n",
      "Int64Index: 271 entries, 0 to 295\n",
      "Data columns (total 14 columns):\n",
      " #   Column                     Non-Null Count  Dtype              \n",
      "---  ------                     --------------  -----              \n",
      " 0   jobId                      271 non-null    object             \n",
      " 1   jobAcceptedTime            271 non-null    datetime64[ns, UTC]\n",
      " 2   calledMerchantTime         271 non-null    datetime64[ns, UTC]\n",
      " 3   arrivedAtMerchantTime      271 non-null    datetime64[ns, UTC]\n",
      " 4   mealPickedUpTime           271 non-null    datetime64[ns, UTC]\n",
      " 5   arrivedAtCustLocationTime  271 non-null    datetime64[ns, UTC]\n",
      " 6   foodDeliveredTime          271 non-null    datetime64[ns, UTC]\n",
      " 7   riderInitialLatLong.lat    271 non-null    float64            \n",
      " 8   riderInitialLatLong.lng    271 non-null    float64            \n",
      " 9   Merchant.Lat               271 non-null    float64            \n",
      " 10  Merchant.Lng               271 non-null    float64            \n",
      " 11  Customer.lat               271 non-null    object             \n",
      " 12  Customer.lng               271 non-null    object             \n",
      " 13  duration                   271 non-null    float64            \n",
      "dtypes: datetime64[ns, UTC](6), float64(5), object(3)\n",
      "memory usage: 31.8+ KB\n"
     ]
    }
   ],
   "source": [
    "df.info()"
   ]
  },
  {
   "cell_type": "code",
   "execution_count": 70,
   "metadata": {},
   "outputs": [
    {
     "name": "stdout",
     "output_type": "stream",
     "text": [
      "<class 'pandas.core.frame.DataFrame'>\n",
      "Int64Index: 271 entries, 0 to 295\n",
      "Data columns (total 14 columns):\n",
      " #   Column                     Non-Null Count  Dtype              \n",
      "---  ------                     --------------  -----              \n",
      " 0   jobId                      271 non-null    object             \n",
      " 1   jobAcceptedTime            271 non-null    datetime64[ns, UTC]\n",
      " 2   calledMerchantTime         271 non-null    datetime64[ns, UTC]\n",
      " 3   arrivedAtMerchantTime      271 non-null    datetime64[ns, UTC]\n",
      " 4   mealPickedUpTime           271 non-null    datetime64[ns, UTC]\n",
      " 5   arrivedAtCustLocationTime  271 non-null    datetime64[ns, UTC]\n",
      " 6   foodDeliveredTime          271 non-null    datetime64[ns, UTC]\n",
      " 7   riderInitialLatLong.lat    271 non-null    float64            \n",
      " 8   riderInitialLatLong.lng    271 non-null    float64            \n",
      " 9   Merchant.Lat               271 non-null    float64            \n",
      " 10  Merchant.Lng               271 non-null    float64            \n",
      " 11  Customer.lat               271 non-null    object             \n",
      " 12  Customer.lng               271 non-null    object             \n",
      " 13  duration                   271 non-null    float64            \n",
      "dtypes: datetime64[ns, UTC](6), float64(5), object(3)\n",
      "memory usage: 31.8+ KB\n"
     ]
    }
   ],
   "source": [
    "df.info()"
   ]
  },
  {
   "cell_type": "code",
   "execution_count": 71,
   "metadata": {},
   "outputs": [
    {
     "data": {
      "text/html": [
       "<div>\n",
       "<style scoped>\n",
       "    .dataframe tbody tr th:only-of-type {\n",
       "        vertical-align: middle;\n",
       "    }\n",
       "\n",
       "    .dataframe tbody tr th {\n",
       "        vertical-align: top;\n",
       "    }\n",
       "\n",
       "    .dataframe thead th {\n",
       "        text-align: right;\n",
       "    }\n",
       "</style>\n",
       "<table border=\"1\" class=\"dataframe\">\n",
       "  <thead>\n",
       "    <tr style=\"text-align: right;\">\n",
       "      <th></th>\n",
       "      <th>jobId</th>\n",
       "      <th>jobAcceptedTime</th>\n",
       "      <th>calledMerchantTime</th>\n",
       "      <th>arrivedAtMerchantTime</th>\n",
       "      <th>mealPickedUpTime</th>\n",
       "      <th>arrivedAtCustLocationTime</th>\n",
       "      <th>foodDeliveredTime</th>\n",
       "      <th>riderInitialLatLong.lat</th>\n",
       "      <th>riderInitialLatLong.lng</th>\n",
       "      <th>Merchant.Lat</th>\n",
       "      <th>Merchant.Lng</th>\n",
       "      <th>Customer.lat</th>\n",
       "      <th>Customer.lng</th>\n",
       "      <th>duration</th>\n",
       "    </tr>\n",
       "  </thead>\n",
       "  <tbody>\n",
       "    <tr>\n",
       "      <th>0</th>\n",
       "      <td>S210712297069</td>\n",
       "      <td>2021-07-12 11:51:59+00:00</td>\n",
       "      <td>2021-07-12 11:53:32+00:00</td>\n",
       "      <td>2021-07-12 11:55:42+00:00</td>\n",
       "      <td>2021-07-12 12:18:58+00:00</td>\n",
       "      <td>2021-07-12 12:23:48+00:00</td>\n",
       "      <td>2021-07-12 12:24:10+00:00</td>\n",
       "      <td>13.696167</td>\n",
       "      <td>100.372988</td>\n",
       "      <td>13.692471</td>\n",
       "      <td>100.378297</td>\n",
       "      <td>13.687792</td>\n",
       "      <td>100.3599</td>\n",
       "      <td>5.0</td>\n",
       "    </tr>\n",
       "    <tr>\n",
       "      <th>1</th>\n",
       "      <td>S210712176524</td>\n",
       "      <td>2021-07-12 04:54:43+00:00</td>\n",
       "      <td>2021-07-12 04:55:11+00:00</td>\n",
       "      <td>2021-07-12 05:08:57+00:00</td>\n",
       "      <td>2021-07-12 05:09:21+00:00</td>\n",
       "      <td>2021-07-12 05:26:02+00:00</td>\n",
       "      <td>2021-07-12 05:26:24+00:00</td>\n",
       "      <td>13.855861</td>\n",
       "      <td>100.505192</td>\n",
       "      <td>13.866007</td>\n",
       "      <td>100.497420</td>\n",
       "      <td>13.869973</td>\n",
       "      <td>100.455743</td>\n",
       "      <td>17.0</td>\n",
       "    </tr>\n",
       "    <tr>\n",
       "      <th>2</th>\n",
       "      <td>S210712207553</td>\n",
       "      <td>2021-07-12 06:19:40+00:00</td>\n",
       "      <td>2021-07-12 06:22:43+00:00</td>\n",
       "      <td>2021-07-12 06:39:45+00:00</td>\n",
       "      <td>2021-07-12 06:40:19+00:00</td>\n",
       "      <td>2021-07-12 06:55:35+00:00</td>\n",
       "      <td>2021-07-12 06:56:06+00:00</td>\n",
       "      <td>13.923222</td>\n",
       "      <td>100.641427</td>\n",
       "      <td>13.937330</td>\n",
       "      <td>100.625068</td>\n",
       "      <td>13.954999</td>\n",
       "      <td>100.611758</td>\n",
       "      <td>15.0</td>\n",
       "    </tr>\n",
       "    <tr>\n",
       "      <th>3</th>\n",
       "      <td>S210712202283</td>\n",
       "      <td>2021-07-12 06:03:43+00:00</td>\n",
       "      <td>2021-07-12 06:04:48+00:00</td>\n",
       "      <td>2021-07-12 06:12:18+00:00</td>\n",
       "      <td>2021-07-12 06:12:59+00:00</td>\n",
       "      <td>2021-07-12 06:26:30+00:00</td>\n",
       "      <td>2021-07-12 06:26:48+00:00</td>\n",
       "      <td>13.749551</td>\n",
       "      <td>100.650041</td>\n",
       "      <td>13.743053</td>\n",
       "      <td>100.624662</td>\n",
       "      <td>13.738476</td>\n",
       "      <td>100.692156</td>\n",
       "      <td>13.0</td>\n",
       "    </tr>\n",
       "    <tr>\n",
       "      <th>4</th>\n",
       "      <td>S210712235129</td>\n",
       "      <td>2021-07-12 08:12:10+00:00</td>\n",
       "      <td>2021-07-12 08:12:45+00:00</td>\n",
       "      <td>2021-07-12 08:17:26+00:00</td>\n",
       "      <td>2021-07-12 08:27:44+00:00</td>\n",
       "      <td>2021-07-12 08:50:51+00:00</td>\n",
       "      <td>2021-07-12 08:50:58+00:00</td>\n",
       "      <td>13.787922</td>\n",
       "      <td>100.780864</td>\n",
       "      <td>13.802771</td>\n",
       "      <td>100.782363</td>\n",
       "      <td>13.769007</td>\n",
       "      <td>100.722973</td>\n",
       "      <td>23.0</td>\n",
       "    </tr>\n",
       "  </tbody>\n",
       "</table>\n",
       "</div>"
      ],
      "text/plain": [
       "           jobId           jobAcceptedTime        calledMerchantTime  \\\n",
       "0  S210712297069 2021-07-12 11:51:59+00:00 2021-07-12 11:53:32+00:00   \n",
       "1  S210712176524 2021-07-12 04:54:43+00:00 2021-07-12 04:55:11+00:00   \n",
       "2  S210712207553 2021-07-12 06:19:40+00:00 2021-07-12 06:22:43+00:00   \n",
       "3  S210712202283 2021-07-12 06:03:43+00:00 2021-07-12 06:04:48+00:00   \n",
       "4  S210712235129 2021-07-12 08:12:10+00:00 2021-07-12 08:12:45+00:00   \n",
       "\n",
       "      arrivedAtMerchantTime          mealPickedUpTime  \\\n",
       "0 2021-07-12 11:55:42+00:00 2021-07-12 12:18:58+00:00   \n",
       "1 2021-07-12 05:08:57+00:00 2021-07-12 05:09:21+00:00   \n",
       "2 2021-07-12 06:39:45+00:00 2021-07-12 06:40:19+00:00   \n",
       "3 2021-07-12 06:12:18+00:00 2021-07-12 06:12:59+00:00   \n",
       "4 2021-07-12 08:17:26+00:00 2021-07-12 08:27:44+00:00   \n",
       "\n",
       "  arrivedAtCustLocationTime         foodDeliveredTime  \\\n",
       "0 2021-07-12 12:23:48+00:00 2021-07-12 12:24:10+00:00   \n",
       "1 2021-07-12 05:26:02+00:00 2021-07-12 05:26:24+00:00   \n",
       "2 2021-07-12 06:55:35+00:00 2021-07-12 06:56:06+00:00   \n",
       "3 2021-07-12 06:26:30+00:00 2021-07-12 06:26:48+00:00   \n",
       "4 2021-07-12 08:50:51+00:00 2021-07-12 08:50:58+00:00   \n",
       "\n",
       "   riderInitialLatLong.lat  riderInitialLatLong.lng  Merchant.Lat  \\\n",
       "0                13.696167               100.372988     13.692471   \n",
       "1                13.855861               100.505192     13.866007   \n",
       "2                13.923222               100.641427     13.937330   \n",
       "3                13.749551               100.650041     13.743053   \n",
       "4                13.787922               100.780864     13.802771   \n",
       "\n",
       "   Merchant.Lng Customer.lat Customer.lng  duration  \n",
       "0    100.378297    13.687792     100.3599       5.0  \n",
       "1    100.497420    13.869973   100.455743      17.0  \n",
       "2    100.625068    13.954999   100.611758      15.0  \n",
       "3    100.624662    13.738476   100.692156      13.0  \n",
       "4    100.782363    13.769007   100.722973      23.0  "
      ]
     },
     "execution_count": 71,
     "metadata": {},
     "output_type": "execute_result"
    }
   ],
   "source": [
    "df.head()"
   ]
  },
  {
   "cell_type": "code",
   "execution_count": 72,
   "metadata": {},
   "outputs": [
    {
     "data": {
      "text/plain": [
       "0       5.0\n",
       "1      17.0\n",
       "2      15.0\n",
       "3      13.0\n",
       "4      23.0\n",
       "       ... \n",
       "291     5.0\n",
       "292    10.0\n",
       "293     6.0\n",
       "294    20.0\n",
       "295     1.0\n",
       "Name: duration, Length: 271, dtype: float64"
      ]
     },
     "execution_count": 72,
     "metadata": {},
     "output_type": "execute_result"
    }
   ],
   "source": [
    "df['duration']"
   ]
  },
  {
   "cell_type": "code",
   "execution_count": 73,
   "metadata": {},
   "outputs": [
    {
     "data": {
      "text/plain": [
       "12.354243542435425"
      ]
     },
     "execution_count": 73,
     "metadata": {},
     "output_type": "execute_result"
    }
   ],
   "source": [
    "df[\"duration\"].mean()\n"
   ]
  },
  {
   "cell_type": "code",
   "execution_count": 74,
   "metadata": {},
   "outputs": [],
   "source": [
    "def get_euc(coords_1, coords_2):\n",
    "    R = 6371000\n",
    "    conversion_const = 0.0174533\n",
    "\n",
    "    c_1 = (coords_1[0]*conversion_const,coords_1[1]*conversion_const)\n",
    "    c_2 = (coords_2[0]*conversion_const,coords_2[1]*conversion_const)\n",
    "\n",
    "\n",
    "    delta_phi = abs(c_1[1]-c_2[1])\n",
    "\n",
    "    theta = c_1[0]\n",
    "    delta_theta = abs(c_1[0]-c_2[0])\n",
    "\n",
    "    del_x = R*cos(theta)*delta_phi \n",
    "    del_y = R*delta_theta\n",
    "\n",
    "    return sqrt(del_x**2+del_y**2)"
   ]
  },
  {
   "cell_type": "code",
   "execution_count": 75,
   "metadata": {},
   "outputs": [],
   "source": [
    "df[\"eucDistanceFromRiderToCustomer\"] = df.apply(lambda x: get_euc((x[\"Merchant.Lat\"],x[\"Merchant.Lng\"]),(x[\"Customer.lat\"],x[\"Customer.lng\"])), axis=1)"
   ]
  },
  {
   "cell_type": "code",
   "execution_count": 76,
   "metadata": {},
   "outputs": [],
   "source": [
    "D = DistanceCalculator()"
   ]
  },
  {
   "cell_type": "code",
   "execution_count": 77,
   "metadata": {},
   "outputs": [],
   "source": [
    "real_origin_node = df[[\"Merchant.Lat\", \"Merchant.Lng\"]].iloc[1].values"
   ]
  },
  {
   "cell_type": "code",
   "execution_count": 78,
   "metadata": {},
   "outputs": [
    {
     "data": {
      "text/plain": [
       "array([ 13.866007, 100.49742 ])"
      ]
     },
     "execution_count": 78,
     "metadata": {},
     "output_type": "execute_result"
    }
   ],
   "source": [
    "real_origin_node"
   ]
  },
  {
   "cell_type": "code",
   "execution_count": 79,
   "metadata": {},
   "outputs": [],
   "source": [
    "from osmnx.distance import nearest_nodes"
   ]
  },
  {
   "cell_type": "code",
   "execution_count": 80,
   "metadata": {},
   "outputs": [],
   "source": [
    "origin_node = nearest_nodes(D.G, real_origin_node[1], real_origin_node[0], return_dist=False)"
   ]
  },
  {
   "cell_type": "code",
   "execution_count": 81,
   "metadata": {},
   "outputs": [
    {
     "data": {
      "text/plain": [
       "{'y': 13.8212094, 'x': 100.5076869, 'street_count': 3}"
      ]
     },
     "execution_count": 81,
     "metadata": {},
     "output_type": "execute_result"
    }
   ],
   "source": [
    "D.G.nodes()[7903748995]"
   ]
  },
  {
   "cell_type": "code",
   "execution_count": 82,
   "metadata": {},
   "outputs": [],
   "source": [
    "# nx.shortest_path_length(G, origin_node, destination_node, weight='length')"
   ]
  },
  {
   "cell_type": "code",
   "execution_count": 83,
   "metadata": {},
   "outputs": [],
   "source": [
    "# import networkx as nx"
   ]
  },
  {
   "cell_type": "code",
   "execution_count": 84,
   "metadata": {},
   "outputs": [],
   "source": [
    "# df[\"dijkrDistanceFromRiderToCustomer\"] = df.apply(lambda x: D.shortestDistance((x[\"Merchant.Lat\"],x[\"Merchant.Lng\"]), (x[\"Customer.lat\"],x[\"Customer.lng\"])), axis=1)"
   ]
  },
  {
   "cell_type": "code",
   "execution_count": 85,
   "metadata": {},
   "outputs": [
    {
     "data": {
      "text/html": [
       "<div>\n",
       "<style scoped>\n",
       "    .dataframe tbody tr th:only-of-type {\n",
       "        vertical-align: middle;\n",
       "    }\n",
       "\n",
       "    .dataframe tbody tr th {\n",
       "        vertical-align: top;\n",
       "    }\n",
       "\n",
       "    .dataframe thead th {\n",
       "        text-align: right;\n",
       "    }\n",
       "</style>\n",
       "<table border=\"1\" class=\"dataframe\">\n",
       "  <thead>\n",
       "    <tr style=\"text-align: right;\">\n",
       "      <th></th>\n",
       "      <th>eucDistanceFromRiderToCustomer</th>\n",
       "      <th>Merchant.Lat</th>\n",
       "      <th>Merchant.Lng</th>\n",
       "      <th>Customer.lat</th>\n",
       "      <th>Customer.lng</th>\n",
       "      <th>duration</th>\n",
       "    </tr>\n",
       "  </thead>\n",
       "  <tbody>\n",
       "    <tr>\n",
       "      <th>0</th>\n",
       "      <td>2054.506158</td>\n",
       "      <td>13.692471</td>\n",
       "      <td>100.378297</td>\n",
       "      <td>13.687792</td>\n",
       "      <td>100.3599</td>\n",
       "      <td>5.0</td>\n",
       "    </tr>\n",
       "    <tr>\n",
       "      <th>1</th>\n",
       "      <td>4520.757816</td>\n",
       "      <td>13.866007</td>\n",
       "      <td>100.497420</td>\n",
       "      <td>13.869973</td>\n",
       "      <td>100.455743</td>\n",
       "      <td>17.0</td>\n",
       "    </tr>\n",
       "    <tr>\n",
       "      <th>2</th>\n",
       "      <td>2433.782431</td>\n",
       "      <td>13.937330</td>\n",
       "      <td>100.625068</td>\n",
       "      <td>13.954999</td>\n",
       "      <td>100.611758</td>\n",
       "      <td>15.0</td>\n",
       "    </tr>\n",
       "    <tr>\n",
       "      <th>3</th>\n",
       "      <td>7307.835737</td>\n",
       "      <td>13.743053</td>\n",
       "      <td>100.624662</td>\n",
       "      <td>13.738476</td>\n",
       "      <td>100.692156</td>\n",
       "      <td>13.0</td>\n",
       "    </tr>\n",
       "    <tr>\n",
       "      <th>4</th>\n",
       "      <td>7431.350201</td>\n",
       "      <td>13.802771</td>\n",
       "      <td>100.782363</td>\n",
       "      <td>13.769007</td>\n",
       "      <td>100.722973</td>\n",
       "      <td>23.0</td>\n",
       "    </tr>\n",
       "  </tbody>\n",
       "</table>\n",
       "</div>"
      ],
      "text/plain": [
       "   eucDistanceFromRiderToCustomer  Merchant.Lat  Merchant.Lng Customer.lat  \\\n",
       "0                     2054.506158     13.692471    100.378297    13.687792   \n",
       "1                     4520.757816     13.866007    100.497420    13.869973   \n",
       "2                     2433.782431     13.937330    100.625068    13.954999   \n",
       "3                     7307.835737     13.743053    100.624662    13.738476   \n",
       "4                     7431.350201     13.802771    100.782363    13.769007   \n",
       "\n",
       "  Customer.lng  duration  \n",
       "0     100.3599       5.0  \n",
       "1   100.455743      17.0  \n",
       "2   100.611758      15.0  \n",
       "3   100.692156      13.0  \n",
       "4   100.722973      23.0  "
      ]
     },
     "execution_count": 85,
     "metadata": {},
     "output_type": "execute_result"
    }
   ],
   "source": [
    "df[[\"eucDistanceFromRiderToCustomer\",\"Merchant.Lat\",\"Merchant.Lng\",\"Customer.lat\",\"Customer.lng\",\"duration\"]].head()"
   ]
  },
  {
   "cell_type": "code",
   "execution_count": 86,
   "metadata": {},
   "outputs": [],
   "source": [
    "# Split the data into input and output\n",
    "X = df[[\"eucDistanceFromRiderToCustomer\",\"Merchant.Lat\",\"Merchant.Lng\",\"Customer.lat\",\"Customer.lng\"]]\n",
    "y = df[\"duration\"] # in minutes"
   ]
  },
  {
   "cell_type": "code",
   "execution_count": 87,
   "metadata": {},
   "outputs": [
    {
     "data": {
      "text/html": [
       "<div>\n",
       "<style scoped>\n",
       "    .dataframe tbody tr th:only-of-type {\n",
       "        vertical-align: middle;\n",
       "    }\n",
       "\n",
       "    .dataframe tbody tr th {\n",
       "        vertical-align: top;\n",
       "    }\n",
       "\n",
       "    .dataframe thead th {\n",
       "        text-align: right;\n",
       "    }\n",
       "</style>\n",
       "<table border=\"1\" class=\"dataframe\">\n",
       "  <thead>\n",
       "    <tr style=\"text-align: right;\">\n",
       "      <th></th>\n",
       "      <th>eucDistanceFromRiderToCustomer</th>\n",
       "      <th>Merchant.Lat</th>\n",
       "      <th>Merchant.Lng</th>\n",
       "      <th>Customer.lat</th>\n",
       "      <th>Customer.lng</th>\n",
       "    </tr>\n",
       "  </thead>\n",
       "  <tbody>\n",
       "    <tr>\n",
       "      <th>0</th>\n",
       "      <td>2054.506158</td>\n",
       "      <td>13.692471</td>\n",
       "      <td>100.378297</td>\n",
       "      <td>13.687792</td>\n",
       "      <td>100.3599</td>\n",
       "    </tr>\n",
       "    <tr>\n",
       "      <th>1</th>\n",
       "      <td>4520.757816</td>\n",
       "      <td>13.866007</td>\n",
       "      <td>100.497420</td>\n",
       "      <td>13.869973</td>\n",
       "      <td>100.455743</td>\n",
       "    </tr>\n",
       "    <tr>\n",
       "      <th>2</th>\n",
       "      <td>2433.782431</td>\n",
       "      <td>13.937330</td>\n",
       "      <td>100.625068</td>\n",
       "      <td>13.954999</td>\n",
       "      <td>100.611758</td>\n",
       "    </tr>\n",
       "    <tr>\n",
       "      <th>3</th>\n",
       "      <td>7307.835737</td>\n",
       "      <td>13.743053</td>\n",
       "      <td>100.624662</td>\n",
       "      <td>13.738476</td>\n",
       "      <td>100.692156</td>\n",
       "    </tr>\n",
       "    <tr>\n",
       "      <th>4</th>\n",
       "      <td>7431.350201</td>\n",
       "      <td>13.802771</td>\n",
       "      <td>100.782363</td>\n",
       "      <td>13.769007</td>\n",
       "      <td>100.722973</td>\n",
       "    </tr>\n",
       "  </tbody>\n",
       "</table>\n",
       "</div>"
      ],
      "text/plain": [
       "   eucDistanceFromRiderToCustomer  Merchant.Lat  Merchant.Lng Customer.lat  \\\n",
       "0                     2054.506158     13.692471    100.378297    13.687792   \n",
       "1                     4520.757816     13.866007    100.497420    13.869973   \n",
       "2                     2433.782431     13.937330    100.625068    13.954999   \n",
       "3                     7307.835737     13.743053    100.624662    13.738476   \n",
       "4                     7431.350201     13.802771    100.782363    13.769007   \n",
       "\n",
       "  Customer.lng  \n",
       "0     100.3599  \n",
       "1   100.455743  \n",
       "2   100.611758  \n",
       "3   100.692156  \n",
       "4   100.722973  "
      ]
     },
     "execution_count": 87,
     "metadata": {},
     "output_type": "execute_result"
    }
   ],
   "source": [
    "X.head()"
   ]
  },
  {
   "cell_type": "code",
   "execution_count": 88,
   "metadata": {},
   "outputs": [
    {
     "data": {
      "text/html": [
       "<div>\n",
       "<style scoped>\n",
       "    .dataframe tbody tr th:only-of-type {\n",
       "        vertical-align: middle;\n",
       "    }\n",
       "\n",
       "    .dataframe tbody tr th {\n",
       "        vertical-align: top;\n",
       "    }\n",
       "\n",
       "    .dataframe thead th {\n",
       "        text-align: right;\n",
       "    }\n",
       "</style>\n",
       "<table border=\"1\" class=\"dataframe\">\n",
       "  <thead>\n",
       "    <tr style=\"text-align: right;\">\n",
       "      <th></th>\n",
       "      <th>fit_time</th>\n",
       "      <th>score_time</th>\n",
       "      <th>test_neg_mean_absolute_error</th>\n",
       "      <th>train_neg_mean_absolute_error</th>\n",
       "      <th>test_neg_mean_squared_error</th>\n",
       "      <th>train_neg_mean_squared_error</th>\n",
       "      <th>test_r2</th>\n",
       "      <th>train_r2</th>\n",
       "    </tr>\n",
       "  </thead>\n",
       "  <tbody>\n",
       "    <tr>\n",
       "      <th>0</th>\n",
       "      <td>1.153554</td>\n",
       "      <td>0.062007</td>\n",
       "      <td>-3.316165</td>\n",
       "      <td>-1.711066</td>\n",
       "      <td>-17.294735</td>\n",
       "      <td>-5.369605</td>\n",
       "      <td>0.406276</td>\n",
       "      <td>0.912043</td>\n",
       "    </tr>\n",
       "    <tr>\n",
       "      <th>1</th>\n",
       "      <td>1.185018</td>\n",
       "      <td>0.054001</td>\n",
       "      <td>-3.644112</td>\n",
       "      <td>-1.643702</td>\n",
       "      <td>-27.729002</td>\n",
       "      <td>-4.758796</td>\n",
       "      <td>0.488086</td>\n",
       "      <td>0.913514</td>\n",
       "    </tr>\n",
       "    <tr>\n",
       "      <th>2</th>\n",
       "      <td>1.015304</td>\n",
       "      <td>0.062995</td>\n",
       "      <td>-3.472927</td>\n",
       "      <td>-1.643763</td>\n",
       "      <td>-29.910250</td>\n",
       "      <td>-4.345564</td>\n",
       "      <td>0.615149</td>\n",
       "      <td>0.912032</td>\n",
       "    </tr>\n",
       "    <tr>\n",
       "      <th>3</th>\n",
       "      <td>1.112979</td>\n",
       "      <td>0.066004</td>\n",
       "      <td>-2.642385</td>\n",
       "      <td>-1.764142</td>\n",
       "      <td>-12.405304</td>\n",
       "      <td>-5.472672</td>\n",
       "      <td>0.668142</td>\n",
       "      <td>0.907840</td>\n",
       "    </tr>\n",
       "    <tr>\n",
       "      <th>4</th>\n",
       "      <td>1.916401</td>\n",
       "      <td>0.079002</td>\n",
       "      <td>-3.648135</td>\n",
       "      <td>-1.583326</td>\n",
       "      <td>-24.507801</td>\n",
       "      <td>-4.754358</td>\n",
       "      <td>0.665027</td>\n",
       "      <td>0.905916</td>\n",
       "    </tr>\n",
       "  </tbody>\n",
       "</table>\n",
       "</div>"
      ],
      "text/plain": [
       "   fit_time  score_time  test_neg_mean_absolute_error  \\\n",
       "0  1.153554    0.062007                     -3.316165   \n",
       "1  1.185018    0.054001                     -3.644112   \n",
       "2  1.015304    0.062995                     -3.472927   \n",
       "3  1.112979    0.066004                     -2.642385   \n",
       "4  1.916401    0.079002                     -3.648135   \n",
       "\n",
       "   train_neg_mean_absolute_error  test_neg_mean_squared_error  \\\n",
       "0                      -1.711066                   -17.294735   \n",
       "1                      -1.643702                   -27.729002   \n",
       "2                      -1.643763                   -29.910250   \n",
       "3                      -1.764142                   -12.405304   \n",
       "4                      -1.583326                   -24.507801   \n",
       "\n",
       "   train_neg_mean_squared_error   test_r2  train_r2  \n",
       "0                     -5.369605  0.406276  0.912043  \n",
       "1                     -4.758796  0.488086  0.913514  \n",
       "2                     -4.345564  0.615149  0.912032  \n",
       "3                     -5.472672  0.668142  0.907840  \n",
       "4                     -4.754358  0.665027  0.905916  "
      ]
     },
     "execution_count": 88,
     "metadata": {},
     "output_type": "execute_result"
    }
   ],
   "source": [
    "import sklearn\n",
    "from sklearn.ensemble import RandomForestRegressor\n",
    "from sklearn.model_selection import train_test_split\n",
    "from sklearn.model_selection import cross_validate\n",
    "\n",
    "# Construct a random forest regressor\n",
    "reg = RandomForestRegressor(n_estimators=1000, max_depth=7, random_state=0)\n",
    "# Train and vallidate the regressor using 5-fold cross validation\n",
    "cv_results = cross_validate(reg, X, y, cv=5, scoring=('neg_mean_absolute_error', 'neg_mean_squared_error', 'r2'), return_train_score=False)\n",
    "pd.DataFrame(cv_results)"
   ]
  },
  {
   "cell_type": "code",
   "execution_count": 89,
   "metadata": {},
   "outputs": [
    {
     "data": {
      "text/plain": [
       "-3.3447446903529894"
      ]
     },
     "execution_count": 89,
     "metadata": {},
     "output_type": "execute_result"
    }
   ],
   "source": [
    "cv_results['test_neg_mean_absolute_error'].mean()"
   ]
  },
  {
   "cell_type": "code",
   "execution_count": 90,
   "metadata": {},
   "outputs": [
    {
     "data": {
      "text/plain": [
       "-22.369418374037217"
      ]
     },
     "execution_count": 90,
     "metadata": {},
     "output_type": "execute_result"
    }
   ],
   "source": [
    "cv_results['test_neg_mean_squared_error'].mean()"
   ]
  },
  {
   "cell_type": "code",
   "execution_count": 91,
   "metadata": {},
   "outputs": [
    {
     "data": {
      "text/plain": [
       "0.5685362407170208"
      ]
     },
     "execution_count": 91,
     "metadata": {},
     "output_type": "execute_result"
    }
   ],
   "source": [
    "cv_results['test_r2'].mean()\n"
   ]
  },
  {
   "cell_type": "code",
   "execution_count": 92,
   "metadata": {},
   "outputs": [
    {
     "data": {
      "text/html": [
       "<style>#sk-container-id-2 {color: black;background-color: white;}#sk-container-id-2 pre{padding: 0;}#sk-container-id-2 div.sk-toggleable {background-color: white;}#sk-container-id-2 label.sk-toggleable__label {cursor: pointer;display: block;width: 100%;margin-bottom: 0;padding: 0.3em;box-sizing: border-box;text-align: center;}#sk-container-id-2 label.sk-toggleable__label-arrow:before {content: \"▸\";float: left;margin-right: 0.25em;color: #696969;}#sk-container-id-2 label.sk-toggleable__label-arrow:hover:before {color: black;}#sk-container-id-2 div.sk-estimator:hover label.sk-toggleable__label-arrow:before {color: black;}#sk-container-id-2 div.sk-toggleable__content {max-height: 0;max-width: 0;overflow: hidden;text-align: left;background-color: #f0f8ff;}#sk-container-id-2 div.sk-toggleable__content pre {margin: 0.2em;color: black;border-radius: 0.25em;background-color: #f0f8ff;}#sk-container-id-2 input.sk-toggleable__control:checked~div.sk-toggleable__content {max-height: 200px;max-width: 100%;overflow: auto;}#sk-container-id-2 input.sk-toggleable__control:checked~label.sk-toggleable__label-arrow:before {content: \"▾\";}#sk-container-id-2 div.sk-estimator input.sk-toggleable__control:checked~label.sk-toggleable__label {background-color: #d4ebff;}#sk-container-id-2 div.sk-label input.sk-toggleable__control:checked~label.sk-toggleable__label {background-color: #d4ebff;}#sk-container-id-2 input.sk-hidden--visually {border: 0;clip: rect(1px 1px 1px 1px);clip: rect(1px, 1px, 1px, 1px);height: 1px;margin: -1px;overflow: hidden;padding: 0;position: absolute;width: 1px;}#sk-container-id-2 div.sk-estimator {font-family: monospace;background-color: #f0f8ff;border: 1px dotted black;border-radius: 0.25em;box-sizing: border-box;margin-bottom: 0.5em;}#sk-container-id-2 div.sk-estimator:hover {background-color: #d4ebff;}#sk-container-id-2 div.sk-parallel-item::after {content: \"\";width: 100%;border-bottom: 1px solid gray;flex-grow: 1;}#sk-container-id-2 div.sk-label:hover label.sk-toggleable__label {background-color: #d4ebff;}#sk-container-id-2 div.sk-serial::before {content: \"\";position: absolute;border-left: 1px solid gray;box-sizing: border-box;top: 0;bottom: 0;left: 50%;z-index: 0;}#sk-container-id-2 div.sk-serial {display: flex;flex-direction: column;align-items: center;background-color: white;padding-right: 0.2em;padding-left: 0.2em;position: relative;}#sk-container-id-2 div.sk-item {position: relative;z-index: 1;}#sk-container-id-2 div.sk-parallel {display: flex;align-items: stretch;justify-content: center;background-color: white;position: relative;}#sk-container-id-2 div.sk-item::before, #sk-container-id-2 div.sk-parallel-item::before {content: \"\";position: absolute;border-left: 1px solid gray;box-sizing: border-box;top: 0;bottom: 0;left: 50%;z-index: -1;}#sk-container-id-2 div.sk-parallel-item {display: flex;flex-direction: column;z-index: 1;position: relative;background-color: white;}#sk-container-id-2 div.sk-parallel-item:first-child::after {align-self: flex-end;width: 50%;}#sk-container-id-2 div.sk-parallel-item:last-child::after {align-self: flex-start;width: 50%;}#sk-container-id-2 div.sk-parallel-item:only-child::after {width: 0;}#sk-container-id-2 div.sk-dashed-wrapped {border: 1px dashed gray;margin: 0 0.4em 0.5em 0.4em;box-sizing: border-box;padding-bottom: 0.4em;background-color: white;}#sk-container-id-2 div.sk-label label {font-family: monospace;font-weight: bold;display: inline-block;line-height: 1.2em;}#sk-container-id-2 div.sk-label-container {text-align: center;}#sk-container-id-2 div.sk-container {/* jupyter's `normalize.less` sets `[hidden] { display: none; }` but bootstrap.min.css set `[hidden] { display: none !important; }` so we also need the `!important` here to be able to override the default hidden behavior on the sphinx rendered scikit-learn.org. See: https://github.com/scikit-learn/scikit-learn/issues/21755 */display: inline-block !important;position: relative;}#sk-container-id-2 div.sk-text-repr-fallback {display: none;}</style><div id=\"sk-container-id-2\" class=\"sk-top-container\"><div class=\"sk-text-repr-fallback\"><pre>RandomForestRegressor(max_depth=7, n_estimators=1000, random_state=0)</pre><b>In a Jupyter environment, please rerun this cell to show the HTML representation or trust the notebook. <br />On GitHub, the HTML representation is unable to render, please try loading this page with nbviewer.org.</b></div><div class=\"sk-container\" hidden><div class=\"sk-item\"><div class=\"sk-estimator sk-toggleable\"><input class=\"sk-toggleable__control sk-hidden--visually\" id=\"sk-estimator-id-2\" type=\"checkbox\" checked><label for=\"sk-estimator-id-2\" class=\"sk-toggleable__label sk-toggleable__label-arrow\">RandomForestRegressor</label><div class=\"sk-toggleable__content\"><pre>RandomForestRegressor(max_depth=7, n_estimators=1000, random_state=0)</pre></div></div></div></div></div>"
      ],
      "text/plain": [
       "RandomForestRegressor(max_depth=7, n_estimators=1000, random_state=0)"
      ]
     },
     "execution_count": 92,
     "metadata": {},
     "output_type": "execute_result"
    }
   ],
   "source": [
    "reg.fit(X,y)"
   ]
  },
  {
   "cell_type": "code",
   "execution_count": 120,
   "metadata": {},
   "outputs": [],
   "source": [
    "cv_results = cross_validate(reg, X, y, cv=5, scoring=('neg_mean_absolute_error', 'neg_mean_squared_error', 'r2'), return_train_score=False) "
   ]
  },
  {
   "cell_type": "code",
   "execution_count": 121,
   "metadata": {},
   "outputs": [
    {
     "data": {
      "text/html": [
       "<div>\n",
       "<style scoped>\n",
       "    .dataframe tbody tr th:only-of-type {\n",
       "        vertical-align: middle;\n",
       "    }\n",
       "\n",
       "    .dataframe tbody tr th {\n",
       "        vertical-align: top;\n",
       "    }\n",
       "\n",
       "    .dataframe thead th {\n",
       "        text-align: right;\n",
       "    }\n",
       "</style>\n",
       "<table border=\"1\" class=\"dataframe\">\n",
       "  <thead>\n",
       "    <tr style=\"text-align: right;\">\n",
       "      <th></th>\n",
       "      <th>fit_time</th>\n",
       "      <th>score_time</th>\n",
       "      <th>test_neg_mean_absolute_error</th>\n",
       "      <th>test_neg_mean_squared_error</th>\n",
       "      <th>test_r2</th>\n",
       "    </tr>\n",
       "  </thead>\n",
       "  <tbody>\n",
       "    <tr>\n",
       "      <th>0</th>\n",
       "      <td>1.736132</td>\n",
       "      <td>0.084000</td>\n",
       "      <td>-3.316165</td>\n",
       "      <td>-17.294735</td>\n",
       "      <td>0.406276</td>\n",
       "    </tr>\n",
       "    <tr>\n",
       "      <th>1</th>\n",
       "      <td>1.605740</td>\n",
       "      <td>0.083010</td>\n",
       "      <td>-3.644112</td>\n",
       "      <td>-27.729002</td>\n",
       "      <td>0.488086</td>\n",
       "    </tr>\n",
       "    <tr>\n",
       "      <th>2</th>\n",
       "      <td>1.588675</td>\n",
       "      <td>0.083309</td>\n",
       "      <td>-3.472927</td>\n",
       "      <td>-29.910250</td>\n",
       "      <td>0.615149</td>\n",
       "    </tr>\n",
       "    <tr>\n",
       "      <th>3</th>\n",
       "      <td>1.274692</td>\n",
       "      <td>0.053974</td>\n",
       "      <td>-2.642385</td>\n",
       "      <td>-12.405304</td>\n",
       "      <td>0.668142</td>\n",
       "    </tr>\n",
       "    <tr>\n",
       "      <th>4</th>\n",
       "      <td>1.012618</td>\n",
       "      <td>0.054012</td>\n",
       "      <td>-3.648135</td>\n",
       "      <td>-24.507801</td>\n",
       "      <td>0.665027</td>\n",
       "    </tr>\n",
       "  </tbody>\n",
       "</table>\n",
       "</div>"
      ],
      "text/plain": [
       "   fit_time  score_time  test_neg_mean_absolute_error  \\\n",
       "0  1.736132    0.084000                     -3.316165   \n",
       "1  1.605740    0.083010                     -3.644112   \n",
       "2  1.588675    0.083309                     -3.472927   \n",
       "3  1.274692    0.053974                     -2.642385   \n",
       "4  1.012618    0.054012                     -3.648135   \n",
       "\n",
       "   test_neg_mean_squared_error   test_r2  \n",
       "0                   -17.294735  0.406276  \n",
       "1                   -27.729002  0.488086  \n",
       "2                   -29.910250  0.615149  \n",
       "3                   -12.405304  0.668142  \n",
       "4                   -24.507801  0.665027  "
      ]
     },
     "execution_count": 121,
     "metadata": {},
     "output_type": "execute_result"
    }
   ],
   "source": [
    "pd.DataFrame(cv_results)"
   ]
  },
  {
   "cell_type": "code",
   "execution_count": 47,
   "metadata": {},
   "outputs": [
    {
     "data": {
      "text/plain": [
       "0.8994679567260182"
      ]
     },
     "execution_count": 47,
     "metadata": {},
     "output_type": "execute_result"
    }
   ],
   "source": [
    "reg.score(X, y) # R2 score for train set"
   ]
  },
  {
   "cell_type": "code",
   "execution_count": 95,
   "metadata": {},
   "outputs": [
    {
     "data": {
      "text/html": [
       "<div>\n",
       "<style scoped>\n",
       "    .dataframe tbody tr th:only-of-type {\n",
       "        vertical-align: middle;\n",
       "    }\n",
       "\n",
       "    .dataframe tbody tr th {\n",
       "        vertical-align: top;\n",
       "    }\n",
       "\n",
       "    .dataframe thead th {\n",
       "        text-align: right;\n",
       "    }\n",
       "</style>\n",
       "<table border=\"1\" class=\"dataframe\">\n",
       "  <thead>\n",
       "    <tr style=\"text-align: right;\">\n",
       "      <th></th>\n",
       "      <th>eucDistanceFromRiderToCustomer</th>\n",
       "      <th>Merchant.Lat</th>\n",
       "      <th>Merchant.Lng</th>\n",
       "      <th>Customer.lat</th>\n",
       "      <th>Customer.lng</th>\n",
       "    </tr>\n",
       "  </thead>\n",
       "  <tbody>\n",
       "    <tr>\n",
       "      <th>0</th>\n",
       "      <td>2054.506158</td>\n",
       "      <td>13.692471</td>\n",
       "      <td>100.378297</td>\n",
       "      <td>13.687792</td>\n",
       "      <td>100.3599</td>\n",
       "    </tr>\n",
       "    <tr>\n",
       "      <th>1</th>\n",
       "      <td>4520.757816</td>\n",
       "      <td>13.866007</td>\n",
       "      <td>100.497420</td>\n",
       "      <td>13.869973</td>\n",
       "      <td>100.455743</td>\n",
       "    </tr>\n",
       "    <tr>\n",
       "      <th>2</th>\n",
       "      <td>2433.782431</td>\n",
       "      <td>13.937330</td>\n",
       "      <td>100.625068</td>\n",
       "      <td>13.954999</td>\n",
       "      <td>100.611758</td>\n",
       "    </tr>\n",
       "    <tr>\n",
       "      <th>3</th>\n",
       "      <td>7307.835737</td>\n",
       "      <td>13.743053</td>\n",
       "      <td>100.624662</td>\n",
       "      <td>13.738476</td>\n",
       "      <td>100.692156</td>\n",
       "    </tr>\n",
       "    <tr>\n",
       "      <th>4</th>\n",
       "      <td>7431.350201</td>\n",
       "      <td>13.802771</td>\n",
       "      <td>100.782363</td>\n",
       "      <td>13.769007</td>\n",
       "      <td>100.722973</td>\n",
       "    </tr>\n",
       "  </tbody>\n",
       "</table>\n",
       "</div>"
      ],
      "text/plain": [
       "   eucDistanceFromRiderToCustomer  Merchant.Lat  Merchant.Lng Customer.lat  \\\n",
       "0                     2054.506158     13.692471    100.378297    13.687792   \n",
       "1                     4520.757816     13.866007    100.497420    13.869973   \n",
       "2                     2433.782431     13.937330    100.625068    13.954999   \n",
       "3                     7307.835737     13.743053    100.624662    13.738476   \n",
       "4                     7431.350201     13.802771    100.782363    13.769007   \n",
       "\n",
       "  Customer.lng  \n",
       "0     100.3599  \n",
       "1   100.455743  \n",
       "2   100.611758  \n",
       "3   100.692156  \n",
       "4   100.722973  "
      ]
     },
     "execution_count": 95,
     "metadata": {},
     "output_type": "execute_result"
    }
   ],
   "source": [
    "import time\n",
    "df_without_target = X.copy()\n",
    "df_without_target.head()"
   ]
  },
  {
   "cell_type": "code",
   "execution_count": 49,
   "metadata": {},
   "outputs": [
    {
     "name": "stdout",
     "output_type": "stream",
     "text": [
      "Mean duration: 0.05 seconds\n",
      "Median duration: 0.05 seconds\n",
      "Standard deviation: 0.00 seconds\n"
     ]
    }
   ],
   "source": [
    "n = 100\n",
    "durations = []\n",
    "for i in range(n):\n",
    "    start_time = time.time()\n",
    "    sample_data = df_without_target.sample(1)\n",
    "    result = reg.predict(sample_data)\n",
    "    end_time = time.time()\n",
    "    duration = end_time - start_time\n",
    "    durations.append(duration)\n",
    "duration_mean = np.mean(durations)\n",
    "duration_median = np.median(durations)\n",
    "duration_std =  np.std(durations)\n",
    "print(\"Mean duration: {:.2f} seconds\".format(duration_mean))\n",
    "print(\"Median duration: {:.2f} seconds\".format(duration_median))\n",
    "print(\"Standard deviation: {:.2f} seconds\".format(duration_std))"
   ]
  },
  {
   "cell_type": "code",
   "execution_count": 50,
   "metadata": {},
   "outputs": [],
   "source": [
    "pred = reg.predict(X)"
   ]
  },
  {
   "cell_type": "code",
   "execution_count": 103,
   "metadata": {},
   "outputs": [
    {
     "data": {
      "text/html": [
       "<div>\n",
       "<style scoped>\n",
       "    .dataframe tbody tr th:only-of-type {\n",
       "        vertical-align: middle;\n",
       "    }\n",
       "\n",
       "    .dataframe tbody tr th {\n",
       "        vertical-align: top;\n",
       "    }\n",
       "\n",
       "    .dataframe thead th {\n",
       "        text-align: right;\n",
       "    }\n",
       "</style>\n",
       "<table border=\"1\" class=\"dataframe\">\n",
       "  <thead>\n",
       "    <tr style=\"text-align: right;\">\n",
       "      <th></th>\n",
       "      <th>prediction</th>\n",
       "      <th>actual</th>\n",
       "    </tr>\n",
       "  </thead>\n",
       "  <tbody>\n",
       "    <tr>\n",
       "      <th>58</th>\n",
       "      <td>15.820004</td>\n",
       "      <td>13.0</td>\n",
       "    </tr>\n",
       "    <tr>\n",
       "      <th>142</th>\n",
       "      <td>18.212667</td>\n",
       "      <td>18.0</td>\n",
       "    </tr>\n",
       "    <tr>\n",
       "      <th>78</th>\n",
       "      <td>17.791247</td>\n",
       "      <td>18.0</td>\n",
       "    </tr>\n",
       "    <tr>\n",
       "      <th>233</th>\n",
       "      <td>13.903984</td>\n",
       "      <td>10.0</td>\n",
       "    </tr>\n",
       "    <tr>\n",
       "      <th>194</th>\n",
       "      <td>14.418292</td>\n",
       "      <td>13.0</td>\n",
       "    </tr>\n",
       "    <tr>\n",
       "      <th>203</th>\n",
       "      <td>13.586924</td>\n",
       "      <td>15.0</td>\n",
       "    </tr>\n",
       "    <tr>\n",
       "      <th>175</th>\n",
       "      <td>9.777132</td>\n",
       "      <td>15.0</td>\n",
       "    </tr>\n",
       "    <tr>\n",
       "      <th>225</th>\n",
       "      <td>6.886319</td>\n",
       "      <td>6.0</td>\n",
       "    </tr>\n",
       "    <tr>\n",
       "      <th>85</th>\n",
       "      <td>25.686070</td>\n",
       "      <td>26.0</td>\n",
       "    </tr>\n",
       "    <tr>\n",
       "      <th>145</th>\n",
       "      <td>9.471302</td>\n",
       "      <td>9.0</td>\n",
       "    </tr>\n",
       "  </tbody>\n",
       "</table>\n",
       "</div>"
      ],
      "text/plain": [
       "     prediction  actual\n",
       "58    15.820004    13.0\n",
       "142   18.212667    18.0\n",
       "78    17.791247    18.0\n",
       "233   13.903984    10.0\n",
       "194   14.418292    13.0\n",
       "203   13.586924    15.0\n",
       "175    9.777132    15.0\n",
       "225    6.886319     6.0\n",
       "85    25.686070    26.0\n",
       "145    9.471302     9.0"
      ]
     },
     "execution_count": 103,
     "metadata": {},
     "output_type": "execute_result"
    }
   ],
   "source": [
    "pd.DataFrame({\"prediction\":pred, \"actual\":y}).sample(10)"
   ]
  },
  {
   "cell_type": "code",
   "execution_count": 104,
   "metadata": {},
   "outputs": [
    {
     "data": {
      "text/plain": [
       "(271, 15)"
      ]
     },
     "execution_count": 104,
     "metadata": {},
     "output_type": "execute_result"
    }
   ],
   "source": [
    "df.shape"
   ]
  },
  {
   "cell_type": "code",
   "execution_count": 106,
   "metadata": {},
   "outputs": [
    {
     "data": {
      "image/png": "[encoded data removed]",
      "text/plain": [
       "<Figure size 720x720 with 1 Axes>"
      ]
     },
     "metadata": {
      "needs_background": "light"
     },
     "output_type": "display_data"
    }
   ],
   "source": [
    "ax = X.plot(kind='scatter', x=\"Merchant.Lng\", y=\"Merchant.Lat\", color='r')    \n",
    "ax = X.plot(kind='scatter', x=\"Customer.lng\", y=\"Customer.lat\", color='g', ax=ax)\n",
    "ax.axes.set_aspect('equal')\n",
    "ax.figure.set_size_inches(10,10)"
   ]
  },
  {
   "cell_type": "code",
   "execution_count": null,
   "metadata": {},
   "outputs": [],
   "source": []
  }
 ],
 "metadata": {
  "kernelspec": {
   "display_name": "Python 3.9.12 ('EAT')",
   "language": "python",
   "name": "python3"
  },
  "language_info": {
   "codemirror_mode": {
    "name": "ipython",
    "version": 3
   },
   "file_extension": ".py",
   "mimetype": "text/x-python",
   "name": "python",
   "nbconvert_exporter": "python",
   "pygments_lexer": "ipython3",
   "version": "3.9.12"
  },
  "orig_nbformat": 4,
  "vscode": {
   "interpreter": {
    "hash": "e873fd8460d25e2b7d13238b75f01f142c4b8abc313241c193ed6eac1548f508"
   }
  }
 },
 "nbformat": 4,
 "nbformat_minor": 2
}
