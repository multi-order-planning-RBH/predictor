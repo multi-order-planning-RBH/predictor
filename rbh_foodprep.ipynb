{
 "cells": [
  {
   "cell_type": "markdown",
   "metadata": {},
   "source": [
    "# Food Preparation Time estimation"
   ]
  },
  {
   "cell_type": "markdown",
   "metadata": {},
   "source": [
    "## 1. Data Preparation"
   ]
  },
  {
   "cell_type": "markdown",
   "metadata": {},
   "source": [
    "### 1.1 Import libraries"
   ]
  },
  {
   "cell_type": "code",
   "execution_count": 59,
   "metadata": {},
   "outputs": [],
   "source": [
    "import numpy as np\n",
    "import pandas as pd\n",
    "\n",
    "import datetime\n",
    "from datetime import time, date, datetime\n",
    "\n",
    "import matplotlib.pyplot as plt\n",
    "from mpl_toolkits.mplot3d import Axes3D\n",
    "\n",
    "import seaborn as sns\n",
    "\n",
    "import sklearn\n",
    "from sklearn.preprocessing import OneHotEncoder\n",
    "from sklearn.decomposition import PCA\n",
    "from sklearn.manifold import TSNE\n",
    "from sklearn.model_selection import train_test_split\n",
    "from sklearn import metrics\n",
    "\n",
    "from sklearn.ensemble import RandomForestRegressor\n",
    "from sklearn.ensemble import GradientBoostingRegressor\n",
    "from sklearn.model_selection import cross_validate"
   ]
  },
  {
   "cell_type": "markdown",
   "metadata": {},
   "source": [
    "### 1.2 Exploratory Data Analysis (EDA)"
   ]
  },
  {
   "cell_type": "markdown",
   "metadata": {},
   "source": [
    "### 1.2.1 Examine daata"
   ]
  },
  {
   "cell_type": "code",
   "execution_count": 60,
   "metadata": {},
   "outputs": [],
   "source": [
    "# Read in the data\n",
    "df = pd.read_excel(\"Capstone SampleData 14days.xlsx\", sheet_name=\"Sheet1\", header=0)"
   ]
  },
  {
   "cell_type": "code",
   "execution_count": 61,
   "metadata": {},
   "outputs": [
    {
     "data": {
      "text/html": [
       "<div>\n",
       "<style scoped>\n",
       "    .dataframe tbody tr th:only-of-type {\n",
       "        vertical-align: middle;\n",
       "    }\n",
       "\n",
       "    .dataframe tbody tr th {\n",
       "        vertical-align: top;\n",
       "    }\n",
       "\n",
       "    .dataframe thead th {\n",
       "        text-align: right;\n",
       "    }\n",
       "</style>\n",
       "<table border=\"1\" class=\"dataframe\">\n",
       "  <thead>\n",
       "    <tr style=\"text-align: right;\">\n",
       "      <th></th>\n",
       "      <th>JobAcceptedDate</th>\n",
       "      <th>jobAcceptedTime</th>\n",
       "      <th>calledMerchantTime</th>\n",
       "      <th>arrivedAtMerchantTime</th>\n",
       "      <th>mealPickedUpTime</th>\n",
       "      <th>arrivedAtCustLocationTime</th>\n",
       "      <th>foodDeliveredTime</th>\n",
       "      <th>riderInitial.lat</th>\n",
       "      <th>riderInitial.long</th>\n",
       "      <th>Merchant.Lat</th>\n",
       "      <th>Merchant.Lng</th>\n",
       "      <th>Customer.lat</th>\n",
       "      <th>Customer.lng</th>\n",
       "      <th>MerchantName</th>\n",
       "      <th>NationFoodCategory</th>\n",
       "      <th>FoodCategories</th>\n",
       "    </tr>\n",
       "  </thead>\n",
       "  <tbody>\n",
       "    <tr>\n",
       "      <th>0</th>\n",
       "      <td>2020-10-03</td>\n",
       "      <td>20:39:15.840000</td>\n",
       "      <td>20:40:51.840000</td>\n",
       "      <td>20:48:19.840000</td>\n",
       "      <td>20:49:18.840000</td>\n",
       "      <td>21:14:09.840000</td>\n",
       "      <td>21:15:12.840000</td>\n",
       "      <td>13.825853</td>\n",
       "      <td>100.551958</td>\n",
       "      <td>13.825703</td>\n",
       "      <td>100.559309</td>\n",
       "      <td>13.756065</td>\n",
       "      <td>100.562375</td>\n",
       "      <td>3K SEA ZABB</td>\n",
       "      <td>Thai</td>\n",
       "      <td>อาหารทะเล</td>\n",
       "    </tr>\n",
       "    <tr>\n",
       "      <th>1</th>\n",
       "      <td>2020-10-01</td>\n",
       "      <td>12:54:34.560000</td>\n",
       "      <td>12:55:38.560000</td>\n",
       "      <td>13:10:26.560000</td>\n",
       "      <td>13:24:56.560000</td>\n",
       "      <td>14:01:00.560000</td>\n",
       "      <td>14:01:39.560000</td>\n",
       "      <td>13.819283</td>\n",
       "      <td>100.561874</td>\n",
       "      <td>13.831056</td>\n",
       "      <td>100.570731</td>\n",
       "      <td>13.774685</td>\n",
       "      <td>100.573913</td>\n",
       "      <td>ร้านอาหารอีสานแม่อลิส</td>\n",
       "      <td>Thai</td>\n",
       "      <td>อาหารอีสาน</td>\n",
       "    </tr>\n",
       "    <tr>\n",
       "      <th>2</th>\n",
       "      <td>2020-10-01</td>\n",
       "      <td>12:32:06.720000</td>\n",
       "      <td>12:32:21.720000</td>\n",
       "      <td>12:41:08.720000</td>\n",
       "      <td>12:46:41.720000</td>\n",
       "      <td>13:22:01.720000</td>\n",
       "      <td>13:22:53.720000</td>\n",
       "      <td>13.827041</td>\n",
       "      <td>100.554284</td>\n",
       "      <td>13.827205</td>\n",
       "      <td>100.536048</td>\n",
       "      <td>13.743898</td>\n",
       "      <td>100.571659</td>\n",
       "      <td>ไก่ย่างห้าดาว กรุงเทพ-นนท์44</td>\n",
       "      <td>Thai</td>\n",
       "      <td>Fast Food</td>\n",
       "    </tr>\n",
       "    <tr>\n",
       "      <th>3</th>\n",
       "      <td>2020-10-03</td>\n",
       "      <td>13:19:03.360000</td>\n",
       "      <td>13:20:04.360000</td>\n",
       "      <td>13:32:37.360000</td>\n",
       "      <td>13:45:46.360000</td>\n",
       "      <td>14:14:28.360000</td>\n",
       "      <td>14:15:47.360000</td>\n",
       "      <td>13.820453</td>\n",
       "      <td>100.557910</td>\n",
       "      <td>13.840180</td>\n",
       "      <td>100.542326</td>\n",
       "      <td>13.803957</td>\n",
       "      <td>100.513704</td>\n",
       "      <td>กิวกิวเต้ ประชาชื่น</td>\n",
       "      <td>Japanese</td>\n",
       "      <td>ปิ้งย่าง</td>\n",
       "    </tr>\n",
       "    <tr>\n",
       "      <th>4</th>\n",
       "      <td>2020-10-13</td>\n",
       "      <td>11:08:26.880000</td>\n",
       "      <td>11:09:03.880000</td>\n",
       "      <td>11:13:43.880000</td>\n",
       "      <td>11:15:32.880000</td>\n",
       "      <td>11:40:26.880000</td>\n",
       "      <td>11:41:23.880000</td>\n",
       "      <td>13.825773</td>\n",
       "      <td>100.567170</td>\n",
       "      <td>13.827034</td>\n",
       "      <td>100.564534</td>\n",
       "      <td>13.775817</td>\n",
       "      <td>100.575734</td>\n",
       "      <td>ร้านอาหาร วินเทส</td>\n",
       "      <td>Thai</td>\n",
       "      <td>อาหารตามสั่ง</td>\n",
       "    </tr>\n",
       "  </tbody>\n",
       "</table>\n",
       "</div>"
      ],
      "text/plain": [
       "  JobAcceptedDate  jobAcceptedTime calledMerchantTime arrivedAtMerchantTime  \\\n",
       "0      2020-10-03  20:39:15.840000    20:40:51.840000       20:48:19.840000   \n",
       "1      2020-10-01  12:54:34.560000    12:55:38.560000       13:10:26.560000   \n",
       "2      2020-10-01  12:32:06.720000    12:32:21.720000       12:41:08.720000   \n",
       "3      2020-10-03  13:19:03.360000    13:20:04.360000       13:32:37.360000   \n",
       "4      2020-10-13  11:08:26.880000    11:09:03.880000       11:13:43.880000   \n",
       "\n",
       "  mealPickedUpTime arrivedAtCustLocationTime foodDeliveredTime  \\\n",
       "0  20:49:18.840000           21:14:09.840000   21:15:12.840000   \n",
       "1  13:24:56.560000           14:01:00.560000   14:01:39.560000   \n",
       "2  12:46:41.720000           13:22:01.720000   13:22:53.720000   \n",
       "3  13:45:46.360000           14:14:28.360000   14:15:47.360000   \n",
       "4  11:15:32.880000           11:40:26.880000   11:41:23.880000   \n",
       "\n",
       "   riderInitial.lat  riderInitial.long  Merchant.Lat  Merchant.Lng  \\\n",
       "0         13.825853         100.551958     13.825703    100.559309   \n",
       "1         13.819283         100.561874     13.831056    100.570731   \n",
       "2         13.827041         100.554284     13.827205    100.536048   \n",
       "3         13.820453         100.557910     13.840180    100.542326   \n",
       "4         13.825773         100.567170     13.827034    100.564534   \n",
       "\n",
       "   Customer.lat  Customer.lng                  MerchantName  \\\n",
       "0     13.756065    100.562375                   3K SEA ZABB   \n",
       "1     13.774685    100.573913         ร้านอาหารอีสานแม่อลิส   \n",
       "2     13.743898    100.571659  ไก่ย่างห้าดาว กรุงเทพ-นนท์44   \n",
       "3     13.803957    100.513704           กิวกิวเต้ ประชาชื่น   \n",
       "4     13.775817    100.575734              ร้านอาหาร วินเทส   \n",
       "\n",
       "  NationFoodCategory FoodCategories  \n",
       "0               Thai      อาหารทะเล  \n",
       "1               Thai     อาหารอีสาน  \n",
       "2               Thai      Fast Food  \n",
       "3           Japanese       ปิ้งย่าง  \n",
       "4               Thai   อาหารตามสั่ง  "
      ]
     },
     "execution_count": 61,
     "metadata": {},
     "output_type": "execute_result"
    }
   ],
   "source": [
    "# Check the data types\n",
    "df.head()"
   ]
  },
  {
   "cell_type": "code",
   "execution_count": 62,
   "metadata": {},
   "outputs": [
    {
     "data": {
      "text/plain": [
       "Thai             8652\n",
       "International     939\n",
       "Japanese          179\n",
       "Vietnam           103\n",
       "Isram              45\n",
       "Korean             45\n",
       "Myanmar            37\n",
       "Name: NationFoodCategory, dtype: int64"
      ]
     },
     "execution_count": 62,
     "metadata": {},
     "output_type": "execute_result"
    }
   ],
   "source": [
    "df[\"NationFoodCategory\"].value_counts()"
   ]
  },
  {
   "cell_type": "code",
   "execution_count": 63,
   "metadata": {},
   "outputs": [
    {
     "data": {
      "text/plain": [
       "อาหารตามสั่ง      6201\n",
       "อาหารอีสาน         976\n",
       "ร้านก๋วยเตี๋ยว     917\n",
       "อาหารทะเล          429\n",
       "อาหารจานด่วน       335\n",
       "สปาเก็ตตี้         173\n",
       "ของหวาน            145\n",
       "สเต๊ก              111\n",
       "อาหารเหนือ         110\n",
       "ขนมจีน              66\n",
       "สุกี้ยากี้          57\n",
       "อาหารคลีน           56\n",
       "ปิ้งย่าง            53\n",
       "เครื่องดื่ม         53\n",
       "พิซซ่า              52\n",
       "Quick Meal          48\n",
       "อาหารใต้            47\n",
       "อาหารฮาลาล          45\n",
       "ร้านอาหาร           45\n",
       "Fast Food           44\n",
       "ไก่ทอด              37\n",
       "Name: FoodCategories, dtype: int64"
      ]
     },
     "execution_count": 63,
     "metadata": {},
     "output_type": "execute_result"
    }
   ],
   "source": [
    "df[\"FoodCategories\"].value_counts()"
   ]
  },
  {
   "cell_type": "code",
   "execution_count": 64,
   "metadata": {},
   "outputs": [
    {
     "data": {
      "text/plain": [
       "(10000, 16)"
      ]
     },
     "execution_count": 64,
     "metadata": {},
     "output_type": "execute_result"
    }
   ],
   "source": [
    "# Check the data shape\n",
    "df.shape"
   ]
  },
  {
   "cell_type": "markdown",
   "metadata": {},
   "source": [
    "### 1.2.2 Remove unused columns"
   ]
  },
  {
   "cell_type": "code",
   "execution_count": 65,
   "metadata": {},
   "outputs": [
    {
     "data": {
      "text/html": [
       "<div>\n",
       "<style scoped>\n",
       "    .dataframe tbody tr th:only-of-type {\n",
       "        vertical-align: middle;\n",
       "    }\n",
       "\n",
       "    .dataframe tbody tr th {\n",
       "        vertical-align: top;\n",
       "    }\n",
       "\n",
       "    .dataframe thead th {\n",
       "        text-align: right;\n",
       "    }\n",
       "</style>\n",
       "<table border=\"1\" class=\"dataframe\">\n",
       "  <thead>\n",
       "    <tr style=\"text-align: right;\">\n",
       "      <th></th>\n",
       "      <th>JobAcceptedDate</th>\n",
       "      <th>calledMerchantTime</th>\n",
       "      <th>arrivedAtMerchantTime</th>\n",
       "      <th>riderInitial.lat</th>\n",
       "      <th>riderInitial.long</th>\n",
       "      <th>Merchant.Lat</th>\n",
       "      <th>Merchant.Lng</th>\n",
       "      <th>NationFoodCategory</th>\n",
       "      <th>FoodCategories</th>\n",
       "    </tr>\n",
       "  </thead>\n",
       "  <tbody>\n",
       "    <tr>\n",
       "      <th>0</th>\n",
       "      <td>2020-10-03</td>\n",
       "      <td>20:40:51.840000</td>\n",
       "      <td>20:48:19.840000</td>\n",
       "      <td>13.825853</td>\n",
       "      <td>100.551958</td>\n",
       "      <td>13.825703</td>\n",
       "      <td>100.559309</td>\n",
       "      <td>Thai</td>\n",
       "      <td>อาหารทะเล</td>\n",
       "    </tr>\n",
       "    <tr>\n",
       "      <th>1</th>\n",
       "      <td>2020-10-01</td>\n",
       "      <td>12:55:38.560000</td>\n",
       "      <td>13:10:26.560000</td>\n",
       "      <td>13.819283</td>\n",
       "      <td>100.561874</td>\n",
       "      <td>13.831056</td>\n",
       "      <td>100.570731</td>\n",
       "      <td>Thai</td>\n",
       "      <td>อาหารอีสาน</td>\n",
       "    </tr>\n",
       "    <tr>\n",
       "      <th>2</th>\n",
       "      <td>2020-10-01</td>\n",
       "      <td>12:32:21.720000</td>\n",
       "      <td>12:41:08.720000</td>\n",
       "      <td>13.827041</td>\n",
       "      <td>100.554284</td>\n",
       "      <td>13.827205</td>\n",
       "      <td>100.536048</td>\n",
       "      <td>Thai</td>\n",
       "      <td>Fast Food</td>\n",
       "    </tr>\n",
       "  </tbody>\n",
       "</table>\n",
       "</div>"
      ],
      "text/plain": [
       "  JobAcceptedDate calledMerchantTime arrivedAtMerchantTime  riderInitial.lat  \\\n",
       "0      2020-10-03    20:40:51.840000       20:48:19.840000         13.825853   \n",
       "1      2020-10-01    12:55:38.560000       13:10:26.560000         13.819283   \n",
       "2      2020-10-01    12:32:21.720000       12:41:08.720000         13.827041   \n",
       "\n",
       "   riderInitial.long  Merchant.Lat  Merchant.Lng NationFoodCategory  \\\n",
       "0         100.551958     13.825703    100.559309               Thai   \n",
       "1         100.561874     13.831056    100.570731               Thai   \n",
       "2         100.554284     13.827205    100.536048               Thai   \n",
       "\n",
       "  FoodCategories  \n",
       "0      อาหารทะเล  \n",
       "1     อาหารอีสาน  \n",
       "2      Fast Food  "
      ]
     },
     "metadata": {},
     "output_type": "display_data"
    }
   ],
   "source": [
    "# Remove the columns that are not needed\n",
    "drop_list = [\"jobAcceptedTime\",\n",
    "             \"mealPickedUpTime\",\n",
    "             \"arrivedAtCustLocationTime\",\n",
    "             \"foodDeliveredTime\",\n",
    "             \"Customer.lat\",\n",
    "             \"Customer.lng\",\n",
    "             \"MerchantName\"]\n",
    "try:\n",
    "    df.drop(drop_list, axis=1, inplace=True)\n",
    "except KeyError:\n",
    "    print(\"Columns already removed\")\n",
    "\n",
    "display(df.head(3))"
   ]
  },
  {
   "cell_type": "markdown",
   "metadata": {},
   "source": [
    "### 1.2.3 Change data types (time, date -> datetime)\n",
    "datetime data type can find interval but both time and date data types cannot."
   ]
  },
  {
   "cell_type": "code",
   "execution_count": 66,
   "metadata": {},
   "outputs": [],
   "source": [
    "def to_datetime(df, date_col, time_col):\n",
    "    return pd.to_datetime(df[date_col].astype(str) + \" \" + df[time_col].astype(str))"
   ]
  },
  {
   "cell_type": "code",
   "execution_count": 67,
   "metadata": {},
   "outputs": [],
   "source": [
    "if not isinstance(df[\"calledMerchantTime\"].iloc[0], datetime):\n",
    "    df[\"calledMerchantTime\"]    = to_datetime(df, \"JobAcceptedDate\", \"calledMerchantTime\")\n",
    "if not isinstance(df[\"arrivedAtMerchantTime\"].iloc[0], datetime):\n",
    "    df[\"arrivedAtMerchantTime\"] = to_datetime(df, \"JobAcceptedDate\", \"arrivedAtMerchantTime\")"
   ]
  },
  {
   "cell_type": "markdown",
   "metadata": {},
   "source": [
    "### 1.2.3 Create target from existed columns"
   ]
  },
  {
   "cell_type": "code",
   "execution_count": 68,
   "metadata": {},
   "outputs": [],
   "source": [
    "df[\"FoodPrepTime\"] = df[\"arrivedAtMerchantTime\"] - df[\"calledMerchantTime\"] # rider to merchant (1)\n",
    "# TODO -> arrive time , pickup (pickup - arrivedAtMerchantTime) pickup time (2) , (1) + (2) = foodprep\n",
    "df[\"FoodPrepTime (s)\"] = df[\"FoodPrepTime\"].apply(lambda x: x.total_seconds())\n",
    "df[\"FoodPrepTime (m)\"] = df[\"FoodPrepTime\"].apply(lambda x: round(x.total_seconds()/60))"
   ]
  },
  {
   "cell_type": "code",
   "execution_count": 69,
   "metadata": {},
   "outputs": [
    {
     "data": {
      "text/html": [
       "<div>\n",
       "<style scoped>\n",
       "    .dataframe tbody tr th:only-of-type {\n",
       "        vertical-align: middle;\n",
       "    }\n",
       "\n",
       "    .dataframe tbody tr th {\n",
       "        vertical-align: top;\n",
       "    }\n",
       "\n",
       "    .dataframe thead th {\n",
       "        text-align: right;\n",
       "    }\n",
       "</style>\n",
       "<table border=\"1\" class=\"dataframe\">\n",
       "  <thead>\n",
       "    <tr style=\"text-align: right;\">\n",
       "      <th></th>\n",
       "      <th>riderInitial.lat</th>\n",
       "      <th>riderInitial.long</th>\n",
       "      <th>Merchant.Lat</th>\n",
       "      <th>Merchant.Lng</th>\n",
       "      <th>NationFoodCategory</th>\n",
       "      <th>FoodCategories</th>\n",
       "      <th>FoodPrepTime (s)</th>\n",
       "      <th>FoodPrepTime (m)</th>\n",
       "    </tr>\n",
       "  </thead>\n",
       "  <tbody>\n",
       "    <tr>\n",
       "      <th>0</th>\n",
       "      <td>13.825853</td>\n",
       "      <td>100.551958</td>\n",
       "      <td>13.825703</td>\n",
       "      <td>100.559309</td>\n",
       "      <td>Thai</td>\n",
       "      <td>อาหารทะเล</td>\n",
       "      <td>448.0</td>\n",
       "      <td>7</td>\n",
       "    </tr>\n",
       "    <tr>\n",
       "      <th>1</th>\n",
       "      <td>13.819283</td>\n",
       "      <td>100.561874</td>\n",
       "      <td>13.831056</td>\n",
       "      <td>100.570731</td>\n",
       "      <td>Thai</td>\n",
       "      <td>อาหารอีสาน</td>\n",
       "      <td>888.0</td>\n",
       "      <td>15</td>\n",
       "    </tr>\n",
       "    <tr>\n",
       "      <th>2</th>\n",
       "      <td>13.827041</td>\n",
       "      <td>100.554284</td>\n",
       "      <td>13.827205</td>\n",
       "      <td>100.536048</td>\n",
       "      <td>Thai</td>\n",
       "      <td>Fast Food</td>\n",
       "      <td>527.0</td>\n",
       "      <td>9</td>\n",
       "    </tr>\n",
       "  </tbody>\n",
       "</table>\n",
       "</div>"
      ],
      "text/plain": [
       "   riderInitial.lat  riderInitial.long  Merchant.Lat  Merchant.Lng  \\\n",
       "0         13.825853         100.551958     13.825703    100.559309   \n",
       "1         13.819283         100.561874     13.831056    100.570731   \n",
       "2         13.827041         100.554284     13.827205    100.536048   \n",
       "\n",
       "  NationFoodCategory FoodCategories  FoodPrepTime (s)  FoodPrepTime (m)  \n",
       "0               Thai      อาหารทะเล             448.0                 7  \n",
       "1               Thai     อาหารอีสาน             888.0                15  \n",
       "2               Thai      Fast Food             527.0                 9  "
      ]
     },
     "metadata": {},
     "output_type": "display_data"
    }
   ],
   "source": [
    "# Remove the columns that are not needed\n",
    "drop_list = [\"JobAcceptedDate\",\n",
    "             \"arrivedAtMerchantTime\",\n",
    "             \"calledMerchantTime\",\n",
    "             \"FoodPrepTime\"]\n",
    "try:\n",
    "    df.drop(drop_list, axis=1, inplace=True)\n",
    "except KeyError:\n",
    "    print(\"Columns already removed\")\n",
    "\n",
    "display(df.head(3))"
   ]
  },
  {
   "cell_type": "code",
   "execution_count": 70,
   "metadata": {},
   "outputs": [
    {
     "data": {
      "text/plain": [
       "count    10000.000000\n",
       "mean       586.018500\n",
       "std        255.406457\n",
       "min        180.000000\n",
       "25%        399.000000\n",
       "50%        543.000000\n",
       "75%        753.000000\n",
       "max       1499.000000\n",
       "Name: FoodPrepTime (s), dtype: float64"
      ]
     },
     "execution_count": 70,
     "metadata": {},
     "output_type": "execute_result"
    }
   ],
   "source": [
    "df[\"FoodPrepTime (s)\"].describe()"
   ]
  },
  {
   "cell_type": "code",
   "execution_count": 71,
   "metadata": {},
   "outputs": [
    {
     "data": {
      "text/plain": [
       "<AxesSubplot: >"
      ]
     },
     "execution_count": 71,
     "metadata": {},
     "output_type": "execute_result"
    },
    {
     "data": {
      "image/png": "[encoded data removed]",
      "text/plain": [
       "<Figure size 432x288 with 1 Axes>"
      ]
     },
     "metadata": {
      "needs_background": "light"
     },
     "output_type": "display_data"
    }
   ],
   "source": [
    "df[\"FoodPrepTime (s)\"].hist()"
   ]
  },
  {
   "cell_type": "code",
   "execution_count": 72,
   "metadata": {},
   "outputs": [
    {
     "data": {
      "text/plain": [
       "count    10000.000000\n",
       "mean         9.764600\n",
       "std          4.273548\n",
       "min          3.000000\n",
       "25%          7.000000\n",
       "50%          9.000000\n",
       "75%         13.000000\n",
       "max         25.000000\n",
       "Name: FoodPrepTime (m), dtype: float64"
      ]
     },
     "execution_count": 72,
     "metadata": {},
     "output_type": "execute_result"
    }
   ],
   "source": [
    "df[\"FoodPrepTime (m)\"].describe()"
   ]
  },
  {
   "cell_type": "code",
   "execution_count": 73,
   "metadata": {},
   "outputs": [
    {
     "data": {
      "text/plain": [
       "<AxesSubplot: >"
      ]
     },
     "execution_count": 73,
     "metadata": {},
     "output_type": "execute_result"
    },
    {
     "data": {
      "image/png": "[encoded data removed]",
      "text/plain": [
       "<Figure size 432x288 with 1 Axes>"
      ]
     },
     "metadata": {
      "needs_background": "light"
     },
     "output_type": "display_data"
    }
   ],
   "source": [
    "df[\"FoodPrepTime (m)\"].hist()"
   ]
  },
  {
   "cell_type": "code",
   "execution_count": 74,
   "metadata": {},
   "outputs": [
    {
     "data": {
      "text/html": [
       "<div>\n",
       "<style scoped>\n",
       "    .dataframe tbody tr th:only-of-type {\n",
       "        vertical-align: middle;\n",
       "    }\n",
       "\n",
       "    .dataframe tbody tr th {\n",
       "        vertical-align: top;\n",
       "    }\n",
       "\n",
       "    .dataframe thead th {\n",
       "        text-align: right;\n",
       "    }\n",
       "</style>\n",
       "<table border=\"1\" class=\"dataframe\">\n",
       "  <thead>\n",
       "    <tr style=\"text-align: right;\">\n",
       "      <th></th>\n",
       "      <th>riderInitial.lat</th>\n",
       "      <th>riderInitial.long</th>\n",
       "      <th>Merchant.Lat</th>\n",
       "      <th>Merchant.Lng</th>\n",
       "      <th>NationFoodCategory</th>\n",
       "      <th>FoodCategories</th>\n",
       "      <th>FoodPrepTime (s)</th>\n",
       "      <th>FoodPrepTime (m)</th>\n",
       "    </tr>\n",
       "  </thead>\n",
       "  <tbody>\n",
       "    <tr>\n",
       "      <th>0</th>\n",
       "      <td>13.825853</td>\n",
       "      <td>100.551958</td>\n",
       "      <td>13.825703</td>\n",
       "      <td>100.559309</td>\n",
       "      <td>Thai</td>\n",
       "      <td>อาหารทะเล</td>\n",
       "      <td>448.0</td>\n",
       "      <td>7</td>\n",
       "    </tr>\n",
       "    <tr>\n",
       "      <th>1</th>\n",
       "      <td>13.819283</td>\n",
       "      <td>100.561874</td>\n",
       "      <td>13.831056</td>\n",
       "      <td>100.570731</td>\n",
       "      <td>Thai</td>\n",
       "      <td>อาหารอีสาน</td>\n",
       "      <td>888.0</td>\n",
       "      <td>15</td>\n",
       "    </tr>\n",
       "  </tbody>\n",
       "</table>\n",
       "</div>"
      ],
      "text/plain": [
       "   riderInitial.lat  riderInitial.long  Merchant.Lat  Merchant.Lng  \\\n",
       "0         13.825853         100.551958     13.825703    100.559309   \n",
       "1         13.819283         100.561874     13.831056    100.570731   \n",
       "\n",
       "  NationFoodCategory FoodCategories  FoodPrepTime (s)  FoodPrepTime (m)  \n",
       "0               Thai      อาหารทะเล             448.0                 7  \n",
       "1               Thai     อาหารอีสาน             888.0                15  "
      ]
     },
     "execution_count": 74,
     "metadata": {},
     "output_type": "execute_result"
    }
   ],
   "source": [
    "df.head(2)"
   ]
  },
  {
   "cell_type": "markdown",
   "metadata": {},
   "source": [
    "## 2. Categorical data"
   ]
  },
  {
   "cell_type": "code",
   "execution_count": 75,
   "metadata": {},
   "outputs": [
    {
     "data": {
      "text/plain": [
       "7"
      ]
     },
     "execution_count": 75,
     "metadata": {},
     "output_type": "execute_result"
    }
   ],
   "source": [
    "len(df[\"NationFoodCategory\"].unique())"
   ]
  },
  {
   "cell_type": "code",
   "execution_count": 76,
   "metadata": {},
   "outputs": [
    {
     "data": {
      "text/plain": [
       "21"
      ]
     },
     "execution_count": 76,
     "metadata": {},
     "output_type": "execute_result"
    }
   ],
   "source": [
    "len(df[\"FoodCategories\"].unique())"
   ]
  },
  {
   "cell_type": "code",
   "execution_count": 77,
   "metadata": {},
   "outputs": [],
   "source": [
    "# Remove the columns that are not needed\n",
    "nominal_columns = [\"NationFoodCategory\",\n",
    "                    \"FoodCategories\"]"
   ]
  },
  {
   "cell_type": "code",
   "execution_count": 78,
   "metadata": {},
   "outputs": [],
   "source": [
    "dummy_df = pd.get_dummies(df[nominal_columns], drop_first=False)\n",
    "df = pd.concat([df, dummy_df], axis=1)\n",
    "df = df.drop(nominal_columns, axis=1)"
   ]
  },
  {
   "cell_type": "code",
   "execution_count": 79,
   "metadata": {},
   "outputs": [],
   "source": [
    "target = df[[\"FoodPrepTime (s)\", \"FoodPrepTime (m)\"]]\n",
    "attr = df.drop([\"FoodPrepTime (s)\", \"FoodPrepTime (m)\"], axis=1)\n",
    "df = pd.merge(attr, target, left_index=True, right_index=True)\n",
    "# df.to_csv(\"Sample 14days_foodprep (cleaned).csv\", index=False)"
   ]
  },
  {
   "cell_type": "code",
   "execution_count": 80,
   "metadata": {},
   "outputs": [],
   "source": [
    "y_s = df.pop(\"FoodPrepTime (s)\")\n",
    "y_m = df.pop(\"FoodPrepTime (m)\")\n",
    "X = df.copy()\n"
   ]
  },
  {
   "cell_type": "markdown",
   "metadata": {},
   "source": [
    "## 3. predict as second"
   ]
  },
  {
   "cell_type": "code",
   "execution_count": 81,
   "metadata": {},
   "outputs": [],
   "source": [
    "X_train, X_test, y_train, y_test = train_test_split(X, y_s, test_size=0.30, random_state=0)"
   ]
  },
  {
   "cell_type": "code",
   "execution_count": 82,
   "metadata": {},
   "outputs": [
    {
     "data": {
      "text/html": [
       "<div>\n",
       "<style scoped>\n",
       "    .dataframe tbody tr th:only-of-type {\n",
       "        vertical-align: middle;\n",
       "    }\n",
       "\n",
       "    .dataframe tbody tr th {\n",
       "        vertical-align: top;\n",
       "    }\n",
       "\n",
       "    .dataframe thead th {\n",
       "        text-align: right;\n",
       "    }\n",
       "</style>\n",
       "<table border=\"1\" class=\"dataframe\">\n",
       "  <thead>\n",
       "    <tr style=\"text-align: right;\">\n",
       "      <th></th>\n",
       "      <th>riderInitial.lat</th>\n",
       "      <th>riderInitial.long</th>\n",
       "      <th>Merchant.Lat</th>\n",
       "      <th>Merchant.Lng</th>\n",
       "      <th>NationFoodCategory_International</th>\n",
       "      <th>NationFoodCategory_Isram</th>\n",
       "      <th>NationFoodCategory_Japanese</th>\n",
       "      <th>NationFoodCategory_Korean</th>\n",
       "      <th>NationFoodCategory_Myanmar</th>\n",
       "      <th>NationFoodCategory_Thai</th>\n",
       "      <th>...</th>\n",
       "      <th>FoodCategories_อาหารคลีน</th>\n",
       "      <th>FoodCategories_อาหารจานด่วน</th>\n",
       "      <th>FoodCategories_อาหารตามสั่ง</th>\n",
       "      <th>FoodCategories_อาหารทะเล</th>\n",
       "      <th>FoodCategories_อาหารอีสาน</th>\n",
       "      <th>FoodCategories_อาหารฮาลาล</th>\n",
       "      <th>FoodCategories_อาหารเหนือ</th>\n",
       "      <th>FoodCategories_อาหารใต้</th>\n",
       "      <th>FoodCategories_เครื่องดื่ม</th>\n",
       "      <th>FoodCategories_ไก่ทอด</th>\n",
       "    </tr>\n",
       "  </thead>\n",
       "  <tbody>\n",
       "    <tr>\n",
       "      <th>7681</th>\n",
       "      <td>13.821047</td>\n",
       "      <td>100.552567</td>\n",
       "      <td>13.838594</td>\n",
       "      <td>100.538436</td>\n",
       "      <td>0</td>\n",
       "      <td>0</td>\n",
       "      <td>0</td>\n",
       "      <td>0</td>\n",
       "      <td>0</td>\n",
       "      <td>1</td>\n",
       "      <td>...</td>\n",
       "      <td>0</td>\n",
       "      <td>0</td>\n",
       "      <td>1</td>\n",
       "      <td>0</td>\n",
       "      <td>0</td>\n",
       "      <td>0</td>\n",
       "      <td>0</td>\n",
       "      <td>0</td>\n",
       "      <td>0</td>\n",
       "      <td>0</td>\n",
       "    </tr>\n",
       "    <tr>\n",
       "      <th>9031</th>\n",
       "      <td>13.822144</td>\n",
       "      <td>100.546690</td>\n",
       "      <td>13.840193</td>\n",
       "      <td>100.548363</td>\n",
       "      <td>1</td>\n",
       "      <td>0</td>\n",
       "      <td>0</td>\n",
       "      <td>0</td>\n",
       "      <td>0</td>\n",
       "      <td>0</td>\n",
       "      <td>...</td>\n",
       "      <td>0</td>\n",
       "      <td>0</td>\n",
       "      <td>0</td>\n",
       "      <td>0</td>\n",
       "      <td>0</td>\n",
       "      <td>0</td>\n",
       "      <td>0</td>\n",
       "      <td>0</td>\n",
       "      <td>0</td>\n",
       "      <td>0</td>\n",
       "    </tr>\n",
       "    <tr>\n",
       "      <th>3691</th>\n",
       "      <td>13.822933</td>\n",
       "      <td>100.553381</td>\n",
       "      <td>13.827034</td>\n",
       "      <td>100.564534</td>\n",
       "      <td>0</td>\n",
       "      <td>0</td>\n",
       "      <td>0</td>\n",
       "      <td>0</td>\n",
       "      <td>0</td>\n",
       "      <td>1</td>\n",
       "      <td>...</td>\n",
       "      <td>0</td>\n",
       "      <td>0</td>\n",
       "      <td>1</td>\n",
       "      <td>0</td>\n",
       "      <td>0</td>\n",
       "      <td>0</td>\n",
       "      <td>0</td>\n",
       "      <td>0</td>\n",
       "      <td>0</td>\n",
       "      <td>0</td>\n",
       "    </tr>\n",
       "    <tr>\n",
       "      <th>202</th>\n",
       "      <td>13.824288</td>\n",
       "      <td>100.563142</td>\n",
       "      <td>13.839772</td>\n",
       "      <td>100.551639</td>\n",
       "      <td>0</td>\n",
       "      <td>0</td>\n",
       "      <td>0</td>\n",
       "      <td>0</td>\n",
       "      <td>0</td>\n",
       "      <td>1</td>\n",
       "      <td>...</td>\n",
       "      <td>0</td>\n",
       "      <td>0</td>\n",
       "      <td>1</td>\n",
       "      <td>0</td>\n",
       "      <td>0</td>\n",
       "      <td>0</td>\n",
       "      <td>0</td>\n",
       "      <td>0</td>\n",
       "      <td>0</td>\n",
       "      <td>0</td>\n",
       "    </tr>\n",
       "    <tr>\n",
       "      <th>5625</th>\n",
       "      <td>13.822967</td>\n",
       "      <td>100.559944</td>\n",
       "      <td>13.823278</td>\n",
       "      <td>100.574473</td>\n",
       "      <td>0</td>\n",
       "      <td>0</td>\n",
       "      <td>0</td>\n",
       "      <td>0</td>\n",
       "      <td>0</td>\n",
       "      <td>1</td>\n",
       "      <td>...</td>\n",
       "      <td>0</td>\n",
       "      <td>0</td>\n",
       "      <td>1</td>\n",
       "      <td>0</td>\n",
       "      <td>0</td>\n",
       "      <td>0</td>\n",
       "      <td>0</td>\n",
       "      <td>0</td>\n",
       "      <td>0</td>\n",
       "      <td>0</td>\n",
       "    </tr>\n",
       "    <tr>\n",
       "      <th>...</th>\n",
       "      <td>...</td>\n",
       "      <td>...</td>\n",
       "      <td>...</td>\n",
       "      <td>...</td>\n",
       "      <td>...</td>\n",
       "      <td>...</td>\n",
       "      <td>...</td>\n",
       "      <td>...</td>\n",
       "      <td>...</td>\n",
       "      <td>...</td>\n",
       "      <td>...</td>\n",
       "      <td>...</td>\n",
       "      <td>...</td>\n",
       "      <td>...</td>\n",
       "      <td>...</td>\n",
       "      <td>...</td>\n",
       "      <td>...</td>\n",
       "      <td>...</td>\n",
       "      <td>...</td>\n",
       "      <td>...</td>\n",
       "      <td>...</td>\n",
       "    </tr>\n",
       "    <tr>\n",
       "      <th>9225</th>\n",
       "      <td>13.827778</td>\n",
       "      <td>100.561269</td>\n",
       "      <td>13.827652</td>\n",
       "      <td>100.567833</td>\n",
       "      <td>0</td>\n",
       "      <td>0</td>\n",
       "      <td>0</td>\n",
       "      <td>0</td>\n",
       "      <td>0</td>\n",
       "      <td>1</td>\n",
       "      <td>...</td>\n",
       "      <td>0</td>\n",
       "      <td>0</td>\n",
       "      <td>1</td>\n",
       "      <td>0</td>\n",
       "      <td>0</td>\n",
       "      <td>0</td>\n",
       "      <td>0</td>\n",
       "      <td>0</td>\n",
       "      <td>0</td>\n",
       "      <td>0</td>\n",
       "    </tr>\n",
       "    <tr>\n",
       "      <th>4859</th>\n",
       "      <td>13.827772</td>\n",
       "      <td>100.558415</td>\n",
       "      <td>13.839772</td>\n",
       "      <td>100.551639</td>\n",
       "      <td>0</td>\n",
       "      <td>0</td>\n",
       "      <td>0</td>\n",
       "      <td>0</td>\n",
       "      <td>0</td>\n",
       "      <td>1</td>\n",
       "      <td>...</td>\n",
       "      <td>0</td>\n",
       "      <td>0</td>\n",
       "      <td>1</td>\n",
       "      <td>0</td>\n",
       "      <td>0</td>\n",
       "      <td>0</td>\n",
       "      <td>0</td>\n",
       "      <td>0</td>\n",
       "      <td>0</td>\n",
       "      <td>0</td>\n",
       "    </tr>\n",
       "    <tr>\n",
       "      <th>3264</th>\n",
       "      <td>13.826384</td>\n",
       "      <td>100.547067</td>\n",
       "      <td>13.827034</td>\n",
       "      <td>100.564534</td>\n",
       "      <td>0</td>\n",
       "      <td>0</td>\n",
       "      <td>0</td>\n",
       "      <td>0</td>\n",
       "      <td>0</td>\n",
       "      <td>1</td>\n",
       "      <td>...</td>\n",
       "      <td>0</td>\n",
       "      <td>0</td>\n",
       "      <td>1</td>\n",
       "      <td>0</td>\n",
       "      <td>0</td>\n",
       "      <td>0</td>\n",
       "      <td>0</td>\n",
       "      <td>0</td>\n",
       "      <td>0</td>\n",
       "      <td>0</td>\n",
       "    </tr>\n",
       "    <tr>\n",
       "      <th>9845</th>\n",
       "      <td>13.828216</td>\n",
       "      <td>100.557497</td>\n",
       "      <td>13.824620</td>\n",
       "      <td>100.563396</td>\n",
       "      <td>0</td>\n",
       "      <td>0</td>\n",
       "      <td>1</td>\n",
       "      <td>0</td>\n",
       "      <td>0</td>\n",
       "      <td>0</td>\n",
       "      <td>...</td>\n",
       "      <td>0</td>\n",
       "      <td>0</td>\n",
       "      <td>0</td>\n",
       "      <td>0</td>\n",
       "      <td>0</td>\n",
       "      <td>0</td>\n",
       "      <td>0</td>\n",
       "      <td>0</td>\n",
       "      <td>0</td>\n",
       "      <td>0</td>\n",
       "    </tr>\n",
       "    <tr>\n",
       "      <th>2732</th>\n",
       "      <td>13.827052</td>\n",
       "      <td>100.567137</td>\n",
       "      <td>13.827034</td>\n",
       "      <td>100.564534</td>\n",
       "      <td>0</td>\n",
       "      <td>0</td>\n",
       "      <td>0</td>\n",
       "      <td>0</td>\n",
       "      <td>0</td>\n",
       "      <td>1</td>\n",
       "      <td>...</td>\n",
       "      <td>0</td>\n",
       "      <td>0</td>\n",
       "      <td>1</td>\n",
       "      <td>0</td>\n",
       "      <td>0</td>\n",
       "      <td>0</td>\n",
       "      <td>0</td>\n",
       "      <td>0</td>\n",
       "      <td>0</td>\n",
       "      <td>0</td>\n",
       "    </tr>\n",
       "  </tbody>\n",
       "</table>\n",
       "<p>7000 rows × 32 columns</p>\n",
       "</div>"
      ],
      "text/plain": [
       "      riderInitial.lat  riderInitial.long  Merchant.Lat  Merchant.Lng  \\\n",
       "7681         13.821047         100.552567     13.838594    100.538436   \n",
       "9031         13.822144         100.546690     13.840193    100.548363   \n",
       "3691         13.822933         100.553381     13.827034    100.564534   \n",
       "202          13.824288         100.563142     13.839772    100.551639   \n",
       "5625         13.822967         100.559944     13.823278    100.574473   \n",
       "...                ...                ...           ...           ...   \n",
       "9225         13.827778         100.561269     13.827652    100.567833   \n",
       "4859         13.827772         100.558415     13.839772    100.551639   \n",
       "3264         13.826384         100.547067     13.827034    100.564534   \n",
       "9845         13.828216         100.557497     13.824620    100.563396   \n",
       "2732         13.827052         100.567137     13.827034    100.564534   \n",
       "\n",
       "      NationFoodCategory_International  NationFoodCategory_Isram  \\\n",
       "7681                                 0                         0   \n",
       "9031                                 1                         0   \n",
       "3691                                 0                         0   \n",
       "202                                  0                         0   \n",
       "5625                                 0                         0   \n",
       "...                                ...                       ...   \n",
       "9225                                 0                         0   \n",
       "4859                                 0                         0   \n",
       "3264                                 0                         0   \n",
       "9845                                 0                         0   \n",
       "2732                                 0                         0   \n",
       "\n",
       "      NationFoodCategory_Japanese  NationFoodCategory_Korean  \\\n",
       "7681                            0                          0   \n",
       "9031                            0                          0   \n",
       "3691                            0                          0   \n",
       "202                             0                          0   \n",
       "5625                            0                          0   \n",
       "...                           ...                        ...   \n",
       "9225                            0                          0   \n",
       "4859                            0                          0   \n",
       "3264                            0                          0   \n",
       "9845                            1                          0   \n",
       "2732                            0                          0   \n",
       "\n",
       "      NationFoodCategory_Myanmar  NationFoodCategory_Thai  ...  \\\n",
       "7681                           0                        1  ...   \n",
       "9031                           0                        0  ...   \n",
       "3691                           0                        1  ...   \n",
       "202                            0                        1  ...   \n",
       "5625                           0                        1  ...   \n",
       "...                          ...                      ...  ...   \n",
       "9225                           0                        1  ...   \n",
       "4859                           0                        1  ...   \n",
       "3264                           0                        1  ...   \n",
       "9845                           0                        0  ...   \n",
       "2732                           0                        1  ...   \n",
       "\n",
       "      FoodCategories_อาหารคลีน  FoodCategories_อาหารจานด่วน  \\\n",
       "7681                         0                            0   \n",
       "9031                         0                            0   \n",
       "3691                         0                            0   \n",
       "202                          0                            0   \n",
       "5625                         0                            0   \n",
       "...                        ...                          ...   \n",
       "9225                         0                            0   \n",
       "4859                         0                            0   \n",
       "3264                         0                            0   \n",
       "9845                         0                            0   \n",
       "2732                         0                            0   \n",
       "\n",
       "      FoodCategories_อาหารตามสั่ง  FoodCategories_อาหารทะเล  \\\n",
       "7681                            1                         0   \n",
       "9031                            0                         0   \n",
       "3691                            1                         0   \n",
       "202                             1                         0   \n",
       "5625                            1                         0   \n",
       "...                           ...                       ...   \n",
       "9225                            1                         0   \n",
       "4859                            1                         0   \n",
       "3264                            1                         0   \n",
       "9845                            0                         0   \n",
       "2732                            1                         0   \n",
       "\n",
       "      FoodCategories_อาหารอีสาน  FoodCategories_อาหารฮาลาล  \\\n",
       "7681                          0                          0   \n",
       "9031                          0                          0   \n",
       "3691                          0                          0   \n",
       "202                           0                          0   \n",
       "5625                          0                          0   \n",
       "...                         ...                        ...   \n",
       "9225                          0                          0   \n",
       "4859                          0                          0   \n",
       "3264                          0                          0   \n",
       "9845                          0                          0   \n",
       "2732                          0                          0   \n",
       "\n",
       "      FoodCategories_อาหารเหนือ  FoodCategories_อาหารใต้  \\\n",
       "7681                          0                        0   \n",
       "9031                          0                        0   \n",
       "3691                          0                        0   \n",
       "202                           0                        0   \n",
       "5625                          0                        0   \n",
       "...                         ...                      ...   \n",
       "9225                          0                        0   \n",
       "4859                          0                        0   \n",
       "3264                          0                        0   \n",
       "9845                          0                        0   \n",
       "2732                          0                        0   \n",
       "\n",
       "      FoodCategories_เครื่องดื่ม  FoodCategories_ไก่ทอด  \n",
       "7681                           0                      0  \n",
       "9031                           0                      0  \n",
       "3691                           0                      0  \n",
       "202                            0                      0  \n",
       "5625                           0                      0  \n",
       "...                          ...                    ...  \n",
       "9225                           0                      0  \n",
       "4859                           0                      0  \n",
       "3264                           0                      0  \n",
       "9845                           0                      0  \n",
       "2732                           0                      0  \n",
       "\n",
       "[7000 rows x 32 columns]"
      ]
     },
     "execution_count": 82,
     "metadata": {},
     "output_type": "execute_result"
    }
   ],
   "source": [
    "X_train"
   ]
  },
  {
   "cell_type": "code",
   "execution_count": 83,
   "metadata": {},
   "outputs": [
    {
     "name": "stdout",
     "output_type": "stream",
     "text": [
      "Train R-square score:  0.9816698005517983\n"
     ]
    }
   ],
   "source": [
    "reg = GradientBoostingRegressor(n_estimators=1000, max_depth=7, random_state=0)\n",
    "reg.fit(X_train, y_train)\n",
    "score = reg.score(X_train, y_train)\n",
    "print(\"Train R-square score: \", score)"
   ]
  },
  {
   "cell_type": "code",
   "execution_count": 84,
   "metadata": {},
   "outputs": [],
   "source": [
    "predictions = reg.predict(X_test)"
   ]
  },
  {
   "cell_type": "code",
   "execution_count": 85,
   "metadata": {},
   "outputs": [
    {
     "data": {
      "text/plain": [
       "<matplotlib.collections.PathCollection at 0x16e4f79a460>"
      ]
     },
     "execution_count": 85,
     "metadata": {},
     "output_type": "execute_result"
    },
    {
     "data": {
      "image/png": "[encoded data removed]",
      "text/plain": [
       "<Figure size 432x288 with 1 Axes>"
      ]
     },
     "metadata": {
      "needs_background": "light"
     },
     "output_type": "display_data"
    }
   ],
   "source": [
    "plt.scatter(y_test, predictions)"
   ]
  },
  {
   "cell_type": "code",
   "execution_count": 86,
   "metadata": {},
   "outputs": [
    {
     "name": "stderr",
     "output_type": "stream",
     "text": [
      "C:\\Users\\PoraRee\\AppData\\Local\\Temp/ipykernel_27516/3290896071.py:1: UserWarning: \n",
      "\n",
      "`distplot` is a deprecated function and will be removed in seaborn v0.14.0.\n",
      "\n",
      "Please adapt your code to use either `displot` (a figure-level function with\n",
      "similar flexibility) or `histplot` (an axes-level function for histograms).\n",
      "\n",
      "For a guide to updating your code to use the new functions, please see\n",
      "https://gist.github.com/mwaskom/de44147ed2974457ad6372750bbe5751\n",
      "\n",
      "  sns.distplot((y_test-predictions), bins=50);\n"
     ]
    },
    {
     "data": {
      "image/png": "[encoded data removed]",
      "text/plain": [
       "<Figure size 432x288 with 1 Axes>"
      ]
     },
     "metadata": {
      "needs_background": "light"
     },
     "output_type": "display_data"
    }
   ],
   "source": [
    "sns.distplot((y_test-predictions), bins=50);"
   ]
  },
  {
   "cell_type": "code",
   "execution_count": 87,
   "metadata": {},
   "outputs": [
    {
     "name": "stdout",
     "output_type": "stream",
     "text": [
      "MAE: 147.77092513691994\n",
      "MSE: 33324.58074565971\n",
      "RMSE: 182.55021431282876\n"
     ]
    }
   ],
   "source": [
    "print('MAE:', metrics.mean_absolute_error(y_test, predictions))\n",
    "print('MSE:', metrics.mean_squared_error(y_test, predictions))\n",
    "print('RMSE:', np.sqrt(metrics.mean_squared_error(y_test, predictions)))"
   ]
  },
  {
   "cell_type": "code",
   "execution_count": 88,
   "metadata": {},
   "outputs": [],
   "source": [
    "result_s = pd.DataFrame({\"predict\": predictions, \"actual\": y_test})"
   ]
  },
  {
   "cell_type": "code",
   "execution_count": 89,
   "metadata": {},
   "outputs": [
    {
     "data": {
      "text/html": [
       "<div>\n",
       "<style scoped>\n",
       "    .dataframe tbody tr th:only-of-type {\n",
       "        vertical-align: middle;\n",
       "    }\n",
       "\n",
       "    .dataframe tbody tr th {\n",
       "        vertical-align: top;\n",
       "    }\n",
       "\n",
       "    .dataframe thead th {\n",
       "        text-align: right;\n",
       "    }\n",
       "</style>\n",
       "<table border=\"1\" class=\"dataframe\">\n",
       "  <thead>\n",
       "    <tr style=\"text-align: right;\">\n",
       "      <th></th>\n",
       "      <th>predict</th>\n",
       "      <th>actual</th>\n",
       "    </tr>\n",
       "  </thead>\n",
       "  <tbody>\n",
       "    <tr>\n",
       "      <th>1029</th>\n",
       "      <td>658.895949</td>\n",
       "      <td>945.0</td>\n",
       "    </tr>\n",
       "    <tr>\n",
       "      <th>3667</th>\n",
       "      <td>448.679425</td>\n",
       "      <td>637.0</td>\n",
       "    </tr>\n",
       "    <tr>\n",
       "      <th>9896</th>\n",
       "      <td>903.017634</td>\n",
       "      <td>704.0</td>\n",
       "    </tr>\n",
       "    <tr>\n",
       "      <th>2984</th>\n",
       "      <td>565.928633</td>\n",
       "      <td>550.0</td>\n",
       "    </tr>\n",
       "    <tr>\n",
       "      <th>1326</th>\n",
       "      <td>379.439219</td>\n",
       "      <td>552.0</td>\n",
       "    </tr>\n",
       "    <tr>\n",
       "      <th>1373</th>\n",
       "      <td>518.322057</td>\n",
       "      <td>535.0</td>\n",
       "    </tr>\n",
       "    <tr>\n",
       "      <th>8095</th>\n",
       "      <td>294.942218</td>\n",
       "      <td>348.0</td>\n",
       "    </tr>\n",
       "    <tr>\n",
       "      <th>234</th>\n",
       "      <td>372.003899</td>\n",
       "      <td>456.0</td>\n",
       "    </tr>\n",
       "    <tr>\n",
       "      <th>1037</th>\n",
       "      <td>634.020714</td>\n",
       "      <td>884.0</td>\n",
       "    </tr>\n",
       "    <tr>\n",
       "      <th>3681</th>\n",
       "      <td>477.308316</td>\n",
       "      <td>590.0</td>\n",
       "    </tr>\n",
       "  </tbody>\n",
       "</table>\n",
       "</div>"
      ],
      "text/plain": [
       "         predict  actual\n",
       "1029  658.895949   945.0\n",
       "3667  448.679425   637.0\n",
       "9896  903.017634   704.0\n",
       "2984  565.928633   550.0\n",
       "1326  379.439219   552.0\n",
       "1373  518.322057   535.0\n",
       "8095  294.942218   348.0\n",
       "234   372.003899   456.0\n",
       "1037  634.020714   884.0\n",
       "3681  477.308316   590.0"
      ]
     },
     "execution_count": 89,
     "metadata": {},
     "output_type": "execute_result"
    }
   ],
   "source": [
    "result_s.sample(10)"
   ]
  },
  {
   "cell_type": "markdown",
   "metadata": {},
   "source": [
    "## 4. predict as minute"
   ]
  },
  {
   "cell_type": "code",
   "execution_count": 90,
   "metadata": {},
   "outputs": [],
   "source": [
    "X_train, X_test, y_train, y_test = train_test_split(X, y_m, test_size=0.30, random_state=0)"
   ]
  },
  {
   "cell_type": "code",
   "execution_count": 91,
   "metadata": {},
   "outputs": [
    {
     "name": "stdout",
     "output_type": "stream",
     "text": [
      "Train R-square score:  0.9830662596371232\n"
     ]
    }
   ],
   "source": [
    "reg = GradientBoostingRegressor(n_estimators=1000, max_depth=7, random_state=0)\n",
    "reg.fit(X_train, y_train)\n",
    "score = reg.score(X_train, y_train)\n",
    "print(\"Train R-square score: \", score)"
   ]
  },
  {
   "cell_type": "code",
   "execution_count": 92,
   "metadata": {},
   "outputs": [],
   "source": [
    "predictions = reg.predict(X_test)"
   ]
  },
  {
   "cell_type": "code",
   "execution_count": 93,
   "metadata": {},
   "outputs": [
    {
     "data": {
      "text/plain": [
       "<matplotlib.collections.PathCollection at 0x16e4a3fea30>"
      ]
     },
     "execution_count": 93,
     "metadata": {},
     "output_type": "execute_result"
    },
    {
     "data": {
      "image/png": "[encoded data removed]",
      "text/plain": [
       "<Figure size 432x288 with 1 Axes>"
      ]
     },
     "metadata": {
      "needs_background": "light"
     },
     "output_type": "display_data"
    }
   ],
   "source": [
    "plt.scatter(y_test, predictions)"
   ]
  },
  {
   "cell_type": "code",
   "execution_count": 94,
   "metadata": {},
   "outputs": [
    {
     "name": "stderr",
     "output_type": "stream",
     "text": [
      "C:\\Users\\PoraRee\\AppData\\Local\\Temp/ipykernel_27516/3290896071.py:1: UserWarning: \n",
      "\n",
      "`distplot` is a deprecated function and will be removed in seaborn v0.14.0.\n",
      "\n",
      "Please adapt your code to use either `displot` (a figure-level function with\n",
      "similar flexibility) or `histplot` (an axes-level function for histograms).\n",
      "\n",
      "For a guide to updating your code to use the new functions, please see\n",
      "https://gist.github.com/mwaskom/de44147ed2974457ad6372750bbe5751\n",
      "\n",
      "  sns.distplot((y_test-predictions), bins=50);\n"
     ]
    },
    {
     "data": {
      "image/png": "[encoded data removed]",
      "text/plain": [
       "<Figure size 432x288 with 1 Axes>"
      ]
     },
     "metadata": {
      "needs_background": "light"
     },
     "output_type": "display_data"
    }
   ],
   "source": [
    "sns.distplot((y_test-predictions), bins=50);"
   ]
  },
  {
   "cell_type": "code",
   "execution_count": 95,
   "metadata": {},
   "outputs": [
    {
     "name": "stdout",
     "output_type": "stream",
     "text": [
      "MAE: 2.4886058759793324\n",
      "MSE: 9.475106727182565\n",
      "RMSE: 3.0781661305365837\n"
     ]
    }
   ],
   "source": [
    "print('MAE:', metrics.mean_absolute_error(y_test, predictions))\n",
    "print('MSE:', metrics.mean_squared_error(y_test, predictions))\n",
    "print('RMSE:', np.sqrt(metrics.mean_squared_error(y_test, predictions)))"
   ]
  },
  {
   "cell_type": "code",
   "execution_count": 96,
   "metadata": {},
   "outputs": [],
   "source": [
    "result_m = pd.DataFrame({\"predict\": predictions, \"actual\": y_test})"
   ]
  },
  {
   "cell_type": "code",
   "execution_count": 97,
   "metadata": {},
   "outputs": [
    {
     "data": {
      "text/html": [
       "<div>\n",
       "<style scoped>\n",
       "    .dataframe tbody tr th:only-of-type {\n",
       "        vertical-align: middle;\n",
       "    }\n",
       "\n",
       "    .dataframe tbody tr th {\n",
       "        vertical-align: top;\n",
       "    }\n",
       "\n",
       "    .dataframe thead th {\n",
       "        text-align: right;\n",
       "    }\n",
       "</style>\n",
       "<table border=\"1\" class=\"dataframe\">\n",
       "  <thead>\n",
       "    <tr style=\"text-align: right;\">\n",
       "      <th></th>\n",
       "      <th>predict</th>\n",
       "      <th>actual</th>\n",
       "    </tr>\n",
       "  </thead>\n",
       "  <tbody>\n",
       "    <tr>\n",
       "      <th>103</th>\n",
       "      <td>6.302294</td>\n",
       "      <td>7</td>\n",
       "    </tr>\n",
       "    <tr>\n",
       "      <th>787</th>\n",
       "      <td>8.049421</td>\n",
       "      <td>4</td>\n",
       "    </tr>\n",
       "    <tr>\n",
       "      <th>5920</th>\n",
       "      <td>12.001490</td>\n",
       "      <td>12</td>\n",
       "    </tr>\n",
       "    <tr>\n",
       "      <th>4954</th>\n",
       "      <td>10.839621</td>\n",
       "      <td>13</td>\n",
       "    </tr>\n",
       "    <tr>\n",
       "      <th>2686</th>\n",
       "      <td>9.171951</td>\n",
       "      <td>6</td>\n",
       "    </tr>\n",
       "    <tr>\n",
       "      <th>7432</th>\n",
       "      <td>7.187022</td>\n",
       "      <td>7</td>\n",
       "    </tr>\n",
       "    <tr>\n",
       "      <th>938</th>\n",
       "      <td>11.968389</td>\n",
       "      <td>7</td>\n",
       "    </tr>\n",
       "    <tr>\n",
       "      <th>9752</th>\n",
       "      <td>15.617855</td>\n",
       "      <td>10</td>\n",
       "    </tr>\n",
       "    <tr>\n",
       "      <th>7980</th>\n",
       "      <td>5.733098</td>\n",
       "      <td>9</td>\n",
       "    </tr>\n",
       "    <tr>\n",
       "      <th>675</th>\n",
       "      <td>6.950768</td>\n",
       "      <td>4</td>\n",
       "    </tr>\n",
       "  </tbody>\n",
       "</table>\n",
       "</div>"
      ],
      "text/plain": [
       "        predict  actual\n",
       "103    6.302294       7\n",
       "787    8.049421       4\n",
       "5920  12.001490      12\n",
       "4954  10.839621      13\n",
       "2686   9.171951       6\n",
       "7432   7.187022       7\n",
       "938   11.968389       7\n",
       "9752  15.617855      10\n",
       "7980   5.733098       9\n",
       "675    6.950768       4"
      ]
     },
     "execution_count": 97,
     "metadata": {},
     "output_type": "execute_result"
    }
   ],
   "source": [
    "result_m.sample(10)"
   ]
  },
  {
   "cell_type": "code",
   "execution_count": 110,
   "metadata": {},
   "outputs": [
    {
     "name": "stdout",
     "output_type": "stream",
     "text": [
      "[ 3  1  0  2 24 17 26 25  9  4 23 14  6 11 21 30 20 19 15 29 13 28 31 22\n",
      " 10  8 18 16  7  5 12 27]\n",
      "Index(['Merchant.Lng', 'riderInitial.long', 'riderInitial.lat', 'Merchant.Lat',\n",
      "       'FoodCategories_อาหารตามสั่ง', 'FoodCategories_ร้านก๋วยเตี๋ยว',\n",
      "       'FoodCategories_อาหารอีสาน', 'FoodCategories_อาหารทะเล',\n",
      "       'NationFoodCategory_Thai', 'NationFoodCategory_International',\n",
      "       'FoodCategories_อาหารจานด่วน', 'FoodCategories_ของหวาน',\n",
      "       'NationFoodCategory_Japanese', 'FoodCategories_Fast Food',\n",
      "       'FoodCategories_สเต๊ก', 'FoodCategories_เครื่องดื่ม',\n",
      "       'FoodCategories_สุกี้ยากี้', 'FoodCategories_สปาเก็ตตี้',\n",
      "       'FoodCategories_ปิ้งย่าง', 'FoodCategories_อาหารใต้',\n",
      "       'FoodCategories_ขนมจีน', 'FoodCategories_อาหารเหนือ',\n",
      "       'FoodCategories_ไก่ทอด', 'FoodCategories_อาหารคลีน',\n",
      "       'NationFoodCategory_Vietnam', 'NationFoodCategory_Myanmar',\n",
      "       'FoodCategories_ร้านอาหาร', 'FoodCategories_พิซซ่า',\n",
      "       'NationFoodCategory_Korean', 'NationFoodCategory_Isram',\n",
      "       'FoodCategories_Quick Meal', 'FoodCategories_อาหารฮาลาล'],\n",
      "      dtype='object')\n",
      "['0.4076342109699674' '0.3037359243503431' '0.15466094597178892'\n",
      " '0.09802565271917599' '0.006520857123524152' '0.004408170819557313'\n",
      " '0.003759079010578286' '0.0030340977845448956' '0.0028107472708264044'\n",
      " '0.0016586714394169755' '0.0015651562917398773' '0.0012996732536828383'\n",
      " '0.0009442487879033315' '0.000927192310791596' '0.0008928314534505492'\n",
      " '0.0008570377626082343' '0.0008216477756852202' '0.0007951460056842064'\n",
      " '0.0007044048005096382' '0.0006741064713150821' '0.0006691235137558326'\n",
      " '0.0006282858263899627' '0.000624451925523398' '0.0005124245465710891'\n",
      " '0.00041128985520074996' '0.0002827362897885903' '0.00021239608080151368'\n",
      " '0.00020692325381548488' '0.00020608123102849827' '0.0002031441016391784'\n",
      " '0.00018794253097095362' '0.00012539847142067415']\n"
     ]
    }
   ],
   "source": [
    "\n",
    "# TODO: show the feature importance\n",
    "print(np.argsort(reg.feature_importances_)[::-1])\n",
    "print(df.columns[np.argsort(reg.feature_importances_)[::-1]])\n",
    "print(reg.feature_importances_[np.argsort(reg.feature_importances_)[::-1]].astype(\"str\"))"
   ]
  },
  {
   "cell_type": "code",
   "execution_count": 100,
   "metadata": {},
   "outputs": [
    {
     "data": {
      "text/html": [
       "<div>\n",
       "<style scoped>\n",
       "    .dataframe tbody tr th:only-of-type {\n",
       "        vertical-align: middle;\n",
       "    }\n",
       "\n",
       "    .dataframe tbody tr th {\n",
       "        vertical-align: top;\n",
       "    }\n",
       "\n",
       "    .dataframe thead th {\n",
       "        text-align: right;\n",
       "    }\n",
       "</style>\n",
       "<table border=\"1\" class=\"dataframe\">\n",
       "  <thead>\n",
       "    <tr style=\"text-align: right;\">\n",
       "      <th></th>\n",
       "      <th>riderInitial.lat</th>\n",
       "      <th>riderInitial.long</th>\n",
       "      <th>Merchant.Lat</th>\n",
       "      <th>Merchant.Lng</th>\n",
       "      <th>NationFoodCategory_International</th>\n",
       "      <th>NationFoodCategory_Isram</th>\n",
       "      <th>NationFoodCategory_Japanese</th>\n",
       "      <th>NationFoodCategory_Korean</th>\n",
       "      <th>NationFoodCategory_Myanmar</th>\n",
       "      <th>NationFoodCategory_Thai</th>\n",
       "      <th>...</th>\n",
       "      <th>FoodCategories_อาหารคลีน</th>\n",
       "      <th>FoodCategories_อาหารจานด่วน</th>\n",
       "      <th>FoodCategories_อาหารตามสั่ง</th>\n",
       "      <th>FoodCategories_อาหารทะเล</th>\n",
       "      <th>FoodCategories_อาหารอีสาน</th>\n",
       "      <th>FoodCategories_อาหารฮาลาล</th>\n",
       "      <th>FoodCategories_อาหารเหนือ</th>\n",
       "      <th>FoodCategories_อาหารใต้</th>\n",
       "      <th>FoodCategories_เครื่องดื่ม</th>\n",
       "      <th>FoodCategories_ไก่ทอด</th>\n",
       "    </tr>\n",
       "  </thead>\n",
       "  <tbody>\n",
       "    <tr>\n",
       "      <th>0</th>\n",
       "      <td>13.825853</td>\n",
       "      <td>100.551958</td>\n",
       "      <td>13.825703</td>\n",
       "      <td>100.559309</td>\n",
       "      <td>0</td>\n",
       "      <td>0</td>\n",
       "      <td>0</td>\n",
       "      <td>0</td>\n",
       "      <td>0</td>\n",
       "      <td>1</td>\n",
       "      <td>...</td>\n",
       "      <td>0</td>\n",
       "      <td>0</td>\n",
       "      <td>0</td>\n",
       "      <td>1</td>\n",
       "      <td>0</td>\n",
       "      <td>0</td>\n",
       "      <td>0</td>\n",
       "      <td>0</td>\n",
       "      <td>0</td>\n",
       "      <td>0</td>\n",
       "    </tr>\n",
       "    <tr>\n",
       "      <th>1</th>\n",
       "      <td>13.819283</td>\n",
       "      <td>100.561874</td>\n",
       "      <td>13.831056</td>\n",
       "      <td>100.570731</td>\n",
       "      <td>0</td>\n",
       "      <td>0</td>\n",
       "      <td>0</td>\n",
       "      <td>0</td>\n",
       "      <td>0</td>\n",
       "      <td>1</td>\n",
       "      <td>...</td>\n",
       "      <td>0</td>\n",
       "      <td>0</td>\n",
       "      <td>0</td>\n",
       "      <td>0</td>\n",
       "      <td>1</td>\n",
       "      <td>0</td>\n",
       "      <td>0</td>\n",
       "      <td>0</td>\n",
       "      <td>0</td>\n",
       "      <td>0</td>\n",
       "    </tr>\n",
       "    <tr>\n",
       "      <th>2</th>\n",
       "      <td>13.827041</td>\n",
       "      <td>100.554284</td>\n",
       "      <td>13.827205</td>\n",
       "      <td>100.536048</td>\n",
       "      <td>0</td>\n",
       "      <td>0</td>\n",
       "      <td>0</td>\n",
       "      <td>0</td>\n",
       "      <td>0</td>\n",
       "      <td>1</td>\n",
       "      <td>...</td>\n",
       "      <td>0</td>\n",
       "      <td>0</td>\n",
       "      <td>0</td>\n",
       "      <td>0</td>\n",
       "      <td>0</td>\n",
       "      <td>0</td>\n",
       "      <td>0</td>\n",
       "      <td>0</td>\n",
       "      <td>0</td>\n",
       "      <td>0</td>\n",
       "    </tr>\n",
       "    <tr>\n",
       "      <th>3</th>\n",
       "      <td>13.820453</td>\n",
       "      <td>100.557910</td>\n",
       "      <td>13.840180</td>\n",
       "      <td>100.542326</td>\n",
       "      <td>0</td>\n",
       "      <td>0</td>\n",
       "      <td>1</td>\n",
       "      <td>0</td>\n",
       "      <td>0</td>\n",
       "      <td>0</td>\n",
       "      <td>...</td>\n",
       "      <td>0</td>\n",
       "      <td>0</td>\n",
       "      <td>0</td>\n",
       "      <td>0</td>\n",
       "      <td>0</td>\n",
       "      <td>0</td>\n",
       "      <td>0</td>\n",
       "      <td>0</td>\n",
       "      <td>0</td>\n",
       "      <td>0</td>\n",
       "    </tr>\n",
       "    <tr>\n",
       "      <th>4</th>\n",
       "      <td>13.825773</td>\n",
       "      <td>100.567170</td>\n",
       "      <td>13.827034</td>\n",
       "      <td>100.564534</td>\n",
       "      <td>0</td>\n",
       "      <td>0</td>\n",
       "      <td>0</td>\n",
       "      <td>0</td>\n",
       "      <td>0</td>\n",
       "      <td>1</td>\n",
       "      <td>...</td>\n",
       "      <td>0</td>\n",
       "      <td>0</td>\n",
       "      <td>1</td>\n",
       "      <td>0</td>\n",
       "      <td>0</td>\n",
       "      <td>0</td>\n",
       "      <td>0</td>\n",
       "      <td>0</td>\n",
       "      <td>0</td>\n",
       "      <td>0</td>\n",
       "    </tr>\n",
       "  </tbody>\n",
       "</table>\n",
       "<p>5 rows × 32 columns</p>\n",
       "</div>"
      ],
      "text/plain": [
       "   riderInitial.lat  riderInitial.long  Merchant.Lat  Merchant.Lng  \\\n",
       "0         13.825853         100.551958     13.825703    100.559309   \n",
       "1         13.819283         100.561874     13.831056    100.570731   \n",
       "2         13.827041         100.554284     13.827205    100.536048   \n",
       "3         13.820453         100.557910     13.840180    100.542326   \n",
       "4         13.825773         100.567170     13.827034    100.564534   \n",
       "\n",
       "   NationFoodCategory_International  NationFoodCategory_Isram  \\\n",
       "0                                 0                         0   \n",
       "1                                 0                         0   \n",
       "2                                 0                         0   \n",
       "3                                 0                         0   \n",
       "4                                 0                         0   \n",
       "\n",
       "   NationFoodCategory_Japanese  NationFoodCategory_Korean  \\\n",
       "0                            0                          0   \n",
       "1                            0                          0   \n",
       "2                            0                          0   \n",
       "3                            1                          0   \n",
       "4                            0                          0   \n",
       "\n",
       "   NationFoodCategory_Myanmar  NationFoodCategory_Thai  ...  \\\n",
       "0                           0                        1  ...   \n",
       "1                           0                        1  ...   \n",
       "2                           0                        1  ...   \n",
       "3                           0                        0  ...   \n",
       "4                           0                        1  ...   \n",
       "\n",
       "   FoodCategories_อาหารคลีน  FoodCategories_อาหารจานด่วน  \\\n",
       "0                         0                            0   \n",
       "1                         0                            0   \n",
       "2                         0                            0   \n",
       "3                         0                            0   \n",
       "4                         0                            0   \n",
       "\n",
       "   FoodCategories_อาหารตามสั่ง  FoodCategories_อาหารทะเล  \\\n",
       "0                            0                         1   \n",
       "1                            0                         0   \n",
       "2                            0                         0   \n",
       "3                            0                         0   \n",
       "4                            1                         0   \n",
       "\n",
       "   FoodCategories_อาหารอีสาน  FoodCategories_อาหารฮาลาล  \\\n",
       "0                          0                          0   \n",
       "1                          1                          0   \n",
       "2                          0                          0   \n",
       "3                          0                          0   \n",
       "4                          0                          0   \n",
       "\n",
       "   FoodCategories_อาหารเหนือ  FoodCategories_อาหารใต้  \\\n",
       "0                          0                        0   \n",
       "1                          0                        0   \n",
       "2                          0                        0   \n",
       "3                          0                        0   \n",
       "4                          0                        0   \n",
       "\n",
       "   FoodCategories_เครื่องดื่ม  FoodCategories_ไก่ทอด  \n",
       "0                           0                      0  \n",
       "1                           0                      0  \n",
       "2                           0                      0  \n",
       "3                           0                      0  \n",
       "4                           0                      0  \n",
       "\n",
       "[5 rows x 32 columns]"
      ]
     },
     "execution_count": 100,
     "metadata": {},
     "output_type": "execute_result"
    }
   ],
   "source": [
    "df.head()"
   ]
  },
  {
   "cell_type": "markdown",
   "metadata": {},
   "source": [
    "## 6. Hyperparameter tuning"
   ]
  },
  {
   "cell_type": "code",
   "execution_count": 65,
   "metadata": {},
   "outputs": [],
   "source": [
    "import numpy as np\n",
    "import pandas as pd\n",
    "\n",
    "from math import sqrt, cos\n",
    "\n",
    "import networkx as nx\n",
    "\n",
    "import datetime\n",
    "from datetime import time, date, datetime\n",
    "\n",
    "import matplotlib.pyplot as plt\n",
    "from mpl_toolkits.mplot3d import Axes3D\n",
    "\n",
    "import seaborn as sns\n",
    "\n",
    "import sklearn\n",
    "from sklearn.preprocessing import OneHotEncoder\n",
    "from sklearn.decomposition import PCA\n",
    "from sklearn.manifold import TSNE\n",
    "from sklearn.model_selection import train_test_split\n",
    "from sklearn import metrics\n",
    "\n",
    "\n",
    "from sklearn.linear_model import LinearRegression\n",
    "from sklearn.ensemble import RandomForestRegressor\n",
    "from sklearn.ensemble import GradientBoostingRegressor\n",
    "from sklearn.model_selection import cross_validate"
   ]
  },
  {
   "cell_type": "code",
   "execution_count": 5,
   "metadata": {},
   "outputs": [
    {
     "data": {
      "text/html": [
       "<div>\n",
       "<style scoped>\n",
       "    .dataframe tbody tr th:only-of-type {\n",
       "        vertical-align: middle;\n",
       "    }\n",
       "\n",
       "    .dataframe tbody tr th {\n",
       "        vertical-align: top;\n",
       "    }\n",
       "\n",
       "    .dataframe thead th {\n",
       "        text-align: right;\n",
       "    }\n",
       "</style>\n",
       "<table border=\"1\" class=\"dataframe\">\n",
       "  <thead>\n",
       "    <tr style=\"text-align: right;\">\n",
       "      <th></th>\n",
       "      <th>riderInitial.lat</th>\n",
       "      <th>riderInitial.long</th>\n",
       "      <th>Merchant.Lat</th>\n",
       "      <th>Merchant.Lng</th>\n",
       "      <th>NationFoodCategory_International</th>\n",
       "      <th>NationFoodCategory_Isram</th>\n",
       "      <th>NationFoodCategory_Japanese</th>\n",
       "      <th>NationFoodCategory_Korean</th>\n",
       "      <th>NationFoodCategory_Myanmar</th>\n",
       "      <th>NationFoodCategory_Thai</th>\n",
       "      <th>...</th>\n",
       "      <th>FoodCategories_อาหารตามสั่ง</th>\n",
       "      <th>FoodCategories_อาหารทะเล</th>\n",
       "      <th>FoodCategories_อาหารอีสาน</th>\n",
       "      <th>FoodCategories_อาหารฮาลาล</th>\n",
       "      <th>FoodCategories_อาหารเหนือ</th>\n",
       "      <th>FoodCategories_อาหารใต้</th>\n",
       "      <th>FoodCategories_เครื่องดื่ม</th>\n",
       "      <th>FoodCategories_ไก่ทอด</th>\n",
       "      <th>FoodPrepTime (s)</th>\n",
       "      <th>FoodPrepTime (m)</th>\n",
       "    </tr>\n",
       "  </thead>\n",
       "  <tbody>\n",
       "    <tr>\n",
       "      <th>0</th>\n",
       "      <td>13.825853</td>\n",
       "      <td>100.551958</td>\n",
       "      <td>13.825703</td>\n",
       "      <td>100.559309</td>\n",
       "      <td>0</td>\n",
       "      <td>0</td>\n",
       "      <td>0</td>\n",
       "      <td>0</td>\n",
       "      <td>0</td>\n",
       "      <td>1</td>\n",
       "      <td>...</td>\n",
       "      <td>0</td>\n",
       "      <td>1</td>\n",
       "      <td>0</td>\n",
       "      <td>0</td>\n",
       "      <td>0</td>\n",
       "      <td>0</td>\n",
       "      <td>0</td>\n",
       "      <td>0</td>\n",
       "      <td>448.0</td>\n",
       "      <td>7</td>\n",
       "    </tr>\n",
       "    <tr>\n",
       "      <th>1</th>\n",
       "      <td>13.819283</td>\n",
       "      <td>100.561874</td>\n",
       "      <td>13.831056</td>\n",
       "      <td>100.570731</td>\n",
       "      <td>0</td>\n",
       "      <td>0</td>\n",
       "      <td>0</td>\n",
       "      <td>0</td>\n",
       "      <td>0</td>\n",
       "      <td>1</td>\n",
       "      <td>...</td>\n",
       "      <td>0</td>\n",
       "      <td>0</td>\n",
       "      <td>1</td>\n",
       "      <td>0</td>\n",
       "      <td>0</td>\n",
       "      <td>0</td>\n",
       "      <td>0</td>\n",
       "      <td>0</td>\n",
       "      <td>888.0</td>\n",
       "      <td>15</td>\n",
       "    </tr>\n",
       "    <tr>\n",
       "      <th>2</th>\n",
       "      <td>13.827041</td>\n",
       "      <td>100.554284</td>\n",
       "      <td>13.827205</td>\n",
       "      <td>100.536048</td>\n",
       "      <td>0</td>\n",
       "      <td>0</td>\n",
       "      <td>0</td>\n",
       "      <td>0</td>\n",
       "      <td>0</td>\n",
       "      <td>1</td>\n",
       "      <td>...</td>\n",
       "      <td>0</td>\n",
       "      <td>0</td>\n",
       "      <td>0</td>\n",
       "      <td>0</td>\n",
       "      <td>0</td>\n",
       "      <td>0</td>\n",
       "      <td>0</td>\n",
       "      <td>0</td>\n",
       "      <td>527.0</td>\n",
       "      <td>9</td>\n",
       "    </tr>\n",
       "    <tr>\n",
       "      <th>3</th>\n",
       "      <td>13.820453</td>\n",
       "      <td>100.557910</td>\n",
       "      <td>13.840180</td>\n",
       "      <td>100.542326</td>\n",
       "      <td>0</td>\n",
       "      <td>0</td>\n",
       "      <td>1</td>\n",
       "      <td>0</td>\n",
       "      <td>0</td>\n",
       "      <td>0</td>\n",
       "      <td>...</td>\n",
       "      <td>0</td>\n",
       "      <td>0</td>\n",
       "      <td>0</td>\n",
       "      <td>0</td>\n",
       "      <td>0</td>\n",
       "      <td>0</td>\n",
       "      <td>0</td>\n",
       "      <td>0</td>\n",
       "      <td>753.0</td>\n",
       "      <td>13</td>\n",
       "    </tr>\n",
       "    <tr>\n",
       "      <th>4</th>\n",
       "      <td>13.825773</td>\n",
       "      <td>100.567170</td>\n",
       "      <td>13.827034</td>\n",
       "      <td>100.564534</td>\n",
       "      <td>0</td>\n",
       "      <td>0</td>\n",
       "      <td>0</td>\n",
       "      <td>0</td>\n",
       "      <td>0</td>\n",
       "      <td>1</td>\n",
       "      <td>...</td>\n",
       "      <td>1</td>\n",
       "      <td>0</td>\n",
       "      <td>0</td>\n",
       "      <td>0</td>\n",
       "      <td>0</td>\n",
       "      <td>0</td>\n",
       "      <td>0</td>\n",
       "      <td>0</td>\n",
       "      <td>280.0</td>\n",
       "      <td>5</td>\n",
       "    </tr>\n",
       "  </tbody>\n",
       "</table>\n",
       "<p>5 rows × 34 columns</p>\n",
       "</div>"
      ],
      "text/plain": [
       "   riderInitial.lat  riderInitial.long  Merchant.Lat  Merchant.Lng  \\\n",
       "0         13.825853         100.551958     13.825703    100.559309   \n",
       "1         13.819283         100.561874     13.831056    100.570731   \n",
       "2         13.827041         100.554284     13.827205    100.536048   \n",
       "3         13.820453         100.557910     13.840180    100.542326   \n",
       "4         13.825773         100.567170     13.827034    100.564534   \n",
       "\n",
       "   NationFoodCategory_International  NationFoodCategory_Isram  \\\n",
       "0                                 0                         0   \n",
       "1                                 0                         0   \n",
       "2                                 0                         0   \n",
       "3                                 0                         0   \n",
       "4                                 0                         0   \n",
       "\n",
       "   NationFoodCategory_Japanese  NationFoodCategory_Korean  \\\n",
       "0                            0                          0   \n",
       "1                            0                          0   \n",
       "2                            0                          0   \n",
       "3                            1                          0   \n",
       "4                            0                          0   \n",
       "\n",
       "   NationFoodCategory_Myanmar  NationFoodCategory_Thai  ...  \\\n",
       "0                           0                        1  ...   \n",
       "1                           0                        1  ...   \n",
       "2                           0                        1  ...   \n",
       "3                           0                        0  ...   \n",
       "4                           0                        1  ...   \n",
       "\n",
       "   FoodCategories_อาหารตามสั่ง  FoodCategories_อาหารทะเล  \\\n",
       "0                            0                         1   \n",
       "1                            0                         0   \n",
       "2                            0                         0   \n",
       "3                            0                         0   \n",
       "4                            1                         0   \n",
       "\n",
       "   FoodCategories_อาหารอีสาน  FoodCategories_อาหารฮาลาล  \\\n",
       "0                          0                          0   \n",
       "1                          1                          0   \n",
       "2                          0                          0   \n",
       "3                          0                          0   \n",
       "4                          0                          0   \n",
       "\n",
       "   FoodCategories_อาหารเหนือ  FoodCategories_อาหารใต้  \\\n",
       "0                          0                        0   \n",
       "1                          0                        0   \n",
       "2                          0                        0   \n",
       "3                          0                        0   \n",
       "4                          0                        0   \n",
       "\n",
       "   FoodCategories_เครื่องดื่ม  FoodCategories_ไก่ทอด  FoodPrepTime (s)  \\\n",
       "0                           0                      0             448.0   \n",
       "1                           0                      0             888.0   \n",
       "2                           0                      0             527.0   \n",
       "3                           0                      0             753.0   \n",
       "4                           0                      0             280.0   \n",
       "\n",
       "   FoodPrepTime (m)  \n",
       "0                 7  \n",
       "1                15  \n",
       "2                 9  \n",
       "3                13  \n",
       "4                 5  \n",
       "\n",
       "[5 rows x 34 columns]"
      ]
     },
     "execution_count": 5,
     "metadata": {},
     "output_type": "execute_result"
    }
   ],
   "source": [
    "# LOAD CLEANED DATASET\n",
    "df = pd.read_csv(\"Sample 14days_foodprep (cleaned).csv\")\n",
    "df.head()"
   ]
  },
  {
   "cell_type": "code",
   "execution_count": 80,
   "metadata": {},
   "outputs": [
    {
     "data": {
      "text/plain": [
       "Index(['riderInitial.lat', 'riderInitial.long', 'Merchant.Lat', 'Merchant.Lng',\n",
       "       'NationFoodCategory_International', 'NationFoodCategory_Isram',\n",
       "       'NationFoodCategory_Japanese', 'NationFoodCategory_Korean',\n",
       "       'NationFoodCategory_Myanmar', 'NationFoodCategory_Thai',\n",
       "       'NationFoodCategory_Vietnam', 'FoodCategories_Fast Food',\n",
       "       'FoodCategories_Quick Meal', 'FoodCategories_ขนมจีน',\n",
       "       'FoodCategories_ของหวาน', 'FoodCategories_ปิ้งย่าง',\n",
       "       'FoodCategories_พิซซ่า', 'FoodCategories_ร้านก๋วยเตี๋ยว',\n",
       "       'FoodCategories_ร้านอาหาร', 'FoodCategories_สปาเก็ตตี้',\n",
       "       'FoodCategories_สุกี้ยากี้', 'FoodCategories_สเต๊ก',\n",
       "       'FoodCategories_อาหารคลีน', 'FoodCategories_อาหารจานด่วน',\n",
       "       'FoodCategories_อาหารตามสั่ง', 'FoodCategories_อาหารทะเล',\n",
       "       'FoodCategories_อาหารอีสาน', 'FoodCategories_อาหารฮาลาล',\n",
       "       'FoodCategories_อาหารเหนือ', 'FoodCategories_อาหารใต้',\n",
       "       'FoodCategories_เครื่องดื่ม', 'FoodCategories_ไก่ทอด'],\n",
       "      dtype='object')"
      ]
     },
     "execution_count": 80,
     "metadata": {},
     "output_type": "execute_result"
    }
   ],
   "source": [
    "df.columns"
   ]
  },
  {
   "cell_type": "code",
   "execution_count": 6,
   "metadata": {},
   "outputs": [],
   "source": [
    "y_s = df.pop(\"FoodPrepTime (s)\")\n",
    "y_m = df.pop(\"FoodPrepTime (m)\")\n",
    "X = df.copy()\n",
    "Xs_train, Xs_test, ys_train, ys_test = train_test_split(X, y_s, test_size=0.20, random_state=0)\n",
    "Xm_train, Xm_test, ym_train, ym_test = train_test_split(X, y_m, test_size=0.20, random_state=0)"
   ]
  },
  {
   "cell_type": "code",
   "execution_count": 7,
   "metadata": {},
   "outputs": [],
   "source": [
    "import pickle as pkl\n",
    "from sklearn.model_selection import GridSearchCV\n",
    "from sklearn.ensemble import GradientBoostingRegressor\n",
    "from mpl_toolkits.mplot3d import Axes3D\n",
    "from pylab import cm\n",
    "import matplotlib.ticker as mticker"
   ]
  },
  {
   "cell_type": "code",
   "execution_count": 184,
   "metadata": {},
   "outputs": [
    {
     "data": {
      "text/html": [
       "<style>#sk-container-id-5 {color: black;background-color: white;}#sk-container-id-5 pre{padding: 0;}#sk-container-id-5 div.sk-toggleable {background-color: white;}#sk-container-id-5 label.sk-toggleable__label {cursor: pointer;display: block;width: 100%;margin-bottom: 0;padding: 0.3em;box-sizing: border-box;text-align: center;}#sk-container-id-5 label.sk-toggleable__label-arrow:before {content: \"▸\";float: left;margin-right: 0.25em;color: #696969;}#sk-container-id-5 label.sk-toggleable__label-arrow:hover:before {color: black;}#sk-container-id-5 div.sk-estimator:hover label.sk-toggleable__label-arrow:before {color: black;}#sk-container-id-5 div.sk-toggleable__content {max-height: 0;max-width: 0;overflow: hidden;text-align: left;background-color: #f0f8ff;}#sk-container-id-5 div.sk-toggleable__content pre {margin: 0.2em;color: black;border-radius: 0.25em;background-color: #f0f8ff;}#sk-container-id-5 input.sk-toggleable__control:checked~div.sk-toggleable__content {max-height: 200px;max-width: 100%;overflow: auto;}#sk-container-id-5 input.sk-toggleable__control:checked~label.sk-toggleable__label-arrow:before {content: \"▾\";}#sk-container-id-5 div.sk-estimator input.sk-toggleable__control:checked~label.sk-toggleable__label {background-color: #d4ebff;}#sk-container-id-5 div.sk-label input.sk-toggleable__control:checked~label.sk-toggleable__label {background-color: #d4ebff;}#sk-container-id-5 input.sk-hidden--visually {border: 0;clip: rect(1px 1px 1px 1px);clip: rect(1px, 1px, 1px, 1px);height: 1px;margin: -1px;overflow: hidden;padding: 0;position: absolute;width: 1px;}#sk-container-id-5 div.sk-estimator {font-family: monospace;background-color: #f0f8ff;border: 1px dotted black;border-radius: 0.25em;box-sizing: border-box;margin-bottom: 0.5em;}#sk-container-id-5 div.sk-estimator:hover {background-color: #d4ebff;}#sk-container-id-5 div.sk-parallel-item::after {content: \"\";width: 100%;border-bottom: 1px solid gray;flex-grow: 1;}#sk-container-id-5 div.sk-label:hover label.sk-toggleable__label {background-color: #d4ebff;}#sk-container-id-5 div.sk-serial::before {content: \"\";position: absolute;border-left: 1px solid gray;box-sizing: border-box;top: 0;bottom: 0;left: 50%;z-index: 0;}#sk-container-id-5 div.sk-serial {display: flex;flex-direction: column;align-items: center;background-color: white;padding-right: 0.2em;padding-left: 0.2em;position: relative;}#sk-container-id-5 div.sk-item {position: relative;z-index: 1;}#sk-container-id-5 div.sk-parallel {display: flex;align-items: stretch;justify-content: center;background-color: white;position: relative;}#sk-container-id-5 div.sk-item::before, #sk-container-id-5 div.sk-parallel-item::before {content: \"\";position: absolute;border-left: 1px solid gray;box-sizing: border-box;top: 0;bottom: 0;left: 50%;z-index: -1;}#sk-container-id-5 div.sk-parallel-item {display: flex;flex-direction: column;z-index: 1;position: relative;background-color: white;}#sk-container-id-5 div.sk-parallel-item:first-child::after {align-self: flex-end;width: 50%;}#sk-container-id-5 div.sk-parallel-item:last-child::after {align-self: flex-start;width: 50%;}#sk-container-id-5 div.sk-parallel-item:only-child::after {width: 0;}#sk-container-id-5 div.sk-dashed-wrapped {border: 1px dashed gray;margin: 0 0.4em 0.5em 0.4em;box-sizing: border-box;padding-bottom: 0.4em;background-color: white;}#sk-container-id-5 div.sk-label label {font-family: monospace;font-weight: bold;display: inline-block;line-height: 1.2em;}#sk-container-id-5 div.sk-label-container {text-align: center;}#sk-container-id-5 div.sk-container {/* jupyter's `normalize.less` sets `[hidden] { display: none; }` but bootstrap.min.css set `[hidden] { display: none !important; }` so we also need the `!important` here to be able to override the default hidden behavior on the sphinx rendered scikit-learn.org. See: https://github.com/scikit-learn/scikit-learn/issues/21755 */display: inline-block !important;position: relative;}#sk-container-id-5 div.sk-text-repr-fallback {display: none;}</style><div id=\"sk-container-id-5\" class=\"sk-top-container\"><div class=\"sk-text-repr-fallback\"><pre>GridSearchCV(estimator=GradientBoostingRegressor(random_state=314159),\n",
       "             param_grid={&#x27;max_depth&#x27;: [3, 4, 5, 6, 7],\n",
       "                         &#x27;max_features&#x27;: [1.0, &#x27;sqrt&#x27;, &#x27;log2&#x27;],\n",
       "                         &#x27;n_estimators&#x27;: [50, 75, 100, 125, 150]})</pre><b>In a Jupyter environment, please rerun this cell to show the HTML representation or trust the notebook. <br />On GitHub, the HTML representation is unable to render, please try loading this page with nbviewer.org.</b></div><div class=\"sk-container\" hidden><div class=\"sk-item sk-dashed-wrapped\"><div class=\"sk-label-container\"><div class=\"sk-label sk-toggleable\"><input class=\"sk-toggleable__control sk-hidden--visually\" id=\"sk-estimator-id-13\" type=\"checkbox\" ><label for=\"sk-estimator-id-13\" class=\"sk-toggleable__label sk-toggleable__label-arrow\">GridSearchCV</label><div class=\"sk-toggleable__content\"><pre>GridSearchCV(estimator=GradientBoostingRegressor(random_state=314159),\n",
       "             param_grid={&#x27;max_depth&#x27;: [3, 4, 5, 6, 7],\n",
       "                         &#x27;max_features&#x27;: [1.0, &#x27;sqrt&#x27;, &#x27;log2&#x27;],\n",
       "                         &#x27;n_estimators&#x27;: [50, 75, 100, 125, 150]})</pre></div></div></div><div class=\"sk-parallel\"><div class=\"sk-parallel-item\"><div class=\"sk-item\"><div class=\"sk-label-container\"><div class=\"sk-label sk-toggleable\"><input class=\"sk-toggleable__control sk-hidden--visually\" id=\"sk-estimator-id-14\" type=\"checkbox\" ><label for=\"sk-estimator-id-14\" class=\"sk-toggleable__label sk-toggleable__label-arrow\">estimator: GradientBoostingRegressor</label><div class=\"sk-toggleable__content\"><pre>GradientBoostingRegressor(random_state=314159)</pre></div></div></div><div class=\"sk-serial\"><div class=\"sk-item\"><div class=\"sk-estimator sk-toggleable\"><input class=\"sk-toggleable__control sk-hidden--visually\" id=\"sk-estimator-id-15\" type=\"checkbox\" ><label for=\"sk-estimator-id-15\" class=\"sk-toggleable__label sk-toggleable__label-arrow\">GradientBoostingRegressor</label><div class=\"sk-toggleable__content\"><pre>GradientBoostingRegressor(random_state=314159)</pre></div></div></div></div></div></div></div></div></div></div>"
      ],
      "text/plain": [
       "GridSearchCV(estimator=GradientBoostingRegressor(random_state=314159),\n",
       "             param_grid={'max_depth': [3, 4, 5, 6, 7],\n",
       "                         'max_features': [1.0, 'sqrt', 'log2'],\n",
       "                         'n_estimators': [50, 75, 100, 125, 150]})"
      ]
     },
     "execution_count": 184,
     "metadata": {},
     "output_type": "execute_result"
    }
   ],
   "source": [
    "# gbdt = GradientBoostingRegressor(random_state=314159)\n",
    "# # gbdt.get_params(deep=True)\n",
    "\n",
    "# param_grid = { \n",
    "#  \"n_estimators\": [50, 75, 100, 125, 150],\n",
    "#  \"max_features\": [1.0, \"sqrt\", \"log2\"], # \"auto\" is deprecated, use 1.0 instead\n",
    "#  \"max_depth\": [3, 4, 5, 6, 7],\n",
    "# }\n",
    "\n",
    "# CV_gbdt_s = GridSearchCV(estimator=gbdt, param_grid=param_grid)\n",
    "# CV_gbdt_s.fit(Xs_train, ys_train)"
   ]
  },
  {
   "cell_type": "code",
   "execution_count": 185,
   "metadata": {},
   "outputs": [],
   "source": [
    "# pkl.dump(CV_gbdt_s, open(\"CV_gbdt_s_foodprep.pkl\", \"wb\"))\n",
    "# pkl.dump(gbdt_s, open(\"gbdt_s_foodpreap.pkl\", \"wb\"))"
   ]
  },
  {
   "cell_type": "code",
   "execution_count": 8,
   "metadata": {},
   "outputs": [],
   "source": [
    "CV_gbdt_s = pkl.load(open(\"CV_gbdt_s_foodprep.pkl\", \"rb\"))\n",
    "gbdt_s = CV_gbdt_s.best_estimator_"
   ]
  },
  {
   "cell_type": "code",
   "execution_count": 9,
   "metadata": {},
   "outputs": [],
   "source": [
    "CV_s_result = pd.DataFrame(CV_gbdt_s.cv_results_)"
   ]
  },
  {
   "cell_type": "code",
   "execution_count": 10,
   "metadata": {},
   "outputs": [
    {
     "data": {
      "text/html": [
       "<div>\n",
       "<style scoped>\n",
       "    .dataframe tbody tr th:only-of-type {\n",
       "        vertical-align: middle;\n",
       "    }\n",
       "\n",
       "    .dataframe tbody tr th {\n",
       "        vertical-align: top;\n",
       "    }\n",
       "\n",
       "    .dataframe thead th {\n",
       "        text-align: right;\n",
       "    }\n",
       "</style>\n",
       "<table border=\"1\" class=\"dataframe\">\n",
       "  <thead>\n",
       "    <tr style=\"text-align: right;\">\n",
       "      <th></th>\n",
       "      <th>mean_fit_time</th>\n",
       "      <th>std_fit_time</th>\n",
       "      <th>mean_score_time</th>\n",
       "      <th>std_score_time</th>\n",
       "      <th>param_max_depth</th>\n",
       "      <th>param_max_features</th>\n",
       "      <th>param_n_estimators</th>\n",
       "      <th>params</th>\n",
       "      <th>split0_test_score</th>\n",
       "      <th>split1_test_score</th>\n",
       "      <th>split2_test_score</th>\n",
       "      <th>split3_test_score</th>\n",
       "      <th>split4_test_score</th>\n",
       "      <th>mean_test_score</th>\n",
       "      <th>std_test_score</th>\n",
       "      <th>rank_test_score</th>\n",
       "    </tr>\n",
       "  </thead>\n",
       "  <tbody>\n",
       "    <tr>\n",
       "      <th>25</th>\n",
       "      <td>0.691156</td>\n",
       "      <td>0.005642</td>\n",
       "      <td>0.004003</td>\n",
       "      <td>0.000010</td>\n",
       "      <td>5</td>\n",
       "      <td>1.0</td>\n",
       "      <td>75</td>\n",
       "      <td>{'max_depth': 5, 'max_features': 1.0, 'n_estim...</td>\n",
       "      <td>0.587980</td>\n",
       "      <td>0.577698</td>\n",
       "      <td>0.572425</td>\n",
       "      <td>0.575672</td>\n",
       "      <td>0.598097</td>\n",
       "      <td>0.582374</td>\n",
       "      <td>0.009428</td>\n",
       "      <td>1</td>\n",
       "    </tr>\n",
       "    <tr>\n",
       "      <th>24</th>\n",
       "      <td>0.473000</td>\n",
       "      <td>0.015524</td>\n",
       "      <td>0.003200</td>\n",
       "      <td>0.000400</td>\n",
       "      <td>5</td>\n",
       "      <td>1.0</td>\n",
       "      <td>50</td>\n",
       "      <td>{'max_depth': 5, 'max_features': 1.0, 'n_estim...</td>\n",
       "      <td>0.586876</td>\n",
       "      <td>0.576162</td>\n",
       "      <td>0.574736</td>\n",
       "      <td>0.575092</td>\n",
       "      <td>0.595978</td>\n",
       "      <td>0.581769</td>\n",
       "      <td>0.008408</td>\n",
       "      <td>2</td>\n",
       "    </tr>\n",
       "    <tr>\n",
       "      <th>26</th>\n",
       "      <td>0.926479</td>\n",
       "      <td>0.009400</td>\n",
       "      <td>0.004296</td>\n",
       "      <td>0.000397</td>\n",
       "      <td>5</td>\n",
       "      <td>1.0</td>\n",
       "      <td>100</td>\n",
       "      <td>{'max_depth': 5, 'max_features': 1.0, 'n_estim...</td>\n",
       "      <td>0.586935</td>\n",
       "      <td>0.576844</td>\n",
       "      <td>0.571987</td>\n",
       "      <td>0.576233</td>\n",
       "      <td>0.596191</td>\n",
       "      <td>0.581638</td>\n",
       "      <td>0.008777</td>\n",
       "      <td>3</td>\n",
       "    </tr>\n",
       "    <tr>\n",
       "      <th>36</th>\n",
       "      <td>0.560727</td>\n",
       "      <td>0.023320</td>\n",
       "      <td>0.004000</td>\n",
       "      <td>0.001095</td>\n",
       "      <td>6</td>\n",
       "      <td>1.0</td>\n",
       "      <td>50</td>\n",
       "      <td>{'max_depth': 6, 'max_features': 1.0, 'n_estim...</td>\n",
       "      <td>0.578910</td>\n",
       "      <td>0.578397</td>\n",
       "      <td>0.569052</td>\n",
       "      <td>0.580432</td>\n",
       "      <td>0.600985</td>\n",
       "      <td>0.581555</td>\n",
       "      <td>0.010508</td>\n",
       "      <td>4</td>\n",
       "    </tr>\n",
       "    <tr>\n",
       "      <th>37</th>\n",
       "      <td>0.849380</td>\n",
       "      <td>0.010153</td>\n",
       "      <td>0.004596</td>\n",
       "      <td>0.000488</td>\n",
       "      <td>6</td>\n",
       "      <td>1.0</td>\n",
       "      <td>75</td>\n",
       "      <td>{'max_depth': 6, 'max_features': 1.0, 'n_estim...</td>\n",
       "      <td>0.577420</td>\n",
       "      <td>0.577519</td>\n",
       "      <td>0.566956</td>\n",
       "      <td>0.578538</td>\n",
       "      <td>0.598338</td>\n",
       "      <td>0.579754</td>\n",
       "      <td>0.010208</td>\n",
       "      <td>5</td>\n",
       "    </tr>\n",
       "  </tbody>\n",
       "</table>\n",
       "</div>"
      ],
      "text/plain": [
       "    mean_fit_time  std_fit_time  mean_score_time  std_score_time  \\\n",
       "25       0.691156      0.005642         0.004003        0.000010   \n",
       "24       0.473000      0.015524         0.003200        0.000400   \n",
       "26       0.926479      0.009400         0.004296        0.000397   \n",
       "36       0.560727      0.023320         0.004000        0.001095   \n",
       "37       0.849380      0.010153         0.004596        0.000488   \n",
       "\n",
       "   param_max_depth param_max_features param_n_estimators  \\\n",
       "25               5                1.0                 75   \n",
       "24               5                1.0                 50   \n",
       "26               5                1.0                100   \n",
       "36               6                1.0                 50   \n",
       "37               6                1.0                 75   \n",
       "\n",
       "                                               params  split0_test_score  \\\n",
       "25  {'max_depth': 5, 'max_features': 1.0, 'n_estim...           0.587980   \n",
       "24  {'max_depth': 5, 'max_features': 1.0, 'n_estim...           0.586876   \n",
       "26  {'max_depth': 5, 'max_features': 1.0, 'n_estim...           0.586935   \n",
       "36  {'max_depth': 6, 'max_features': 1.0, 'n_estim...           0.578910   \n",
       "37  {'max_depth': 6, 'max_features': 1.0, 'n_estim...           0.577420   \n",
       "\n",
       "    split1_test_score  split2_test_score  split3_test_score  \\\n",
       "25           0.577698           0.572425           0.575672   \n",
       "24           0.576162           0.574736           0.575092   \n",
       "26           0.576844           0.571987           0.576233   \n",
       "36           0.578397           0.569052           0.580432   \n",
       "37           0.577519           0.566956           0.578538   \n",
       "\n",
       "    split4_test_score  mean_test_score  std_test_score  rank_test_score  \n",
       "25           0.598097         0.582374        0.009428                1  \n",
       "24           0.595978         0.581769        0.008408                2  \n",
       "26           0.596191         0.581638        0.008777                3  \n",
       "36           0.600985         0.581555        0.010508                4  \n",
       "37           0.598338         0.579754        0.010208                5  "
      ]
     },
     "execution_count": 10,
     "metadata": {},
     "output_type": "execute_result"
    }
   ],
   "source": [
    "CV_s_result.sort_values(by=\"rank_test_score\").head(5)"
   ]
  },
  {
   "cell_type": "code",
   "execution_count": 11,
   "metadata": {},
   "outputs": [
    {
     "data": {
      "text/plain": [
       "{'max_depth': 5, 'max_features': 1.0, 'n_estimators': 75}"
      ]
     },
     "execution_count": 11,
     "metadata": {},
     "output_type": "execute_result"
    }
   ],
   "source": [
    "CV_gbdt_s.best_params_"
   ]
  },
  {
   "cell_type": "code",
   "execution_count": 12,
   "metadata": {},
   "outputs": [],
   "source": [
    "gbdt_s = CV_gbdt_s.best_estimator_"
   ]
  },
  {
   "cell_type": "code",
   "execution_count": 13,
   "metadata": {},
   "outputs": [],
   "source": [
    "gbdt_predictions_s = gbdt_s.predict(Xs_test)\n",
    "\n",
    "MAE  = metrics.mean_absolute_error(ys_test, gbdt_predictions_s)\n",
    "MSE  = metrics.mean_squared_error(ys_test, gbdt_predictions_s)\n",
    "R2   = metrics.r2_score(ys_test, gbdt_predictions_s)\n",
    "RMSE = np.sqrt(metrics.mean_squared_error(ys_test, gbdt_predictions_s))"
   ]
  },
  {
   "cell_type": "code",
   "execution_count": 62,
   "metadata": {},
   "outputs": [
    {
     "data": {
      "text/plain": [
       "Text(0, 0.5, 'Predicted FoodPrepTime (s)')"
      ]
     },
     "execution_count": 62,
     "metadata": {},
     "output_type": "execute_result"
    },
    {
     "data": {
      "image/png": "[encoded data removed]",
      "text/plain": [
       "<Figure size 432x288 with 1 Axes>"
      ]
     },
     "metadata": {
      "needs_background": "light"
     },
     "output_type": "display_data"
    }
   ],
   "source": [
    "plt.scatter(ys_test, gbdt_predictions_s, alpha=0.5)\n",
    "plt.xlabel(\"Actual FoodPrepTime (s)\")\n",
    "plt.ylabel(\"Predicted FoodPrepTime (s)\")"
   ]
  },
  {
   "cell_type": "code",
   "execution_count": 72,
   "metadata": {},
   "outputs": [],
   "source": [
    "# plt.scatter(gbdt_predictions_s, ys_test/gbdt_predictions_s, alpha=0.1)\n",
    "# plt.title(\"gbdt_s\")\n",
    "# plt.xlabel(\"Predicted\")\n",
    "# plt.ylabel(\"Actual/Predicted\")"
   ]
  },
  {
   "cell_type": "code",
   "execution_count": 14,
   "metadata": {},
   "outputs": [
    {
     "name": "stdout",
     "output_type": "stream",
     "text": [
      "Mean duration: 0.0014 seconds.\n",
      "Median duration: 0.0010 seconds.\n",
      "Standard deviation: 0.0006 seconds.\n"
     ]
    }
   ],
   "source": [
    "import time\n",
    "n = 100\n",
    "durations = []\n",
    "for i in range(n):\n",
    "    start_time = time.time()\n",
    "    sample_data = Xs_test.sample(1)\n",
    "    result = gbdt_s.predict(sample_data)\n",
    "    end_time = time.time()\n",
    "    duration = end_time - start_time\n",
    "    durations.append(duration)\n",
    "duration_mean = np.mean(durations)\n",
    "duration_median = np.median(durations)\n",
    "duration_std = np.std(durations)\n",
    "print(\"Mean duration: {:.4f} seconds.\".format(duration_mean))\n",
    "print(\"Median duration: {:.4f} seconds.\".format(duration_median))\n",
    "print(\"Standard deviation: {:.4f} seconds.\".format(duration_std))"
   ]
  },
  {
   "cell_type": "code",
   "execution_count": 15,
   "metadata": {},
   "outputs": [
    {
     "data": {
      "text/plain": [
       "(138.10122374152178,\n",
       " 27961.004228908136,\n",
       " 0.5778495430000926,\n",
       " 167.21544255513047)"
      ]
     },
     "execution_count": 15,
     "metadata": {},
     "output_type": "execute_result"
    }
   ],
   "source": [
    "MAE, MSE, R2, RMSE"
   ]
  },
  {
   "cell_type": "code",
   "execution_count": 37,
   "metadata": {},
   "outputs": [
    {
     "data": {
      "text/plain": [
       "(0.46369229788060934, 0.5823744450792345)"
      ]
     },
     "execution_count": 37,
     "metadata": {},
     "output_type": "execute_result"
    }
   ],
   "source": [
    "CV_s_result[\"mean_test_score\"].values.min(), CV_s_result[\"mean_test_score\"].values.max()"
   ]
  },
  {
   "cell_type": "code",
   "execution_count": 54,
   "metadata": {},
   "outputs": [
    {
     "data": {
      "image/png": "[encoded data removed]",
      "text/plain": [
       "<Figure size 720x720 with 2 Axes>"
      ]
     },
     "metadata": {
      "needs_background": "light"
     },
     "output_type": "display_data"
    }
   ],
   "source": [
    "fig = plt.figure(figsize=(10, 10))\n",
    "ax = fig.add_subplot(111, projection='3d')\n",
    "\n",
    "x = CV_s_result[\"param_max_depth\"].values.astype(\"int\")\n",
    "y = CV_s_result[\"param_max_features\"].map({1.0: 0, \"sqrt\": 1, \"log2\": 2}).values.astype(\"int\")\n",
    "z = CV_s_result[\"param_n_estimators\"].values.astype(\"int\")\n",
    "colo = CV_s_result[\"mean_test_score\"].values\n",
    "\n",
    "color_map = cm.ScalarMappable(cmap=cm.RdBu)\n",
    "# color_map = cm.ScalarMappable(cmap=cm.Greens_r)\n",
    "color_map.set_array(colo)\n",
    "\n",
    "img = ax.scatter(xs=x, ys=y, zs=z, c=colo, cmap=cm.RdBu, s=100, alpha=0.5)\n",
    "# img = ax.scatter(xs=x, ys=y, zs=z, c=colo, cmap=cm.Greens_r, s=100, alpha=0.5)\n",
    "cbar = fig.colorbar(img, ticks=np.linspace(0.45, 0.60, 10), orientation='vertical', shrink=0.5, aspect=10, pad=0.1)\n",
    "cbar.set_label('mean_test_score', rotation=270, labelpad=20)\n",
    "\n",
    "ax.set_title(\"mean R2 score of CV_gbdt_s\")\n",
    "ax.set_xlabel('param_max_depth')\n",
    "ax.set_ylabel('param_max_features')\n",
    "ax.set_zlabel('param_n_estimators')\n",
    "\n",
    "ax.axes.yaxis.set_major_locator(mticker.FixedLocator(y))\n",
    "ax.axes.yaxis.set_ticklabels(CV_s_result[\"param_max_features\"].map({1.0: \"auto\", \"sqrt\": \"sqrt\", \"log2\": \"log2\"}))\n",
    "plt.show()"
   ]
  },
  {
   "cell_type": "code",
   "execution_count": 57,
   "metadata": {},
   "outputs": [
    {
     "data": {
      "text/plain": [
       "{'max_depth': 5, 'max_features': 1.0, 'n_estimators': 75}"
      ]
     },
     "execution_count": 57,
     "metadata": {},
     "output_type": "execute_result"
    }
   ],
   "source": [
    "CV_gbdt_s.best_params_"
   ]
  },
  {
   "cell_type": "code",
   "execution_count": 17,
   "metadata": {},
   "outputs": [],
   "source": [
    "# gbdt = GradientBoostingRegressor(random_state=314159)\n",
    "# # gbdt.get_params(deep=True)\n",
    "\n",
    "# param_grid = { \n",
    "#  \"n_estimators\": [50, 75, 100, 125, 150],\n",
    "#  \"max_features\": [1.0, \"sqrt\", \"log2\"], # \"auto\" is deprecated, use 1.0 instead\n",
    "#  \"max_depth\": [3, 4, 5, 6, 7],\n",
    "# }\n",
    "\n",
    "# CV_gbdt_m = GridSearchCV(estimator=gbdt, param_grid=param_grid)\n",
    "# CV_gbdt_m.fit(Xm_train, ym_train)"
   ]
  },
  {
   "cell_type": "code",
   "execution_count": 18,
   "metadata": {},
   "outputs": [],
   "source": [
    "# gbdt_m = CV_gbdt_m.best_estimator_"
   ]
  },
  {
   "cell_type": "code",
   "execution_count": 19,
   "metadata": {},
   "outputs": [],
   "source": [
    "# pkl.dump(CV_gbdt_m, open(\"CV_gbdt_m_foodprep.pkl\", \"wb\"))\n",
    "# pkl.dump(gbdt_m, open(\"gbdt_m_foodpreap.pkl\", \"wb\"))"
   ]
  },
  {
   "cell_type": "code",
   "execution_count": 20,
   "metadata": {},
   "outputs": [],
   "source": [
    "CV_gbdt_m = pkl.load(open(\"CV_gbdt_m_foodprep.pkl\", \"rb\"))\n",
    "gbdt_m = CV_gbdt_m.best_estimator_"
   ]
  },
  {
   "cell_type": "code",
   "execution_count": 21,
   "metadata": {},
   "outputs": [
    {
     "name": "stdout",
     "output_type": "stream",
     "text": [
      "Mean duration: 0.0015 seconds.\n",
      "Median duration: 0.0010 seconds.\n",
      "Standard deviation: 0.0006 seconds.\n"
     ]
    }
   ],
   "source": [
    "import time\n",
    "n = 100\n",
    "durations = []\n",
    "for i in range(n):\n",
    "    start_time = time.time()\n",
    "    sample_data = Xm_test.sample(1)\n",
    "    result = gbdt_m.predict(sample_data)\n",
    "    end_time = time.time()\n",
    "    duration = end_time - start_time\n",
    "    durations.append(duration)\n",
    "duration_mean = np.mean(durations)\n",
    "duration_median = np.median(durations)\n",
    "duration_std = np.std(durations)\n",
    "print(\"Mean duration: {:.4f} seconds.\".format(duration_mean))\n",
    "print(\"Median duration: {:.4f} seconds.\".format(duration_median))\n",
    "print(\"Standard deviation: {:.4f} seconds.\".format(duration_std))"
   ]
  },
  {
   "cell_type": "code",
   "execution_count": 22,
   "metadata": {},
   "outputs": [],
   "source": [
    "CV_m_result = pd.DataFrame(CV_gbdt_m.cv_results_)"
   ]
  },
  {
   "cell_type": "code",
   "execution_count": 23,
   "metadata": {},
   "outputs": [
    {
     "data": {
      "text/html": [
       "<div>\n",
       "<style scoped>\n",
       "    .dataframe tbody tr th:only-of-type {\n",
       "        vertical-align: middle;\n",
       "    }\n",
       "\n",
       "    .dataframe tbody tr th {\n",
       "        vertical-align: top;\n",
       "    }\n",
       "\n",
       "    .dataframe thead th {\n",
       "        text-align: right;\n",
       "    }\n",
       "</style>\n",
       "<table border=\"1\" class=\"dataframe\">\n",
       "  <thead>\n",
       "    <tr style=\"text-align: right;\">\n",
       "      <th></th>\n",
       "      <th>mean_fit_time</th>\n",
       "      <th>std_fit_time</th>\n",
       "      <th>mean_score_time</th>\n",
       "      <th>std_score_time</th>\n",
       "      <th>param_max_depth</th>\n",
       "      <th>param_max_features</th>\n",
       "      <th>param_n_estimators</th>\n",
       "      <th>params</th>\n",
       "      <th>split0_test_score</th>\n",
       "      <th>split1_test_score</th>\n",
       "      <th>split2_test_score</th>\n",
       "      <th>split3_test_score</th>\n",
       "      <th>split4_test_score</th>\n",
       "      <th>mean_test_score</th>\n",
       "      <th>std_test_score</th>\n",
       "      <th>rank_test_score</th>\n",
       "    </tr>\n",
       "  </thead>\n",
       "  <tbody>\n",
       "    <tr>\n",
       "      <th>30</th>\n",
       "      <td>0.452376</td>\n",
       "      <td>0.011243</td>\n",
       "      <td>0.003389</td>\n",
       "      <td>0.000483</td>\n",
       "      <td>5</td>\n",
       "      <td>1.0</td>\n",
       "      <td>50</td>\n",
       "      <td>{'max_depth': 5, 'max_features': 1.0, 'n_estim...</td>\n",
       "      <td>0.581151</td>\n",
       "      <td>0.569935</td>\n",
       "      <td>0.566165</td>\n",
       "      <td>0.569372</td>\n",
       "      <td>0.587384</td>\n",
       "      <td>0.574801</td>\n",
       "      <td>0.008079</td>\n",
       "      <td>1</td>\n",
       "    </tr>\n",
       "    <tr>\n",
       "      <th>31</th>\n",
       "      <td>0.694019</td>\n",
       "      <td>0.011692</td>\n",
       "      <td>0.003607</td>\n",
       "      <td>0.000488</td>\n",
       "      <td>5</td>\n",
       "      <td>1.0</td>\n",
       "      <td>75</td>\n",
       "      <td>{'max_depth': 5, 'max_features': 1.0, 'n_estim...</td>\n",
       "      <td>0.583096</td>\n",
       "      <td>0.571239</td>\n",
       "      <td>0.564589</td>\n",
       "      <td>0.567447</td>\n",
       "      <td>0.586541</td>\n",
       "      <td>0.574583</td>\n",
       "      <td>0.008688</td>\n",
       "      <td>2</td>\n",
       "    </tr>\n",
       "    <tr>\n",
       "      <th>32</th>\n",
       "      <td>0.920763</td>\n",
       "      <td>0.008625</td>\n",
       "      <td>0.004198</td>\n",
       "      <td>0.000400</td>\n",
       "      <td>5</td>\n",
       "      <td>1.0</td>\n",
       "      <td>100</td>\n",
       "      <td>{'max_depth': 5, 'max_features': 1.0, 'n_estim...</td>\n",
       "      <td>0.580884</td>\n",
       "      <td>0.569815</td>\n",
       "      <td>0.563875</td>\n",
       "      <td>0.566777</td>\n",
       "      <td>0.584098</td>\n",
       "      <td>0.573090</td>\n",
       "      <td>0.007968</td>\n",
       "      <td>3</td>\n",
       "    </tr>\n",
       "    <tr>\n",
       "      <th>45</th>\n",
       "      <td>0.523244</td>\n",
       "      <td>0.003347</td>\n",
       "      <td>0.003810</td>\n",
       "      <td>0.000410</td>\n",
       "      <td>6</td>\n",
       "      <td>1.0</td>\n",
       "      <td>50</td>\n",
       "      <td>{'max_depth': 6, 'max_features': 1.0, 'n_estim...</td>\n",
       "      <td>0.574412</td>\n",
       "      <td>0.564710</td>\n",
       "      <td>0.561051</td>\n",
       "      <td>0.571837</td>\n",
       "      <td>0.592327</td>\n",
       "      <td>0.572867</td>\n",
       "      <td>0.010847</td>\n",
       "      <td>4</td>\n",
       "    </tr>\n",
       "    <tr>\n",
       "      <th>33</th>\n",
       "      <td>1.140989</td>\n",
       "      <td>0.013708</td>\n",
       "      <td>0.004199</td>\n",
       "      <td>0.000403</td>\n",
       "      <td>5</td>\n",
       "      <td>1.0</td>\n",
       "      <td>125</td>\n",
       "      <td>{'max_depth': 5, 'max_features': 1.0, 'n_estim...</td>\n",
       "      <td>0.579580</td>\n",
       "      <td>0.568266</td>\n",
       "      <td>0.562667</td>\n",
       "      <td>0.565674</td>\n",
       "      <td>0.582579</td>\n",
       "      <td>0.571753</td>\n",
       "      <td>0.007876</td>\n",
       "      <td>5</td>\n",
       "    </tr>\n",
       "  </tbody>\n",
       "</table>\n",
       "</div>"
      ],
      "text/plain": [
       "    mean_fit_time  std_fit_time  mean_score_time  std_score_time  \\\n",
       "30       0.452376      0.011243         0.003389        0.000483   \n",
       "31       0.694019      0.011692         0.003607        0.000488   \n",
       "32       0.920763      0.008625         0.004198        0.000400   \n",
       "45       0.523244      0.003347         0.003810        0.000410   \n",
       "33       1.140989      0.013708         0.004199        0.000403   \n",
       "\n",
       "   param_max_depth param_max_features param_n_estimators  \\\n",
       "30               5                1.0                 50   \n",
       "31               5                1.0                 75   \n",
       "32               5                1.0                100   \n",
       "45               6                1.0                 50   \n",
       "33               5                1.0                125   \n",
       "\n",
       "                                               params  split0_test_score  \\\n",
       "30  {'max_depth': 5, 'max_features': 1.0, 'n_estim...           0.581151   \n",
       "31  {'max_depth': 5, 'max_features': 1.0, 'n_estim...           0.583096   \n",
       "32  {'max_depth': 5, 'max_features': 1.0, 'n_estim...           0.580884   \n",
       "45  {'max_depth': 6, 'max_features': 1.0, 'n_estim...           0.574412   \n",
       "33  {'max_depth': 5, 'max_features': 1.0, 'n_estim...           0.579580   \n",
       "\n",
       "    split1_test_score  split2_test_score  split3_test_score  \\\n",
       "30           0.569935           0.566165           0.569372   \n",
       "31           0.571239           0.564589           0.567447   \n",
       "32           0.569815           0.563875           0.566777   \n",
       "45           0.564710           0.561051           0.571837   \n",
       "33           0.568266           0.562667           0.565674   \n",
       "\n",
       "    split4_test_score  mean_test_score  std_test_score  rank_test_score  \n",
       "30           0.587384         0.574801        0.008079                1  \n",
       "31           0.586541         0.574583        0.008688                2  \n",
       "32           0.584098         0.573090        0.007968                3  \n",
       "45           0.592327         0.572867        0.010847                4  \n",
       "33           0.582579         0.571753        0.007876                5  "
      ]
     },
     "execution_count": 23,
     "metadata": {},
     "output_type": "execute_result"
    }
   ],
   "source": [
    "CV_m_result.sort_values(by=\"rank_test_score\").head(5)"
   ]
  },
  {
   "cell_type": "code",
   "execution_count": 24,
   "metadata": {},
   "outputs": [
    {
     "data": {
      "text/plain": [
       "{'max_depth': 5, 'max_features': 1.0, 'n_estimators': 50}"
      ]
     },
     "execution_count": 24,
     "metadata": {},
     "output_type": "execute_result"
    }
   ],
   "source": [
    "CV_gbdt_m.best_params_"
   ]
  },
  {
   "cell_type": "code",
   "execution_count": 25,
   "metadata": {},
   "outputs": [],
   "source": [
    "gbdt_m = CV_gbdt_m.best_estimator_"
   ]
  },
  {
   "cell_type": "code",
   "execution_count": 26,
   "metadata": {},
   "outputs": [],
   "source": [
    "gbdt_predictions_m = gbdt_m.predict(Xm_test)\n",
    "\n",
    "MAE  = metrics.mean_absolute_error(ym_test, gbdt_predictions_m)\n",
    "MSE  = metrics.mean_squared_error(ym_test, gbdt_predictions_m)\n",
    "R2   = metrics.r2_score(ym_test, gbdt_predictions_m)\n",
    "RMSE = np.sqrt(metrics.mean_squared_error(ym_test, gbdt_predictions_m))"
   ]
  },
  {
   "cell_type": "code",
   "execution_count": 27,
   "metadata": {},
   "outputs": [
    {
     "data": {
      "text/plain": [
       "(2.3339400714503697, 8.002344336692984, 0.5672898425151509, 2.8288415184829607)"
      ]
     },
     "execution_count": 27,
     "metadata": {},
     "output_type": "execute_result"
    }
   ],
   "source": [
    "MAE, MSE, R2, RMSE"
   ]
  },
  {
   "cell_type": "code",
   "execution_count": 63,
   "metadata": {},
   "outputs": [
    {
     "data": {
      "text/plain": [
       "Text(0, 0.5, 'Predicted FoodPrep Time (m)')"
      ]
     },
     "execution_count": 63,
     "metadata": {},
     "output_type": "execute_result"
    },
    {
     "data": {
      "image/png": "[encoded data removed]",
      "text/plain": [
       "<Figure size 432x288 with 1 Axes>"
      ]
     },
     "metadata": {
      "needs_background": "light"
     },
     "output_type": "display_data"
    }
   ],
   "source": [
    "plt.scatter(ym_test, gbdt_predictions_m, alpha=0.5)\n",
    "plt.xlabel(\"Actual FoodPrep Time (m)\")\n",
    "plt.ylabel(\"Predicted FoodPrep Time (m)\")"
   ]
  },
  {
   "cell_type": "code",
   "execution_count": 71,
   "metadata": {},
   "outputs": [],
   "source": [
    "# plt.scatter(gbdt_predictions_m, ym_test/gbdt_predictions_m, alpha=0.1)\n",
    "# plt.title(\"gbdt_s\")\n",
    "# plt.xlabel(\"Predicted\")\n",
    "# plt.ylabel(\"Actual/Predicted\")"
   ]
  },
  {
   "cell_type": "code",
   "execution_count": 83,
   "metadata": {},
   "outputs": [
    {
     "data": {
      "text/html": [
       "<div>\n",
       "<style scoped>\n",
       "    .dataframe tbody tr th:only-of-type {\n",
       "        vertical-align: middle;\n",
       "    }\n",
       "\n",
       "    .dataframe tbody tr th {\n",
       "        vertical-align: top;\n",
       "    }\n",
       "\n",
       "    .dataframe thead th {\n",
       "        text-align: right;\n",
       "    }\n",
       "</style>\n",
       "<table border=\"1\" class=\"dataframe\">\n",
       "  <thead>\n",
       "    <tr style=\"text-align: right;\">\n",
       "      <th></th>\n",
       "      <th>riderInitial.lat</th>\n",
       "      <th>riderInitial.long</th>\n",
       "      <th>Merchant.Lat</th>\n",
       "      <th>Merchant.Lng</th>\n",
       "      <th>NationFoodCategory_International</th>\n",
       "      <th>NationFoodCategory_Isram</th>\n",
       "      <th>NationFoodCategory_Japanese</th>\n",
       "      <th>NationFoodCategory_Korean</th>\n",
       "      <th>NationFoodCategory_Myanmar</th>\n",
       "      <th>NationFoodCategory_Thai</th>\n",
       "      <th>...</th>\n",
       "      <th>FoodCategories_อาหารคลีน</th>\n",
       "      <th>FoodCategories_อาหารจานด่วน</th>\n",
       "      <th>FoodCategories_อาหารตามสั่ง</th>\n",
       "      <th>FoodCategories_อาหารทะเล</th>\n",
       "      <th>FoodCategories_อาหารอีสาน</th>\n",
       "      <th>FoodCategories_อาหารฮาลาล</th>\n",
       "      <th>FoodCategories_อาหารเหนือ</th>\n",
       "      <th>FoodCategories_อาหารใต้</th>\n",
       "      <th>FoodCategories_เครื่องดื่ม</th>\n",
       "      <th>FoodCategories_ไก่ทอด</th>\n",
       "    </tr>\n",
       "  </thead>\n",
       "  <tbody>\n",
       "    <tr>\n",
       "      <th>0</th>\n",
       "      <td>13.825853</td>\n",
       "      <td>100.551958</td>\n",
       "      <td>13.825703</td>\n",
       "      <td>100.559309</td>\n",
       "      <td>0</td>\n",
       "      <td>0</td>\n",
       "      <td>0</td>\n",
       "      <td>0</td>\n",
       "      <td>0</td>\n",
       "      <td>1</td>\n",
       "      <td>...</td>\n",
       "      <td>0</td>\n",
       "      <td>0</td>\n",
       "      <td>0</td>\n",
       "      <td>1</td>\n",
       "      <td>0</td>\n",
       "      <td>0</td>\n",
       "      <td>0</td>\n",
       "      <td>0</td>\n",
       "      <td>0</td>\n",
       "      <td>0</td>\n",
       "    </tr>\n",
       "    <tr>\n",
       "      <th>1</th>\n",
       "      <td>13.819283</td>\n",
       "      <td>100.561874</td>\n",
       "      <td>13.831056</td>\n",
       "      <td>100.570731</td>\n",
       "      <td>0</td>\n",
       "      <td>0</td>\n",
       "      <td>0</td>\n",
       "      <td>0</td>\n",
       "      <td>0</td>\n",
       "      <td>1</td>\n",
       "      <td>...</td>\n",
       "      <td>0</td>\n",
       "      <td>0</td>\n",
       "      <td>0</td>\n",
       "      <td>0</td>\n",
       "      <td>1</td>\n",
       "      <td>0</td>\n",
       "      <td>0</td>\n",
       "      <td>0</td>\n",
       "      <td>0</td>\n",
       "      <td>0</td>\n",
       "    </tr>\n",
       "    <tr>\n",
       "      <th>2</th>\n",
       "      <td>13.827041</td>\n",
       "      <td>100.554284</td>\n",
       "      <td>13.827205</td>\n",
       "      <td>100.536048</td>\n",
       "      <td>0</td>\n",
       "      <td>0</td>\n",
       "      <td>0</td>\n",
       "      <td>0</td>\n",
       "      <td>0</td>\n",
       "      <td>1</td>\n",
       "      <td>...</td>\n",
       "      <td>0</td>\n",
       "      <td>0</td>\n",
       "      <td>0</td>\n",
       "      <td>0</td>\n",
       "      <td>0</td>\n",
       "      <td>0</td>\n",
       "      <td>0</td>\n",
       "      <td>0</td>\n",
       "      <td>0</td>\n",
       "      <td>0</td>\n",
       "    </tr>\n",
       "    <tr>\n",
       "      <th>3</th>\n",
       "      <td>13.820453</td>\n",
       "      <td>100.557910</td>\n",
       "      <td>13.840180</td>\n",
       "      <td>100.542326</td>\n",
       "      <td>0</td>\n",
       "      <td>0</td>\n",
       "      <td>1</td>\n",
       "      <td>0</td>\n",
       "      <td>0</td>\n",
       "      <td>0</td>\n",
       "      <td>...</td>\n",
       "      <td>0</td>\n",
       "      <td>0</td>\n",
       "      <td>0</td>\n",
       "      <td>0</td>\n",
       "      <td>0</td>\n",
       "      <td>0</td>\n",
       "      <td>0</td>\n",
       "      <td>0</td>\n",
       "      <td>0</td>\n",
       "      <td>0</td>\n",
       "    </tr>\n",
       "    <tr>\n",
       "      <th>4</th>\n",
       "      <td>13.825773</td>\n",
       "      <td>100.567170</td>\n",
       "      <td>13.827034</td>\n",
       "      <td>100.564534</td>\n",
       "      <td>0</td>\n",
       "      <td>0</td>\n",
       "      <td>0</td>\n",
       "      <td>0</td>\n",
       "      <td>0</td>\n",
       "      <td>1</td>\n",
       "      <td>...</td>\n",
       "      <td>0</td>\n",
       "      <td>0</td>\n",
       "      <td>1</td>\n",
       "      <td>0</td>\n",
       "      <td>0</td>\n",
       "      <td>0</td>\n",
       "      <td>0</td>\n",
       "      <td>0</td>\n",
       "      <td>0</td>\n",
       "      <td>0</td>\n",
       "    </tr>\n",
       "    <tr>\n",
       "      <th>...</th>\n",
       "      <td>...</td>\n",
       "      <td>...</td>\n",
       "      <td>...</td>\n",
       "      <td>...</td>\n",
       "      <td>...</td>\n",
       "      <td>...</td>\n",
       "      <td>...</td>\n",
       "      <td>...</td>\n",
       "      <td>...</td>\n",
       "      <td>...</td>\n",
       "      <td>...</td>\n",
       "      <td>...</td>\n",
       "      <td>...</td>\n",
       "      <td>...</td>\n",
       "      <td>...</td>\n",
       "      <td>...</td>\n",
       "      <td>...</td>\n",
       "      <td>...</td>\n",
       "      <td>...</td>\n",
       "      <td>...</td>\n",
       "      <td>...</td>\n",
       "    </tr>\n",
       "    <tr>\n",
       "      <th>9995</th>\n",
       "      <td>13.820017</td>\n",
       "      <td>100.556861</td>\n",
       "      <td>13.831056</td>\n",
       "      <td>100.570731</td>\n",
       "      <td>0</td>\n",
       "      <td>0</td>\n",
       "      <td>0</td>\n",
       "      <td>0</td>\n",
       "      <td>0</td>\n",
       "      <td>1</td>\n",
       "      <td>...</td>\n",
       "      <td>0</td>\n",
       "      <td>0</td>\n",
       "      <td>0</td>\n",
       "      <td>0</td>\n",
       "      <td>1</td>\n",
       "      <td>0</td>\n",
       "      <td>0</td>\n",
       "      <td>0</td>\n",
       "      <td>0</td>\n",
       "      <td>0</td>\n",
       "    </tr>\n",
       "    <tr>\n",
       "      <th>9996</th>\n",
       "      <td>13.827171</td>\n",
       "      <td>100.562291</td>\n",
       "      <td>13.827034</td>\n",
       "      <td>100.564534</td>\n",
       "      <td>0</td>\n",
       "      <td>0</td>\n",
       "      <td>0</td>\n",
       "      <td>0</td>\n",
       "      <td>0</td>\n",
       "      <td>1</td>\n",
       "      <td>...</td>\n",
       "      <td>0</td>\n",
       "      <td>0</td>\n",
       "      <td>1</td>\n",
       "      <td>0</td>\n",
       "      <td>0</td>\n",
       "      <td>0</td>\n",
       "      <td>0</td>\n",
       "      <td>0</td>\n",
       "      <td>0</td>\n",
       "      <td>0</td>\n",
       "    </tr>\n",
       "    <tr>\n",
       "      <th>9997</th>\n",
       "      <td>13.823671</td>\n",
       "      <td>100.550038</td>\n",
       "      <td>13.836996</td>\n",
       "      <td>100.540408</td>\n",
       "      <td>0</td>\n",
       "      <td>0</td>\n",
       "      <td>0</td>\n",
       "      <td>0</td>\n",
       "      <td>0</td>\n",
       "      <td>1</td>\n",
       "      <td>...</td>\n",
       "      <td>0</td>\n",
       "      <td>0</td>\n",
       "      <td>1</td>\n",
       "      <td>0</td>\n",
       "      <td>0</td>\n",
       "      <td>0</td>\n",
       "      <td>0</td>\n",
       "      <td>0</td>\n",
       "      <td>0</td>\n",
       "      <td>0</td>\n",
       "    </tr>\n",
       "    <tr>\n",
       "      <th>9998</th>\n",
       "      <td>13.820751</td>\n",
       "      <td>100.563062</td>\n",
       "      <td>13.839923</td>\n",
       "      <td>100.547567</td>\n",
       "      <td>0</td>\n",
       "      <td>0</td>\n",
       "      <td>0</td>\n",
       "      <td>0</td>\n",
       "      <td>0</td>\n",
       "      <td>1</td>\n",
       "      <td>...</td>\n",
       "      <td>0</td>\n",
       "      <td>0</td>\n",
       "      <td>0</td>\n",
       "      <td>1</td>\n",
       "      <td>0</td>\n",
       "      <td>0</td>\n",
       "      <td>0</td>\n",
       "      <td>0</td>\n",
       "      <td>0</td>\n",
       "      <td>0</td>\n",
       "    </tr>\n",
       "    <tr>\n",
       "      <th>9999</th>\n",
       "      <td>13.825856</td>\n",
       "      <td>100.546523</td>\n",
       "      <td>13.824620</td>\n",
       "      <td>100.563396</td>\n",
       "      <td>0</td>\n",
       "      <td>0</td>\n",
       "      <td>0</td>\n",
       "      <td>0</td>\n",
       "      <td>0</td>\n",
       "      <td>1</td>\n",
       "      <td>...</td>\n",
       "      <td>0</td>\n",
       "      <td>0</td>\n",
       "      <td>1</td>\n",
       "      <td>0</td>\n",
       "      <td>0</td>\n",
       "      <td>0</td>\n",
       "      <td>0</td>\n",
       "      <td>0</td>\n",
       "      <td>0</td>\n",
       "      <td>0</td>\n",
       "    </tr>\n",
       "  </tbody>\n",
       "</table>\n",
       "<p>10000 rows × 32 columns</p>\n",
       "</div>"
      ],
      "text/plain": [
       "      riderInitial.lat  riderInitial.long  Merchant.Lat  Merchant.Lng  \\\n",
       "0            13.825853         100.551958     13.825703    100.559309   \n",
       "1            13.819283         100.561874     13.831056    100.570731   \n",
       "2            13.827041         100.554284     13.827205    100.536048   \n",
       "3            13.820453         100.557910     13.840180    100.542326   \n",
       "4            13.825773         100.567170     13.827034    100.564534   \n",
       "...                ...                ...           ...           ...   \n",
       "9995         13.820017         100.556861     13.831056    100.570731   \n",
       "9996         13.827171         100.562291     13.827034    100.564534   \n",
       "9997         13.823671         100.550038     13.836996    100.540408   \n",
       "9998         13.820751         100.563062     13.839923    100.547567   \n",
       "9999         13.825856         100.546523     13.824620    100.563396   \n",
       "\n",
       "      NationFoodCategory_International  NationFoodCategory_Isram  \\\n",
       "0                                    0                         0   \n",
       "1                                    0                         0   \n",
       "2                                    0                         0   \n",
       "3                                    0                         0   \n",
       "4                                    0                         0   \n",
       "...                                ...                       ...   \n",
       "9995                                 0                         0   \n",
       "9996                                 0                         0   \n",
       "9997                                 0                         0   \n",
       "9998                                 0                         0   \n",
       "9999                                 0                         0   \n",
       "\n",
       "      NationFoodCategory_Japanese  NationFoodCategory_Korean  \\\n",
       "0                               0                          0   \n",
       "1                               0                          0   \n",
       "2                               0                          0   \n",
       "3                               1                          0   \n",
       "4                               0                          0   \n",
       "...                           ...                        ...   \n",
       "9995                            0                          0   \n",
       "9996                            0                          0   \n",
       "9997                            0                          0   \n",
       "9998                            0                          0   \n",
       "9999                            0                          0   \n",
       "\n",
       "      NationFoodCategory_Myanmar  NationFoodCategory_Thai  ...  \\\n",
       "0                              0                        1  ...   \n",
       "1                              0                        1  ...   \n",
       "2                              0                        1  ...   \n",
       "3                              0                        0  ...   \n",
       "4                              0                        1  ...   \n",
       "...                          ...                      ...  ...   \n",
       "9995                           0                        1  ...   \n",
       "9996                           0                        1  ...   \n",
       "9997                           0                        1  ...   \n",
       "9998                           0                        1  ...   \n",
       "9999                           0                        1  ...   \n",
       "\n",
       "      FoodCategories_อาหารคลีน  FoodCategories_อาหารจานด่วน  \\\n",
       "0                            0                            0   \n",
       "1                            0                            0   \n",
       "2                            0                            0   \n",
       "3                            0                            0   \n",
       "4                            0                            0   \n",
       "...                        ...                          ...   \n",
       "9995                         0                            0   \n",
       "9996                         0                            0   \n",
       "9997                         0                            0   \n",
       "9998                         0                            0   \n",
       "9999                         0                            0   \n",
       "\n",
       "      FoodCategories_อาหารตามสั่ง  FoodCategories_อาหารทะเล  \\\n",
       "0                               0                         1   \n",
       "1                               0                         0   \n",
       "2                               0                         0   \n",
       "3                               0                         0   \n",
       "4                               1                         0   \n",
       "...                           ...                       ...   \n",
       "9995                            0                         0   \n",
       "9996                            1                         0   \n",
       "9997                            1                         0   \n",
       "9998                            0                         1   \n",
       "9999                            1                         0   \n",
       "\n",
       "      FoodCategories_อาหารอีสาน  FoodCategories_อาหารฮาลาล  \\\n",
       "0                             0                          0   \n",
       "1                             1                          0   \n",
       "2                             0                          0   \n",
       "3                             0                          0   \n",
       "4                             0                          0   \n",
       "...                         ...                        ...   \n",
       "9995                          1                          0   \n",
       "9996                          0                          0   \n",
       "9997                          0                          0   \n",
       "9998                          0                          0   \n",
       "9999                          0                          0   \n",
       "\n",
       "      FoodCategories_อาหารเหนือ  FoodCategories_อาหารใต้  \\\n",
       "0                             0                        0   \n",
       "1                             0                        0   \n",
       "2                             0                        0   \n",
       "3                             0                        0   \n",
       "4                             0                        0   \n",
       "...                         ...                      ...   \n",
       "9995                          0                        0   \n",
       "9996                          0                        0   \n",
       "9997                          0                        0   \n",
       "9998                          0                        0   \n",
       "9999                          0                        0   \n",
       "\n",
       "      FoodCategories_เครื่องดื่ม  FoodCategories_ไก่ทอด  \n",
       "0                              0                      0  \n",
       "1                              0                      0  \n",
       "2                              0                      0  \n",
       "3                              0                      0  \n",
       "4                              0                      0  \n",
       "...                          ...                    ...  \n",
       "9995                           0                      0  \n",
       "9996                           0                      0  \n",
       "9997                           0                      0  \n",
       "9998                           0                      0  \n",
       "9999                           0                      0  \n",
       "\n",
       "[10000 rows x 32 columns]"
      ]
     },
     "execution_count": 83,
     "metadata": {},
     "output_type": "execute_result"
    }
   ],
   "source": [
    "df"
   ]
  },
  {
   "cell_type": "code",
   "execution_count": 82,
   "metadata": {},
   "outputs": [
    {
     "ename": "KeyError",
     "evalue": "'FoodPrepTime'",
     "output_type": "error",
     "traceback": [
      "\u001b[1;31m---------------------------------------------------------------------------\u001b[0m",
      "\u001b[1;31mKeyError\u001b[0m                                  Traceback (most recent call last)",
      "\u001b[1;32m~\\AppData\\Roaming\\Python\\Python39\\site-packages\\pandas\\core\\indexes\\base.py\u001b[0m in \u001b[0;36mget_loc\u001b[1;34m(self, key, method, tolerance)\u001b[0m\n\u001b[0;32m   3799\u001b[0m             \u001b[1;32mtry\u001b[0m\u001b[1;33m:\u001b[0m\u001b[1;33m\u001b[0m\u001b[1;33m\u001b[0m\u001b[0m\n\u001b[1;32m-> 3800\u001b[1;33m                 \u001b[1;32mreturn\u001b[0m \u001b[0mself\u001b[0m\u001b[1;33m.\u001b[0m\u001b[0m_engine\u001b[0m\u001b[1;33m.\u001b[0m\u001b[0mget_loc\u001b[0m\u001b[1;33m(\u001b[0m\u001b[0mcasted_key\u001b[0m\u001b[1;33m)\u001b[0m\u001b[1;33m\u001b[0m\u001b[1;33m\u001b[0m\u001b[0m\n\u001b[0m\u001b[0;32m   3801\u001b[0m             \u001b[1;32mexcept\u001b[0m \u001b[0mKeyError\u001b[0m \u001b[1;32mas\u001b[0m \u001b[0merr\u001b[0m\u001b[1;33m:\u001b[0m\u001b[1;33m\u001b[0m\u001b[1;33m\u001b[0m\u001b[0m\n",
      "\u001b[1;32m~\\AppData\\Roaming\\Python\\Python39\\site-packages\\pandas\\_libs\\index.pyx\u001b[0m in \u001b[0;36mpandas._libs.index.IndexEngine.get_loc\u001b[1;34m()\u001b[0m\n",
      "\u001b[1;32m~\\AppData\\Roaming\\Python\\Python39\\site-packages\\pandas\\_libs\\index.pyx\u001b[0m in \u001b[0;36mpandas._libs.index.IndexEngine.get_loc\u001b[1;34m()\u001b[0m\n",
      "\u001b[1;32mpandas\\_libs\\hashtable_class_helper.pxi\u001b[0m in \u001b[0;36mpandas._libs.hashtable.PyObjectHashTable.get_item\u001b[1;34m()\u001b[0m\n",
      "\u001b[1;32mpandas\\_libs\\hashtable_class_helper.pxi\u001b[0m in \u001b[0;36mpandas._libs.hashtable.PyObjectHashTable.get_item\u001b[1;34m()\u001b[0m\n",
      "\u001b[1;31mKeyError\u001b[0m: 'FoodPrepTime'",
      "\nThe above exception was the direct cause of the following exception:\n",
      "\u001b[1;31mKeyError\u001b[0m                                  Traceback (most recent call last)",
      "\u001b[1;32m~\\AppData\\Local\\Temp/ipykernel_788/2173444454.py\u001b[0m in \u001b[0;36m<module>\u001b[1;34m\u001b[0m\n\u001b[1;32m----> 1\u001b[1;33m \u001b[0mdf\u001b[0m\u001b[1;33m[\u001b[0m\u001b[1;34m\"FoodPrepTime\"\u001b[0m\u001b[1;33m]\u001b[0m\u001b[1;33m.\u001b[0m\u001b[0mhist\u001b[0m\u001b[1;33m(\u001b[0m\u001b[1;33m)\u001b[0m\u001b[1;33m\u001b[0m\u001b[1;33m\u001b[0m\u001b[0m\n\u001b[0m",
      "\u001b[1;32m~\\AppData\\Roaming\\Python\\Python39\\site-packages\\pandas\\core\\frame.py\u001b[0m in \u001b[0;36m__getitem__\u001b[1;34m(self, key)\u001b[0m\n\u001b[0;32m   3803\u001b[0m             \u001b[1;32mif\u001b[0m \u001b[0mself\u001b[0m\u001b[1;33m.\u001b[0m\u001b[0mcolumns\u001b[0m\u001b[1;33m.\u001b[0m\u001b[0mnlevels\u001b[0m \u001b[1;33m>\u001b[0m \u001b[1;36m1\u001b[0m\u001b[1;33m:\u001b[0m\u001b[1;33m\u001b[0m\u001b[1;33m\u001b[0m\u001b[0m\n\u001b[0;32m   3804\u001b[0m                 \u001b[1;32mreturn\u001b[0m \u001b[0mself\u001b[0m\u001b[1;33m.\u001b[0m\u001b[0m_getitem_multilevel\u001b[0m\u001b[1;33m(\u001b[0m\u001b[0mkey\u001b[0m\u001b[1;33m)\u001b[0m\u001b[1;33m\u001b[0m\u001b[1;33m\u001b[0m\u001b[0m\n\u001b[1;32m-> 3805\u001b[1;33m             \u001b[0mindexer\u001b[0m \u001b[1;33m=\u001b[0m \u001b[0mself\u001b[0m\u001b[1;33m.\u001b[0m\u001b[0mcolumns\u001b[0m\u001b[1;33m.\u001b[0m\u001b[0mget_loc\u001b[0m\u001b[1;33m(\u001b[0m\u001b[0mkey\u001b[0m\u001b[1;33m)\u001b[0m\u001b[1;33m\u001b[0m\u001b[1;33m\u001b[0m\u001b[0m\n\u001b[0m\u001b[0;32m   3806\u001b[0m             \u001b[1;32mif\u001b[0m \u001b[0mis_integer\u001b[0m\u001b[1;33m(\u001b[0m\u001b[0mindexer\u001b[0m\u001b[1;33m)\u001b[0m\u001b[1;33m:\u001b[0m\u001b[1;33m\u001b[0m\u001b[1;33m\u001b[0m\u001b[0m\n\u001b[0;32m   3807\u001b[0m                 \u001b[0mindexer\u001b[0m \u001b[1;33m=\u001b[0m \u001b[1;33m[\u001b[0m\u001b[0mindexer\u001b[0m\u001b[1;33m]\u001b[0m\u001b[1;33m\u001b[0m\u001b[1;33m\u001b[0m\u001b[0m\n",
      "\u001b[1;32m~\\AppData\\Roaming\\Python\\Python39\\site-packages\\pandas\\core\\indexes\\base.py\u001b[0m in \u001b[0;36mget_loc\u001b[1;34m(self, key, method, tolerance)\u001b[0m\n\u001b[0;32m   3800\u001b[0m                 \u001b[1;32mreturn\u001b[0m \u001b[0mself\u001b[0m\u001b[1;33m.\u001b[0m\u001b[0m_engine\u001b[0m\u001b[1;33m.\u001b[0m\u001b[0mget_loc\u001b[0m\u001b[1;33m(\u001b[0m\u001b[0mcasted_key\u001b[0m\u001b[1;33m)\u001b[0m\u001b[1;33m\u001b[0m\u001b[1;33m\u001b[0m\u001b[0m\n\u001b[0;32m   3801\u001b[0m             \u001b[1;32mexcept\u001b[0m \u001b[0mKeyError\u001b[0m \u001b[1;32mas\u001b[0m \u001b[0merr\u001b[0m\u001b[1;33m:\u001b[0m\u001b[1;33m\u001b[0m\u001b[1;33m\u001b[0m\u001b[0m\n\u001b[1;32m-> 3802\u001b[1;33m                 \u001b[1;32mraise\u001b[0m \u001b[0mKeyError\u001b[0m\u001b[1;33m(\u001b[0m\u001b[0mkey\u001b[0m\u001b[1;33m)\u001b[0m \u001b[1;32mfrom\u001b[0m \u001b[0merr\u001b[0m\u001b[1;33m\u001b[0m\u001b[1;33m\u001b[0m\u001b[0m\n\u001b[0m\u001b[0;32m   3803\u001b[0m             \u001b[1;32mexcept\u001b[0m \u001b[0mTypeError\u001b[0m\u001b[1;33m:\u001b[0m\u001b[1;33m\u001b[0m\u001b[1;33m\u001b[0m\u001b[0m\n\u001b[0;32m   3804\u001b[0m                 \u001b[1;31m# If we have a listlike key, _check_indexing_error will raise\u001b[0m\u001b[1;33m\u001b[0m\u001b[1;33m\u001b[0m\u001b[0m\n",
      "\u001b[1;31mKeyError\u001b[0m: 'FoodPrepTime'"
     ]
    }
   ],
   "source": [
    "df[\"FoodPrepTime\"].hist()"
   ]
  },
  {
   "cell_type": "code",
   "execution_count": 73,
   "metadata": {},
   "outputs": [
    {
     "data": {
      "text/plain": [
       "Text(367.48863636363626, 0.5, 'Predicted')"
      ]
     },
     "execution_count": 73,
     "metadata": {},
     "output_type": "execute_result"
    },
    {
     "data": {
      "image/png": "[encoded data removed]",
      "text/plain": [
       "<Figure size 720x360 with 2 Axes>"
      ]
     },
     "metadata": {
      "needs_background": "light"
     },
     "output_type": "display_data"
    }
   ],
   "source": [
    "\n",
    "# TODO: plot the act-pred\n",
    "fig, axs = plt.subplots(1, 2, figsize=(10, 5))\n",
    "fig.tight_layout(pad=5.0)\n",
    "axs[0].scatter(ys_test, gbdt_predictions_s, alpha=0.1)\n",
    "axs[0].set_title(\"gbdt_s\")\n",
    "axs[0].set_xlabel(\"Actual\")\n",
    "axs[0].set_ylabel(\"Predicted\")\n",
    "\n",
    "axs[1].scatter(ym_test, gbdt_predictions_m, alpha=0.1)\n",
    "axs[1].set_title(\"gbdt_m\")\n",
    "axs[1].set_xlabel(\"Actual\")\n",
    "axs[1].set_ylabel(\"Predicted\")\n"
   ]
  },
  {
   "cell_type": "code",
   "execution_count": 84,
   "metadata": {},
   "outputs": [
    {
     "data": {
      "text/plain": [
       "Text(367.48863636363626, 0.5, 'Actual/Predicted')"
      ]
     },
     "execution_count": 84,
     "metadata": {},
     "output_type": "execute_result"
    },
    {
     "data": {
      "image/png": "[encoded data removed]",
      "text/plain": [
       "<Figure size 720x360 with 2 Axes>"
      ]
     },
     "metadata": {
      "needs_background": "light"
     },
     "output_type": "display_data"
    }
   ],
   "source": [
    "\n",
    "# TODO: plot the act-act/pred\n",
    "fig, axs = plt.subplots(1, 2, figsize=(10, 5))\n",
    "fig.tight_layout(pad=5.0)\n",
    "axs[0].scatter(ys_test, ys_test/gbdt_predictions_s, alpha=0.1)\n",
    "axs[0].set_title(\"gbdt_s\")\n",
    "axs[0].set_xlabel(\"Actual\")\n",
    "axs[0].set_ylabel(\"Actual/Predicted\")\n",
    "\n",
    "axs[1].scatter(ym_test, gbdt_predictions_m/ym_test, alpha=0.1)\n",
    "axs[1].set_title(\"gbdt_m\")\n",
    "axs[1].set_xlabel(\"Actual\")\n",
    "axs[1].set_ylabel(\"Actual/Predicted\")\n"
   ]
  },
  {
   "cell_type": "code",
   "execution_count": 55,
   "metadata": {},
   "outputs": [
    {
     "data": {
      "image/png": "[encoded data removed]",
      "text/plain": [
       "<Figure size 720x720 with 2 Axes>"
      ]
     },
     "metadata": {
      "needs_background": "light"
     },
     "output_type": "display_data"
    }
   ],
   "source": [
    "fig = plt.figure(figsize=(10, 10))\n",
    "ax = fig.add_subplot(111, projection='3d')\n",
    "\n",
    "x = CV_m_result[\"param_max_depth\"].values.astype(\"int\")\n",
    "y = CV_m_result[\"param_max_features\"].map({1.0: 0, \"sqrt\": 1, \"log2\": 2}).values.astype(\"int\")\n",
    "z = CV_m_result[\"param_n_estimators\"].values.astype(\"int\")\n",
    "colo = CV_m_result[\"mean_test_score\"].values\n",
    "\n",
    "color_map = cm.ScalarMappable(cmap=cm.RdBu)\n",
    "# color_map = cm.ScalarMappable(cmap=cm.Greens_r)\n",
    "color_map.set_array(colo)\n",
    "\n",
    "img = ax.scatter(xs=x, ys=y, zs=z, c=colo, cmap=cm.RdBu, s=100, alpha=0.5)\n",
    "# img = ax.scatter(xs=x, ys=y, zs=z, c=colo, cmap=cm.Greens_r, s=100, alpha=0.5)\n",
    "cbar = fig.colorbar(img, ticks=np.linspace(0.45, 0.60, 10), orientation='vertical', shrink=0.5, aspect=10, pad=0.1)\n",
    "cbar.set_label('mean_test_score', rotation=270, labelpad=20)\n",
    "\n",
    "ax.set_title(\"mean R2 score of CV_gbdt_m\")\n",
    "ax.set_xlabel('param_max_depth')\n",
    "ax.set_ylabel('param_max_features')\n",
    "ax.set_zlabel('param_n_estimators')\n",
    "\n",
    "ax.axes.yaxis.set_major_locator(mticker.FixedLocator(y))\n",
    "ax.axes.yaxis.set_ticklabels(CV_m_result[\"param_max_features\"].map({1.0: \"auto\", \"sqrt\": \"sqrt\", \"log2\": \"log2\"}))\n",
    "plt.show()"
   ]
  },
  {
   "cell_type": "code",
   "execution_count": 56,
   "metadata": {},
   "outputs": [
    {
     "data": {
      "text/plain": [
       "{'max_depth': 5, 'max_features': 1.0, 'n_estimators': 50}"
      ]
     },
     "execution_count": 56,
     "metadata": {},
     "output_type": "execute_result"
    }
   ],
   "source": [
    "CV_gbdt_m.best_params_"
   ]
  },
  {
   "cell_type": "code",
   "execution_count": 79,
   "metadata": {},
   "outputs": [
    {
     "name": "stdout",
     "output_type": "stream",
     "text": [
      "[ 3  1  2  0 24 25 30 17 20  9 26 23 21 19 15  4 11 12 10  8 29  6 28 18\n",
      " 16  7  5 22 27 13 14 31]\n",
      "Index(['Merchant.Lng', 'riderInitial.long', 'Merchant.Lat', 'riderInitial.lat',\n",
      "       'FoodCategories_อาหารตามสั่ง', 'FoodCategories_อาหารทะเล',\n",
      "       'FoodCategories_เครื่องดื่ม', 'FoodCategories_ร้านก๋วยเตี๋ยว',\n",
      "       'FoodCategories_สุกี้ยากี้', 'NationFoodCategory_Thai',\n",
      "       'FoodCategories_อาหารอีสาน', 'FoodCategories_อาหารจานด่วน',\n",
      "       'FoodCategories_สเต๊ก', 'FoodCategories_สปาเก็ตตี้',\n",
      "       'FoodCategories_ปิ้งย่าง', 'NationFoodCategory_International',\n",
      "       'FoodCategories_Fast Food', 'FoodCategories_Quick Meal',\n",
      "       'NationFoodCategory_Vietnam', 'NationFoodCategory_Myanmar',\n",
      "       'FoodCategories_อาหารใต้', 'NationFoodCategory_Japanese',\n",
      "       'FoodCategories_อาหารเหนือ', 'FoodCategories_ร้านอาหาร',\n",
      "       'FoodCategories_พิซซ่า', 'NationFoodCategory_Korean',\n",
      "       'NationFoodCategory_Isram', 'FoodCategories_อาหารคลีน',\n",
      "       'FoodCategories_อาหารฮาลาล', 'FoodCategories_ขนมจีน',\n",
      "       'FoodCategories_ของหวาน', 'FoodCategories_ไก่ทอด'],\n",
      "      dtype='object')\n",
      "['0.5753495870999086' '0.27991097193600534' '0.08633763219275319'\n",
      " '0.05105701892303798' '0.002194115747123427' '0.0006566054263606867'\n",
      " '0.0005341516763431651' '0.0005291957269072664' '0.000469559443237455'\n",
      " '0.00042561389660947843' '0.0004053757345426303' '0.00035013918411569563'\n",
      " '0.000315973868376725' '0.00024967208684443604' '0.00020355310553378894'\n",
      " '0.00017988878273087413' '0.00017797298153263475'\n",
      " '0.00016152596135516725' '0.00015238839382359165' '8.932989539021241e-05'\n",
      " '7.445134624885308e-05' '6.899803656272157e-05' '6.667321452149511e-05'\n",
      " '2.857005069676065e-05' '1.1035289437813967e-05' '0.0' '0.0' '0.0' '0.0'\n",
      " '0.0' '0.0' '0.0']\n",
      "[ 3  1  2  0 24 30  9 25 23  6 20 15 26 21  4 19 14 10 12 16 29 28 27  5\n",
      " 22  7  8 18 11 13 17 31]\n",
      "Index(['Merchant.Lng', 'riderInitial.long', 'Merchant.Lat', 'riderInitial.lat',\n",
      "       'FoodCategories_อาหารตามสั่ง', 'FoodCategories_เครื่องดื่ม',\n",
      "       'NationFoodCategory_Thai', 'FoodCategories_อาหารทะเล',\n",
      "       'FoodCategories_อาหารจานด่วน', 'NationFoodCategory_Japanese',\n",
      "       'FoodCategories_สุกี้ยากี้', 'FoodCategories_ปิ้งย่าง',\n",
      "       'FoodCategories_อาหารอีสาน', 'FoodCategories_สเต๊ก',\n",
      "       'NationFoodCategory_International', 'FoodCategories_สปาเก็ตตี้',\n",
      "       'FoodCategories_ของหวาน', 'NationFoodCategory_Vietnam',\n",
      "       'FoodCategories_Quick Meal', 'FoodCategories_พิซซ่า',\n",
      "       'FoodCategories_อาหารใต้', 'FoodCategories_อาหารเหนือ',\n",
      "       'FoodCategories_อาหารฮาลาล', 'NationFoodCategory_Isram',\n",
      "       'FoodCategories_อาหารคลีน', 'NationFoodCategory_Korean',\n",
      "       'NationFoodCategory_Myanmar', 'FoodCategories_ร้านอาหาร',\n",
      "       'FoodCategories_Fast Food', 'FoodCategories_ขนมจีน',\n",
      "       'FoodCategories_ร้านก๋วยเตี๋ยว', 'FoodCategories_ไก่ทอด'],\n",
      "      dtype='object')\n",
      "['0.5753495870999086' '0.27991097193600534' '0.08633763219275319'\n",
      " '0.05105701892303798' '0.002194115747123427' '0.0005341516763431651'\n",
      " '0.00042561389660947843' '0.0006566054263606867' '0.00035013918411569563'\n",
      " '6.899803656272157e-05' '0.000469559443237455' '0.00020355310553378894'\n",
      " '0.0004053757345426303' '0.000315973868376725' '0.00017988878273087413'\n",
      " '0.00024967208684443604' '0.0' '0.00015238839382359165'\n",
      " '0.00016152596135516725' '1.1035289437813967e-05' '7.445134624885308e-05'\n",
      " '6.667321452149511e-05' '0.0' '0.0' '0.0' '0.0' '8.932989539021241e-05'\n",
      " '2.857005069676065e-05' '0.00017797298153263475' '0.0'\n",
      " '0.0005291957269072664' '0.0']\n"
     ]
    }
   ],
   "source": [
    "\n",
    "# TODO: show the feature importance\n",
    "print(np.argsort(gbdt_s.feature_importances_)[::-1])\n",
    "print(df.columns[np.argsort(gbdt_s.feature_importances_)[::-1]])\n",
    "print(gbdt_s.feature_importances_[np.argsort(gbdt_s.feature_importances_)[::-1]].astype(\"str\"))\n",
    "\n",
    "\n",
    "print(np.argsort(gbdt_m.feature_importances_)[::-1])\n",
    "print(df.columns[np.argsort(gbdt_m.feature_importances_)[::-1]])\n",
    "print(gbdt_s.feature_importances_[np.argsort(gbdt_m.feature_importances_)[::-1]].astype(\"str\"))"
   ]
  },
  {
   "cell_type": "code",
   "execution_count": null,
   "metadata": {},
   "outputs": [],
   "source": [
    "\n",
    "#TODO pickup-arrive, pickup-call"
   ]
  }
 ],
 "metadata": {
  "kernelspec": {
   "display_name": "Python 3.9.12 ('EAT')",
   "language": "python",
   "name": "python3"
  },
  "language_info": {
   "codemirror_mode": {
    "name": "ipython",
    "version": 3
   },
   "file_extension": ".py",
   "mimetype": "text/x-python",
   "name": "python",
   "nbconvert_exporter": "python",
   "pygments_lexer": "ipython3",
   "version": "3.9.12 (main, Apr  4 2022, 05:22:27) [MSC v.1916 64 bit (AMD64)]"
  },
  "orig_nbformat": 4,
  "vscode": {
   "interpreter": {
    "hash": "e873fd8460d25e2b7d13238b75f01f142c4b8abc313241c193ed6eac1548f508"
   }
  }
 },
 "nbformat": 4,
 "nbformat_minor": 2
}
