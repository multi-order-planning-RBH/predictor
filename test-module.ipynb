{
 "cells": [
  {
   "cell_type": "code",
   "execution_count": 56,
   "metadata": {},
   "outputs": [],
   "source": [
    "from module.delivery_model import DeliveryModel\n",
    "import numpy as np "
   ]
  },
  {
   "cell_type": "code",
   "execution_count": 57,
   "metadata": {},
   "outputs": [],
   "source": [
    "deliveryModel = DeliveryModel()"
   ]
  },
  {
   "cell_type": "code",
   "execution_count": 58,
   "metadata": {},
   "outputs": [
    {
     "name": "stdout",
     "output_type": "stream",
     "text": [
      "[26.56447434 26.56447434]\n"
     ]
    },
    {
     "name": "stderr",
     "output_type": "stream",
     "text": [
      "/home/boatinw99/.local/lib/python3.8/site-packages/sklearn/base.py:409: UserWarning: X does not have valid feature names, but GradientBoostingRegressor was fitted with feature names\n",
      "  warnings.warn(\n"
     ]
    }
   ],
   "source": [
    "u=(13.840180,100.542326)\n",
    "v=(13.803957,100.513704)\n",
    "locations = np.array([(u,v),(u,v)])\n",
    "# predictedDuration = deliveryModel.predict(u,v)[0]\n",
    "# EucDist = np.apply_along_axis(lambda p :p[0] , axis=1, arr=locations)\n",
    "# print(EucDist)\n",
    "duration = deliveryModel.batch_predict(locations=locations,day_of_week=[])\n",
    "print(duration)\n",
    "# print(predictedDuration) "
   ]
  },
  {
   "cell_type": "code",
   "execution_count": 5,
   "metadata": {},
   "outputs": [
    {
     "data": {
      "text/plain": [
       "array(['ONE', 'ONE', 'ONE', 'ONE', 'ONE'], dtype='<U3')"
      ]
     },
     "execution_count": 5,
     "metadata": {},
     "output_type": "execute_result"
    }
   ],
   "source": [
    "np.full(5,\"ONE\")"
   ]
  },
  {
   "cell_type": "code",
   "execution_count": 69,
   "metadata": {},
   "outputs": [],
   "source": [
    "n = 4\n",
    "X = np.empty(shape=[n, 0])"
   ]
  },
  {
   "cell_type": "code",
   "execution_count": 70,
   "metadata": {},
   "outputs": [
    {
     "name": "stdout",
     "output_type": "stream",
     "text": [
      "[]\n"
     ]
    }
   ],
   "source": [
    "print(X)"
   ]
  },
  {
   "cell_type": "code",
   "execution_count": 71,
   "metadata": {},
   "outputs": [
    {
     "ename": "ValueError",
     "evalue": "all the input array dimensions for the concatenation axis must match exactly, but along dimension 0, the array at index 0 has size 4 and the array at index 1 has size 3",
     "output_type": "error",
     "traceback": [
      "\u001b[0;31m---------------------------------------------------------------------------\u001b[0m",
      "\u001b[0;31mValueError\u001b[0m                                Traceback (most recent call last)",
      "\u001b[0;32m<ipython-input-71-1959ce8bf15b>\u001b[0m in \u001b[0;36m<module>\u001b[0;34m\u001b[0m\n\u001b[0;32m----> 1\u001b[0;31m \u001b[0mprint\u001b[0m\u001b[0;34m(\u001b[0m\u001b[0mnp\u001b[0m\u001b[0;34m.\u001b[0m\u001b[0mconcatenate\u001b[0m\u001b[0;34m(\u001b[0m\u001b[0;34m(\u001b[0m\u001b[0mX\u001b[0m\u001b[0;34m,\u001b[0m \u001b[0mb\u001b[0m\u001b[0;34m.\u001b[0m\u001b[0mT\u001b[0m\u001b[0;34m)\u001b[0m\u001b[0;34m,\u001b[0m \u001b[0maxis\u001b[0m\u001b[0;34m=\u001b[0m\u001b[0;36m1\u001b[0m\u001b[0;34m)\u001b[0m\u001b[0;34m)\u001b[0m\u001b[0;34m\u001b[0m\u001b[0;34m\u001b[0m\u001b[0m\n\u001b[0m",
      "\u001b[0;32m~/.local/lib/python3.8/site-packages/numpy/core/overrides.py\u001b[0m in \u001b[0;36mconcatenate\u001b[0;34m(*args, **kwargs)\u001b[0m\n",
      "\u001b[0;31mValueError\u001b[0m: all the input array dimensions for the concatenation axis must match exactly, but along dimension 0, the array at index 0 has size 4 and the array at index 1 has size 3"
     ]
    }
   ],
   "source": [
    "print(np.concatenate((X, b.T), axis=1))"
   ]
  },
  {
   "cell_type": "code",
   "execution_count": 85,
   "metadata": {},
   "outputs": [
    {
     "name": "stdout",
     "output_type": "stream",
     "text": [
      "[11 12 13]\n"
     ]
    },
    {
     "ename": "AxisError",
     "evalue": "axis 1 is out of bounds for array of dimension 1",
     "output_type": "error",
     "traceback": [
      "\u001b[0;31m---------------------------------------------------------------------------\u001b[0m",
      "\u001b[0;31mAxisError\u001b[0m                                 Traceback (most recent call last)",
      "\u001b[0;32m<ipython-input-85-551f39ffcbff>\u001b[0m in \u001b[0;36m<module>\u001b[0;34m\u001b[0m\n\u001b[1;32m      1\u001b[0m \u001b[0ma\u001b[0m \u001b[0;34m=\u001b[0m \u001b[0mnp\u001b[0m\u001b[0;34m.\u001b[0m\u001b[0marray\u001b[0m\u001b[0;34m(\u001b[0m\u001b[0;34m[\u001b[0m\u001b[0;36m11\u001b[0m\u001b[0;34m,\u001b[0m\u001b[0;36m12\u001b[0m\u001b[0;34m,\u001b[0m\u001b[0;36m13\u001b[0m\u001b[0;34m]\u001b[0m\u001b[0;34m)\u001b[0m\u001b[0;34m\u001b[0m\u001b[0;34m\u001b[0m\u001b[0m\n\u001b[1;32m      2\u001b[0m \u001b[0mprint\u001b[0m\u001b[0;34m(\u001b[0m\u001b[0ma\u001b[0m\u001b[0;34m.\u001b[0m\u001b[0mT\u001b[0m\u001b[0;34m)\u001b[0m\u001b[0;34m\u001b[0m\u001b[0;34m\u001b[0m\u001b[0m\n\u001b[0;32m----> 3\u001b[0;31m \u001b[0mX\u001b[0m \u001b[0;34m=\u001b[0m \u001b[0mnp\u001b[0m\u001b[0;34m.\u001b[0m\u001b[0mapply_along_axis\u001b[0m\u001b[0;34m(\u001b[0m\u001b[0;32mlambda\u001b[0m \u001b[0mx\u001b[0m \u001b[0;34m:\u001b[0m\u001b[0;34m[\u001b[0m\u001b[0mx\u001b[0m\u001b[0;34m]\u001b[0m \u001b[0;34m,\u001b[0m \u001b[0maxis\u001b[0m\u001b[0;34m=\u001b[0m\u001b[0;36m1\u001b[0m\u001b[0;34m,\u001b[0m \u001b[0marr\u001b[0m\u001b[0;34m=\u001b[0m\u001b[0ma\u001b[0m\u001b[0;34m)\u001b[0m\u001b[0;34m\u001b[0m\u001b[0;34m\u001b[0m\u001b[0m\n\u001b[0m",
      "\u001b[0;32m~/.local/lib/python3.8/site-packages/numpy/core/overrides.py\u001b[0m in \u001b[0;36mapply_along_axis\u001b[0;34m(*args, **kwargs)\u001b[0m\n",
      "\u001b[0;32m~/.local/lib/python3.8/site-packages/numpy/lib/shape_base.py\u001b[0m in \u001b[0;36mapply_along_axis\u001b[0;34m(func1d, axis, arr, *args, **kwargs)\u001b[0m\n\u001b[1;32m    359\u001b[0m     \u001b[0marr\u001b[0m \u001b[0;34m=\u001b[0m \u001b[0masanyarray\u001b[0m\u001b[0;34m(\u001b[0m\u001b[0marr\u001b[0m\u001b[0;34m)\u001b[0m\u001b[0;34m\u001b[0m\u001b[0;34m\u001b[0m\u001b[0m\n\u001b[1;32m    360\u001b[0m     \u001b[0mnd\u001b[0m \u001b[0;34m=\u001b[0m \u001b[0marr\u001b[0m\u001b[0;34m.\u001b[0m\u001b[0mndim\u001b[0m\u001b[0;34m\u001b[0m\u001b[0;34m\u001b[0m\u001b[0m\n\u001b[0;32m--> 361\u001b[0;31m     \u001b[0maxis\u001b[0m \u001b[0;34m=\u001b[0m \u001b[0mnormalize_axis_index\u001b[0m\u001b[0;34m(\u001b[0m\u001b[0maxis\u001b[0m\u001b[0;34m,\u001b[0m \u001b[0mnd\u001b[0m\u001b[0;34m)\u001b[0m\u001b[0;34m\u001b[0m\u001b[0;34m\u001b[0m\u001b[0m\n\u001b[0m\u001b[1;32m    362\u001b[0m \u001b[0;34m\u001b[0m\u001b[0m\n\u001b[1;32m    363\u001b[0m     \u001b[0;31m# arr, with the iteration axis at the end\u001b[0m\u001b[0;34m\u001b[0m\u001b[0;34m\u001b[0m\u001b[0;34m\u001b[0m\u001b[0m\n",
      "\u001b[0;31mAxisError\u001b[0m: axis 1 is out of bounds for array of dimension 1"
     ]
    }
   ],
   "source": [
    "a = np.array([11,12,13])\n",
    "\n",
    "print(a.T)\n",
    "# X = np.apply_along_axis(lambda x :[x] , axis=1, arr=a)"
   ]
  },
  {
   "cell_type": "code",
   "execution_count": 86,
   "metadata": {},
   "outputs": [
    {
     "name": "stdout",
     "output_type": "stream",
     "text": [
      "[[11 12 13]]\n"
     ]
    }
   ],
   "source": [
    "print(X)"
   ]
  },
  {
   "cell_type": "code",
   "execution_count": 2,
   "metadata": {},
   "outputs": [],
   "source": [
    "# To use this module to predict the travel time from u -> v where u = (lat,long), v = (lat,long) : \n",
    "# \n",
    "# from module.delivery_model import DeliveryModel\n",
    "# deliveryModel = DeliveryModel()\n",
    "# u=(13.840180,100.542326) \n",
    "# v=(13.803957,100.513704)\n",
    "# predictedDuration = deliveryModel.predict(u,v)[0]\n",
    "# \n",
    "# predictedDuration will be the total time in minute \n",
    "# \n",
    "\n",
    "import pickle as pkl\n",
    "import numpy as np\n",
    "from math import * \n",
    "from module.distance_calculator import DistanceCalculator \n",
    "# from distance_calculator import DistanceCalculator \n",
    "from sklearn.ensemble import GradientBoostingRegressor\n",
    "\n",
    "class DeliveryModel: \n",
    "    def __init__(self):\n",
    "        self.model = pkl.load(open('gbdt_m_delivery.pkl', 'rb'))\n",
    "        self.distanceCalculator = DistanceCalculator()\n",
    "        self.dayMap = {\"MON\":0, \"TUE\":1, \"WED\":2, \"THU\":3, \"FRI\":4, \"SAT\":5, \"SUN\":6}\n",
    "\n",
    "    def get_euc(self, coords_1, coords_2):\n",
    "        R = 6371000\n",
    "        conversion_const = 0.0174533\n",
    "        c_1 = coords_1*conversion_const\n",
    "        c_2 = coords_2*conversion_const\n",
    "        delta_phi = abs(c_1[:,1]-c_2[:,1])\n",
    "        theta = c_1[:,0]\n",
    "        delta_theta = abs(c_1[:,0]-c_2[:,0])\n",
    "        del_x = R*np.cos(theta)*delta_phi \n",
    "        del_y = R*delta_theta\n",
    "        return np.sqrt(del_x**2 + del_y**2)\n",
    "    \n",
    "    def batch_predict(self, locations, day_of_week=[], approx=True):\n",
    "        '''\n",
    "        input:\n",
    "        - locations = numpy array [(u_i,v_i) | i] where u_i = (lat,long) of the start location, \n",
    "        v_i = (lat_long) of the destination location \n",
    "        - (optional) day_of_week = numpy array [day_i | i] : choose one of these -> \"MON\", \"TUE, \"WED\", \"THU\", \"FRI\", \"SAT\", \"SUN\"\n",
    "        \n",
    "        output:\n",
    "        - The array prediction of the duration in minute (m) needed to travel from point u to point v \n",
    "        (please note that if you want to predict the duration needed from rider currently at point x and need to pick up food at point y and deliver at point z, you need to calculate the time it takes for x to go to y and the time it takes from a rider to from y to z)\n",
    "        \n",
    "        Note: \n",
    "        - When you set 'approx' to True, the model will approximate certain input feature for the sake of performance (speed) of prediction.\n",
    "        - When you set 'approx' to False, the model will compute certain input feature more accurately but in expense of the speed of the prediciton.\n",
    "        \n",
    "        '''\n",
    "        n = len(locations)\n",
    "        idx = np.arange(0,n)\n",
    "        if len(day_of_week) != n : \n",
    "            day_of_week = np.full(n,\"MON\")\n",
    "        u = np.apply_along_axis(lambda loc_i : loc_i[0], axis=1, arr=locations)\n",
    "        v = np.apply_along_axis(lambda loc_i : loc_i[1], axis=1, arr=locations)\n",
    "        \n",
    "        \n",
    "        merchant_lat = np.apply_along_axis(lambda u_i : u_i[0], axis=1, arr=u)\n",
    "        merchant_long = np.apply_along_axis(lambda u_i : u_i[1], axis=1, arr=u)\n",
    "        \n",
    "        customer_lat = np.apply_along_axis(lambda v_i : v_i[0], axis=1, arr=v)\n",
    "        customer_long = np.apply_along_axis(lambda v_i : v_i[1], axis=1, arr=v)\n",
    "    \n",
    "        f = (lambda idx: self.get_euc(coords_1=u[idx], coords_2=v[idx]))\n",
    "        \n",
    "        EucDist = f(idx)\n",
    "        if approx : \n",
    "            ShortestDist = EucDist.copy()*1.2\n",
    "        else :\n",
    "            ShortestDist = [self.distanceCalculator.shortestDistance(u[i],v[i]) for i in range(n)]\n",
    "\n",
    "        u,inv = np.unique(day_of_week, return_inverse = True)\n",
    "        day_inverse = np.array([self.dayMap[x] for x in u])[inv].reshape(day_of_week.shape)\n",
    "        day_of_week_sin = np.apply_along_axis(lambda day : np.sin(day*(2.*np.pi/7)) , axis=0, arr=day_inverse)\n",
    "        day_of_week_cos = np.apply_along_axis(lambda day : np.cos(day*(2.*np.pi/7)) , axis=0, arr=day_inverse)\n",
    "        \n",
    "        X = np.column_stack((merchant_lat, merchant_long, customer_lat, customer_long, EucDist, ShortestDist, day_of_week_sin, day_of_week_cos))\n",
    "        return self.model.predict(X)\n",
    "    "
   ]
  },
  {
   "cell_type": "code",
   "execution_count": 8,
   "metadata": {},
   "outputs": [],
   "source": [
    "import time \n",
    "from module.delivery_model import DeliveryModel"
   ]
  },
  {
   "cell_type": "code",
   "execution_count": 9,
   "metadata": {},
   "outputs": [
    {
     "name": "stderr",
     "output_type": "stream",
     "text": [
      "/home/boatinw99/.local/lib/python3.8/site-packages/sklearn/base.py:288: UserWarning: Trying to unpickle estimator DummyRegressor from version 1.1.1 when using version 1.2.0. This might lead to breaking code or invalid results. Use at your own risk. For more info please refer to:\n",
      "https://scikit-learn.org/stable/model_persistence.html#security-maintainability-limitations\n",
      "  warnings.warn(\n",
      "/home/boatinw99/.local/lib/python3.8/site-packages/sklearn/base.py:288: UserWarning: Trying to unpickle estimator DecisionTreeRegressor from version 1.1.1 when using version 1.2.0. This might lead to breaking code or invalid results. Use at your own risk. For more info please refer to:\n",
      "https://scikit-learn.org/stable/model_persistence.html#security-maintainability-limitations\n",
      "  warnings.warn(\n",
      "/home/boatinw99/.local/lib/python3.8/site-packages/sklearn/base.py:288: UserWarning: Trying to unpickle estimator GradientBoostingRegressor from version 1.1.1 when using version 1.2.0. This might lead to breaking code or invalid results. Use at your own risk. For more info please refer to:\n",
      "https://scikit-learn.org/stable/model_persistence.html#security-maintainability-limitations\n",
      "  warnings.warn(\n"
     ]
    }
   ],
   "source": [
    "deliveryModel = DeliveryModel()\n",
    "u=(13.840180,100.542326)\n",
    "v=(13.803957,100.513704)\n",
    "X = 100*[(u,v)]\n",
    "locations = np.array(X)\n"
   ]
  },
  {
   "cell_type": "code",
   "execution_count": 10,
   "metadata": {},
   "outputs": [
    {
     "name": "stdout",
     "output_type": "stream",
     "text": [
      "[26.56447434 26.56447434 26.56447434 26.56447434 26.56447434 26.56447434\n",
      " 26.56447434 26.56447434 26.56447434 26.56447434 26.56447434 26.56447434\n",
      " 26.56447434 26.56447434 26.56447434 26.56447434 26.56447434 26.56447434\n",
      " 26.56447434 26.56447434 26.56447434 26.56447434 26.56447434 26.56447434\n",
      " 26.56447434 26.56447434 26.56447434 26.56447434 26.56447434 26.56447434\n",
      " 26.56447434 26.56447434 26.56447434 26.56447434 26.56447434 26.56447434\n",
      " 26.56447434 26.56447434 26.56447434 26.56447434 26.56447434 26.56447434\n",
      " 26.56447434 26.56447434 26.56447434 26.56447434 26.56447434 26.56447434\n",
      " 26.56447434 26.56447434 26.56447434 26.56447434 26.56447434 26.56447434\n",
      " 26.56447434 26.56447434 26.56447434 26.56447434 26.56447434 26.56447434\n",
      " 26.56447434 26.56447434 26.56447434 26.56447434 26.56447434 26.56447434\n",
      " 26.56447434 26.56447434 26.56447434 26.56447434 26.56447434 26.56447434\n",
      " 26.56447434 26.56447434 26.56447434 26.56447434 26.56447434 26.56447434\n",
      " 26.56447434 26.56447434 26.56447434 26.56447434 26.56447434 26.56447434\n",
      " 26.56447434 26.56447434 26.56447434 26.56447434 26.56447434 26.56447434\n",
      " 26.56447434 26.56447434 26.56447434 26.56447434 26.56447434 26.56447434\n",
      " 26.56447434 26.56447434 26.56447434 26.56447434]\n",
      "0.0046846866607666016\n"
     ]
    },
    {
     "name": "stderr",
     "output_type": "stream",
     "text": [
      "/home/boatinw99/.local/lib/python3.8/site-packages/sklearn/base.py:409: UserWarning: X does not have valid feature names, but GradientBoostingRegressor was fitted with feature names\n",
      "  warnings.warn(\n"
     ]
    }
   ],
   "source": [
    "st = time.time()\n",
    "duration = deliveryModel.batch_predict(locations=locations,day_of_week=np.array(10*[\"MON\"]),approx=True)\n",
    "ed = time.time() \n",
    "print(duration)\n",
    "print(ed-st)"
   ]
  },
  {
   "cell_type": "code",
   "execution_count": null,
   "metadata": {},
   "outputs": [],
   "source": []
  }
 ],
 "metadata": {
  "kernelspec": {
   "display_name": "Python 3",
   "language": "python",
   "name": "python3"
  },
  "language_info": {
   "codemirror_mode": {
    "name": "ipython",
    "version": 3
   },
   "file_extension": ".py",
   "mimetype": "text/x-python",
   "name": "python",
   "nbconvert_exporter": "python",
   "pygments_lexer": "ipython3",
   "version": "3.8.10"
  }
 },
 "nbformat": 4,
 "nbformat_minor": 4
}
