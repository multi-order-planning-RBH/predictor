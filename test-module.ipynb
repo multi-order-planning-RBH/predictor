{
 "cells": [
  {
   "cell_type": "code",
   "execution_count": 292,
   "metadata": {},
   "outputs": [],
   "source": [
    "import numpy as np\n",
    "import pandas as pd\n",
    "import pickle as pkl\n",
    "import time \n",
    "from math import * \n",
    "from module.distance_calculator import DistanceCalculator\n",
    "from module.foodprep_model import FoodPrepModel\n",
    "from module.delivery_model import DeliveryModel\n",
    "from sklearn.ensemble import GradientBoostingRegressor"
   ]
  },
  {
   "cell_type": "code",
   "execution_count": 293,
   "metadata": {},
   "outputs": [],
   "source": [
    "df = pd.read_excel('Capstone SampleData 14days.xlsx', sheet_name='Sheet1')\n",
    "df_foodprep = pd.read_csv('Sample 14days_food_preparation_Cleaned.csv')"
   ]
  },
  {
   "cell_type": "code",
   "execution_count": 294,
   "metadata": {},
   "outputs": [
    {
     "data": {
      "text/html": [
       "<div>\n",
       "<style scoped>\n",
       "    .dataframe tbody tr th:only-of-type {\n",
       "        vertical-align: middle;\n",
       "    }\n",
       "\n",
       "    .dataframe tbody tr th {\n",
       "        vertical-align: top;\n",
       "    }\n",
       "\n",
       "    .dataframe thead th {\n",
       "        text-align: right;\n",
       "    }\n",
       "</style>\n",
       "<table border=\"1\" class=\"dataframe\">\n",
       "  <thead>\n",
       "    <tr style=\"text-align: right;\">\n",
       "      <th></th>\n",
       "      <th>Merchant.Lat</th>\n",
       "      <th>Merchant.Lng</th>\n",
       "      <th>riderInitial.lat</th>\n",
       "      <th>riderInitial.long</th>\n",
       "    </tr>\n",
       "  </thead>\n",
       "  <tbody>\n",
       "    <tr>\n",
       "      <th>0</th>\n",
       "      <td>13.825703</td>\n",
       "      <td>100.559309</td>\n",
       "      <td>13.825853</td>\n",
       "      <td>100.551958</td>\n",
       "    </tr>\n",
       "    <tr>\n",
       "      <th>1</th>\n",
       "      <td>13.831056</td>\n",
       "      <td>100.570731</td>\n",
       "      <td>13.819283</td>\n",
       "      <td>100.561874</td>\n",
       "    </tr>\n",
       "    <tr>\n",
       "      <th>2</th>\n",
       "      <td>13.827205</td>\n",
       "      <td>100.536048</td>\n",
       "      <td>13.827041</td>\n",
       "      <td>100.554284</td>\n",
       "    </tr>\n",
       "  </tbody>\n",
       "</table>\n",
       "</div>"
      ],
      "text/plain": [
       "   Merchant.Lat  Merchant.Lng  riderInitial.lat  riderInitial.long\n",
       "0     13.825703    100.559309         13.825853         100.551958\n",
       "1     13.831056    100.570731         13.819283         100.561874\n",
       "2     13.827205    100.536048         13.827041         100.554284"
      ]
     },
     "metadata": {},
     "output_type": "display_data"
    },
    {
     "data": {
      "text/html": [
       "<div>\n",
       "<style scoped>\n",
       "    .dataframe tbody tr th:only-of-type {\n",
       "        vertical-align: middle;\n",
       "    }\n",
       "\n",
       "    .dataframe tbody tr th {\n",
       "        vertical-align: top;\n",
       "    }\n",
       "\n",
       "    .dataframe thead th {\n",
       "        text-align: right;\n",
       "    }\n",
       "</style>\n",
       "<table border=\"1\" class=\"dataframe\">\n",
       "  <thead>\n",
       "    <tr style=\"text-align: right;\">\n",
       "      <th></th>\n",
       "      <th>Merchant_lat</th>\n",
       "      <th>Merchant_lon</th>\n",
       "      <th>duration (m)</th>\n",
       "    </tr>\n",
       "  </thead>\n",
       "  <tbody>\n",
       "    <tr>\n",
       "      <th>0</th>\n",
       "      <td>13.825703</td>\n",
       "      <td>100.559309</td>\n",
       "      <td>8.450000</td>\n",
       "    </tr>\n",
       "    <tr>\n",
       "      <th>1</th>\n",
       "      <td>13.831056</td>\n",
       "      <td>100.570731</td>\n",
       "      <td>29.300000</td>\n",
       "    </tr>\n",
       "    <tr>\n",
       "      <th>2</th>\n",
       "      <td>13.827205</td>\n",
       "      <td>100.536048</td>\n",
       "      <td>14.333333</td>\n",
       "    </tr>\n",
       "  </tbody>\n",
       "</table>\n",
       "</div>"
      ],
      "text/plain": [
       "   Merchant_lat  Merchant_lon  duration (m)\n",
       "0     13.825703    100.559309      8.450000\n",
       "1     13.831056    100.570731     29.300000\n",
       "2     13.827205    100.536048     14.333333"
      ]
     },
     "metadata": {},
     "output_type": "display_data"
    }
   ],
   "source": [
    "df = df[['Merchant.Lat', 'Merchant.Lng', 'riderInitial.lat', 'riderInitial.long']]\n",
    "df_foodprep = df_foodprep[['Merchant_lat', 'Merchant_lon', 'duration (m)']]\n",
    "display(df.head(3))\n",
    "display(df_foodprep.head(3))"
   ]
  },
  {
   "cell_type": "code",
   "execution_count": 295,
   "metadata": {},
   "outputs": [],
   "source": [
    "foodModel = FoodPrepModel()"
   ]
  },
  {
   "attachments": {},
   "cell_type": "markdown",
   "metadata": {},
   "source": [
    "1 data"
   ]
  },
  {
   "cell_type": "code",
   "execution_count": 297,
   "metadata": {},
   "outputs": [
    {
     "name": "stdout",
     "output_type": "stream",
     "text": [
      "[ 13.8246298 100.5792843] [ 13.8245596 100.563516 ] 16.8\n"
     ]
    }
   ],
   "source": [
    "sample_idx = 100\n",
    "Num = 1\n",
    "loc = (df.iloc[sample_idx]).values\n",
    "u,v = loc[:2], loc[2:]\n",
    "locations = np.array(Num*[(u,v)])\n",
    "target = df_foodprep.iloc[sample_idx]['duration (m)']\n",
    "print(u, v, target)"
   ]
  },
  {
   "cell_type": "code",
   "execution_count": 298,
   "metadata": {},
   "outputs": [
    {
     "name": "stdout",
     "output_type": "stream",
     "text": [
      "pred: [17.99653875]\n",
      "time: 0.005990505218505859 per: 1 data\n"
     ]
    }
   ],
   "source": [
    "st = time.time()\n",
    "pred = foodModel.batch_predict(locations)\n",
    "en = time.time()\n",
    "print('pred:', pred)\n",
    "print('time:', en-st, 'per:', Num, 'data')\n",
    "# 0.005-0.009 sec per 1 data, mean ~ 0.006 sec"
   ]
  },
  {
   "attachments": {},
   "cell_type": "markdown",
   "metadata": {},
   "source": [
    "100 data"
   ]
  },
  {
   "cell_type": "code",
   "execution_count": 299,
   "metadata": {},
   "outputs": [
    {
     "name": "stdout",
     "output_type": "stream",
     "text": [
      "[ 13.8270341 100.5645341] [ 13.8264931 100.555772 ] 16.333333333333332\n"
     ]
    }
   ],
   "source": [
    "sample_idx = 103\n",
    "Num = 100\n",
    "loc = (df.iloc[sample_idx]).values\n",
    "u,v = loc[:2], loc[2:]\n",
    "locations = np.array(Num*[(u,v)])\n",
    "target = df_foodprep.iloc[sample_idx]['duration (m)']\n",
    "print(u, v, target)"
   ]
  },
  {
   "cell_type": "code",
   "execution_count": 300,
   "metadata": {},
   "outputs": [
    {
     "name": "stdout",
     "output_type": "stream",
     "text": [
      "pred: [14.45249304 14.45249304 14.45249304 14.45249304 14.45249304]\n",
      "time: 0.00803685188293457 per: 100 data\n"
     ]
    }
   ],
   "source": [
    "st = time.time()\n",
    "pred = foodModel.batch_predict(locations)\n",
    "en = time.time()\n",
    "print('pred:', pred[:5])\n",
    "print('time:', en-st, 'per:', Num, 'data')\n",
    "# 0.007-0.010 sec per 100 data, mean ~ 0.008 sec"
   ]
  },
  {
   "attachments": {},
   "cell_type": "markdown",
   "metadata": {},
   "source": [
    "10000 data"
   ]
  },
  {
   "cell_type": "code",
   "execution_count": 301,
   "metadata": {},
   "outputs": [
    {
     "name": "stdout",
     "output_type": "stream",
     "text": [
      "[ 13.8238159 100.5664789] [ 13.8261141 100.559754 ] 6.283333333333333\n"
     ]
    }
   ],
   "source": [
    "sample_idx = 215\n",
    "Num = 10000\n",
    "loc = (df.iloc[sample_idx]).values\n",
    "u,v = loc[:2], loc[2:]\n",
    "locations = np.array(Num*[(u,v)])\n",
    "target = df_foodprep.iloc[sample_idx]['duration (m)']\n",
    "print(u, v, target)"
   ]
  },
  {
   "cell_type": "code",
   "execution_count": 302,
   "metadata": {},
   "outputs": [
    {
     "name": "stdout",
     "output_type": "stream",
     "text": [
      "pred: [13.79647784 13.79647784 13.79647784 13.79647784 13.79647784]\n",
      "time: 0.1697559356689453 per: 10000 data\n"
     ]
    }
   ],
   "source": [
    "st = time.time()\n",
    "pred = foodModel.batch_predict(locations)\n",
    "en = time.time()\n",
    "print('pred:', pred[:5])\n",
    "print('time:', en-st, 'per:', Num, 'data')\n",
    "# 0.015-0.018 sec per 10000 data, mean ~ 0.016 sec"
   ]
  },
  {
   "attachments": {},
   "cell_type": "markdown",
   "metadata": {},
   "source": [
    "100000 data (100K)"
   ]
  },
  {
   "cell_type": "code",
   "execution_count": 303,
   "metadata": {},
   "outputs": [
    {
     "name": "stdout",
     "output_type": "stream",
     "text": [
      "[ 13.8246205 100.5633957] [ 13.8203515 100.55872  ] 14.266666666666667\n"
     ]
    }
   ],
   "source": [
    "sample_idx = 321\n",
    "Num = 100000\n",
    "loc = (df.iloc[sample_idx]).values\n",
    "u,v = loc[:2], loc[2:]\n",
    "locations = np.array(Num*[(u,v)])\n",
    "target = df_foodprep.iloc[sample_idx]['duration (m)']\n",
    "print(u, v, target)"
   ]
  },
  {
   "cell_type": "code",
   "execution_count": 304,
   "metadata": {},
   "outputs": [
    {
     "name": "stdout",
     "output_type": "stream",
     "text": [
      "pred: [13.95794799 13.95794799 13.95794799 13.95794799 13.95794799]\n",
      "time: 1.7077715396881104 per: 100000 data\n"
     ]
    }
   ],
   "source": [
    "st = time.time()\n",
    "pred = foodModel.batch_predict(locations)\n",
    "en = time.time()\n",
    "print('pred:', pred[:5])\n",
    "print('time:', en-st, 'per:', Num, 'data')\n",
    "# 1.600-1.750 sec per 10000 data, mean ~ 1.675 sec"
   ]
  },
  {
   "attachments": {},
   "cell_type": "markdown",
   "metadata": {},
   "source": [
    "1000000 data (1M)"
   ]
  },
  {
   "cell_type": "code",
   "execution_count": 262,
   "metadata": {},
   "outputs": [
    {
     "name": "stdout",
     "output_type": "stream",
     "text": [
      "[ 13.8246298 100.5792843] [ 13.8196747 100.557213 ] 30.85\n"
     ]
    }
   ],
   "source": [
    "sample_idx = 232\n",
    "Num = 1000000\n",
    "loc = (df.iloc[sample_idx]).values\n",
    "u,v = loc[:2], loc[2:]\n",
    "locations = np.array(Num*[(u,v)])\n",
    "target = df_foodprep.iloc[sample_idx]['duration (m)']\n",
    "print(u, v, target)"
   ]
  },
  {
   "cell_type": "code",
   "execution_count": 266,
   "metadata": {},
   "outputs": [],
   "source": [
    "st = time.time()\n",
    "pred = foodModel.batch_predict(locations)\n",
    "en = time.time()\n",
    "print('pred:', pred[:5])\n",
    "print('time:', en-st, 'per:', Num, 'data')\n",
    "# 16.672-19.302 sec per 1000000 data, mean ~ 17.16 sec"
   ]
  },
  {
   "cell_type": "code",
   "execution_count": null,
   "metadata": {},
   "outputs": [],
   "source": []
  },
  {
   "cell_type": "code",
   "execution_count": null,
   "metadata": {},
   "outputs": [],
   "source": []
  },
  {
   "cell_type": "code",
   "execution_count": 5,
   "metadata": {},
   "outputs": [
    {
     "data": {
      "text/plain": [
       "array([25.82135827, 25.82135827])"
      ]
     },
     "execution_count": 5,
     "metadata": {},
     "output_type": "execute_result"
    }
   ],
   "source": [
    "foodModel = FoodPrepModel()\n",
    "u=(13.840180,100.542326)\n",
    "v=(13.803957,100.513704)\n",
    "X = 2*[(u,v)]\n",
    "locations = np.array(X)\n",
    "foodModel.batch_predict(locations)"
   ]
  },
  {
   "cell_type": "code",
   "execution_count": 7,
   "metadata": {},
   "outputs": [
    {
     "name": "stdout",
     "output_type": "stream",
     "text": [
      "35\n"
     ]
    }
   ],
   "source": [
    "print(len(foodModel.col))"
   ]
  },
  {
   "cell_type": "code",
   "execution_count": null,
   "metadata": {},
   "outputs": [],
   "source": [
    "# To use this module to predict the travel time from u -> v where u = (lat,long), v = (lat,long) : \n",
    "\n",
    "# \n",
    "# from module.delivery_model import DeliveryModel\n",
    "# deliveryModel = DeliveryModel()\n",
    "# u=(13.840180,100.542326) \n",
    "# v=(13.803957,100.513704)\n",
    "# predictedDuration = deliveryModel.predict(u,v)[0]\n",
    "# \n",
    "# predictedDuration will be the total time in minute \n",
    "# \n",
    "\n",
    "\n",
    "class FoodPrepModel: \n",
    "    def __init__(self):\n",
    "        self.model = pkl.load(open('food_preparation_best_gbdt_m.pkl', 'rb'))\n",
    "        self.deliveryML = pkl.load(open('food_delivery_best_gbdt_m.pkl', 'rb'))      \n",
    "        self.distanceCalculator = DistanceCalculator()\n",
    "        self.dayMap = {\"MON\":0, \"TUE\":1, \"WED\":2, \"THU\":3, \"FRI\":4, \"SAT\":5, \"SUN\":6}\n",
    "        self.NationFoodCategories = ['NationFoodCategory_International',\n",
    "'NationFoodCategory_Isram',\n",
    "'NationFoodCategory_Japanese',\n",
    "'NationFoodCategory_Korean',\n",
    "'NationFoodCategory_Myanmar',     \n",
    "'NationFoodCategory_Thai',         \n",
    "'NationFoodCategory_Vietnam'\n",
    "]\n",
    "        self.FoodCategories = [\n",
    "            'FoodCategories_FastFood',\n",
    "        'FoodCategories_QuickMeal',\n",
    "        'FoodCategories_ขนมจีน',\n",
    "        'FoodCategories_ของหวาน',                  \n",
    "        'FoodCategories_ปิ้งย่าง',\n",
    "        'FoodCategories_พิซซ่า',                     \n",
    "        'FoodCategories_ร้านก๋วยเตี๋ยว',               \n",
    "        'FoodCategories_ร้านอาหาร',                 \n",
    "        'FoodCategories_สปาเก็ตตี้',                  \n",
    "        'FoodCategories_สุกี้ยากี้',\n",
    "        'FoodCategories_สเต๊ก',                     \n",
    "        'FoodCategories_อาหารคลีน',                 \n",
    "        'FoodCategories_อาหารจานด่วน',              \n",
    "        'FoodCategories_อาหารตามสั่ง',               \n",
    "        'FoodCategories_อาหารทะเล',                \n",
    "        'FoodCategories_อาหารอีสาน',                \n",
    "        'FoodCategories_อาหารฮาลาล',               \n",
    "        'FoodCategories_อาหารเหนือ',                \n",
    "        'FoodCategories_อาหารใต้',                  \n",
    "        'FoodCategories_เครื่องดื่ม',                  \n",
    "        'FoodCategories_ไก่ทอด'\n",
    "        ]\n",
    "        self.col = [\n",
    "        \"Merchant_lat\",\n",
    "        \"Merchant_lon\",                  \n",
    "        'NationFoodCategory_International',\n",
    "        'NationFoodCategory_Isram',\n",
    "        'NationFoodCategory_Japanese',\n",
    "        'NationFoodCategory_Korean',\n",
    "        'NationFoodCategory_Myanmar',     \n",
    "        'NationFoodCategory_Thai',         \n",
    "        'NationFoodCategory_Vietnam',\n",
    "        'FoodCategories_FastFood',\n",
    "        'FoodCategories_QuickMeal',\n",
    "        'FoodCategories_ขนมจีน',\n",
    "        'FoodCategories_ของหวาน',                  \n",
    "        'FoodCategories_ปิ้งย่าง',\n",
    "        'FoodCategories_พิซซ่า',                     \n",
    "        'FoodCategories_ร้านก๋วยเตี๋ยว',               \n",
    "        'FoodCategories_ร้านอาหาร',                 \n",
    "        'FoodCategories_สปาเก็ตตี้',                  \n",
    "        'FoodCategories_สุกี้ยากี้',\n",
    "        'FoodCategories_สเต๊ก',                     \n",
    "        'FoodCategories_อาหารคลีน',                 \n",
    "        'FoodCategories_อาหารจานด่วน',              \n",
    "        'FoodCategories_อาหารตามสั่ง',               \n",
    "        'FoodCategories_อาหารทะเล',                \n",
    "        'FoodCategories_อาหารอีสาน',                \n",
    "        'FoodCategories_อาหารฮาลาล',               \n",
    "        'FoodCategories_อาหารเหนือ',                \n",
    "        'FoodCategories_อาหารใต้',                  \n",
    "        'FoodCategories_เครื่องดื่ม',                  \n",
    "        'FoodCategories_ไก่ทอด',\n",
    "        \"riderInitial_to_Merchant_EucDistance\",\n",
    "        \"riderInitial_to_Merchant_ShortestDistance\",\n",
    "        \"day_of_week_sin\",                                           \n",
    "        \"day_of_week_cos\",                                          \n",
    "        \"calledMerchantTime_to_arrivedAtMerchantTime_prediction (m)\"]\n",
    "\n",
    "        self.col_prime = [\"u_lat\", \"u_lon\", \"v_lat\", \"v_lon\",\"euc_dist\",\"shortest_dist\" ,\"day_of_week_sin\" ,\"day_of_week_cos\"]\n",
    "\n",
    "    def get_euc(self, coords_1, coords_2):\n",
    "        R = 6371000\n",
    "        conversion_const = 0.0174533\n",
    "        c_1 = coords_1*conversion_const\n",
    "        c_2 = coords_2*conversion_const\n",
    "        delta_phi = abs(c_1[:,1]-c_2[:,1])\n",
    "        theta = c_1[:,0]\n",
    "        delta_theta = abs(c_1[:,0]-c_2[:,0])\n",
    "        del_x = R*np.cos(theta)*delta_phi \n",
    "        del_y = R*delta_theta\n",
    "        return np.sqrt(del_x**2 + del_y**2)\n",
    "    \n",
    "    def batch_predict(self, locations, day_of_week=[], NationFoodCategory=[], FoodCategory = [], approx=True):\n",
    "        n = len(locations)\n",
    "        idx = np.arange(0,n)\n",
    "        if len(day_of_week) != n : \n",
    "            day_of_week = np.full(n,\"MON\")\n",
    "        if len(NationFoodCategory) != n : \n",
    "            NationFoodCategory = np.full(n,\"NationFoodCategory_International\")\n",
    "        if len(FoodCategory) != n : \n",
    "            FoodCategory = np.full(n,'FoodCategories_FastFood')\n",
    "            \n",
    "        u = np.apply_along_axis(lambda loc_i : loc_i[0], axis=1, arr=locations)\n",
    "        v = np.apply_along_axis(lambda loc_i : loc_i[1], axis=1, arr=locations)\n",
    "        \n",
    "        rider_lat = np.apply_along_axis(lambda u_i : u_i[0], axis=1, arr=u)\n",
    "        rider_long = np.apply_along_axis(lambda u_i : u_i[1], axis=1, arr=u)\n",
    "        \n",
    "        merchant_lat = np.apply_along_axis(lambda v_i : v_i[0], axis=1, arr=v)\n",
    "        merchant_long = np.apply_along_axis(lambda v_i : v_i[1], axis=1, arr=v)\n",
    "    \n",
    "        f = (lambda idx: self.get_euc(coords_1=u[idx], coords_2=v[idx]))\n",
    "        \n",
    "        EucDist = f(idx)\n",
    "        if approx : \n",
    "            ShortestDist = EucDist.copy()*1.2\n",
    "        else :\n",
    "            ShortestDist = [self.distanceCalculator.shortestDistance(u[i],v[i]) for i in range(n)]\n",
    "            \n",
    "        u,inv = np.unique(day_of_week, return_inverse = True)\n",
    "        day_inverse = np.array([self.dayMap[x] for x in u])[inv].reshape(day_of_week.shape)\n",
    "        day_of_week_sin = np.apply_along_axis(lambda day : np.sin(day*(2.*np.pi/7)) , axis=0, arr=day_inverse)\n",
    "        day_of_week_cos = np.apply_along_axis(lambda day : np.cos(day*(2.*np.pi/7)) , axis=0, arr=day_inverse)\n",
    "        \n",
    "        N = [] \n",
    "        for s in self.NationFoodCategories : \n",
    "            tmp = np.apply_along_axis(lambda t: (t == s), axis = 0, arr=NationFoodCategory).astype(int)\n",
    "            N.append(tmp)\n",
    "        \n",
    "        F = []\n",
    "        for s in self.FoodCategories : \n",
    "            tmp = np.apply_along_axis(lambda t: (t==s), axis = 0, arr=FoodCategory).astype(int)\n",
    "            F.append(tmp)\n",
    "        \n",
    "        X_prime = np.column_stack((rider_lat, rider_long, merchant_lat, merchant_long, EucDist, ShortestDist, day_of_week_sin, day_of_week_cos))\n",
    "        X_prime = pd.DataFrame(X_prime, columns=self.col_prime)\n",
    "        pred_fea = self.deliveryML.predict(X_prime) \n",
    "        \n",
    "        X = np.column_stack((merchant_lat,merchant_long,*N,*F,EucDist,ShortestDist,\n",
    "                            day_of_week_sin,day_of_week_cos,pred_fea))\n",
    "        X = pd.DataFrame(X, columns=self.col)\n",
    "        return self.model.predict(X) "
   ]
  },
  {
   "cell_type": "code",
   "execution_count": null,
   "metadata": {},
   "outputs": [],
   "source": []
  },
  {
   "cell_type": "code",
   "execution_count": null,
   "metadata": {},
   "outputs": [],
   "source": [
    "deliveryModel = DeliveryModel()\n",
    "u=(13.840180,100.542326)\n",
    "v=(13.803957,100.513704)\n",
    "X = 100*[(u,v)]\n",
    "locations = np.array(X)\n"
   ]
  },
  {
   "cell_type": "code",
   "execution_count": null,
   "metadata": {},
   "outputs": [],
   "source": [
    "st = time.time()\n",
    "duration = deliveryModel.batch_predict(locations=locations,day_of_week=np.array(10*[\"MON\"]),approx=True)\n",
    "ed = time.time() \n",
    "print(duration)\n",
    "print(ed-st)"
   ]
  },
  {
   "cell_type": "code",
   "execution_count": null,
   "metadata": {},
   "outputs": [],
   "source": []
  },
  {
   "cell_type": "code",
   "execution_count": null,
   "metadata": {},
   "outputs": [],
   "source": [
    "\n",
    "class DeliveryModel: \n",
    "    def __init__(self):\n",
    "        self.model = pkl.load(open('gbdt_m_delivery.pkl', 'rb'))\n",
    "        self.distanceCalculator = DistanceCalculator()\n",
    "        self.dayMap = {\"MON\":0, \"TUE\":1, \"WED\":2, \"THU\":3, \"FRI\":4, \"SAT\":5, \"SUN\":6}\n",
    "\n",
    "    def get_euc(self, coords_1, coords_2):\n",
    "        R = 6371000\n",
    "        conversion_const = 0.0174533\n",
    "        c_1 = coords_1*conversion_const\n",
    "        c_2 = coords_2*conversion_const\n",
    "        delta_phi = abs(c_1[:,1]-c_2[:,1])\n",
    "        theta = c_1[:,0]\n",
    "        delta_theta = abs(c_1[:,0]-c_2[:,0])\n",
    "        del_x = R*np.cos(theta)*delta_phi \n",
    "        del_y = R*delta_theta\n",
    "        return np.sqrt(del_x**2 + del_y**2)\n",
    "    \n",
    "    def batch_predict(self, locations, day_of_week=[], approx=True):\n",
    "        '''\n",
    "        input:\n",
    "        - locations = numpy array [(u_i,v_i) | i] where u_i = (lat,long) of the start location, \n",
    "        v_i = (lat_long) of the destination location \n",
    "        - (optional) day_of_week = numpy array [day_i | i] : choose one of these -> \"MON\", \"TUE, \"WED\", \"THU\", \"FRI\", \"SAT\", \"SUN\"\n",
    "        \n",
    "        output:\n",
    "        - The array prediction of the duration in minute (m) needed to travel from point u to point v \n",
    "        (please note that if you want to predict the duration needed from rider currently at point x and need to pick up food at point y and deliver at point z, you need to calculate the time it takes for x to go to y and the time it takes from a rider to from y to z)\n",
    "        \n",
    "        Note: \n",
    "        - When you set 'approx' to True, the model will approximate certain input feature for the sake of performance (speed) of prediction.\n",
    "        - When you set 'approx' to False, the model will compute certain input feature more accurately but in expense of the speed of the prediciton.\n",
    "        \n",
    "        '''\n",
    "        n = len(locations)\n",
    "        idx = np.arange(0,n)\n",
    "        if len(day_of_week) != n : \n",
    "            day_of_week = np.full(n,\"MON\")\n",
    "        u = np.apply_along_axis(lambda loc_i : loc_i[0], axis=1, arr=locations)\n",
    "        v = np.apply_along_axis(lambda loc_i : loc_i[1], axis=1, arr=locations)\n",
    "        \n",
    "        \n",
    "        merchant_lat = np.apply_along_axis(lambda u_i : u_i[0], axis=1, arr=u)\n",
    "        merchant_long = np.apply_along_axis(lambda u_i : u_i[1], axis=1, arr=u)\n",
    "        \n",
    "        customer_lat = np.apply_along_axis(lambda v_i : v_i[0], axis=1, arr=v)\n",
    "        customer_long = np.apply_along_axis(lambda v_i : v_i[1], axis=1, arr=v)\n",
    "    \n",
    "        f = (lambda idx: self.get_euc(coords_1=u[idx], coords_2=v[idx]))\n",
    "        \n",
    "        EucDist = f(idx)\n",
    "        if approx : \n",
    "            ShortestDist = EucDist.copy()*1.2\n",
    "        else :\n",
    "            ShortestDist = [self.distanceCalculator.shortestDistance(u[i],v[i]) for i in range(n)]\n",
    "\n",
    "        u,inv = np.unique(day_of_week, return_inverse = True)\n",
    "        day_inverse = np.array([self.dayMap[x] for x in u])[inv].reshape(day_of_week.shape)\n",
    "        day_of_week_sin = np.apply_along_axis(lambda day : np.sin(day*(2.*np.pi/7)) , axis=0, arr=day_inverse)\n",
    "        day_of_week_cos = np.apply_along_axis(lambda day : np.cos(day*(2.*np.pi/7)) , axis=0, arr=day_inverse)\n",
    "        \n",
    "        X = np.column_stack((merchant_lat, merchant_long, customer_lat, customer_long, EucDist, ShortestDist, day_of_week_sin, day_of_week_cos))\n",
    "        \n",
    "        return self.model.predict(X)\n",
    "    "
   ]
  }
 ],
 "metadata": {
  "kernelspec": {
   "display_name": "EAT",
   "language": "python",
   "name": "python3"
  },
  "language_info": {
   "codemirror_mode": {
    "name": "ipython",
    "version": 3
   },
   "file_extension": ".py",
   "mimetype": "text/x-python",
   "name": "python",
   "nbconvert_exporter": "python",
   "pygments_lexer": "ipython3",
   "version": "3.9.12"
  },
  "vscode": {
   "interpreter": {
    "hash": "e873fd8460d25e2b7d13238b75f01f142c4b8abc313241c193ed6eac1548f508"
   }
  }
 },
 "nbformat": 4,
 "nbformat_minor": 4
}
